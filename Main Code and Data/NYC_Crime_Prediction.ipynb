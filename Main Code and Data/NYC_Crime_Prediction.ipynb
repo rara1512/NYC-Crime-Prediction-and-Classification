{
  "nbformat": 4,
  "nbformat_minor": 0,
  "metadata": {
    "colab": {
      "provenance": []
    },
    "kernelspec": {
      "name": "python3",
      "display_name": "Python 3"
    },
    "language_info": {
      "name": "python"
    }
  },
  "cells": [
    {
      "cell_type": "code",
      "source": [
        "#install required packages\n",
        "!pip install wget\n",
        "!pip install uszipcode\n",
        "!pip install pandasql\n",
        "!pip install pmdarima"
      ],
      "metadata": {
        "id": "EkrnLnN_a2lP",
        "colab": {
          "base_uri": "https://localhost:8080/"
        },
        "outputId": "d9d02dbc-5620-4e23-ffdb-7fe5a7bcd77d"
      },
      "execution_count": 1,
      "outputs": [
        {
          "output_type": "stream",
          "name": "stdout",
          "text": [
            "Looking in indexes: https://pypi.org/simple, https://us-python.pkg.dev/colab-wheels/public/simple/\n",
            "Requirement already satisfied: wget in /usr/local/lib/python3.8/dist-packages (3.2)\n",
            "Looking in indexes: https://pypi.org/simple, https://us-python.pkg.dev/colab-wheels/public/simple/\n",
            "Requirement already satisfied: uszipcode in /usr/local/lib/python3.8/dist-packages (1.0.1)\n",
            "Requirement already satisfied: pathlib-mate in /usr/local/lib/python3.8/dist-packages (from uszipcode) (1.1.1)\n",
            "Requirement already satisfied: attrs in /usr/local/lib/python3.8/dist-packages (from uszipcode) (22.1.0)\n",
            "Requirement already satisfied: SQLAlchemy>=1.4.0 in /usr/local/lib/python3.8/dist-packages (from uszipcode) (1.4.44)\n",
            "Requirement already satisfied: atomicwrites in /usr/local/lib/python3.8/dist-packages (from uszipcode) (1.4.1)\n",
            "Requirement already satisfied: requests in /usr/local/lib/python3.8/dist-packages (from uszipcode) (2.23.0)\n",
            "Requirement already satisfied: sqlalchemy-mate>=1.4.28.3 in /usr/local/lib/python3.8/dist-packages (from uszipcode) (1.4.28.3)\n",
            "Requirement already satisfied: haversine>=2.5.0 in /usr/local/lib/python3.8/dist-packages (from uszipcode) (2.7.0)\n",
            "Requirement already satisfied: fuzzywuzzy in /usr/local/lib/python3.8/dist-packages (from uszipcode) (0.18.0)\n",
            "Requirement already satisfied: greenlet!=0.4.17 in /usr/local/lib/python3.8/dist-packages (from SQLAlchemy>=1.4.0->uszipcode) (2.0.1)\n",
            "Requirement already satisfied: prettytable in /usr/local/lib/python3.8/dist-packages (from sqlalchemy-mate>=1.4.28.3->uszipcode) (3.5.0)\n",
            "Requirement already satisfied: six in /usr/local/lib/python3.8/dist-packages (from pathlib-mate->uszipcode) (1.15.0)\n",
            "Requirement already satisfied: wcwidth in /usr/local/lib/python3.8/dist-packages (from prettytable->sqlalchemy-mate>=1.4.28.3->uszipcode) (0.2.5)\n",
            "Requirement already satisfied: chardet<4,>=3.0.2 in /usr/local/lib/python3.8/dist-packages (from requests->uszipcode) (3.0.4)\n",
            "Requirement already satisfied: certifi>=2017.4.17 in /usr/local/lib/python3.8/dist-packages (from requests->uszipcode) (2022.9.24)\n",
            "Requirement already satisfied: idna<3,>=2.5 in /usr/local/lib/python3.8/dist-packages (from requests->uszipcode) (2.10)\n",
            "Requirement already satisfied: urllib3!=1.25.0,!=1.25.1,<1.26,>=1.21.1 in /usr/local/lib/python3.8/dist-packages (from requests->uszipcode) (1.24.3)\n",
            "Looking in indexes: https://pypi.org/simple, https://us-python.pkg.dev/colab-wheels/public/simple/\n",
            "Requirement already satisfied: pandasql in /usr/local/lib/python3.8/dist-packages (0.7.3)\n",
            "Requirement already satisfied: pandas in /usr/local/lib/python3.8/dist-packages (from pandasql) (1.3.5)\n",
            "Requirement already satisfied: numpy in /usr/local/lib/python3.8/dist-packages (from pandasql) (1.21.6)\n",
            "Requirement already satisfied: sqlalchemy in /usr/local/lib/python3.8/dist-packages (from pandasql) (1.4.44)\n",
            "Requirement already satisfied: python-dateutil>=2.7.3 in /usr/local/lib/python3.8/dist-packages (from pandas->pandasql) (2.8.2)\n",
            "Requirement already satisfied: pytz>=2017.3 in /usr/local/lib/python3.8/dist-packages (from pandas->pandasql) (2022.6)\n",
            "Requirement already satisfied: six>=1.5 in /usr/local/lib/python3.8/dist-packages (from python-dateutil>=2.7.3->pandas->pandasql) (1.15.0)\n",
            "Requirement already satisfied: greenlet!=0.4.17 in /usr/local/lib/python3.8/dist-packages (from sqlalchemy->pandasql) (2.0.1)\n",
            "Looking in indexes: https://pypi.org/simple, https://us-python.pkg.dev/colab-wheels/public/simple/\n",
            "Requirement already satisfied: pmdarima in /usr/local/lib/python3.8/dist-packages (2.0.2)\n",
            "Requirement already satisfied: urllib3 in /usr/local/lib/python3.8/dist-packages (from pmdarima) (1.24.3)\n",
            "Requirement already satisfied: numpy>=1.21.2 in /usr/local/lib/python3.8/dist-packages (from pmdarima) (1.21.6)\n",
            "Requirement already satisfied: pandas>=0.19 in /usr/local/lib/python3.8/dist-packages (from pmdarima) (1.3.5)\n",
            "Requirement already satisfied: statsmodels>=0.13.2 in /usr/local/lib/python3.8/dist-packages (from pmdarima) (0.13.5)\n",
            "Requirement already satisfied: Cython!=0.29.18,!=0.29.31,>=0.29 in /usr/local/lib/python3.8/dist-packages (from pmdarima) (0.29.32)\n",
            "Requirement already satisfied: joblib>=0.11 in /usr/local/lib/python3.8/dist-packages (from pmdarima) (1.2.0)\n",
            "Requirement already satisfied: scikit-learn>=0.22 in /usr/local/lib/python3.8/dist-packages (from pmdarima) (1.0.2)\n",
            "Requirement already satisfied: setuptools!=50.0.0,>=38.6.0 in /usr/local/lib/python3.8/dist-packages (from pmdarima) (57.4.0)\n",
            "Requirement already satisfied: scipy>=1.3.2 in /usr/local/lib/python3.8/dist-packages (from pmdarima) (1.7.3)\n",
            "Requirement already satisfied: python-dateutil>=2.7.3 in /usr/local/lib/python3.8/dist-packages (from pandas>=0.19->pmdarima) (2.8.2)\n",
            "Requirement already satisfied: pytz>=2017.3 in /usr/local/lib/python3.8/dist-packages (from pandas>=0.19->pmdarima) (2022.6)\n",
            "Requirement already satisfied: six>=1.5 in /usr/local/lib/python3.8/dist-packages (from python-dateutil>=2.7.3->pandas>=0.19->pmdarima) (1.15.0)\n",
            "Requirement already satisfied: threadpoolctl>=2.0.0 in /usr/local/lib/python3.8/dist-packages (from scikit-learn>=0.22->pmdarima) (3.1.0)\n",
            "Requirement already satisfied: patsy>=0.5.2 in /usr/local/lib/python3.8/dist-packages (from statsmodels>=0.13.2->pmdarima) (0.5.3)\n",
            "Requirement already satisfied: packaging>=21.3 in /usr/local/lib/python3.8/dist-packages (from statsmodels>=0.13.2->pmdarima) (21.3)\n",
            "Requirement already satisfied: pyparsing!=3.0.5,>=2.0.2 in /usr/local/lib/python3.8/dist-packages (from packaging>=21.3->statsmodels>=0.13.2->pmdarima) (3.0.9)\n"
          ]
        }
      ]
    },
    {
      "cell_type": "markdown",
      "source": [
        "CLEANING"
      ],
      "metadata": {
        "id": "7CwdWFggNlTZ"
      }
    },
    {
      "cell_type": "markdown",
      "source": [
        "Importing Libraries"
      ],
      "metadata": {
        "id": "upE3fjtCNm5t"
      }
    },
    {
      "cell_type": "code",
      "execution_count": 2,
      "metadata": {
        "id": "H4sZPhB6NRxJ"
      },
      "outputs": [],
      "source": [
        "#import required packages\n",
        "\n",
        "from pmdarima.arima import auto_arima\n",
        "import pandas as pd\n",
        "import numpy as np\n",
        "from google.colab import drive\n",
        "import datetime as dt\n",
        "from datetime import date, timedelta\n",
        "from pandasql import sqldf\n",
        "import itertools\n",
        "import matplotlib.pyplot as plt\n",
        "import warnings\n",
        "from statsmodels.tsa.arima.model import ARIMA\n",
        "warnings.filterwarnings('ignore')\n",
        "from statsmodels.graphics.tsaplots import plot_acf, plot_pacf\n",
        "from sklearn.metrics import mean_squared_error\n",
        "import math\n",
        "import os\n",
        "warnings.simplefilter(action='ignore', category=FutureWarning)\n",
        "from geopy.geocoders import Nominatim\n",
        "from google.colab import files\n",
        "from sklearn.datasets import load_wine\n",
        "from matplotlib import rcParams\n",
        "import seaborn as sns\n",
        "import plotly.express as px\n",
        "import plotly.graph_objects as go\n",
        "plt.style.use(\"ggplot\")\n",
        "rcParams['figure.figsize'] = (12,  6)\n",
        "\n",
        "import wget\n",
        "import time\n"
      ]
    },
    {
      "cell_type": "markdown",
      "source": [
        "Mounting Drive which contains our datasets"
      ],
      "metadata": {
        "id": "d045JTu5-CCJ"
      }
    },
    {
      "cell_type": "code",
      "execution_count": 3,
      "metadata": {
        "colab": {
          "base_uri": "https://localhost:8080/"
        },
        "id": "As-vdNaHWdbS",
        "outputId": "47d25938-8cd8-4da8-ff96-9ac949e2c9be"
      },
      "outputs": [
        {
          "output_type": "stream",
          "name": "stdout",
          "text": [
            "Drive already mounted at /content/drive; to attempt to forcibly remount, call drive.mount(\"/content/drive\", force_remount=True).\n"
          ]
        }
      ],
      "source": [
        "#mount drive\n",
        "from google.colab import drive\n",
        "drive.mount('/content/drive')"
      ]
    },
    {
      "cell_type": "code",
      "source": [
        "\n",
        "# define directories and file names\n",
        "# download data if file is not found\n",
        "data_file = 'NYPD_Complaint_Data_Current__Year_To_Date_.csv'\n",
        "data_dir = 'data'\n",
        "cur_dir = 'drive/MyDrive/nyc-crime-analysis/'\n",
        "\n",
        "if not os.path.exists(cur_dir):\n",
        "  os.makedirs(cur_dir)\n",
        "\n",
        "if not os.path.exists(os.path.join(cur_dir,data_dir)):\n",
        "  os.makedirs(os.path.join(cur_dir,data_dir))\n",
        "\n",
        "\n",
        "if os.path.exists(os.path.join(cur_dir, data_dir, data_file)):\n",
        "    print('Found data file.')\n",
        "else:\n",
        "    print('Downloading data file...')\n",
        "    url = r'https://data.cityofnewyork.us/api/views/5uac-w243/rows.csv?accessType=DOWNLOAD'\n",
        "    d_file = wget.download(url)\n",
        "    print('Downloaded ', d_file)\n",
        "    os.rename(d_file, os.path.join(cur_dir, data_dir, data_file))\n"
      ],
      "metadata": {
        "id": "2GIaCT-ybUFU",
        "colab": {
          "base_uri": "https://localhost:8080/"
        },
        "outputId": "6c905670-a7f6-4995-818d-11beab46a596"
      },
      "execution_count": 4,
      "outputs": [
        {
          "output_type": "stream",
          "name": "stdout",
          "text": [
            "Found data file.\n"
          ]
        }
      ]
    },
    {
      "cell_type": "markdown",
      "source": [
        "Reading crime dataset from the drive location"
      ],
      "metadata": {
        "id": "P0k9wbX_-IGm"
      }
    },
    {
      "cell_type": "code",
      "source": [
        "OriginalDF = pd.read_csv(os.path.join(cur_dir, data_dir, data_file))"
      ],
      "metadata": {
        "id": "M2EsHbr3WmBP"
      },
      "execution_count": 5,
      "outputs": []
    },
    {
      "cell_type": "markdown",
      "source": [
        "Display the Dataframe"
      ],
      "metadata": {
        "id": "jWTuG1gP-PoK"
      }
    },
    {
      "cell_type": "code",
      "source": [
        "OriginalDF"
      ],
      "metadata": {
        "id": "cK_Z1aDgsAZQ",
        "colab": {
          "base_uri": "https://localhost:8080/",
          "height": 730
        },
        "outputId": "337e93ca-bb74-42f0-8eaa-1523c7579973"
      },
      "execution_count": 6,
      "outputs": [
        {
          "output_type": "execute_result",
          "data": {
            "text/plain": [
              "       CMPLNT_NUM  ADDR_PCT_CD        BORO_NM CMPLNT_FR_DT CMPLNT_FR_TM  \\\n",
              "0       247853895         43.0          BRONX   07/11/2022     09:09:00   \n",
              "1       250722124         67.0       BROOKLYN   01/01/2021     12:00:00   \n",
              "2       239511545        120.0  STATEN ISLAND   12/24/2021     08:00:00   \n",
              "3       247992275        115.0         QUEENS   06/15/2015     00:01:00   \n",
              "4       239602232         75.0       BROOKLYN   01/01/2018     09:00:00   \n",
              "...           ...          ...            ...          ...          ...   \n",
              "396973  251818673         46.0          BRONX   09/29/2022     08:30:00   \n",
              "396974  251891178         94.0       BROOKLYN   09/30/2022     22:55:00   \n",
              "396975  251788586         79.0       BROOKLYN   09/29/2022     16:15:00   \n",
              "396976  251833912         70.0       BROOKLYN   09/30/2022     12:00:00   \n",
              "396977  251833930        107.0         QUEENS   09/30/2022     08:30:00   \n",
              "\n",
              "       CMPLNT_TO_DT CMPLNT_TO_TM CRM_ATPT_CPTD_CD HADEVELOPT  HOUSING_PSA  \\\n",
              "0               NaN       (null)        COMPLETED     (null)          NaN   \n",
              "1        09/07/2022     12:00:00        COMPLETED     (null)          NaN   \n",
              "2        01/03/2022     08:00:00        COMPLETED     (null)          NaN   \n",
              "3        07/13/2022     17:00:00        COMPLETED     (null)          NaN   \n",
              "4        04/14/2021     23:59:00        COMPLETED     (null)          NaN   \n",
              "...             ...          ...              ...        ...          ...   \n",
              "396973   09/29/2022     08:45:00        COMPLETED     (null)          NaN   \n",
              "396974   09/30/2022     23:02:00        COMPLETED     (null)          NaN   \n",
              "396975   09/29/2022     16:18:00        COMPLETED     (null)        510.0   \n",
              "396976   09/30/2022     12:05:00        COMPLETED     (null)          NaN   \n",
              "396977   09/30/2022     08:31:00        COMPLETED     (null)          NaN   \n",
              "\n",
              "        ...  TRANSIT_DISTRICT VIC_AGE_GROUP                  VIC_RACE VIC_SEX  \\\n",
              "0       ...               NaN       UNKNOWN                   UNKNOWN       D   \n",
              "1       ...               NaN           <18                     BLACK       F   \n",
              "2       ...               NaN         18-24  ASIAN / PACIFIC ISLANDER       M   \n",
              "3       ...               NaN         45-64                     WHITE       M   \n",
              "4       ...               NaN           65+                     BLACK       M   \n",
              "...     ...               ...           ...                       ...     ...   \n",
              "396973  ...               NaN       UNKNOWN                   UNKNOWN       F   \n",
              "396974  ...               NaN       UNKNOWN                   UNKNOWN       D   \n",
              "396975  ...               NaN       UNKNOWN                   UNKNOWN       E   \n",
              "396976  ...               NaN           65+                     BLACK       F   \n",
              "396977  ...               NaN       UNKNOWN                   UNKNOWN       E   \n",
              "\n",
              "       X_COORD_CD Y_COORD_CD   Latitude  Longitude  \\\n",
              "0       1022682.0   242998.0  40.833567 -73.861118   \n",
              "1        997843.0   175671.0  40.648851 -73.951017   \n",
              "2        960911.0   165085.0  40.619768 -74.084070   \n",
              "3       1013677.0   212463.0  40.749791 -73.893792   \n",
              "4       1022153.0   184000.0  40.671636 -73.863359   \n",
              "...           ...        ...        ...        ...   \n",
              "396973  1011329.0   249447.0  40.851308 -73.902116   \n",
              "396974   999651.0   199731.0  40.714880 -73.944444   \n",
              "396975  1000180.0   193720.0  40.698381 -73.942550   \n",
              "396976   998374.0   171494.0  40.637378 -73.949109   \n",
              "396977  1032738.0   207968.0  40.737370 -73.825029   \n",
              "\n",
              "                                     Lat_Lon  \\\n",
              "0                    (40.833567, -73.861118)   \n",
              "1       (40.6488507469884, -73.951016510623)   \n",
              "2                     (40.619768, -74.08407)   \n",
              "3                    (40.749791, -73.893792)   \n",
              "4                    (40.671636, -73.863359)   \n",
              "...                                      ...   \n",
              "396973               (40.851308, -73.902116)   \n",
              "396974                (40.71488, -73.944444)   \n",
              "396975                (40.698381, -73.94255)   \n",
              "396976               (40.637378, -73.949109)   \n",
              "396977                (40.73737, -73.825029)   \n",
              "\n",
              "                         New Georeferenced Column  \n",
              "0                    POINT (-73.861118 40.833567)  \n",
              "1       POINT (-73.951016510623 40.6488507469884)  \n",
              "2                     POINT (-74.08407 40.619768)  \n",
              "3                    POINT (-73.893792 40.749791)  \n",
              "4                    POINT (-73.863359 40.671636)  \n",
              "...                                           ...  \n",
              "396973               POINT (-73.902116 40.851308)  \n",
              "396974                POINT (-73.944444 40.71488)  \n",
              "396975                POINT (-73.94255 40.698381)  \n",
              "396976               POINT (-73.949109 40.637378)  \n",
              "396977                POINT (-73.825029 40.73737)  \n",
              "\n",
              "[396978 rows x 36 columns]"
            ],
            "text/html": [
              "\n",
              "  <div id=\"df-4fb87af2-84bf-4a7a-9889-a0572184212d\">\n",
              "    <div class=\"colab-df-container\">\n",
              "      <div>\n",
              "<style scoped>\n",
              "    .dataframe tbody tr th:only-of-type {\n",
              "        vertical-align: middle;\n",
              "    }\n",
              "\n",
              "    .dataframe tbody tr th {\n",
              "        vertical-align: top;\n",
              "    }\n",
              "\n",
              "    .dataframe thead th {\n",
              "        text-align: right;\n",
              "    }\n",
              "</style>\n",
              "<table border=\"1\" class=\"dataframe\">\n",
              "  <thead>\n",
              "    <tr style=\"text-align: right;\">\n",
              "      <th></th>\n",
              "      <th>CMPLNT_NUM</th>\n",
              "      <th>ADDR_PCT_CD</th>\n",
              "      <th>BORO_NM</th>\n",
              "      <th>CMPLNT_FR_DT</th>\n",
              "      <th>CMPLNT_FR_TM</th>\n",
              "      <th>CMPLNT_TO_DT</th>\n",
              "      <th>CMPLNT_TO_TM</th>\n",
              "      <th>CRM_ATPT_CPTD_CD</th>\n",
              "      <th>HADEVELOPT</th>\n",
              "      <th>HOUSING_PSA</th>\n",
              "      <th>...</th>\n",
              "      <th>TRANSIT_DISTRICT</th>\n",
              "      <th>VIC_AGE_GROUP</th>\n",
              "      <th>VIC_RACE</th>\n",
              "      <th>VIC_SEX</th>\n",
              "      <th>X_COORD_CD</th>\n",
              "      <th>Y_COORD_CD</th>\n",
              "      <th>Latitude</th>\n",
              "      <th>Longitude</th>\n",
              "      <th>Lat_Lon</th>\n",
              "      <th>New Georeferenced Column</th>\n",
              "    </tr>\n",
              "  </thead>\n",
              "  <tbody>\n",
              "    <tr>\n",
              "      <th>0</th>\n",
              "      <td>247853895</td>\n",
              "      <td>43.0</td>\n",
              "      <td>BRONX</td>\n",
              "      <td>07/11/2022</td>\n",
              "      <td>09:09:00</td>\n",
              "      <td>NaN</td>\n",
              "      <td>(null)</td>\n",
              "      <td>COMPLETED</td>\n",
              "      <td>(null)</td>\n",
              "      <td>NaN</td>\n",
              "      <td>...</td>\n",
              "      <td>NaN</td>\n",
              "      <td>UNKNOWN</td>\n",
              "      <td>UNKNOWN</td>\n",
              "      <td>D</td>\n",
              "      <td>1022682.0</td>\n",
              "      <td>242998.0</td>\n",
              "      <td>40.833567</td>\n",
              "      <td>-73.861118</td>\n",
              "      <td>(40.833567, -73.861118)</td>\n",
              "      <td>POINT (-73.861118 40.833567)</td>\n",
              "    </tr>\n",
              "    <tr>\n",
              "      <th>1</th>\n",
              "      <td>250722124</td>\n",
              "      <td>67.0</td>\n",
              "      <td>BROOKLYN</td>\n",
              "      <td>01/01/2021</td>\n",
              "      <td>12:00:00</td>\n",
              "      <td>09/07/2022</td>\n",
              "      <td>12:00:00</td>\n",
              "      <td>COMPLETED</td>\n",
              "      <td>(null)</td>\n",
              "      <td>NaN</td>\n",
              "      <td>...</td>\n",
              "      <td>NaN</td>\n",
              "      <td>&lt;18</td>\n",
              "      <td>BLACK</td>\n",
              "      <td>F</td>\n",
              "      <td>997843.0</td>\n",
              "      <td>175671.0</td>\n",
              "      <td>40.648851</td>\n",
              "      <td>-73.951017</td>\n",
              "      <td>(40.6488507469884, -73.951016510623)</td>\n",
              "      <td>POINT (-73.951016510623 40.6488507469884)</td>\n",
              "    </tr>\n",
              "    <tr>\n",
              "      <th>2</th>\n",
              "      <td>239511545</td>\n",
              "      <td>120.0</td>\n",
              "      <td>STATEN ISLAND</td>\n",
              "      <td>12/24/2021</td>\n",
              "      <td>08:00:00</td>\n",
              "      <td>01/03/2022</td>\n",
              "      <td>08:00:00</td>\n",
              "      <td>COMPLETED</td>\n",
              "      <td>(null)</td>\n",
              "      <td>NaN</td>\n",
              "      <td>...</td>\n",
              "      <td>NaN</td>\n",
              "      <td>18-24</td>\n",
              "      <td>ASIAN / PACIFIC ISLANDER</td>\n",
              "      <td>M</td>\n",
              "      <td>960911.0</td>\n",
              "      <td>165085.0</td>\n",
              "      <td>40.619768</td>\n",
              "      <td>-74.084070</td>\n",
              "      <td>(40.619768, -74.08407)</td>\n",
              "      <td>POINT (-74.08407 40.619768)</td>\n",
              "    </tr>\n",
              "    <tr>\n",
              "      <th>3</th>\n",
              "      <td>247992275</td>\n",
              "      <td>115.0</td>\n",
              "      <td>QUEENS</td>\n",
              "      <td>06/15/2015</td>\n",
              "      <td>00:01:00</td>\n",
              "      <td>07/13/2022</td>\n",
              "      <td>17:00:00</td>\n",
              "      <td>COMPLETED</td>\n",
              "      <td>(null)</td>\n",
              "      <td>NaN</td>\n",
              "      <td>...</td>\n",
              "      <td>NaN</td>\n",
              "      <td>45-64</td>\n",
              "      <td>WHITE</td>\n",
              "      <td>M</td>\n",
              "      <td>1013677.0</td>\n",
              "      <td>212463.0</td>\n",
              "      <td>40.749791</td>\n",
              "      <td>-73.893792</td>\n",
              "      <td>(40.749791, -73.893792)</td>\n",
              "      <td>POINT (-73.893792 40.749791)</td>\n",
              "    </tr>\n",
              "    <tr>\n",
              "      <th>4</th>\n",
              "      <td>239602232</td>\n",
              "      <td>75.0</td>\n",
              "      <td>BROOKLYN</td>\n",
              "      <td>01/01/2018</td>\n",
              "      <td>09:00:00</td>\n",
              "      <td>04/14/2021</td>\n",
              "      <td>23:59:00</td>\n",
              "      <td>COMPLETED</td>\n",
              "      <td>(null)</td>\n",
              "      <td>NaN</td>\n",
              "      <td>...</td>\n",
              "      <td>NaN</td>\n",
              "      <td>65+</td>\n",
              "      <td>BLACK</td>\n",
              "      <td>M</td>\n",
              "      <td>1022153.0</td>\n",
              "      <td>184000.0</td>\n",
              "      <td>40.671636</td>\n",
              "      <td>-73.863359</td>\n",
              "      <td>(40.671636, -73.863359)</td>\n",
              "      <td>POINT (-73.863359 40.671636)</td>\n",
              "    </tr>\n",
              "    <tr>\n",
              "      <th>...</th>\n",
              "      <td>...</td>\n",
              "      <td>...</td>\n",
              "      <td>...</td>\n",
              "      <td>...</td>\n",
              "      <td>...</td>\n",
              "      <td>...</td>\n",
              "      <td>...</td>\n",
              "      <td>...</td>\n",
              "      <td>...</td>\n",
              "      <td>...</td>\n",
              "      <td>...</td>\n",
              "      <td>...</td>\n",
              "      <td>...</td>\n",
              "      <td>...</td>\n",
              "      <td>...</td>\n",
              "      <td>...</td>\n",
              "      <td>...</td>\n",
              "      <td>...</td>\n",
              "      <td>...</td>\n",
              "      <td>...</td>\n",
              "      <td>...</td>\n",
              "    </tr>\n",
              "    <tr>\n",
              "      <th>396973</th>\n",
              "      <td>251818673</td>\n",
              "      <td>46.0</td>\n",
              "      <td>BRONX</td>\n",
              "      <td>09/29/2022</td>\n",
              "      <td>08:30:00</td>\n",
              "      <td>09/29/2022</td>\n",
              "      <td>08:45:00</td>\n",
              "      <td>COMPLETED</td>\n",
              "      <td>(null)</td>\n",
              "      <td>NaN</td>\n",
              "      <td>...</td>\n",
              "      <td>NaN</td>\n",
              "      <td>UNKNOWN</td>\n",
              "      <td>UNKNOWN</td>\n",
              "      <td>F</td>\n",
              "      <td>1011329.0</td>\n",
              "      <td>249447.0</td>\n",
              "      <td>40.851308</td>\n",
              "      <td>-73.902116</td>\n",
              "      <td>(40.851308, -73.902116)</td>\n",
              "      <td>POINT (-73.902116 40.851308)</td>\n",
              "    </tr>\n",
              "    <tr>\n",
              "      <th>396974</th>\n",
              "      <td>251891178</td>\n",
              "      <td>94.0</td>\n",
              "      <td>BROOKLYN</td>\n",
              "      <td>09/30/2022</td>\n",
              "      <td>22:55:00</td>\n",
              "      <td>09/30/2022</td>\n",
              "      <td>23:02:00</td>\n",
              "      <td>COMPLETED</td>\n",
              "      <td>(null)</td>\n",
              "      <td>NaN</td>\n",
              "      <td>...</td>\n",
              "      <td>NaN</td>\n",
              "      <td>UNKNOWN</td>\n",
              "      <td>UNKNOWN</td>\n",
              "      <td>D</td>\n",
              "      <td>999651.0</td>\n",
              "      <td>199731.0</td>\n",
              "      <td>40.714880</td>\n",
              "      <td>-73.944444</td>\n",
              "      <td>(40.71488, -73.944444)</td>\n",
              "      <td>POINT (-73.944444 40.71488)</td>\n",
              "    </tr>\n",
              "    <tr>\n",
              "      <th>396975</th>\n",
              "      <td>251788586</td>\n",
              "      <td>79.0</td>\n",
              "      <td>BROOKLYN</td>\n",
              "      <td>09/29/2022</td>\n",
              "      <td>16:15:00</td>\n",
              "      <td>09/29/2022</td>\n",
              "      <td>16:18:00</td>\n",
              "      <td>COMPLETED</td>\n",
              "      <td>(null)</td>\n",
              "      <td>510.0</td>\n",
              "      <td>...</td>\n",
              "      <td>NaN</td>\n",
              "      <td>UNKNOWN</td>\n",
              "      <td>UNKNOWN</td>\n",
              "      <td>E</td>\n",
              "      <td>1000180.0</td>\n",
              "      <td>193720.0</td>\n",
              "      <td>40.698381</td>\n",
              "      <td>-73.942550</td>\n",
              "      <td>(40.698381, -73.94255)</td>\n",
              "      <td>POINT (-73.94255 40.698381)</td>\n",
              "    </tr>\n",
              "    <tr>\n",
              "      <th>396976</th>\n",
              "      <td>251833912</td>\n",
              "      <td>70.0</td>\n",
              "      <td>BROOKLYN</td>\n",
              "      <td>09/30/2022</td>\n",
              "      <td>12:00:00</td>\n",
              "      <td>09/30/2022</td>\n",
              "      <td>12:05:00</td>\n",
              "      <td>COMPLETED</td>\n",
              "      <td>(null)</td>\n",
              "      <td>NaN</td>\n",
              "      <td>...</td>\n",
              "      <td>NaN</td>\n",
              "      <td>65+</td>\n",
              "      <td>BLACK</td>\n",
              "      <td>F</td>\n",
              "      <td>998374.0</td>\n",
              "      <td>171494.0</td>\n",
              "      <td>40.637378</td>\n",
              "      <td>-73.949109</td>\n",
              "      <td>(40.637378, -73.949109)</td>\n",
              "      <td>POINT (-73.949109 40.637378)</td>\n",
              "    </tr>\n",
              "    <tr>\n",
              "      <th>396977</th>\n",
              "      <td>251833930</td>\n",
              "      <td>107.0</td>\n",
              "      <td>QUEENS</td>\n",
              "      <td>09/30/2022</td>\n",
              "      <td>08:30:00</td>\n",
              "      <td>09/30/2022</td>\n",
              "      <td>08:31:00</td>\n",
              "      <td>COMPLETED</td>\n",
              "      <td>(null)</td>\n",
              "      <td>NaN</td>\n",
              "      <td>...</td>\n",
              "      <td>NaN</td>\n",
              "      <td>UNKNOWN</td>\n",
              "      <td>UNKNOWN</td>\n",
              "      <td>E</td>\n",
              "      <td>1032738.0</td>\n",
              "      <td>207968.0</td>\n",
              "      <td>40.737370</td>\n",
              "      <td>-73.825029</td>\n",
              "      <td>(40.73737, -73.825029)</td>\n",
              "      <td>POINT (-73.825029 40.73737)</td>\n",
              "    </tr>\n",
              "  </tbody>\n",
              "</table>\n",
              "<p>396978 rows × 36 columns</p>\n",
              "</div>\n",
              "      <button class=\"colab-df-convert\" onclick=\"convertToInteractive('df-4fb87af2-84bf-4a7a-9889-a0572184212d')\"\n",
              "              title=\"Convert this dataframe to an interactive table.\"\n",
              "              style=\"display:none;\">\n",
              "        \n",
              "  <svg xmlns=\"http://www.w3.org/2000/svg\" height=\"24px\"viewBox=\"0 0 24 24\"\n",
              "       width=\"24px\">\n",
              "    <path d=\"M0 0h24v24H0V0z\" fill=\"none\"/>\n",
              "    <path d=\"M18.56 5.44l.94 2.06.94-2.06 2.06-.94-2.06-.94-.94-2.06-.94 2.06-2.06.94zm-11 1L8.5 8.5l.94-2.06 2.06-.94-2.06-.94L8.5 2.5l-.94 2.06-2.06.94zm10 10l.94 2.06.94-2.06 2.06-.94-2.06-.94-.94-2.06-.94 2.06-2.06.94z\"/><path d=\"M17.41 7.96l-1.37-1.37c-.4-.4-.92-.59-1.43-.59-.52 0-1.04.2-1.43.59L10.3 9.45l-7.72 7.72c-.78.78-.78 2.05 0 2.83L4 21.41c.39.39.9.59 1.41.59.51 0 1.02-.2 1.41-.59l7.78-7.78 2.81-2.81c.8-.78.8-2.07 0-2.86zM5.41 20L4 18.59l7.72-7.72 1.47 1.35L5.41 20z\"/>\n",
              "  </svg>\n",
              "      </button>\n",
              "      \n",
              "  <style>\n",
              "    .colab-df-container {\n",
              "      display:flex;\n",
              "      flex-wrap:wrap;\n",
              "      gap: 12px;\n",
              "    }\n",
              "\n",
              "    .colab-df-convert {\n",
              "      background-color: #E8F0FE;\n",
              "      border: none;\n",
              "      border-radius: 50%;\n",
              "      cursor: pointer;\n",
              "      display: none;\n",
              "      fill: #1967D2;\n",
              "      height: 32px;\n",
              "      padding: 0 0 0 0;\n",
              "      width: 32px;\n",
              "    }\n",
              "\n",
              "    .colab-df-convert:hover {\n",
              "      background-color: #E2EBFA;\n",
              "      box-shadow: 0px 1px 2px rgba(60, 64, 67, 0.3), 0px 1px 3px 1px rgba(60, 64, 67, 0.15);\n",
              "      fill: #174EA6;\n",
              "    }\n",
              "\n",
              "    [theme=dark] .colab-df-convert {\n",
              "      background-color: #3B4455;\n",
              "      fill: #D2E3FC;\n",
              "    }\n",
              "\n",
              "    [theme=dark] .colab-df-convert:hover {\n",
              "      background-color: #434B5C;\n",
              "      box-shadow: 0px 1px 3px 1px rgba(0, 0, 0, 0.15);\n",
              "      filter: drop-shadow(0px 1px 2px rgba(0, 0, 0, 0.3));\n",
              "      fill: #FFFFFF;\n",
              "    }\n",
              "  </style>\n",
              "\n",
              "      <script>\n",
              "        const buttonEl =\n",
              "          document.querySelector('#df-4fb87af2-84bf-4a7a-9889-a0572184212d button.colab-df-convert');\n",
              "        buttonEl.style.display =\n",
              "          google.colab.kernel.accessAllowed ? 'block' : 'none';\n",
              "\n",
              "        async function convertToInteractive(key) {\n",
              "          const element = document.querySelector('#df-4fb87af2-84bf-4a7a-9889-a0572184212d');\n",
              "          const dataTable =\n",
              "            await google.colab.kernel.invokeFunction('convertToInteractive',\n",
              "                                                     [key], {});\n",
              "          if (!dataTable) return;\n",
              "\n",
              "          const docLinkHtml = 'Like what you see? Visit the ' +\n",
              "            '<a target=\"_blank\" href=https://colab.research.google.com/notebooks/data_table.ipynb>data table notebook</a>'\n",
              "            + ' to learn more about interactive tables.';\n",
              "          element.innerHTML = '';\n",
              "          dataTable['output_type'] = 'display_data';\n",
              "          await google.colab.output.renderOutput(dataTable, element);\n",
              "          const docLink = document.createElement('div');\n",
              "          docLink.innerHTML = docLinkHtml;\n",
              "          element.appendChild(docLink);\n",
              "        }\n",
              "      </script>\n",
              "    </div>\n",
              "  </div>\n",
              "  "
            ]
          },
          "metadata": {},
          "execution_count": 6
        }
      ]
    },
    {
      "cell_type": "markdown",
      "source": [
        "Saving the shape(rows and columns) of our dataset"
      ],
      "metadata": {
        "id": "FbyWXhqi-SmO"
      }
    },
    {
      "cell_type": "code",
      "source": [
        "original_rows, original_col = OriginalDF.shape"
      ],
      "metadata": {
        "id": "67cE8klJbXdt"
      },
      "execution_count": 7,
      "outputs": []
    },
    {
      "cell_type": "markdown",
      "source": [
        "Replacing all the string \"(null)\" with actuall nulls"
      ],
      "metadata": {
        "id": "Do3HgZfk-YSw"
      }
    },
    {
      "cell_type": "code",
      "source": [
        "OriginalDF = OriginalDF.replace('(null)', np.nan)"
      ],
      "metadata": {
        "id": "tAXv9zUzqR7i"
      },
      "execution_count": 8,
      "outputs": []
    },
    {
      "cell_type": "markdown",
      "source": [
        "Checking datatypes and other information regarding our dataframe"
      ],
      "metadata": {
        "id": "fScbf50L-dvn"
      }
    },
    {
      "cell_type": "code",
      "source": [
        "OriginalDF.info()"
      ],
      "metadata": {
        "id": "pk556Uyodas4",
        "colab": {
          "base_uri": "https://localhost:8080/"
        },
        "outputId": "2e77204c-7d8d-4b7c-8a24-4f394b456fef"
      },
      "execution_count": 9,
      "outputs": [
        {
          "output_type": "stream",
          "name": "stdout",
          "text": [
            "<class 'pandas.core.frame.DataFrame'>\n",
            "RangeIndex: 396978 entries, 0 to 396977\n",
            "Data columns (total 36 columns):\n",
            " #   Column                    Non-Null Count   Dtype  \n",
            "---  ------                    --------------   -----  \n",
            " 0   CMPLNT_NUM                396978 non-null  object \n",
            " 1   ADDR_PCT_CD               396958 non-null  float64\n",
            " 2   BORO_NM                   396321 non-null  object \n",
            " 3   CMPLNT_FR_DT              396978 non-null  object \n",
            " 4   CMPLNT_FR_TM              396978 non-null  object \n",
            " 5   CMPLNT_TO_DT              367585 non-null  object \n",
            " 6   CMPLNT_TO_TM              367702 non-null  object \n",
            " 7   CRM_ATPT_CPTD_CD          396978 non-null  object \n",
            " 8   HADEVELOPT                1222 non-null    object \n",
            " 9   HOUSING_PSA               25466 non-null   float64\n",
            " 10  JURISDICTION_CODE         396978 non-null  int64  \n",
            " 11  JURIS_DESC                396978 non-null  object \n",
            " 12  KY_CD                     396978 non-null  int64  \n",
            " 13  LAW_CAT_CD                396978 non-null  object \n",
            " 14  LOC_OF_OCCUR_DESC         330897 non-null  object \n",
            " 15  OFNS_DESC                 396973 non-null  object \n",
            " 16  PARKS_NM                  2683 non-null    object \n",
            " 17  PATROL_BORO               396976 non-null  object \n",
            " 18  PD_CD                     396538 non-null  float64\n",
            " 19  PD_DESC                   396538 non-null  object \n",
            " 20  PREM_TYP_DESC             396502 non-null  object \n",
            " 21  RPT_DT                    396978 non-null  object \n",
            " 22  STATION_NAME              8301 non-null    object \n",
            " 23  SUSP_AGE_GROUP            323450 non-null  object \n",
            " 24  SUSP_RACE                 323450 non-null  object \n",
            " 25  SUSP_SEX                  323450 non-null  object \n",
            " 26  TRANSIT_DISTRICT          8301 non-null    float64\n",
            " 27  VIC_AGE_GROUP             396978 non-null  object \n",
            " 28  VIC_RACE                  396874 non-null  object \n",
            " 29  VIC_SEX                   396978 non-null  object \n",
            " 30  X_COORD_CD                396969 non-null  float64\n",
            " 31  Y_COORD_CD                396969 non-null  float64\n",
            " 32  Latitude                  396969 non-null  float64\n",
            " 33  Longitude                 396969 non-null  float64\n",
            " 34  Lat_Lon                   396969 non-null  object \n",
            " 35  New Georeferenced Column  396969 non-null  object \n",
            "dtypes: float64(8), int64(2), object(26)\n",
            "memory usage: 109.0+ MB\n"
          ]
        }
      ]
    },
    {
      "cell_type": "markdown",
      "source": [
        "Merge and convert complaint date and time. Drop the old columns"
      ],
      "metadata": {
        "id": "2IMCqDSx-__n"
      }
    },
    {
      "cell_type": "code",
      "source": [
        "OriginalDF['CMPLNT_FR_DT_TS'] = pd.to_datetime(OriginalDF['CMPLNT_FR_DT'] + OriginalDF['CMPLNT_FR_TM'], format='%m/%d/%Y%H:%M:%S', errors='coerce')\n",
        "OriginalDF['CMPLNT_TO_DT_TS'] = pd.to_datetime(OriginalDF['CMPLNT_TO_DT'] + OriginalDF['CMPLNT_TO_TM'], format='%m/%d/%Y%H:%M:%S', errors='coerce')\n",
        "OriginalDF['RPT_DT'] = pd.to_datetime(OriginalDF['RPT_DT'], format = \"%m/%d/%Y\", errors='coerce')\n",
        "OriginalDF = OriginalDF.drop(columns=['CMPLNT_FR_DT', 'CMPLNT_FR_TM', 'CMPLNT_TO_DT', 'CMPLNT_TO_TM'])"
      ],
      "metadata": {
        "id": "rkT6KW6YcMV2"
      },
      "execution_count": 10,
      "outputs": []
    },
    {
      "cell_type": "markdown",
      "source": [
        "Display the dataframe"
      ],
      "metadata": {
        "id": "EjWlS7Vd_Mdp"
      }
    },
    {
      "cell_type": "code",
      "source": [
        "OriginalDF.head(5)"
      ],
      "metadata": {
        "id": "Vp_qMa7IEewZ",
        "colab": {
          "base_uri": "https://localhost:8080/",
          "height": 508
        },
        "outputId": "1b0933a9-9d74-4af8-9ce7-73681accd609"
      },
      "execution_count": 11,
      "outputs": [
        {
          "output_type": "execute_result",
          "data": {
            "text/plain": [
              "  CMPLNT_NUM  ADDR_PCT_CD        BORO_NM CRM_ATPT_CPTD_CD HADEVELOPT  \\\n",
              "0  247853895         43.0          BRONX        COMPLETED        NaN   \n",
              "1  250722124         67.0       BROOKLYN        COMPLETED        NaN   \n",
              "2  239511545        120.0  STATEN ISLAND        COMPLETED        NaN   \n",
              "3  247992275        115.0         QUEENS        COMPLETED        NaN   \n",
              "4  239602232         75.0       BROOKLYN        COMPLETED        NaN   \n",
              "\n",
              "   HOUSING_PSA  JURISDICTION_CODE        JURIS_DESC  KY_CD LAW_CAT_CD  ...  \\\n",
              "0          NaN                  0  N.Y. POLICE DEPT    105     FELONY  ...   \n",
              "1          NaN                  0  N.Y. POLICE DEPT    104     FELONY  ...   \n",
              "2          NaN                  0  N.Y. POLICE DEPT    109     FELONY  ...   \n",
              "3          NaN                  0  N.Y. POLICE DEPT    112     FELONY  ...   \n",
              "4          NaN                  0  N.Y. POLICE DEPT    112     FELONY  ...   \n",
              "\n",
              "                   VIC_RACE VIC_SEX X_COORD_CD Y_COORD_CD   Latitude  \\\n",
              "0                   UNKNOWN       D  1022682.0   242998.0  40.833567   \n",
              "1                     BLACK       F   997843.0   175671.0  40.648851   \n",
              "2  ASIAN / PACIFIC ISLANDER       M   960911.0   165085.0  40.619768   \n",
              "3                     WHITE       M  1013677.0   212463.0  40.749791   \n",
              "4                     BLACK       M  1022153.0   184000.0  40.671636   \n",
              "\n",
              "   Longitude                               Lat_Lon  \\\n",
              "0 -73.861118               (40.833567, -73.861118)   \n",
              "1 -73.951017  (40.6488507469884, -73.951016510623)   \n",
              "2 -74.084070                (40.619768, -74.08407)   \n",
              "3 -73.893792               (40.749791, -73.893792)   \n",
              "4 -73.863359               (40.671636, -73.863359)   \n",
              "\n",
              "                    New Georeferenced Column     CMPLNT_FR_DT_TS  \\\n",
              "0               POINT (-73.861118 40.833567) 2022-07-11 09:09:00   \n",
              "1  POINT (-73.951016510623 40.6488507469884) 2021-01-01 12:00:00   \n",
              "2                POINT (-74.08407 40.619768) 2021-12-24 08:00:00   \n",
              "3               POINT (-73.893792 40.749791) 2015-06-15 00:01:00   \n",
              "4               POINT (-73.863359 40.671636) 2018-01-01 09:00:00   \n",
              "\n",
              "      CMPLNT_TO_DT_TS  \n",
              "0                 NaT  \n",
              "1 2022-09-07 12:00:00  \n",
              "2 2022-01-03 08:00:00  \n",
              "3 2022-07-13 17:00:00  \n",
              "4 2021-04-14 23:59:00  \n",
              "\n",
              "[5 rows x 34 columns]"
            ],
            "text/html": [
              "\n",
              "  <div id=\"df-05a8344b-88fe-4617-b6a9-cf95986e9326\">\n",
              "    <div class=\"colab-df-container\">\n",
              "      <div>\n",
              "<style scoped>\n",
              "    .dataframe tbody tr th:only-of-type {\n",
              "        vertical-align: middle;\n",
              "    }\n",
              "\n",
              "    .dataframe tbody tr th {\n",
              "        vertical-align: top;\n",
              "    }\n",
              "\n",
              "    .dataframe thead th {\n",
              "        text-align: right;\n",
              "    }\n",
              "</style>\n",
              "<table border=\"1\" class=\"dataframe\">\n",
              "  <thead>\n",
              "    <tr style=\"text-align: right;\">\n",
              "      <th></th>\n",
              "      <th>CMPLNT_NUM</th>\n",
              "      <th>ADDR_PCT_CD</th>\n",
              "      <th>BORO_NM</th>\n",
              "      <th>CRM_ATPT_CPTD_CD</th>\n",
              "      <th>HADEVELOPT</th>\n",
              "      <th>HOUSING_PSA</th>\n",
              "      <th>JURISDICTION_CODE</th>\n",
              "      <th>JURIS_DESC</th>\n",
              "      <th>KY_CD</th>\n",
              "      <th>LAW_CAT_CD</th>\n",
              "      <th>...</th>\n",
              "      <th>VIC_RACE</th>\n",
              "      <th>VIC_SEX</th>\n",
              "      <th>X_COORD_CD</th>\n",
              "      <th>Y_COORD_CD</th>\n",
              "      <th>Latitude</th>\n",
              "      <th>Longitude</th>\n",
              "      <th>Lat_Lon</th>\n",
              "      <th>New Georeferenced Column</th>\n",
              "      <th>CMPLNT_FR_DT_TS</th>\n",
              "      <th>CMPLNT_TO_DT_TS</th>\n",
              "    </tr>\n",
              "  </thead>\n",
              "  <tbody>\n",
              "    <tr>\n",
              "      <th>0</th>\n",
              "      <td>247853895</td>\n",
              "      <td>43.0</td>\n",
              "      <td>BRONX</td>\n",
              "      <td>COMPLETED</td>\n",
              "      <td>NaN</td>\n",
              "      <td>NaN</td>\n",
              "      <td>0</td>\n",
              "      <td>N.Y. POLICE DEPT</td>\n",
              "      <td>105</td>\n",
              "      <td>FELONY</td>\n",
              "      <td>...</td>\n",
              "      <td>UNKNOWN</td>\n",
              "      <td>D</td>\n",
              "      <td>1022682.0</td>\n",
              "      <td>242998.0</td>\n",
              "      <td>40.833567</td>\n",
              "      <td>-73.861118</td>\n",
              "      <td>(40.833567, -73.861118)</td>\n",
              "      <td>POINT (-73.861118 40.833567)</td>\n",
              "      <td>2022-07-11 09:09:00</td>\n",
              "      <td>NaT</td>\n",
              "    </tr>\n",
              "    <tr>\n",
              "      <th>1</th>\n",
              "      <td>250722124</td>\n",
              "      <td>67.0</td>\n",
              "      <td>BROOKLYN</td>\n",
              "      <td>COMPLETED</td>\n",
              "      <td>NaN</td>\n",
              "      <td>NaN</td>\n",
              "      <td>0</td>\n",
              "      <td>N.Y. POLICE DEPT</td>\n",
              "      <td>104</td>\n",
              "      <td>FELONY</td>\n",
              "      <td>...</td>\n",
              "      <td>BLACK</td>\n",
              "      <td>F</td>\n",
              "      <td>997843.0</td>\n",
              "      <td>175671.0</td>\n",
              "      <td>40.648851</td>\n",
              "      <td>-73.951017</td>\n",
              "      <td>(40.6488507469884, -73.951016510623)</td>\n",
              "      <td>POINT (-73.951016510623 40.6488507469884)</td>\n",
              "      <td>2021-01-01 12:00:00</td>\n",
              "      <td>2022-09-07 12:00:00</td>\n",
              "    </tr>\n",
              "    <tr>\n",
              "      <th>2</th>\n",
              "      <td>239511545</td>\n",
              "      <td>120.0</td>\n",
              "      <td>STATEN ISLAND</td>\n",
              "      <td>COMPLETED</td>\n",
              "      <td>NaN</td>\n",
              "      <td>NaN</td>\n",
              "      <td>0</td>\n",
              "      <td>N.Y. POLICE DEPT</td>\n",
              "      <td>109</td>\n",
              "      <td>FELONY</td>\n",
              "      <td>...</td>\n",
              "      <td>ASIAN / PACIFIC ISLANDER</td>\n",
              "      <td>M</td>\n",
              "      <td>960911.0</td>\n",
              "      <td>165085.0</td>\n",
              "      <td>40.619768</td>\n",
              "      <td>-74.084070</td>\n",
              "      <td>(40.619768, -74.08407)</td>\n",
              "      <td>POINT (-74.08407 40.619768)</td>\n",
              "      <td>2021-12-24 08:00:00</td>\n",
              "      <td>2022-01-03 08:00:00</td>\n",
              "    </tr>\n",
              "    <tr>\n",
              "      <th>3</th>\n",
              "      <td>247992275</td>\n",
              "      <td>115.0</td>\n",
              "      <td>QUEENS</td>\n",
              "      <td>COMPLETED</td>\n",
              "      <td>NaN</td>\n",
              "      <td>NaN</td>\n",
              "      <td>0</td>\n",
              "      <td>N.Y. POLICE DEPT</td>\n",
              "      <td>112</td>\n",
              "      <td>FELONY</td>\n",
              "      <td>...</td>\n",
              "      <td>WHITE</td>\n",
              "      <td>M</td>\n",
              "      <td>1013677.0</td>\n",
              "      <td>212463.0</td>\n",
              "      <td>40.749791</td>\n",
              "      <td>-73.893792</td>\n",
              "      <td>(40.749791, -73.893792)</td>\n",
              "      <td>POINT (-73.893792 40.749791)</td>\n",
              "      <td>2015-06-15 00:01:00</td>\n",
              "      <td>2022-07-13 17:00:00</td>\n",
              "    </tr>\n",
              "    <tr>\n",
              "      <th>4</th>\n",
              "      <td>239602232</td>\n",
              "      <td>75.0</td>\n",
              "      <td>BROOKLYN</td>\n",
              "      <td>COMPLETED</td>\n",
              "      <td>NaN</td>\n",
              "      <td>NaN</td>\n",
              "      <td>0</td>\n",
              "      <td>N.Y. POLICE DEPT</td>\n",
              "      <td>112</td>\n",
              "      <td>FELONY</td>\n",
              "      <td>...</td>\n",
              "      <td>BLACK</td>\n",
              "      <td>M</td>\n",
              "      <td>1022153.0</td>\n",
              "      <td>184000.0</td>\n",
              "      <td>40.671636</td>\n",
              "      <td>-73.863359</td>\n",
              "      <td>(40.671636, -73.863359)</td>\n",
              "      <td>POINT (-73.863359 40.671636)</td>\n",
              "      <td>2018-01-01 09:00:00</td>\n",
              "      <td>2021-04-14 23:59:00</td>\n",
              "    </tr>\n",
              "  </tbody>\n",
              "</table>\n",
              "<p>5 rows × 34 columns</p>\n",
              "</div>\n",
              "      <button class=\"colab-df-convert\" onclick=\"convertToInteractive('df-05a8344b-88fe-4617-b6a9-cf95986e9326')\"\n",
              "              title=\"Convert this dataframe to an interactive table.\"\n",
              "              style=\"display:none;\">\n",
              "        \n",
              "  <svg xmlns=\"http://www.w3.org/2000/svg\" height=\"24px\"viewBox=\"0 0 24 24\"\n",
              "       width=\"24px\">\n",
              "    <path d=\"M0 0h24v24H0V0z\" fill=\"none\"/>\n",
              "    <path d=\"M18.56 5.44l.94 2.06.94-2.06 2.06-.94-2.06-.94-.94-2.06-.94 2.06-2.06.94zm-11 1L8.5 8.5l.94-2.06 2.06-.94-2.06-.94L8.5 2.5l-.94 2.06-2.06.94zm10 10l.94 2.06.94-2.06 2.06-.94-2.06-.94-.94-2.06-.94 2.06-2.06.94z\"/><path d=\"M17.41 7.96l-1.37-1.37c-.4-.4-.92-.59-1.43-.59-.52 0-1.04.2-1.43.59L10.3 9.45l-7.72 7.72c-.78.78-.78 2.05 0 2.83L4 21.41c.39.39.9.59 1.41.59.51 0 1.02-.2 1.41-.59l7.78-7.78 2.81-2.81c.8-.78.8-2.07 0-2.86zM5.41 20L4 18.59l7.72-7.72 1.47 1.35L5.41 20z\"/>\n",
              "  </svg>\n",
              "      </button>\n",
              "      \n",
              "  <style>\n",
              "    .colab-df-container {\n",
              "      display:flex;\n",
              "      flex-wrap:wrap;\n",
              "      gap: 12px;\n",
              "    }\n",
              "\n",
              "    .colab-df-convert {\n",
              "      background-color: #E8F0FE;\n",
              "      border: none;\n",
              "      border-radius: 50%;\n",
              "      cursor: pointer;\n",
              "      display: none;\n",
              "      fill: #1967D2;\n",
              "      height: 32px;\n",
              "      padding: 0 0 0 0;\n",
              "      width: 32px;\n",
              "    }\n",
              "\n",
              "    .colab-df-convert:hover {\n",
              "      background-color: #E2EBFA;\n",
              "      box-shadow: 0px 1px 2px rgba(60, 64, 67, 0.3), 0px 1px 3px 1px rgba(60, 64, 67, 0.15);\n",
              "      fill: #174EA6;\n",
              "    }\n",
              "\n",
              "    [theme=dark] .colab-df-convert {\n",
              "      background-color: #3B4455;\n",
              "      fill: #D2E3FC;\n",
              "    }\n",
              "\n",
              "    [theme=dark] .colab-df-convert:hover {\n",
              "      background-color: #434B5C;\n",
              "      box-shadow: 0px 1px 3px 1px rgba(0, 0, 0, 0.15);\n",
              "      filter: drop-shadow(0px 1px 2px rgba(0, 0, 0, 0.3));\n",
              "      fill: #FFFFFF;\n",
              "    }\n",
              "  </style>\n",
              "\n",
              "      <script>\n",
              "        const buttonEl =\n",
              "          document.querySelector('#df-05a8344b-88fe-4617-b6a9-cf95986e9326 button.colab-df-convert');\n",
              "        buttonEl.style.display =\n",
              "          google.colab.kernel.accessAllowed ? 'block' : 'none';\n",
              "\n",
              "        async function convertToInteractive(key) {\n",
              "          const element = document.querySelector('#df-05a8344b-88fe-4617-b6a9-cf95986e9326');\n",
              "          const dataTable =\n",
              "            await google.colab.kernel.invokeFunction('convertToInteractive',\n",
              "                                                     [key], {});\n",
              "          if (!dataTable) return;\n",
              "\n",
              "          const docLinkHtml = 'Like what you see? Visit the ' +\n",
              "            '<a target=\"_blank\" href=https://colab.research.google.com/notebooks/data_table.ipynb>data table notebook</a>'\n",
              "            + ' to learn more about interactive tables.';\n",
              "          element.innerHTML = '';\n",
              "          dataTable['output_type'] = 'display_data';\n",
              "          await google.colab.output.renderOutput(dataTable, element);\n",
              "          const docLink = document.createElement('div');\n",
              "          docLink.innerHTML = docLinkHtml;\n",
              "          element.appendChild(docLink);\n",
              "        }\n",
              "      </script>\n",
              "    </div>\n",
              "  </div>\n",
              "  "
            ]
          },
          "metadata": {},
          "execution_count": 11
        }
      ]
    },
    {
      "cell_type": "markdown",
      "source": [
        "Find out columns containing nulls and printing their corresponding counts.\n",
        "Save the column names with less than 1% of nulls"
      ],
      "metadata": {
        "id": "Ej31FOWQ_VwT"
      }
    },
    {
      "cell_type": "code",
      "source": [
        "# Code to find columns with Null/NAN/NaT values\n",
        "nan_cols = OriginalDF.loc[:,OriginalDF.isna().any(axis=0)].columns\n",
        "col_null_count = {}\n",
        "drop_col = []\n",
        "print('Null count column wise-\\n')\n",
        "for col in nan_cols:\n",
        "  col_null_count[col] = OriginalDF[col].isna().sum()\n",
        "  if OriginalDF[col].isna().sum() <= 0.01*original_rows:\n",
        "    drop_col.append(col)\n",
        "  print(col,\":\",OriginalDF[col].isna().sum())"
      ],
      "metadata": {
        "id": "l_YmN_eDdzR3",
        "colab": {
          "base_uri": "https://localhost:8080/"
        },
        "outputId": "885b2f2b-17c6-4c07-889e-e44721eae272"
      },
      "execution_count": 12,
      "outputs": [
        {
          "output_type": "stream",
          "name": "stdout",
          "text": [
            "Null count column wise-\n",
            "\n",
            "ADDR_PCT_CD : 20\n",
            "BORO_NM : 657\n",
            "HADEVELOPT : 395756\n",
            "HOUSING_PSA : 371512\n",
            "LOC_OF_OCCUR_DESC : 66081\n",
            "OFNS_DESC : 5\n",
            "PARKS_NM : 394295\n",
            "PATROL_BORO : 2\n",
            "PD_CD : 440\n",
            "PD_DESC : 440\n",
            "PREM_TYP_DESC : 476\n",
            "STATION_NAME : 388677\n",
            "SUSP_AGE_GROUP : 73528\n",
            "SUSP_RACE : 73528\n",
            "SUSP_SEX : 73528\n",
            "TRANSIT_DISTRICT : 388677\n",
            "VIC_RACE : 104\n",
            "X_COORD_CD : 9\n",
            "Y_COORD_CD : 9\n",
            "Latitude : 9\n",
            "Longitude : 9\n",
            "Lat_Lon : 9\n",
            "New Georeferenced Column : 9\n",
            "CMPLNT_FR_DT_TS : 6\n",
            "CMPLNT_TO_DT_TS : 29529\n"
          ]
        }
      ]
    },
    {
      "cell_type": "markdown",
      "source": [
        "Drop columns with less than 1% nulls"
      ],
      "metadata": {
        "id": "KxPeY3U4_s0Z"
      }
    },
    {
      "cell_type": "code",
      "source": [
        "null_dropDF = OriginalDF.dropna(subset=drop_col)"
      ],
      "metadata": {
        "id": "KwxHIK8hl2XH"
      },
      "execution_count": 13,
      "outputs": []
    },
    {
      "cell_type": "markdown",
      "source": [
        "Shape of dataframe after dropping the columns"
      ],
      "metadata": {
        "id": "MrxYj9c8_zRl"
      }
    },
    {
      "cell_type": "code",
      "source": [
        "null_drop_rows, null_drop_cols = null_dropDF.shape"
      ],
      "metadata": {
        "id": "TMYW-rh-mXYF"
      },
      "execution_count": 14,
      "outputs": []
    },
    {
      "cell_type": "markdown",
      "source": [
        "Check to see how many rows were dropped"
      ],
      "metadata": {
        "id": "Zk31qP3X_4t8"
      }
    },
    {
      "cell_type": "code",
      "source": [
        "print(\"Number of rows dropped = \",original_rows-null_drop_rows)"
      ],
      "metadata": {
        "id": "A9kphJ-QmZG9",
        "colab": {
          "base_uri": "https://localhost:8080/"
        },
        "outputId": "e11f5a53-3a1f-4ced-eca4-d29b0af1597a"
      },
      "execution_count": 15,
      "outputs": [
        {
          "output_type": "stream",
          "name": "stdout",
          "text": [
            "Number of rows dropped =  1478\n"
          ]
        }
      ]
    },
    {
      "cell_type": "markdown",
      "source": [
        "Display the dataframe information"
      ],
      "metadata": {
        "id": "LcAro-2S_8EV"
      }
    },
    {
      "cell_type": "code",
      "source": [
        "null_dropDF.info()"
      ],
      "metadata": {
        "id": "jFedqBTopkTO",
        "colab": {
          "base_uri": "https://localhost:8080/"
        },
        "outputId": "117d7cbe-14c0-4f82-a1e4-cc8fa67176ef"
      },
      "execution_count": 16,
      "outputs": [
        {
          "output_type": "stream",
          "name": "stdout",
          "text": [
            "<class 'pandas.core.frame.DataFrame'>\n",
            "Int64Index: 395500 entries, 0 to 396976\n",
            "Data columns (total 34 columns):\n",
            " #   Column                    Non-Null Count   Dtype         \n",
            "---  ------                    --------------   -----         \n",
            " 0   CMPLNT_NUM                395500 non-null  object        \n",
            " 1   ADDR_PCT_CD               395500 non-null  float64       \n",
            " 2   BORO_NM                   395500 non-null  object        \n",
            " 3   CRM_ATPT_CPTD_CD          395500 non-null  object        \n",
            " 4   HADEVELOPT                1222 non-null    object        \n",
            " 5   HOUSING_PSA               25415 non-null   float64       \n",
            " 6   JURISDICTION_CODE         395500 non-null  int64         \n",
            " 7   JURIS_DESC                395500 non-null  object        \n",
            " 8   KY_CD                     395500 non-null  int64         \n",
            " 9   LAW_CAT_CD                395500 non-null  object        \n",
            " 10  LOC_OF_OCCUR_DESC         330150 non-null  object        \n",
            " 11  OFNS_DESC                 395500 non-null  object        \n",
            " 12  PARKS_NM                  2626 non-null    object        \n",
            " 13  PATROL_BORO               395500 non-null  object        \n",
            " 14  PD_CD                     395500 non-null  float64       \n",
            " 15  PD_DESC                   395500 non-null  object        \n",
            " 16  PREM_TYP_DESC             395500 non-null  object        \n",
            " 17  RPT_DT                    395500 non-null  datetime64[ns]\n",
            " 18  STATION_NAME              8256 non-null    object        \n",
            " 19  SUSP_AGE_GROUP            322808 non-null  object        \n",
            " 20  SUSP_RACE                 322808 non-null  object        \n",
            " 21  SUSP_SEX                  322808 non-null  object        \n",
            " 22  TRANSIT_DISTRICT          8256 non-null    float64       \n",
            " 23  VIC_AGE_GROUP             395500 non-null  object        \n",
            " 24  VIC_RACE                  395500 non-null  object        \n",
            " 25  VIC_SEX                   395500 non-null  object        \n",
            " 26  X_COORD_CD                395500 non-null  float64       \n",
            " 27  Y_COORD_CD                395500 non-null  float64       \n",
            " 28  Latitude                  395500 non-null  float64       \n",
            " 29  Longitude                 395500 non-null  float64       \n",
            " 30  Lat_Lon                   395500 non-null  object        \n",
            " 31  New Georeferenced Column  395500 non-null  object        \n",
            " 32  CMPLNT_FR_DT_TS           395500 non-null  datetime64[ns]\n",
            " 33  CMPLNT_TO_DT_TS           366887 non-null  datetime64[ns]\n",
            "dtypes: datetime64[ns](3), float64(8), int64(2), object(21)\n",
            "memory usage: 105.6+ MB\n"
          ]
        }
      ]
    },
    {
      "cell_type": "markdown",
      "source": [
        "Display columns with null and their null counts"
      ],
      "metadata": {
        "id": "XOfbpIaaAEPN"
      }
    },
    {
      "cell_type": "code",
      "source": [
        "for col in null_dropDF:\n",
        "  if null_dropDF[col].isna().sum():\n",
        "    print(col,\":\",null_dropDF[col].isna().sum())"
      ],
      "metadata": {
        "id": "Bd1ChOc3kzOY",
        "colab": {
          "base_uri": "https://localhost:8080/"
        },
        "outputId": "dc3e5a72-93c5-45c6-bc1d-7b0dd1b151e0"
      },
      "execution_count": 17,
      "outputs": [
        {
          "output_type": "stream",
          "name": "stdout",
          "text": [
            "HADEVELOPT : 394278\n",
            "HOUSING_PSA : 370085\n",
            "LOC_OF_OCCUR_DESC : 65350\n",
            "PARKS_NM : 392874\n",
            "STATION_NAME : 387244\n",
            "SUSP_AGE_GROUP : 72692\n",
            "SUSP_RACE : 72692\n",
            "SUSP_SEX : 72692\n",
            "TRANSIT_DISTRICT : 387244\n",
            "CMPLNT_TO_DT_TS : 28613\n"
          ]
        }
      ]
    },
    {
      "cell_type": "markdown",
      "source": [
        "Dropping columns with mostly null values as they are not important for our work"
      ],
      "metadata": {
        "id": "J_ilTr46AYMj"
      }
    },
    {
      "cell_type": "code",
      "source": [
        "col_to_drop = ['HADEVELOPT','HOUSING_PSA','LOC_OF_OCCUR_DESC','PARKS_NM','STATION_NAME','TRANSIT_DISTRICT']\n",
        "null_dropDF = null_dropDF.drop(columns=col_to_drop, axis = 1)"
      ],
      "metadata": {
        "id": "Z4QhuB3NgFwt"
      },
      "execution_count": 18,
      "outputs": []
    },
    {
      "cell_type": "markdown",
      "source": [
        "Cleaning the suspect age, suspect race and suspect age group column by replacing null values with Unknown"
      ],
      "metadata": {
        "id": "Il8NUksvAiZt"
      }
    },
    {
      "cell_type": "code",
      "source": [
        "null_dropDF['SUSP_SEX'] = null_dropDF['SUSP_SEX'].replace(np.nan, \"Unknown\")\n",
        "null_dropDF['SUSP_RACE'] = null_dropDF['SUSP_RACE'].replace(np.nan, \"Unknown\")\n",
        "null_dropDF['SUSP_SEX'] = null_dropDF['SUSP_SEX'].replace('UNKNOWN', \"Unknown\")\n",
        "null_dropDF['SUSP_RACE'] = null_dropDF['SUSP_RACE'].replace('UNKNOWN', \"Unknown\")\n",
        "null_dropDF['SUSP_AGE_GROUP'] = null_dropDF['SUSP_AGE_GROUP'].replace(np.nan, \"Unknown\")"
      ],
      "metadata": {
        "id": "o5FKQXUzgV9t"
      },
      "execution_count": 19,
      "outputs": []
    },
    {
      "cell_type": "markdown",
      "source": [
        "Check for columns that still has nulls"
      ],
      "metadata": {
        "id": "P9tFPjYTAxO5"
      }
    },
    {
      "cell_type": "code",
      "source": [
        "for col in null_dropDF:\n",
        "  if null_dropDF[col].isna().sum():\n",
        "    print(col,\":\",null_dropDF[col].isna().sum())"
      ],
      "metadata": {
        "id": "x9NfXbREkROr",
        "colab": {
          "base_uri": "https://localhost:8080/"
        },
        "outputId": "7c5f4067-2ded-4506-f4dc-7a5a331f4dbe"
      },
      "execution_count": 20,
      "outputs": [
        {
          "output_type": "stream",
          "name": "stdout",
          "text": [
            "CMPLNT_TO_DT_TS : 28613\n"
          ]
        }
      ]
    },
    {
      "cell_type": "markdown",
      "source": [
        "Handling nulls and creating a new column with approximate complaint date and time"
      ],
      "metadata": {
        "id": "INftm0INA5Qq"
      }
    },
    {
      "cell_type": "code",
      "source": [
        "null_dropDF['CMPLNT_DT_TS'] = null_dropDF['CMPLNT_TO_DT_TS']\n",
        "null_dropDF['CMPLNT_DT_TS'] = null_dropDF['CMPLNT_DT_TS'].fillna(null_dropDF['CMPLNT_FR_DT_TS'])\n",
        "null_dropDF['CMPLNT_DT_TS'] = null_dropDF['CMPLNT_FR_DT_TS'] + (null_dropDF['CMPLNT_DT_TS'].subtract(null_dropDF['CMPLNT_FR_DT_TS']))/2"
      ],
      "metadata": {
        "id": "GmzFa-3QNR4v"
      },
      "execution_count": 21,
      "outputs": []
    },
    {
      "cell_type": "markdown",
      "source": [
        "Check to see if any nulls are remaining or not"
      ],
      "metadata": {
        "id": "rXShMyzYBFXx"
      }
    },
    {
      "cell_type": "code",
      "source": [
        "for col in null_dropDF:\n",
        "  if null_dropDF[col].isna().sum():\n",
        "    print(col,\":\",null_dropDF[col].isna().sum())"
      ],
      "metadata": {
        "id": "XlMqzntZOnIv",
        "colab": {
          "base_uri": "https://localhost:8080/"
        },
        "outputId": "620e1928-2b5c-4a6e-9d19-9ee039fa0d7d"
      },
      "execution_count": 22,
      "outputs": [
        {
          "output_type": "stream",
          "name": "stdout",
          "text": [
            "CMPLNT_TO_DT_TS : 28613\n"
          ]
        }
      ]
    },
    {
      "cell_type": "markdown",
      "source": [
        "Cleaning the data to drop all dubious dates, any date which is not from year 2022 as the data is for the year 2022"
      ],
      "metadata": {
        "id": "vtooOSpBBJy2"
      }
    },
    {
      "cell_type": "code",
      "source": [
        "# Drop non 2022 dates\n",
        "null_dropDF = null_dropDF[null_dropDF['CMPLNT_FR_DT_TS'].dt.year == 2022]\n",
        "null_dropDF = null_dropDF.drop(columns=['CMPLNT_FR_DT_TS','CMPLNT_TO_DT_TS'], axis = 1)"
      ],
      "metadata": {
        "id": "MA2DQhPy4oKp"
      },
      "execution_count": 23,
      "outputs": []
    },
    {
      "cell_type": "markdown",
      "source": [
        "Checking the suspect age group column for incorrect values"
      ],
      "metadata": {
        "id": "8lZ9B8M_C6w1"
      }
    },
    {
      "cell_type": "code",
      "source": [
        "null_dropDF.SUSP_AGE_GROUP.unique()"
      ],
      "metadata": {
        "id": "hfe4ztnU13Ef",
        "colab": {
          "base_uri": "https://localhost:8080/"
        },
        "outputId": "37db6983-9677-4201-a0e0-b762cc403e01"
      },
      "execution_count": 24,
      "outputs": [
        {
          "output_type": "execute_result",
          "data": {
            "text/plain": [
              "array(['25-44', 'UNKNOWN', '45-64', '18-24', 'Unknown', '65+', '<18',\n",
              "       '-969', '2022', '-1', '-5962', '-961', '-10', '-941', '-47', '956',\n",
              "       '-66', '-65', '-3'], dtype=object)"
            ]
          },
          "metadata": {},
          "execution_count": 24
        }
      ]
    },
    {
      "cell_type": "markdown",
      "source": [
        "Replacing the incorrect values with unknowns"
      ],
      "metadata": {
        "id": "NoM_yxE_DAzS"
      }
    },
    {
      "cell_type": "code",
      "source": [
        "null_dropDF.loc[~null_dropDF[\"SUSP_AGE_GROUP\"].isin(['25-44','Unknown','45-64','18-24','<18','65+']), \"SUSP_AGE_GROUP\"] = \"Unknown\""
      ],
      "metadata": {
        "id": "e6OTOAYP0p1S"
      },
      "execution_count": 25,
      "outputs": []
    },
    {
      "cell_type": "markdown",
      "source": [
        "Check to see if the column is clean"
      ],
      "metadata": {
        "id": "m2eNs_feDK15"
      }
    },
    {
      "cell_type": "code",
      "source": [
        "null_dropDF.SUSP_AGE_GROUP.unique()"
      ],
      "metadata": {
        "id": "MBx7Wz0W2i6K",
        "colab": {
          "base_uri": "https://localhost:8080/"
        },
        "outputId": "1629aee2-8dc2-4f55-aef9-c4637f14d6d3"
      },
      "execution_count": 26,
      "outputs": [
        {
          "output_type": "execute_result",
          "data": {
            "text/plain": [
              "array(['25-44', 'Unknown', '45-64', '18-24', '65+', '<18'], dtype=object)"
            ]
          },
          "metadata": {},
          "execution_count": 26
        }
      ]
    },
    {
      "cell_type": "markdown",
      "source": [
        "Checking for incorrect values in suspect sex column"
      ],
      "metadata": {
        "id": "mD0TyTd2DP3S"
      }
    },
    {
      "cell_type": "code",
      "source": [
        "null_dropDF.SUSP_SEX.unique()"
      ],
      "metadata": {
        "id": "e_82d2aj2kJr",
        "colab": {
          "base_uri": "https://localhost:8080/"
        },
        "outputId": "12e28711-124d-4000-e22e-adc92b1b8cda"
      },
      "execution_count": 27,
      "outputs": [
        {
          "output_type": "execute_result",
          "data": {
            "text/plain": [
              "array(['M', 'U', 'F', 'Unknown'], dtype=object)"
            ]
          },
          "metadata": {},
          "execution_count": 27
        }
      ]
    },
    {
      "cell_type": "code",
      "source": [
        "null_dropDF['SUSP_SEX'] = null_dropDF['SUSP_SEX'].replace('U', \"Unknown\")"
      ],
      "metadata": {
        "id": "FZCVVUq1w0EZ"
      },
      "execution_count": 28,
      "outputs": []
    },
    {
      "cell_type": "markdown",
      "source": [
        "Check to see if column is clean"
      ],
      "metadata": {
        "id": "x7eTctuSBU5P"
      }
    },
    {
      "cell_type": "code",
      "source": [
        "null_dropDF.SUSP_SEX.unique()"
      ],
      "metadata": {
        "id": "JS0KtmwWBTvg",
        "colab": {
          "base_uri": "https://localhost:8080/"
        },
        "outputId": "87d290bd-72ad-4fda-895b-e3b5dab6e9f0"
      },
      "execution_count": 29,
      "outputs": [
        {
          "output_type": "execute_result",
          "data": {
            "text/plain": [
              "array(['M', 'Unknown', 'F'], dtype=object)"
            ]
          },
          "metadata": {},
          "execution_count": 29
        }
      ]
    },
    {
      "cell_type": "markdown",
      "source": [
        "Checking for incorrect values in suspect race column"
      ],
      "metadata": {
        "id": "FvdMUCnsDUuM"
      }
    },
    {
      "cell_type": "code",
      "source": [
        "null_dropDF.SUSP_RACE.unique()"
      ],
      "metadata": {
        "id": "0_BsQSTK2zj-",
        "colab": {
          "base_uri": "https://localhost:8080/"
        },
        "outputId": "f4f7b950-6ab6-4717-e9f6-7a1586663913"
      },
      "execution_count": 30,
      "outputs": [
        {
          "output_type": "execute_result",
          "data": {
            "text/plain": [
              "array(['BLACK', 'Unknown', 'WHITE HISPANIC', 'ASIAN / PACIFIC ISLANDER',\n",
              "       'WHITE', 'AMERICAN INDIAN/ALASKAN NATIVE', 'BLACK HISPANIC'],\n",
              "      dtype=object)"
            ]
          },
          "metadata": {},
          "execution_count": 30
        }
      ]
    },
    {
      "cell_type": "markdown",
      "source": [
        "Read Precinct data containing precinct locations from drive and reverse geocode to find corresponding zip codes in a new column\n",
        "\n",
        "Store the new file as precinct-data.csv"
      ],
      "metadata": {
        "id": "DCESUkA0BReG"
      }
    },
    {
      "cell_type": "code",
      "source": [
        "#Find zipcodes for precincts\n",
        "precinctDF = pd.read_csv(os.path.join(cur_dir, data_dir, 'precinct-data-without-zips.csv'))\n",
        "#Too slow for large datasets, use uszipcodes instead\n",
        "import geopy\n",
        "from geopy.extra.rate_limiter import RateLimiter\n",
        "import pandas as pd\n",
        "\n",
        "from tqdm import tqdm\n",
        "tqdm.pandas()\n",
        "\n",
        "\n",
        "def get_zipcode(df, geolocator, lat_field, lon_field):\n",
        "    location = geolocator((df[lat_field], df[lon_field]))\n",
        "    return location.raw['address']['postcode']\n",
        "\n",
        "\n",
        "geolocator = geopy.Nominatim(user_agent='my-application-nyc-crime', timeout = 120)\n",
        "rgeocode = RateLimiter(geolocator.reverse, min_delay_seconds=0.01)\n",
        "\n",
        "total = len(precinctDF.index)\n",
        "max_count = 2000\n",
        "start = 0\n",
        "precinctDF['PCT_zipcode'] = np.zeros(total)\n",
        "while start < total:\n",
        "  zipcodes = precinctDF.iloc[start:min(start+max_count, total), :].progress_apply(get_zipcode, axis=1, geolocator=rgeocode, lat_field='PCT_Latitude', lon_field='PCT_Longitude')\n",
        "  precinctDF.iloc[:, precinctDF.columns.get_loc('PCT_zipcode')] = zipcodes\n",
        "  precinctDF.to_csv(os.path.join(cur_dir, data_dir, 'precinct_data.csv'))\n",
        "  start += max_count\n"
      ],
      "metadata": {
        "id": "RJZIvIMfGDg7",
        "colab": {
          "base_uri": "https://localhost:8080/"
        },
        "outputId": "eaab2fe4-0954-4f51-c8c4-6d6454e31f1d"
      },
      "execution_count": 31,
      "outputs": [
        {
          "output_type": "stream",
          "name": "stderr",
          "text": [
            "100%|██████████| 77/77 [00:44<00:00,  1.74it/s]\n"
          ]
        }
      ]
    },
    {
      "cell_type": "code",
      "source": [
        "precinctDF.info()"
      ],
      "metadata": {
        "colab": {
          "base_uri": "https://localhost:8080/"
        },
        "id": "MXwVnJYmZV24",
        "outputId": "4e857bd6-918c-434c-b5d2-167ce14620b3"
      },
      "execution_count": 32,
      "outputs": [
        {
          "output_type": "stream",
          "name": "stdout",
          "text": [
            "<class 'pandas.core.frame.DataFrame'>\n",
            "RangeIndex: 77 entries, 0 to 76\n",
            "Data columns (total 6 columns):\n",
            " #   Column         Non-Null Count  Dtype  \n",
            "---  ------         --------------  -----  \n",
            " 0   ADDR_PCT_CD    77 non-null     int64  \n",
            " 1   ADDR_PCT_LOC   77 non-null     object \n",
            " 2   PCT_Latitude   77 non-null     float64\n",
            " 3   PCT_Longitude  77 non-null     float64\n",
            " 4   PCT-address    77 non-null     object \n",
            " 5   PCT_zipcode    77 non-null     object \n",
            "dtypes: float64(2), int64(1), object(3)\n",
            "memory usage: 3.7+ KB\n"
          ]
        }
      ]
    },
    {
      "cell_type": "markdown",
      "source": [
        "Merge precinct information with our main crime dataframe"
      ],
      "metadata": {
        "id": "LGMdl8x3CVtp"
      }
    },
    {
      "cell_type": "code",
      "source": [
        "augmentedDF = null_dropDF.merge(precinctDF, how='left', on='ADDR_PCT_CD')"
      ],
      "metadata": {
        "id": "MgVS7Q0XzaLy"
      },
      "execution_count": 33,
      "outputs": []
    },
    {
      "cell_type": "markdown",
      "source": [
        "Displaying the merged dataframe"
      ],
      "metadata": {
        "id": "st6GHiBNCbgZ"
      }
    },
    {
      "cell_type": "code",
      "source": [
        "augmentedDF"
      ],
      "metadata": {
        "colab": {
          "base_uri": "https://localhost:8080/",
          "height": 939
        },
        "id": "ELgPLCNjz_Lu",
        "outputId": "300013c9-de7b-4b4c-e04c-78c815890bd8"
      },
      "execution_count": 34,
      "outputs": [
        {
          "output_type": "execute_result",
          "data": {
            "text/plain": [
              "       CMPLNT_NUM  ADDR_PCT_CD    BORO_NM CRM_ATPT_CPTD_CD  JURISDICTION_CODE  \\\n",
              "0       247853895         43.0      BRONX        COMPLETED                  0   \n",
              "1       238607919         63.0   BROOKLYN        COMPLETED                  0   \n",
              "2       238514185         48.0      BRONX        COMPLETED                  0   \n",
              "3       241872038         23.0  MANHATTAN        COMPLETED                  0   \n",
              "4       238514085         25.0  MANHATTAN        ATTEMPTED                  0   \n",
              "...           ...          ...        ...              ...                ...   \n",
              "385368  251841822         25.0  MANHATTAN        COMPLETED                  0   \n",
              "385369  251818673         46.0      BRONX        COMPLETED                  0   \n",
              "385370  251891178         94.0   BROOKLYN        COMPLETED                  0   \n",
              "385371  251788586         79.0   BROOKLYN        COMPLETED                  2   \n",
              "385372  251833912         70.0   BROOKLYN        COMPLETED                  0   \n",
              "\n",
              "                 JURIS_DESC  KY_CD   LAW_CAT_CD  \\\n",
              "0          N.Y. POLICE DEPT    105       FELONY   \n",
              "1          N.Y. POLICE DEPT    341  MISDEMEANOR   \n",
              "2          N.Y. POLICE DEPT    106       FELONY   \n",
              "3          N.Y. POLICE DEPT    351  MISDEMEANOR   \n",
              "4          N.Y. POLICE DEPT    106       FELONY   \n",
              "...                     ...    ...          ...   \n",
              "385368     N.Y. POLICE DEPT    113       FELONY   \n",
              "385369     N.Y. POLICE DEPT    578    VIOLATION   \n",
              "385370     N.Y. POLICE DEPT    341  MISDEMEANOR   \n",
              "385371  N.Y. HOUSING POLICE    118       FELONY   \n",
              "385372     N.Y. POLICE DEPT    344  MISDEMEANOR   \n",
              "\n",
              "                             OFNS_DESC              PATROL_BORO  ...  \\\n",
              "0                              ROBBERY        PATROL BORO BRONX  ...   \n",
              "1                        PETIT LARCENY  PATROL BORO BKLYN SOUTH  ...   \n",
              "2                       FELONY ASSAULT        PATROL BORO BRONX  ...   \n",
              "3       CRIMINAL MISCHIEF & RELATED OF    PATROL BORO MAN NORTH  ...   \n",
              "4                       FELONY ASSAULT    PATROL BORO MAN NORTH  ...   \n",
              "...                                ...                      ...  ...   \n",
              "385368                         FORGERY    PATROL BORO MAN NORTH  ...   \n",
              "385369                   HARRASSMENT 2        PATROL BORO BRONX  ...   \n",
              "385370                   PETIT LARCENY  PATROL BORO BKLYN NORTH  ...   \n",
              "385371               DANGEROUS WEAPONS  PATROL BORO BKLYN NORTH  ...   \n",
              "385372    ASSAULT 3 & RELATED OFFENSES  PATROL BORO BKLYN SOUTH  ...   \n",
              "\n",
              "         Latitude  Longitude                                Lat_Lon  \\\n",
              "0       40.833567 -73.861118                (40.833567, -73.861118)   \n",
              "1       40.634565 -73.928086                (40.634565, -73.928086)   \n",
              "2       40.844157 -73.900605  (40.8441566000203, -73.9006054489734)   \n",
              "3       40.793971 -73.938444                (40.793971, -73.938444)   \n",
              "4       40.800930 -73.941098  (40.8009303727402, -73.9410982410066)   \n",
              "...           ...        ...                                    ...   \n",
              "385368  40.798152 -73.938401                (40.798152, -73.938401)   \n",
              "385369  40.851308 -73.902116                (40.851308, -73.902116)   \n",
              "385370  40.714880 -73.944444                 (40.71488, -73.944444)   \n",
              "385371  40.698381 -73.942550                 (40.698381, -73.94255)   \n",
              "385372  40.637378 -73.949109                (40.637378, -73.949109)   \n",
              "\n",
              "                          New Georeferenced Column        CMPLNT_DT_TS  \\\n",
              "0                     POINT (-73.861118 40.833567) 2022-07-11 09:09:00   \n",
              "1                     POINT (-73.928086 40.634565) 2022-01-01 04:15:00   \n",
              "2       POINT (-73.9006054489734 40.8441566000203) 2022-01-01 03:07:30   \n",
              "3                     POINT (-73.938444 40.793971) 2022-02-02 01:02:00   \n",
              "4       POINT (-73.9410982410066 40.8009303727402) 2022-01-01 06:14:30   \n",
              "...                                            ...                 ...   \n",
              "385368                POINT (-73.938401 40.798152) 2022-09-30 14:13:00   \n",
              "385369                POINT (-73.902116 40.851308) 2022-09-29 08:37:30   \n",
              "385370                 POINT (-73.944444 40.71488) 2022-09-30 22:58:30   \n",
              "385371                 POINT (-73.94255 40.698381) 2022-09-29 16:16:30   \n",
              "385372                POINT (-73.949109 40.637378) 2022-09-30 12:02:30   \n",
              "\n",
              "                                    ADDR_PCT_LOC PCT_Latitude PCT_Longitude  \\\n",
              "0        (40.82299324573377, -73.86990943617741)    40.822993    -73.869909   \n",
              "1       (40.627969331628634, -73.94152894923569)    40.627969    -73.941529   \n",
              "2        (40.84400802199871, -73.90030866906812)    40.844008    -73.900309   \n",
              "3       (40.789088921183804, -73.94706617110121)    40.789089    -73.947066   \n",
              "4          (40.80082374124075, -73.941057477156)    40.800824    -73.941057   \n",
              "...                                          ...          ...           ...   \n",
              "385368     (40.80082374124075, -73.941057477156)    40.800824    -73.941057   \n",
              "385369   (40.85404540190827, -73.90024412407934)    40.854045    -73.900244   \n",
              "385370  (40.726804854812265, -73.95327696674485)    40.726805    -73.953277   \n",
              "385371   (40.68882259530989, -73.94484450097922)    40.688823    -73.944845   \n",
              "385372   (40.63047594824568, -73.97374760254756)    40.630476    -73.973748   \n",
              "\n",
              "                       PCT-address PCT_zipcode  \n",
              "0                900 Fteley Avenue       10473  \n",
              "1             1844 Brooklyn Avenue       11210  \n",
              "2       450 Cross Bronx Expressway       10457  \n",
              "3            164 East 102nd Street       10029  \n",
              "4            120 East 119th Street       10035  \n",
              "...                            ...         ...  \n",
              "385368       120 East 119th Street       10035  \n",
              "385369            2120 Ryer Avenue       10457  \n",
              "385370         100 Meserole Avenue       11222  \n",
              "385371         263 Tompkins Avenue       11216  \n",
              "385372         154 Lawrence Avenue       11230  \n",
              "\n",
              "[385373 rows x 32 columns]"
            ],
            "text/html": [
              "\n",
              "  <div id=\"df-adc55a3a-89e7-4542-9c3e-1d7882ceb1fe\">\n",
              "    <div class=\"colab-df-container\">\n",
              "      <div>\n",
              "<style scoped>\n",
              "    .dataframe tbody tr th:only-of-type {\n",
              "        vertical-align: middle;\n",
              "    }\n",
              "\n",
              "    .dataframe tbody tr th {\n",
              "        vertical-align: top;\n",
              "    }\n",
              "\n",
              "    .dataframe thead th {\n",
              "        text-align: right;\n",
              "    }\n",
              "</style>\n",
              "<table border=\"1\" class=\"dataframe\">\n",
              "  <thead>\n",
              "    <tr style=\"text-align: right;\">\n",
              "      <th></th>\n",
              "      <th>CMPLNT_NUM</th>\n",
              "      <th>ADDR_PCT_CD</th>\n",
              "      <th>BORO_NM</th>\n",
              "      <th>CRM_ATPT_CPTD_CD</th>\n",
              "      <th>JURISDICTION_CODE</th>\n",
              "      <th>JURIS_DESC</th>\n",
              "      <th>KY_CD</th>\n",
              "      <th>LAW_CAT_CD</th>\n",
              "      <th>OFNS_DESC</th>\n",
              "      <th>PATROL_BORO</th>\n",
              "      <th>...</th>\n",
              "      <th>Latitude</th>\n",
              "      <th>Longitude</th>\n",
              "      <th>Lat_Lon</th>\n",
              "      <th>New Georeferenced Column</th>\n",
              "      <th>CMPLNT_DT_TS</th>\n",
              "      <th>ADDR_PCT_LOC</th>\n",
              "      <th>PCT_Latitude</th>\n",
              "      <th>PCT_Longitude</th>\n",
              "      <th>PCT-address</th>\n",
              "      <th>PCT_zipcode</th>\n",
              "    </tr>\n",
              "  </thead>\n",
              "  <tbody>\n",
              "    <tr>\n",
              "      <th>0</th>\n",
              "      <td>247853895</td>\n",
              "      <td>43.0</td>\n",
              "      <td>BRONX</td>\n",
              "      <td>COMPLETED</td>\n",
              "      <td>0</td>\n",
              "      <td>N.Y. POLICE DEPT</td>\n",
              "      <td>105</td>\n",
              "      <td>FELONY</td>\n",
              "      <td>ROBBERY</td>\n",
              "      <td>PATROL BORO BRONX</td>\n",
              "      <td>...</td>\n",
              "      <td>40.833567</td>\n",
              "      <td>-73.861118</td>\n",
              "      <td>(40.833567, -73.861118)</td>\n",
              "      <td>POINT (-73.861118 40.833567)</td>\n",
              "      <td>2022-07-11 09:09:00</td>\n",
              "      <td>(40.82299324573377, -73.86990943617741)</td>\n",
              "      <td>40.822993</td>\n",
              "      <td>-73.869909</td>\n",
              "      <td>900 Fteley Avenue</td>\n",
              "      <td>10473</td>\n",
              "    </tr>\n",
              "    <tr>\n",
              "      <th>1</th>\n",
              "      <td>238607919</td>\n",
              "      <td>63.0</td>\n",
              "      <td>BROOKLYN</td>\n",
              "      <td>COMPLETED</td>\n",
              "      <td>0</td>\n",
              "      <td>N.Y. POLICE DEPT</td>\n",
              "      <td>341</td>\n",
              "      <td>MISDEMEANOR</td>\n",
              "      <td>PETIT LARCENY</td>\n",
              "      <td>PATROL BORO BKLYN SOUTH</td>\n",
              "      <td>...</td>\n",
              "      <td>40.634565</td>\n",
              "      <td>-73.928086</td>\n",
              "      <td>(40.634565, -73.928086)</td>\n",
              "      <td>POINT (-73.928086 40.634565)</td>\n",
              "      <td>2022-01-01 04:15:00</td>\n",
              "      <td>(40.627969331628634, -73.94152894923569)</td>\n",
              "      <td>40.627969</td>\n",
              "      <td>-73.941529</td>\n",
              "      <td>1844 Brooklyn Avenue</td>\n",
              "      <td>11210</td>\n",
              "    </tr>\n",
              "    <tr>\n",
              "      <th>2</th>\n",
              "      <td>238514185</td>\n",
              "      <td>48.0</td>\n",
              "      <td>BRONX</td>\n",
              "      <td>COMPLETED</td>\n",
              "      <td>0</td>\n",
              "      <td>N.Y. POLICE DEPT</td>\n",
              "      <td>106</td>\n",
              "      <td>FELONY</td>\n",
              "      <td>FELONY ASSAULT</td>\n",
              "      <td>PATROL BORO BRONX</td>\n",
              "      <td>...</td>\n",
              "      <td>40.844157</td>\n",
              "      <td>-73.900605</td>\n",
              "      <td>(40.8441566000203, -73.9006054489734)</td>\n",
              "      <td>POINT (-73.9006054489734 40.8441566000203)</td>\n",
              "      <td>2022-01-01 03:07:30</td>\n",
              "      <td>(40.84400802199871, -73.90030866906812)</td>\n",
              "      <td>40.844008</td>\n",
              "      <td>-73.900309</td>\n",
              "      <td>450 Cross Bronx Expressway</td>\n",
              "      <td>10457</td>\n",
              "    </tr>\n",
              "    <tr>\n",
              "      <th>3</th>\n",
              "      <td>241872038</td>\n",
              "      <td>23.0</td>\n",
              "      <td>MANHATTAN</td>\n",
              "      <td>COMPLETED</td>\n",
              "      <td>0</td>\n",
              "      <td>N.Y. POLICE DEPT</td>\n",
              "      <td>351</td>\n",
              "      <td>MISDEMEANOR</td>\n",
              "      <td>CRIMINAL MISCHIEF &amp; RELATED OF</td>\n",
              "      <td>PATROL BORO MAN NORTH</td>\n",
              "      <td>...</td>\n",
              "      <td>40.793971</td>\n",
              "      <td>-73.938444</td>\n",
              "      <td>(40.793971, -73.938444)</td>\n",
              "      <td>POINT (-73.938444 40.793971)</td>\n",
              "      <td>2022-02-02 01:02:00</td>\n",
              "      <td>(40.789088921183804, -73.94706617110121)</td>\n",
              "      <td>40.789089</td>\n",
              "      <td>-73.947066</td>\n",
              "      <td>164 East 102nd Street</td>\n",
              "      <td>10029</td>\n",
              "    </tr>\n",
              "    <tr>\n",
              "      <th>4</th>\n",
              "      <td>238514085</td>\n",
              "      <td>25.0</td>\n",
              "      <td>MANHATTAN</td>\n",
              "      <td>ATTEMPTED</td>\n",
              "      <td>0</td>\n",
              "      <td>N.Y. POLICE DEPT</td>\n",
              "      <td>106</td>\n",
              "      <td>FELONY</td>\n",
              "      <td>FELONY ASSAULT</td>\n",
              "      <td>PATROL BORO MAN NORTH</td>\n",
              "      <td>...</td>\n",
              "      <td>40.800930</td>\n",
              "      <td>-73.941098</td>\n",
              "      <td>(40.8009303727402, -73.9410982410066)</td>\n",
              "      <td>POINT (-73.9410982410066 40.8009303727402)</td>\n",
              "      <td>2022-01-01 06:14:30</td>\n",
              "      <td>(40.80082374124075, -73.941057477156)</td>\n",
              "      <td>40.800824</td>\n",
              "      <td>-73.941057</td>\n",
              "      <td>120 East 119th Street</td>\n",
              "      <td>10035</td>\n",
              "    </tr>\n",
              "    <tr>\n",
              "      <th>...</th>\n",
              "      <td>...</td>\n",
              "      <td>...</td>\n",
              "      <td>...</td>\n",
              "      <td>...</td>\n",
              "      <td>...</td>\n",
              "      <td>...</td>\n",
              "      <td>...</td>\n",
              "      <td>...</td>\n",
              "      <td>...</td>\n",
              "      <td>...</td>\n",
              "      <td>...</td>\n",
              "      <td>...</td>\n",
              "      <td>...</td>\n",
              "      <td>...</td>\n",
              "      <td>...</td>\n",
              "      <td>...</td>\n",
              "      <td>...</td>\n",
              "      <td>...</td>\n",
              "      <td>...</td>\n",
              "      <td>...</td>\n",
              "      <td>...</td>\n",
              "    </tr>\n",
              "    <tr>\n",
              "      <th>385368</th>\n",
              "      <td>251841822</td>\n",
              "      <td>25.0</td>\n",
              "      <td>MANHATTAN</td>\n",
              "      <td>COMPLETED</td>\n",
              "      <td>0</td>\n",
              "      <td>N.Y. POLICE DEPT</td>\n",
              "      <td>113</td>\n",
              "      <td>FELONY</td>\n",
              "      <td>FORGERY</td>\n",
              "      <td>PATROL BORO MAN NORTH</td>\n",
              "      <td>...</td>\n",
              "      <td>40.798152</td>\n",
              "      <td>-73.938401</td>\n",
              "      <td>(40.798152, -73.938401)</td>\n",
              "      <td>POINT (-73.938401 40.798152)</td>\n",
              "      <td>2022-09-30 14:13:00</td>\n",
              "      <td>(40.80082374124075, -73.941057477156)</td>\n",
              "      <td>40.800824</td>\n",
              "      <td>-73.941057</td>\n",
              "      <td>120 East 119th Street</td>\n",
              "      <td>10035</td>\n",
              "    </tr>\n",
              "    <tr>\n",
              "      <th>385369</th>\n",
              "      <td>251818673</td>\n",
              "      <td>46.0</td>\n",
              "      <td>BRONX</td>\n",
              "      <td>COMPLETED</td>\n",
              "      <td>0</td>\n",
              "      <td>N.Y. POLICE DEPT</td>\n",
              "      <td>578</td>\n",
              "      <td>VIOLATION</td>\n",
              "      <td>HARRASSMENT 2</td>\n",
              "      <td>PATROL BORO BRONX</td>\n",
              "      <td>...</td>\n",
              "      <td>40.851308</td>\n",
              "      <td>-73.902116</td>\n",
              "      <td>(40.851308, -73.902116)</td>\n",
              "      <td>POINT (-73.902116 40.851308)</td>\n",
              "      <td>2022-09-29 08:37:30</td>\n",
              "      <td>(40.85404540190827, -73.90024412407934)</td>\n",
              "      <td>40.854045</td>\n",
              "      <td>-73.900244</td>\n",
              "      <td>2120 Ryer Avenue</td>\n",
              "      <td>10457</td>\n",
              "    </tr>\n",
              "    <tr>\n",
              "      <th>385370</th>\n",
              "      <td>251891178</td>\n",
              "      <td>94.0</td>\n",
              "      <td>BROOKLYN</td>\n",
              "      <td>COMPLETED</td>\n",
              "      <td>0</td>\n",
              "      <td>N.Y. POLICE DEPT</td>\n",
              "      <td>341</td>\n",
              "      <td>MISDEMEANOR</td>\n",
              "      <td>PETIT LARCENY</td>\n",
              "      <td>PATROL BORO BKLYN NORTH</td>\n",
              "      <td>...</td>\n",
              "      <td>40.714880</td>\n",
              "      <td>-73.944444</td>\n",
              "      <td>(40.71488, -73.944444)</td>\n",
              "      <td>POINT (-73.944444 40.71488)</td>\n",
              "      <td>2022-09-30 22:58:30</td>\n",
              "      <td>(40.726804854812265, -73.95327696674485)</td>\n",
              "      <td>40.726805</td>\n",
              "      <td>-73.953277</td>\n",
              "      <td>100 Meserole Avenue</td>\n",
              "      <td>11222</td>\n",
              "    </tr>\n",
              "    <tr>\n",
              "      <th>385371</th>\n",
              "      <td>251788586</td>\n",
              "      <td>79.0</td>\n",
              "      <td>BROOKLYN</td>\n",
              "      <td>COMPLETED</td>\n",
              "      <td>2</td>\n",
              "      <td>N.Y. HOUSING POLICE</td>\n",
              "      <td>118</td>\n",
              "      <td>FELONY</td>\n",
              "      <td>DANGEROUS WEAPONS</td>\n",
              "      <td>PATROL BORO BKLYN NORTH</td>\n",
              "      <td>...</td>\n",
              "      <td>40.698381</td>\n",
              "      <td>-73.942550</td>\n",
              "      <td>(40.698381, -73.94255)</td>\n",
              "      <td>POINT (-73.94255 40.698381)</td>\n",
              "      <td>2022-09-29 16:16:30</td>\n",
              "      <td>(40.68882259530989, -73.94484450097922)</td>\n",
              "      <td>40.688823</td>\n",
              "      <td>-73.944845</td>\n",
              "      <td>263 Tompkins Avenue</td>\n",
              "      <td>11216</td>\n",
              "    </tr>\n",
              "    <tr>\n",
              "      <th>385372</th>\n",
              "      <td>251833912</td>\n",
              "      <td>70.0</td>\n",
              "      <td>BROOKLYN</td>\n",
              "      <td>COMPLETED</td>\n",
              "      <td>0</td>\n",
              "      <td>N.Y. POLICE DEPT</td>\n",
              "      <td>344</td>\n",
              "      <td>MISDEMEANOR</td>\n",
              "      <td>ASSAULT 3 &amp; RELATED OFFENSES</td>\n",
              "      <td>PATROL BORO BKLYN SOUTH</td>\n",
              "      <td>...</td>\n",
              "      <td>40.637378</td>\n",
              "      <td>-73.949109</td>\n",
              "      <td>(40.637378, -73.949109)</td>\n",
              "      <td>POINT (-73.949109 40.637378)</td>\n",
              "      <td>2022-09-30 12:02:30</td>\n",
              "      <td>(40.63047594824568, -73.97374760254756)</td>\n",
              "      <td>40.630476</td>\n",
              "      <td>-73.973748</td>\n",
              "      <td>154 Lawrence Avenue</td>\n",
              "      <td>11230</td>\n",
              "    </tr>\n",
              "  </tbody>\n",
              "</table>\n",
              "<p>385373 rows × 32 columns</p>\n",
              "</div>\n",
              "      <button class=\"colab-df-convert\" onclick=\"convertToInteractive('df-adc55a3a-89e7-4542-9c3e-1d7882ceb1fe')\"\n",
              "              title=\"Convert this dataframe to an interactive table.\"\n",
              "              style=\"display:none;\">\n",
              "        \n",
              "  <svg xmlns=\"http://www.w3.org/2000/svg\" height=\"24px\"viewBox=\"0 0 24 24\"\n",
              "       width=\"24px\">\n",
              "    <path d=\"M0 0h24v24H0V0z\" fill=\"none\"/>\n",
              "    <path d=\"M18.56 5.44l.94 2.06.94-2.06 2.06-.94-2.06-.94-.94-2.06-.94 2.06-2.06.94zm-11 1L8.5 8.5l.94-2.06 2.06-.94-2.06-.94L8.5 2.5l-.94 2.06-2.06.94zm10 10l.94 2.06.94-2.06 2.06-.94-2.06-.94-.94-2.06-.94 2.06-2.06.94z\"/><path d=\"M17.41 7.96l-1.37-1.37c-.4-.4-.92-.59-1.43-.59-.52 0-1.04.2-1.43.59L10.3 9.45l-7.72 7.72c-.78.78-.78 2.05 0 2.83L4 21.41c.39.39.9.59 1.41.59.51 0 1.02-.2 1.41-.59l7.78-7.78 2.81-2.81c.8-.78.8-2.07 0-2.86zM5.41 20L4 18.59l7.72-7.72 1.47 1.35L5.41 20z\"/>\n",
              "  </svg>\n",
              "      </button>\n",
              "      \n",
              "  <style>\n",
              "    .colab-df-container {\n",
              "      display:flex;\n",
              "      flex-wrap:wrap;\n",
              "      gap: 12px;\n",
              "    }\n",
              "\n",
              "    .colab-df-convert {\n",
              "      background-color: #E8F0FE;\n",
              "      border: none;\n",
              "      border-radius: 50%;\n",
              "      cursor: pointer;\n",
              "      display: none;\n",
              "      fill: #1967D2;\n",
              "      height: 32px;\n",
              "      padding: 0 0 0 0;\n",
              "      width: 32px;\n",
              "    }\n",
              "\n",
              "    .colab-df-convert:hover {\n",
              "      background-color: #E2EBFA;\n",
              "      box-shadow: 0px 1px 2px rgba(60, 64, 67, 0.3), 0px 1px 3px 1px rgba(60, 64, 67, 0.15);\n",
              "      fill: #174EA6;\n",
              "    }\n",
              "\n",
              "    [theme=dark] .colab-df-convert {\n",
              "      background-color: #3B4455;\n",
              "      fill: #D2E3FC;\n",
              "    }\n",
              "\n",
              "    [theme=dark] .colab-df-convert:hover {\n",
              "      background-color: #434B5C;\n",
              "      box-shadow: 0px 1px 3px 1px rgba(0, 0, 0, 0.15);\n",
              "      filter: drop-shadow(0px 1px 2px rgba(0, 0, 0, 0.3));\n",
              "      fill: #FFFFFF;\n",
              "    }\n",
              "  </style>\n",
              "\n",
              "      <script>\n",
              "        const buttonEl =\n",
              "          document.querySelector('#df-adc55a3a-89e7-4542-9c3e-1d7882ceb1fe button.colab-df-convert');\n",
              "        buttonEl.style.display =\n",
              "          google.colab.kernel.accessAllowed ? 'block' : 'none';\n",
              "\n",
              "        async function convertToInteractive(key) {\n",
              "          const element = document.querySelector('#df-adc55a3a-89e7-4542-9c3e-1d7882ceb1fe');\n",
              "          const dataTable =\n",
              "            await google.colab.kernel.invokeFunction('convertToInteractive',\n",
              "                                                     [key], {});\n",
              "          if (!dataTable) return;\n",
              "\n",
              "          const docLinkHtml = 'Like what you see? Visit the ' +\n",
              "            '<a target=\"_blank\" href=https://colab.research.google.com/notebooks/data_table.ipynb>data table notebook</a>'\n",
              "            + ' to learn more about interactive tables.';\n",
              "          element.innerHTML = '';\n",
              "          dataTable['output_type'] = 'display_data';\n",
              "          await google.colab.output.renderOutput(dataTable, element);\n",
              "          const docLink = document.createElement('div');\n",
              "          docLink.innerHTML = docLinkHtml;\n",
              "          element.appendChild(docLink);\n",
              "        }\n",
              "      </script>\n",
              "    </div>\n",
              "  </div>\n",
              "  "
            ]
          },
          "metadata": {},
          "execution_count": 34
        }
      ]
    },
    {
      "cell_type": "markdown",
      "source": [
        "Checking for nulls in the dataframe after merge"
      ],
      "metadata": {
        "id": "67GuwvVrCjTJ"
      }
    },
    {
      "cell_type": "code",
      "source": [
        "for col in augmentedDF:\n",
        "  if augmentedDF[col].isna().sum():\n",
        "    print(col,\":\",augmentedDF[col].isna().sum())"
      ],
      "metadata": {
        "id": "DnWmCeZR0VqG"
      },
      "execution_count": 35,
      "outputs": []
    },
    {
      "cell_type": "code",
      "source": [
        "#create a zipcode column\n",
        "pdf = augmentedDF\n",
        "\n",
        "if 'zipcode' not in pdf.columns:\n",
        "  pdf.insert(3, \"zipcode\", np.zeros(len(pdf.index)), True)\n",
        "\n",
        "print(pdf.columns)"
      ],
      "metadata": {
        "colab": {
          "base_uri": "https://localhost:8080/"
        },
        "id": "k43hgmtobqcu",
        "outputId": "d8be2d5a-5693-4029-ec20-910939466fe5"
      },
      "execution_count": 36,
      "outputs": [
        {
          "output_type": "stream",
          "name": "stdout",
          "text": [
            "Index(['CMPLNT_NUM', 'ADDR_PCT_CD', 'BORO_NM', 'zipcode', 'CRM_ATPT_CPTD_CD',\n",
            "       'JURISDICTION_CODE', 'JURIS_DESC', 'KY_CD', 'LAW_CAT_CD', 'OFNS_DESC',\n",
            "       'PATROL_BORO', 'PD_CD', 'PD_DESC', 'PREM_TYP_DESC', 'RPT_DT',\n",
            "       'SUSP_AGE_GROUP', 'SUSP_RACE', 'SUSP_SEX', 'VIC_AGE_GROUP', 'VIC_RACE',\n",
            "       'VIC_SEX', 'X_COORD_CD', 'Y_COORD_CD', 'Latitude', 'Longitude',\n",
            "       'Lat_Lon', 'New Georeferenced Column', 'CMPLNT_DT_TS', 'ADDR_PCT_LOC',\n",
            "       'PCT_Latitude', 'PCT_Longitude', 'PCT-address', 'PCT_zipcode'],\n",
            "      dtype='object')\n"
          ]
        }
      ]
    },
    {
      "cell_type": "markdown",
      "source": [
        "Below code block takes a lot of time. Results have been computed and saved for ease of use. Uncomment to run and check"
      ],
      "metadata": {
        "id": "xxd1hj2kwej7"
      }
    },
    {
      "cell_type": "code",
      "source": [
        "# #Run to generate zipcodes for each row and periodically save to file\n",
        "# from uszipcode import SearchEngine\n",
        "\n",
        "# search = SearchEngine()\n",
        "\n",
        "# total = len(pdf.index)\n",
        "# max_count = 2000\n",
        "# start = 0\n",
        "\n",
        "# while start < total:\n",
        "#   tic = time.time()\n",
        "#   batch_zips = []\n",
        "#   for idx in range(start, min(start+max_count, total)):\n",
        "#     try:\n",
        "#       batch_zips.append(int(search.by_coordinates(\n",
        "#                     pdf['Latitude'][idx], pdf['Longitude'][idx], \n",
        "#                     returns=1)[0].to_dict()[\"zipcode\"]))\n",
        "#     except:\n",
        "#       batch_zips.append(-99999)\n",
        "#   # batch_zips_int = [int(z) for z in batch_zips]\n",
        "#   pdf.iloc[start:min(start+max_count, total), pdf.columns.get_loc('zipcode')] = np.reshape(batch_zips, (len(batch_zips), 1))\n",
        "#   # print(batch_zips, (np.array(batch_zips_int) == 0).astype(int).sum())\n",
        "#   toc = time.time()\n",
        "#   pdf.to_csv(os.path.join(cur_dir, data_dir, 'current_cleaned_data.csv'), index = False)\n",
        "#   start += max_count\n",
        "#   print('time taken: ', toc-tic)"
      ],
      "metadata": {
        "id": "wWZtW658MyuN"
      },
      "execution_count": 38,
      "outputs": []
    },
    {
      "cell_type": "markdown",
      "source": [
        "Read Data enriched with zipcode and precinct information"
      ],
      "metadata": {
        "id": "beMMweYYQo_m"
      }
    },
    {
      "cell_type": "code",
      "source": [
        "df = pd.read_csv(os.path.join(cur_dir, data_dir, 'current_cleaned_data.csv'))"
      ],
      "metadata": {
        "id": "JqAvIeSgQaDW"
      },
      "execution_count": 40,
      "outputs": []
    },
    {
      "cell_type": "code",
      "source": [
        "df.OFNS_DESC.value_counts().iloc[:10].sort_values().plot(kind=\"barh\", title = \"Types of Crimes\")"
      ],
      "metadata": {
        "colab": {
          "base_uri": "https://localhost:8080/",
          "height": 408
        },
        "id": "UlerbT1iaLrM",
        "outputId": "d3fa4365-a148-4218-af66-78841f8cb392"
      },
      "execution_count": 41,
      "outputs": [
        {
          "output_type": "execute_result",
          "data": {
            "text/plain": [
              "<matplotlib.axes._subplots.AxesSubplot at 0x7f864d6853a0>"
            ]
          },
          "metadata": {},
          "execution_count": 41
        },
        {
          "output_type": "display_data",
          "data": {
            "text/plain": [
              "<Figure size 864x432 with 1 Axes>"
            ],
            "image/png": "[encoded data removed]"
          },
          "metadata": {}
        }
      ]
    },
    {
      "cell_type": "code",
      "source": [
        "df.LAW_CAT_CD.unique()"
      ],
      "metadata": {
        "colab": {
          "base_uri": "https://localhost:8080/"
        },
        "id": "38BPk9XBbbbm",
        "outputId": "dc8a2bca-f51e-472f-ce32-af2f5f0b42b5"
      },
      "execution_count": 42,
      "outputs": [
        {
          "output_type": "execute_result",
          "data": {
            "text/plain": [
              "array(['FELONY', 'MISDEMEANOR', 'VIOLATION'], dtype=object)"
            ]
          },
          "metadata": {},
          "execution_count": 42
        }
      ]
    },
    {
      "cell_type": "code",
      "source": [
        "df.groupby('LAW_CAT_CD').size().plot(kind='pie', autopct='%.2f')"
      ],
      "metadata": {
        "colab": {
          "base_uri": "https://localhost:8080/",
          "height": 374
        },
        "id": "C1bBtseOaooM",
        "outputId": "896238b0-e7e5-45e0-e62a-739e21f05186"
      },
      "execution_count": 43,
      "outputs": [
        {
          "output_type": "execute_result",
          "data": {
            "text/plain": [
              "<matplotlib.axes._subplots.AxesSubplot at 0x7f864dd0c430>"
            ]
          },
          "metadata": {},
          "execution_count": 43
        },
        {
          "output_type": "display_data",
          "data": {
            "text/plain": [
              "<Figure size 864x432 with 1 Axes>"
            ],
            "image/png": "[encoded data removed]"
          },
          "metadata": {}
        }
      ]
    },
    {
      "cell_type": "code",
      "source": [
        "df.BORO_NM.value_counts().iloc[:10].sort_values().plot(kind=\"barh\", title = \"Crime Frequency by Borough\")"
      ],
      "metadata": {
        "colab": {
          "base_uri": "https://localhost:8080/",
          "height": 408
        },
        "id": "e89YAgN3bN33",
        "outputId": "3009c7a1-95ac-4f34-cf3d-a513ccef5112"
      },
      "execution_count": 44,
      "outputs": [
        {
          "output_type": "execute_result",
          "data": {
            "text/plain": [
              "<matplotlib.axes._subplots.AxesSubplot at 0x7f864a5c2d30>"
            ]
          },
          "metadata": {},
          "execution_count": 44
        },
        {
          "output_type": "display_data",
          "data": {
            "text/plain": [
              "<Figure size 864x432 with 1 Axes>"
            ],
            "image/png": "[encoded data removed]"
          },
          "metadata": {}
        }
      ]
    },
    {
      "cell_type": "markdown",
      "source": [
        "**crime per resident**\n",
        "\n",
        "To get a clearer image of crime, We use the estimated population by borough to count the crime rate\n",
        "\n",
        "p.s. The crime rate is a measure of the number of all kinds of recorded crime events for every 100,000 people in a given year.\n",
        "\n",
        "data source: https://www1.nyc.gov/site/planning/planning-level/nyc-population/current-future-populations.page\n",
        "\n",
        "Bronx: 1,432,132\n",
        "Brooklyn: 2,582,830\n",
        "Manhattan: 1,628,701\n",
        "Queens: 2,278,906\n",
        "Staten Island: 476,179"
      ],
      "metadata": {
        "id": "qbzCxJzfD4q8"
      }
    },
    {
      "cell_type": "code",
      "source": [
        "resident_dict = {'Bronx': 1432132, 'Manhattan': 1628701, 'Brooklyn': 2582830, 'Queens': 2278906, 'Staten Island': 476179}\n",
        "resident_list = [2582830, 1628701, 1432132, 2278906, 476179]\n",
        "count_table = df['BORO_NM'].value_counts()\n",
        "count_table\n",
        "\n",
        "crime_rate_table = count_table / resident_list * 100000\n",
        "\n",
        "plt.figure(figsize=[8,6])\n",
        "plt.bar(crime_rate_table.index.tolist(), crime_rate_table.values)"
      ],
      "metadata": {
        "colab": {
          "base_uri": "https://localhost:8080/",
          "height": 395
        },
        "id": "DuhddajlD3D3",
        "outputId": "c4e74dc5-41be-47b4-aded-c20eb6de2a5a"
      },
      "execution_count": 45,
      "outputs": [
        {
          "output_type": "execute_result",
          "data": {
            "text/plain": [
              "<BarContainer object of 5 artists>"
            ]
          },
          "metadata": {},
          "execution_count": 45
        },
        {
          "output_type": "display_data",
          "data": {
            "text/plain": [
              "<Figure size 576x432 with 1 Axes>"
            ],
            "image/png": "[encoded data removed]"
          },
          "metadata": {}
        }
      ]
    },
    {
      "cell_type": "markdown",
      "source": [
        "**About Crime Level in each borough**\n",
        "\n",
        "We broke down to more detail on the same graphic and also show the distribution of each crime level in different district.\n"
      ],
      "metadata": {
        "id": "RtB6FZLBELBw"
      }
    },
    {
      "cell_type": "code",
      "source": [
        "# tabulate a two way table with variables as boroughs and level of crime\n",
        "two_way_table = pd.crosstab(index=df[\"BORO_NM\"], columns=df[\"LAW_CAT_CD\"], margins=True)\n",
        "print(two_way_table)\n",
        "\n",
        "boro_name = ['MANHATTAN', 'BROOKLYN', 'QUEENS', 'BRONX', 'STATEN ISLAND']\n",
        "crime_level = ['VIOLATION', 'MISDEMEANOR', 'FELONY']\n",
        "subtotal_boro = df.groupby('BORO_NM')['LAW_CAT_CD'].agg('count').sort_values(ascending=False) #total of each boro count\n",
        "fig = plt.figure(figsize=[12,8])\n",
        "ax = sns.countplot(x=\"BORO_NM\", hue=\"LAW_CAT_CD\", \n",
        "                   data=df[['BORO_NM', 'LAW_CAT_CD']], \n",
        "                   order = subtotal_boro.index,\n",
        "                  palette = \"ch:2.5,-.2,dark=.3\")\n",
        "\n",
        "# boro_num = [val for val in range(0, 5) for _ in (0, 1, 2)] #[0, 0, 0, 1, 1, 1, 2, 2, 2, 3, 3, 3, 4, 4, 4] not work!\n",
        "boro_num2 = [val for val in range(0, 5)]*3 #[0,1,2,3,4,0,1,2,3,4,0,1,2,3,4,0,1,2,3,4,0,1,2,3,4,] work for the order\n",
        "for p, i in zip(ax.patches, boro_num2):\n",
        "    percent = p.get_height()/subtotal_boro[i]\n",
        "    ax.annotate('{:.1f}%'. format(percent*100), (p.get_x()+0.138, p.get_height()+300), ha='center', size=12)\n"
      ],
      "metadata": {
        "colab": {
          "base_uri": "https://localhost:8080/",
          "height": 639
        },
        "id": "xyiU8YtHEI52",
        "outputId": "bb4f4fa7-8f40-47be-d7e0-bf863fe406f5"
      },
      "execution_count": 46,
      "outputs": [
        {
          "output_type": "stream",
          "name": "stdout",
          "text": [
            "LAW_CAT_CD     FELONY  MISDEMEANOR  VIOLATION     All\n",
            "BORO_NM                                              \n",
            "BRONX           10780        15848       5799   32427\n",
            "BROOKLYN        14266        20547       7162   41975\n",
            "MANHATTAN       12824        21018       5000   38842\n",
            "QUEENS          10735        16495       5104   32334\n",
            "STATEN ISLAND    1659         3233       1357    6249\n",
            "All             50264        77141      24422  151827\n"
          ]
        },
        {
          "output_type": "display_data",
          "data": {
            "text/plain": [
              "<Figure size 864x576 with 1 Axes>"
            ],
            "image/png": "[encoded data removed]"
          },
          "metadata": {}
        }
      ]
    },
    {
      "cell_type": "code",
      "source": [
        "df.SUSP_SEX.unique()"
      ],
      "metadata": {
        "colab": {
          "base_uri": "https://localhost:8080/"
        },
        "id": "ugV9f0bveBcc",
        "outputId": "0a406119-5eb1-40b1-a783-291134e55c0f"
      },
      "execution_count": 47,
      "outputs": [
        {
          "output_type": "execute_result",
          "data": {
            "text/plain": [
              "array(['M', 'Unknown', 'F'], dtype=object)"
            ]
          },
          "metadata": {},
          "execution_count": 47
        }
      ]
    },
    {
      "cell_type": "code",
      "source": [
        "handling_first_graph_data = (df[['BORO_NM', 'PATROL_BORO','LAW_CAT_CD']]).fillna('UNKNOWN')\n",
        "handling_first_graph_data['crime_count'] = [1] * len(handling_first_graph_data.BORO_NM.values)\n",
        "fig = px.treemap(handling_first_graph_data, path =['BORO_NM', 'PATROL_BORO','LAW_CAT_CD'], values='crime_count')\n",
        "fig.show()"
      ],
      "metadata": {
        "colab": {
          "base_uri": "https://localhost:8080/",
          "height": 542
        },
        "id": "A1g2Vb4cA2e7",
        "outputId": "1be7234a-f7e9-4abf-d45a-3291d57d9bb2"
      },
      "execution_count": 48,
      "outputs": [
        {
          "output_type": "display_data",
          "data": {
            "text/html": [
              "<html>\n",
              "<head><meta charset=\"utf-8\" /></head>\n",
              "<body>\n",
              "    <div>            <script src=\"https://cdnjs.cloudflare.com/ajax/libs/mathjax/2.7.5/MathJax.js?config=TeX-AMS-MML_SVG\"></script><script type=\"text/javascript\">if (window.MathJax) {MathJax.Hub.Config({SVG: {font: \"STIX-Web\"}});}</script>                <script type=\"text/javascript\">window.PlotlyConfig = {MathJaxConfig: 'local'};</script>\n",
              "        <script src=\"https://cdn.plot.ly/plotly-2.8.3.min.js\"></script>                <div id=\"f33eba15-195f-42fa-a74f-b10dec821dd1\" class=\"plotly-graph-div\" style=\"height:525px; width:100%;\"></div>            <script type=\"text/javascript\">                                    window.PLOTLYENV=window.PLOTLYENV || {};                                    if (document.getElementById(\"f33eba15-195f-42fa-a74f-b10dec821dd1\")) {                    Plotly.newPlot(                        \"f33eba15-195f-42fa-a74f-b10dec821dd1\",                        [{\"branchvalues\":\"total\",\"domain\":{\"x\":[0.0,1.0],\"y\":[0.0,1.0]},\"hovertemplate\":\"labels=%{label}<br>crime_count=%{value}<br>parent=%{parent}<br>id=%{id}<extra></extra>\",\"ids\":[\"BROOKLYN/PATROL BORO BKLYN NORTH/FELONY\",\"QUEENS/PATROL BORO BKLYN NORTH/FELONY\",\"BRONX/PATROL BORO BKLYN SOUTH/FELONY\",\"BROOKLYN/PATROL BORO BKLYN SOUTH/FELONY\",\"BRONX/PATROL BORO BRONX/FELONY\",\"BROOKLYN/PATROL BORO BRONX/FELONY\",\"BRONX/PATROL BORO MAN NORTH/FELONY\",\"MANHATTAN/PATROL BORO MAN NORTH/FELONY\",\"BROOKLYN/PATROL BORO MAN SOUTH/FELONY\",\"MANHATTAN/PATROL BORO MAN SOUTH/FELONY\",\"QUEENS/PATROL BORO MAN SOUTH/FELONY\",\"MANHATTAN/PATROL BORO QUEENS NORTH/FELONY\",\"QUEENS/PATROL BORO QUEENS NORTH/FELONY\",\"MANHATTAN/PATROL BORO QUEENS SOUTH/FELONY\",\"QUEENS/PATROL BORO QUEENS SOUTH/FELONY\",\"QUEENS/PATROL BORO STATEN ISLAND/FELONY\",\"STATEN ISLAND/PATROL BORO STATEN ISLAND/FELONY\",\"BROOKLYN/PATROL BORO BKLYN NORTH/MISDEMEANOR\",\"BROOKLYN/PATROL BORO BKLYN SOUTH/MISDEMEANOR\",\"BRONX/PATROL BORO BRONX/MISDEMEANOR\",\"BROOKLYN/PATROL BORO BRONX/MISDEMEANOR\",\"BRONX/PATROL BORO MAN NORTH/MISDEMEANOR\",\"BROOKLYN/PATROL BORO MAN NORTH/MISDEMEANOR\",\"MANHATTAN/PATROL BORO MAN NORTH/MISDEMEANOR\",\"BROOKLYN/PATROL BORO MAN SOUTH/MISDEMEANOR\",\"MANHATTAN/PATROL BORO MAN SOUTH/MISDEMEANOR\",\"QUEENS/PATROL BORO MAN SOUTH/MISDEMEANOR\",\"MANHATTAN/PATROL BORO QUEENS NORTH/MISDEMEANOR\",\"QUEENS/PATROL BORO QUEENS NORTH/MISDEMEANOR\",\"BROOKLYN/PATROL BORO QUEENS SOUTH/MISDEMEANOR\",\"QUEENS/PATROL BORO QUEENS SOUTH/MISDEMEANOR\",\"STATEN ISLAND/PATROL BORO STATEN ISLAND/MISDEMEANOR\",\"BROOKLYN/PATROL BORO BKLYN NORTH/VIOLATION\",\"BROOKLYN/PATROL BORO BKLYN SOUTH/VIOLATION\",\"QUEENS/PATROL BORO BKLYN SOUTH/VIOLATION\",\"BRONX/PATROL BORO BRONX/VIOLATION\",\"MANHATTAN/PATROL BORO BRONX/VIOLATION\",\"MANHATTAN/PATROL BORO MAN NORTH/VIOLATION\",\"MANHATTAN/PATROL BORO MAN SOUTH/VIOLATION\",\"BROOKLYN/PATROL BORO QUEENS NORTH/VIOLATION\",\"MANHATTAN/PATROL BORO QUEENS NORTH/VIOLATION\",\"QUEENS/PATROL BORO QUEENS NORTH/VIOLATION\",\"BROOKLYN/PATROL BORO QUEENS SOUTH/VIOLATION\",\"QUEENS/PATROL BORO QUEENS SOUTH/VIOLATION\",\"QUEENS/PATROL BORO STATEN ISLAND/VIOLATION\",\"STATEN ISLAND/PATROL BORO STATEN ISLAND/VIOLATION\",\"BROOKLYN/PATROL BORO BKLYN NORTH\",\"QUEENS/PATROL BORO BKLYN NORTH\",\"BRONX/PATROL BORO BKLYN SOUTH\",\"BROOKLYN/PATROL BORO BKLYN SOUTH\",\"QUEENS/PATROL BORO BKLYN SOUTH\",\"BRONX/PATROL BORO BRONX\",\"BROOKLYN/PATROL BORO BRONX\",\"MANHATTAN/PATROL BORO BRONX\",\"BRONX/PATROL BORO MAN NORTH\",\"BROOKLYN/PATROL BORO MAN NORTH\",\"MANHATTAN/PATROL BORO MAN NORTH\",\"BROOKLYN/PATROL BORO MAN SOUTH\",\"MANHATTAN/PATROL BORO MAN SOUTH\",\"QUEENS/PATROL BORO MAN SOUTH\",\"BROOKLYN/PATROL BORO QUEENS NORTH\",\"MANHATTAN/PATROL BORO QUEENS NORTH\",\"QUEENS/PATROL BORO QUEENS NORTH\",\"BROOKLYN/PATROL BORO QUEENS SOUTH\",\"MANHATTAN/PATROL BORO QUEENS SOUTH\",\"QUEENS/PATROL BORO QUEENS SOUTH\",\"QUEENS/PATROL BORO STATEN ISLAND\",\"STATEN ISLAND/PATROL BORO STATEN ISLAND\",\"BRONX\",\"BROOKLYN\",\"MANHATTAN\",\"QUEENS\",\"STATEN ISLAND\"],\"labels\":[\"FELONY\",\"FELONY\",\"FELONY\",\"FELONY\",\"FELONY\",\"FELONY\",\"FELONY\",\"FELONY\",\"FELONY\",\"FELONY\",\"FELONY\",\"FELONY\",\"FELONY\",\"FELONY\",\"FELONY\",\"FELONY\",\"FELONY\",\"MISDEMEANOR\",\"MISDEMEANOR\",\"MISDEMEANOR\",\"MISDEMEANOR\",\"MISDEMEANOR\",\"MISDEMEANOR\",\"MISDEMEANOR\",\"MISDEMEANOR\",\"MISDEMEANOR\",\"MISDEMEANOR\",\"MISDEMEANOR\",\"MISDEMEANOR\",\"MISDEMEANOR\",\"MISDEMEANOR\",\"MISDEMEANOR\",\"VIOLATION\",\"VIOLATION\",\"VIOLATION\",\"VIOLATION\",\"VIOLATION\",\"VIOLATION\",\"VIOLATION\",\"VIOLATION\",\"VIOLATION\",\"VIOLATION\",\"VIOLATION\",\"VIOLATION\",\"VIOLATION\",\"VIOLATION\",\"PATROL BORO BKLYN NORTH\",\"PATROL BORO BKLYN NORTH\",\"PATROL BORO BKLYN SOUTH\",\"PATROL BORO BKLYN SOUTH\",\"PATROL BORO BKLYN SOUTH\",\"PATROL BORO BRONX\",\"PATROL BORO BRONX\",\"PATROL BORO BRONX\",\"PATROL BORO MAN NORTH\",\"PATROL BORO MAN NORTH\",\"PATROL BORO MAN NORTH\",\"PATROL BORO MAN SOUTH\",\"PATROL BORO MAN SOUTH\",\"PATROL BORO MAN SOUTH\",\"PATROL BORO QUEENS NORTH\",\"PATROL BORO QUEENS NORTH\",\"PATROL BORO QUEENS NORTH\",\"PATROL BORO QUEENS SOUTH\",\"PATROL BORO QUEENS SOUTH\",\"PATROL BORO QUEENS SOUTH\",\"PATROL BORO STATEN ISLAND\",\"PATROL BORO STATEN ISLAND\",\"BRONX\",\"BROOKLYN\",\"MANHATTAN\",\"QUEENS\",\"STATEN ISLAND\"],\"name\":\"\",\"parents\":[\"BROOKLYN/PATROL BORO BKLYN NORTH\",\"QUEENS/PATROL BORO BKLYN NORTH\",\"BRONX/PATROL BORO BKLYN SOUTH\",\"BROOKLYN/PATROL BORO BKLYN SOUTH\",\"BRONX/PATROL BORO BRONX\",\"BROOKLYN/PATROL BORO BRONX\",\"BRONX/PATROL BORO MAN NORTH\",\"MANHATTAN/PATROL BORO MAN NORTH\",\"BROOKLYN/PATROL BORO MAN SOUTH\",\"MANHATTAN/PATROL BORO MAN SOUTH\",\"QUEENS/PATROL BORO MAN SOUTH\",\"MANHATTAN/PATROL BORO QUEENS NORTH\",\"QUEENS/PATROL BORO QUEENS NORTH\",\"MANHATTAN/PATROL BORO QUEENS SOUTH\",\"QUEENS/PATROL BORO QUEENS SOUTH\",\"QUEENS/PATROL BORO STATEN ISLAND\",\"STATEN ISLAND/PATROL BORO STATEN ISLAND\",\"BROOKLYN/PATROL BORO BKLYN NORTH\",\"BROOKLYN/PATROL BORO BKLYN SOUTH\",\"BRONX/PATROL BORO BRONX\",\"BROOKLYN/PATROL BORO BRONX\",\"BRONX/PATROL BORO MAN NORTH\",\"BROOKLYN/PATROL BORO MAN NORTH\",\"MANHATTAN/PATROL BORO MAN NORTH\",\"BROOKLYN/PATROL BORO MAN SOUTH\",\"MANHATTAN/PATROL BORO MAN SOUTH\",\"QUEENS/PATROL BORO MAN SOUTH\",\"MANHATTAN/PATROL BORO QUEENS NORTH\",\"QUEENS/PATROL BORO QUEENS NORTH\",\"BROOKLYN/PATROL BORO QUEENS SOUTH\",\"QUEENS/PATROL BORO QUEENS SOUTH\",\"STATEN ISLAND/PATROL BORO STATEN ISLAND\",\"BROOKLYN/PATROL BORO BKLYN NORTH\",\"BROOKLYN/PATROL BORO BKLYN SOUTH\",\"QUEENS/PATROL BORO BKLYN SOUTH\",\"BRONX/PATROL BORO BRONX\",\"MANHATTAN/PATROL BORO BRONX\",\"MANHATTAN/PATROL BORO MAN NORTH\",\"MANHATTAN/PATROL BORO MAN SOUTH\",\"BROOKLYN/PATROL BORO QUEENS NORTH\",\"MANHATTAN/PATROL BORO QUEENS NORTH\",\"QUEENS/PATROL BORO QUEENS NORTH\",\"BROOKLYN/PATROL BORO QUEENS SOUTH\",\"QUEENS/PATROL BORO QUEENS SOUTH\",\"QUEENS/PATROL BORO STATEN ISLAND\",\"STATEN ISLAND/PATROL BORO STATEN ISLAND\",\"BROOKLYN\",\"QUEENS\",\"BRONX\",\"BROOKLYN\",\"QUEENS\",\"BRONX\",\"BROOKLYN\",\"MANHATTAN\",\"BRONX\",\"BROOKLYN\",\"MANHATTAN\",\"BROOKLYN\",\"MANHATTAN\",\"QUEENS\",\"BROOKLYN\",\"MANHATTAN\",\"QUEENS\",\"BROOKLYN\",\"MANHATTAN\",\"QUEENS\",\"QUEENS\",\"STATEN ISLAND\",\"\",\"\",\"\",\"\",\"\"],\"values\":[7046,1,2,7218,10776,1,2,6071,1,6741,2,11,5804,1,4927,1,1659,10109,10427,15847,2,1,5,10143,3,10857,1,18,9235,1,7259,3233,3591,3569,1,5799,1,2812,2182,1,5,2641,1,2461,1,1357,20746,1,2,21214,1,32422,3,1,3,5,19026,4,19780,3,1,34,17680,2,1,14647,2,6249,32427,41975,38842,32334,6249],\"type\":\"treemap\"}],                        {\"template\":{\"data\":{\"bar\":[{\"error_x\":{\"color\":\"#2a3f5f\"},\"error_y\":{\"color\":\"#2a3f5f\"},\"marker\":{\"line\":{\"color\":\"#E5ECF6\",\"width\":0.5},\"pattern\":{\"fillmode\":\"overlay\",\"size\":10,\"solidity\":0.2}},\"type\":\"bar\"}],\"barpolar\":[{\"marker\":{\"line\":{\"color\":\"#E5ECF6\",\"width\":0.5},\"pattern\":{\"fillmode\":\"overlay\",\"size\":10,\"solidity\":0.2}},\"type\":\"barpolar\"}],\"carpet\":[{\"aaxis\":{\"endlinecolor\":\"#2a3f5f\",\"gridcolor\":\"white\",\"linecolor\":\"white\",\"minorgridcolor\":\"white\",\"startlinecolor\":\"#2a3f5f\"},\"baxis\":{\"endlinecolor\":\"#2a3f5f\",\"gridcolor\":\"white\",\"linecolor\":\"white\",\"minorgridcolor\":\"white\",\"startlinecolor\":\"#2a3f5f\"},\"type\":\"carpet\"}],\"choropleth\":[{\"colorbar\":{\"outlinewidth\":0,\"ticks\":\"\"},\"type\":\"choropleth\"}],\"contour\":[{\"colorbar\":{\"outlinewidth\":0,\"ticks\":\"\"},\"colorscale\":[[0.0,\"#0d0887\"],[0.1111111111111111,\"#46039f\"],[0.2222222222222222,\"#7201a8\"],[0.3333333333333333,\"#9c179e\"],[0.4444444444444444,\"#bd3786\"],[0.5555555555555556,\"#d8576b\"],[0.6666666666666666,\"#ed7953\"],[0.7777777777777778,\"#fb9f3a\"],[0.8888888888888888,\"#fdca26\"],[1.0,\"#f0f921\"]],\"type\":\"contour\"}],\"contourcarpet\":[{\"colorbar\":{\"outlinewidth\":0,\"ticks\":\"\"},\"type\":\"contourcarpet\"}],\"heatmap\":[{\"colorbar\":{\"outlinewidth\":0,\"ticks\":\"\"},\"colorscale\":[[0.0,\"#0d0887\"],[0.1111111111111111,\"#46039f\"],[0.2222222222222222,\"#7201a8\"],[0.3333333333333333,\"#9c179e\"],[0.4444444444444444,\"#bd3786\"],[0.5555555555555556,\"#d8576b\"],[0.6666666666666666,\"#ed7953\"],[0.7777777777777778,\"#fb9f3a\"],[0.8888888888888888,\"#fdca26\"],[1.0,\"#f0f921\"]],\"type\":\"heatmap\"}],\"heatmapgl\":[{\"colorbar\":{\"outlinewidth\":0,\"ticks\":\"\"},\"colorscale\":[[0.0,\"#0d0887\"],[0.1111111111111111,\"#46039f\"],[0.2222222222222222,\"#7201a8\"],[0.3333333333333333,\"#9c179e\"],[0.4444444444444444,\"#bd3786\"],[0.5555555555555556,\"#d8576b\"],[0.6666666666666666,\"#ed7953\"],[0.7777777777777778,\"#fb9f3a\"],[0.8888888888888888,\"#fdca26\"],[1.0,\"#f0f921\"]],\"type\":\"heatmapgl\"}],\"histogram\":[{\"marker\":{\"pattern\":{\"fillmode\":\"overlay\",\"size\":10,\"solidity\":0.2}},\"type\":\"histogram\"}],\"histogram2d\":[{\"colorbar\":{\"outlinewidth\":0,\"ticks\":\"\"},\"colorscale\":[[0.0,\"#0d0887\"],[0.1111111111111111,\"#46039f\"],[0.2222222222222222,\"#7201a8\"],[0.3333333333333333,\"#9c179e\"],[0.4444444444444444,\"#bd3786\"],[0.5555555555555556,\"#d8576b\"],[0.6666666666666666,\"#ed7953\"],[0.7777777777777778,\"#fb9f3a\"],[0.8888888888888888,\"#fdca26\"],[1.0,\"#f0f921\"]],\"type\":\"histogram2d\"}],\"histogram2dcontour\":[{\"colorbar\":{\"outlinewidth\":0,\"ticks\":\"\"},\"colorscale\":[[0.0,\"#0d0887\"],[0.1111111111111111,\"#46039f\"],[0.2222222222222222,\"#7201a8\"],[0.3333333333333333,\"#9c179e\"],[0.4444444444444444,\"#bd3786\"],[0.5555555555555556,\"#d8576b\"],[0.6666666666666666,\"#ed7953\"],[0.7777777777777778,\"#fb9f3a\"],[0.8888888888888888,\"#fdca26\"],[1.0,\"#f0f921\"]],\"type\":\"histogram2dcontour\"}],\"mesh3d\":[{\"colorbar\":{\"outlinewidth\":0,\"ticks\":\"\"},\"type\":\"mesh3d\"}],\"parcoords\":[{\"line\":{\"colorbar\":{\"outlinewidth\":0,\"ticks\":\"\"}},\"type\":\"parcoords\"}],\"pie\":[{\"automargin\":true,\"type\":\"pie\"}],\"scatter\":[{\"marker\":{\"colorbar\":{\"outlinewidth\":0,\"ticks\":\"\"}},\"type\":\"scatter\"}],\"scatter3d\":[{\"line\":{\"colorbar\":{\"outlinewidth\":0,\"ticks\":\"\"}},\"marker\":{\"colorbar\":{\"outlinewidth\":0,\"ticks\":\"\"}},\"type\":\"scatter3d\"}],\"scattercarpet\":[{\"marker\":{\"colorbar\":{\"outlinewidth\":0,\"ticks\":\"\"}},\"type\":\"scattercarpet\"}],\"scattergeo\":[{\"marker\":{\"colorbar\":{\"outlinewidth\":0,\"ticks\":\"\"}},\"type\":\"scattergeo\"}],\"scattergl\":[{\"marker\":{\"colorbar\":{\"outlinewidth\":0,\"ticks\":\"\"}},\"type\":\"scattergl\"}],\"scattermapbox\":[{\"marker\":{\"colorbar\":{\"outlinewidth\":0,\"ticks\":\"\"}},\"type\":\"scattermapbox\"}],\"scatterpolar\":[{\"marker\":{\"colorbar\":{\"outlinewidth\":0,\"ticks\":\"\"}},\"type\":\"scatterpolar\"}],\"scatterpolargl\":[{\"marker\":{\"colorbar\":{\"outlinewidth\":0,\"ticks\":\"\"}},\"type\":\"scatterpolargl\"}],\"scatterternary\":[{\"marker\":{\"colorbar\":{\"outlinewidth\":0,\"ticks\":\"\"}},\"type\":\"scatterternary\"}],\"surface\":[{\"colorbar\":{\"outlinewidth\":0,\"ticks\":\"\"},\"colorscale\":[[0.0,\"#0d0887\"],[0.1111111111111111,\"#46039f\"],[0.2222222222222222,\"#7201a8\"],[0.3333333333333333,\"#9c179e\"],[0.4444444444444444,\"#bd3786\"],[0.5555555555555556,\"#d8576b\"],[0.6666666666666666,\"#ed7953\"],[0.7777777777777778,\"#fb9f3a\"],[0.8888888888888888,\"#fdca26\"],[1.0,\"#f0f921\"]],\"type\":\"surface\"}],\"table\":[{\"cells\":{\"fill\":{\"color\":\"#EBF0F8\"},\"line\":{\"color\":\"white\"}},\"header\":{\"fill\":{\"color\":\"#C8D4E3\"},\"line\":{\"color\":\"white\"}},\"type\":\"table\"}]},\"layout\":{\"annotationdefaults\":{\"arrowcolor\":\"#2a3f5f\",\"arrowhead\":0,\"arrowwidth\":1},\"autotypenumbers\":\"strict\",\"coloraxis\":{\"colorbar\":{\"outlinewidth\":0,\"ticks\":\"\"}},\"colorscale\":{\"diverging\":[[0,\"#8e0152\"],[0.1,\"#c51b7d\"],[0.2,\"#de77ae\"],[0.3,\"#f1b6da\"],[0.4,\"#fde0ef\"],[0.5,\"#f7f7f7\"],[0.6,\"#e6f5d0\"],[0.7,\"#b8e186\"],[0.8,\"#7fbc41\"],[0.9,\"#4d9221\"],[1,\"#276419\"]],\"sequential\":[[0.0,\"#0d0887\"],[0.1111111111111111,\"#46039f\"],[0.2222222222222222,\"#7201a8\"],[0.3333333333333333,\"#9c179e\"],[0.4444444444444444,\"#bd3786\"],[0.5555555555555556,\"#d8576b\"],[0.6666666666666666,\"#ed7953\"],[0.7777777777777778,\"#fb9f3a\"],[0.8888888888888888,\"#fdca26\"],[1.0,\"#f0f921\"]],\"sequentialminus\":[[0.0,\"#0d0887\"],[0.1111111111111111,\"#46039f\"],[0.2222222222222222,\"#7201a8\"],[0.3333333333333333,\"#9c179e\"],[0.4444444444444444,\"#bd3786\"],[0.5555555555555556,\"#d8576b\"],[0.6666666666666666,\"#ed7953\"],[0.7777777777777778,\"#fb9f3a\"],[0.8888888888888888,\"#fdca26\"],[1.0,\"#f0f921\"]]},\"colorway\":[\"#636efa\",\"#EF553B\",\"#00cc96\",\"#ab63fa\",\"#FFA15A\",\"#19d3f3\",\"#FF6692\",\"#B6E880\",\"#FF97FF\",\"#FECB52\"],\"font\":{\"color\":\"#2a3f5f\"},\"geo\":{\"bgcolor\":\"white\",\"lakecolor\":\"white\",\"landcolor\":\"#E5ECF6\",\"showlakes\":true,\"showland\":true,\"subunitcolor\":\"white\"},\"hoverlabel\":{\"align\":\"left\"},\"hovermode\":\"closest\",\"mapbox\":{\"style\":\"light\"},\"paper_bgcolor\":\"white\",\"plot_bgcolor\":\"#E5ECF6\",\"polar\":{\"angularaxis\":{\"gridcolor\":\"white\",\"linecolor\":\"white\",\"ticks\":\"\"},\"bgcolor\":\"#E5ECF6\",\"radialaxis\":{\"gridcolor\":\"white\",\"linecolor\":\"white\",\"ticks\":\"\"}},\"scene\":{\"xaxis\":{\"backgroundcolor\":\"#E5ECF6\",\"gridcolor\":\"white\",\"gridwidth\":2,\"linecolor\":\"white\",\"showbackground\":true,\"ticks\":\"\",\"zerolinecolor\":\"white\"},\"yaxis\":{\"backgroundcolor\":\"#E5ECF6\",\"gridcolor\":\"white\",\"gridwidth\":2,\"linecolor\":\"white\",\"showbackground\":true,\"ticks\":\"\",\"zerolinecolor\":\"white\"},\"zaxis\":{\"backgroundcolor\":\"#E5ECF6\",\"gridcolor\":\"white\",\"gridwidth\":2,\"linecolor\":\"white\",\"showbackground\":true,\"ticks\":\"\",\"zerolinecolor\":\"white\"}},\"shapedefaults\":{\"line\":{\"color\":\"#2a3f5f\"}},\"ternary\":{\"aaxis\":{\"gridcolor\":\"white\",\"linecolor\":\"white\",\"ticks\":\"\"},\"baxis\":{\"gridcolor\":\"white\",\"linecolor\":\"white\",\"ticks\":\"\"},\"bgcolor\":\"#E5ECF6\",\"caxis\":{\"gridcolor\":\"white\",\"linecolor\":\"white\",\"ticks\":\"\"}},\"title\":{\"x\":0.05},\"xaxis\":{\"automargin\":true,\"gridcolor\":\"white\",\"linecolor\":\"white\",\"ticks\":\"\",\"title\":{\"standoff\":15},\"zerolinecolor\":\"white\",\"zerolinewidth\":2},\"yaxis\":{\"automargin\":true,\"gridcolor\":\"white\",\"linecolor\":\"white\",\"ticks\":\"\",\"title\":{\"standoff\":15},\"zerolinecolor\":\"white\",\"zerolinewidth\":2}}},\"legend\":{\"tracegroupgap\":0},\"margin\":{\"t\":60}},                        {\"responsive\": true}                    ).then(function(){\n",
              "                            \n",
              "var gd = document.getElementById('f33eba15-195f-42fa-a74f-b10dec821dd1');\n",
              "var x = new MutationObserver(function (mutations, observer) {{\n",
              "        var display = window.getComputedStyle(gd).display;\n",
              "        if (!display || display === 'none') {{\n",
              "            console.log([gd, 'removed!']);\n",
              "            Plotly.purge(gd);\n",
              "            observer.disconnect();\n",
              "        }}\n",
              "}});\n",
              "\n",
              "// Listen for the removal of the full notebook cells\n",
              "var notebookContainer = gd.closest('#notebook-container');\n",
              "if (notebookContainer) {{\n",
              "    x.observe(notebookContainer, {childList: true});\n",
              "}}\n",
              "\n",
              "// Listen for the clearing of the current output cell\n",
              "var outputEl = gd.closest('.output');\n",
              "if (outputEl) {{\n",
              "    x.observe(outputEl, {childList: true});\n",
              "}}\n",
              "\n",
              "                        })                };                            </script>        </div>\n",
              "</body>\n",
              "</html>"
            ]
          },
          "metadata": {}
        }
      ]
    },
    {
      "cell_type": "code",
      "source": [
        "graph_data = (df[['LAW_CAT_CD', 'PD_DESC']]).fillna('Unknow')\n",
        "parent_values = list(((graph_data.groupby('LAW_CAT_CD')).count())['PD_DESC'].values)\n",
        "\n",
        "# we add the new columns , regroup again and reindex data set to label data\n",
        "graph_data['count'] = [1] * len(graph_data['LAW_CAT_CD'].values)\n",
        "staced_data= (graph_data.groupby(['LAW_CAT_CD', 'PD_DESC']).count())\n",
        "sorted_staced_data = staced_data.reindex((staced_data[\"count\"].sort_values(ascending=False)).index.values)\n",
        "\n",
        "# We prepare label value\n",
        "label_value = list(sorted_staced_data['count'].values)\n",
        "total_values= parent_values +  label_value[0:75]\n",
        "total_values.insert(0,0)\n",
        "\n",
        "# sepere the index to label and parent labels\n",
        "parrent_list , label_list = ['','Crime range','Crime range','Crime range' ],['Crime range','FELONY','MISDEMEANOR','VIOLATION']\n",
        "\n",
        "for index in list(sorted_staced_data.index.values)[0:75] :\n",
        "    parrent_list.append(index[0])\n",
        "    label_list.append(index[1])\n",
        "fig = go.Figure(go.Sunburst( labels = label_list, parents = parrent_list, values = total_values))\n",
        "fig.update_layout(margin = dict(t=0, l=0, r=0, b=0))\n",
        "\n",
        "fig.show()"
      ],
      "metadata": {
        "colab": {
          "base_uri": "https://localhost:8080/",
          "height": 542
        },
        "id": "tv4kXiDqBpx6",
        "outputId": "3469e5ea-1f87-4678-a116-2bcf5fee6489"
      },
      "execution_count": 49,
      "outputs": [
        {
          "output_type": "display_data",
          "data": {
            "text/html": [
              "<html>\n",
              "<head><meta charset=\"utf-8\" /></head>\n",
              "<body>\n",
              "    <div>            <script src=\"https://cdnjs.cloudflare.com/ajax/libs/mathjax/2.7.5/MathJax.js?config=TeX-AMS-MML_SVG\"></script><script type=\"text/javascript\">if (window.MathJax) {MathJax.Hub.Config({SVG: {font: \"STIX-Web\"}});}</script>                <script type=\"text/javascript\">window.PlotlyConfig = {MathJaxConfig: 'local'};</script>\n",
              "        <script src=\"https://cdn.plot.ly/plotly-2.8.3.min.js\"></script>                <div id=\"63e5d56b-e2ea-400e-9c11-00fa5b87dffc\" class=\"plotly-graph-div\" style=\"height:525px; width:100%;\"></div>            <script type=\"text/javascript\">                                    window.PLOTLYENV=window.PLOTLYENV || {};                                    if (document.getElementById(\"63e5d56b-e2ea-400e-9c11-00fa5b87dffc\")) {                    Plotly.newPlot(                        \"63e5d56b-e2ea-400e-9c11-00fa5b87dffc\",                        [{\"labels\":[\"Crime range\",\"FELONY\",\"MISDEMEANOR\",\"VIOLATION\",\"HARASSMENT,SUBD 3,4,5\",\"LARCENY,PETIT FROM STORE-SHOPL\",\"ASSAULT 3\",\"HARASSMENT,SUBD 1,CIVILIAN\",\"ASSAULT 2,1,UNCLASSIFIED\",\"AGGRAVATED HARASSMENT 2\",\"CRIMINAL MISCHIEF,UNCLASSIFIED 4\",\"LARCENY,GRAND OF AUTO\",\"MISCHIEF, CRIMINAL 4, OF MOTOR\",\"MENACING,UNCLASSIFIED\",\"LARCENY,PETIT FROM AUTO\",\"CRIMINAL CONTEMPT 1\",\"LARCENY,PETIT FROM BUILDING,UNATTENDED, PACKAGE THEFT INSIDE\",\"LARCENY,PETIT OF VEHICLE ACCES\",\"CRIMINAL MISCHIEF 4TH, GRAFFIT\",\"LEAVING SCENE-ACCIDENT-PERSONA\",\"LARCENY,PETIT FROM BUILDING,UN\",\"MISCHIEF,CRIMINAL,    UNCL 2ND\",\"LARCENY,GRAND FROM VEHICLE/MOTORCYCLE\",\"LARCENY,PETIT FROM OPEN AREAS,\",\"LARCENY,GRAND FROM STORE-SHOPL\",\"MISCHIEF, CRIMINAL 3 & 2, OF M\",\"LARCENY,PETIT OF LICENSE PLATE\",\"BURGLARY,COMMERCIAL,NIGHT\",\"STRANGULATION 1ST\",\"CONTROLLED SUBSTANCE, POSSESSI\",\"BURGLARY,RESIDENCE,NIGHT\",\"FORGERY,M.V. REGISTRATION\",\"LARCENY,PETIT FROM BUILDING,UNATTENDED, PACKAGE THEFT OUTSIDE\",\"ROBBERY,PERSONAL ELECTRONIC DEVICE\",\"FORGERY,ETC.-MISD.\",\"BURGLARY,RESIDENCE,DAY\",\"RECKLESS ENDANGERMENT 1\",\"VIOLATION OF ORDER OF PROTECTI\",\"FORGERY,ETC.,UNCLASSIFIED-FELO\",\"SEXUAL ABUSE 3,2\",\"FRAUD,UNCLASSIFIED-FELONY\",\"ROBBERY,OPEN AREA UNCLASSIFIED\",\"INTOXICATED DRIVING,ALCOHOL\",\"OBSTR BREATH/CIRCUL\",\"LARCENY,GRAND FROM OPEN AREAS, UNATTENDED\",\"LARCENY,GRAND OF VEHICULAR/MOTORCYCLE ACCESSORIES\",\"WEAPONS POSSESSION 3\",\"LARCENY,GRAND BY FALSE PROMISE-NOT IN PERSON CONTACT\",\"ROBBERY,BEGIN AS SHOPLIFTING\",\"LARCENY,GRAND FROM BUILDING (NON-RESIDENCE) UNATTENDED\",\"CHILD, ENDANGERING WELFARE\",\"CRIMINAL POSSESSION WEAPON\",\"LARCENY,GRAND OF BICYCLE\",\"LARCENY,PETIT OF BICYCLE\",\"CONTEMPT,CRIMINAL\",\"LARCENY,GRAND BY THEFT OF CREDIT CARD\",\"LARCENY,GRAND FROM RESIDENCE, UNATTENDED\",\"TRESPASS 2, CRIMINAL\",\"WEAPONS, POSSESSION, ETC\",\"LARCENY,GRAND BY CREDIT CARD ACCT COMPROMISE-EXISTING ACCT\",\"LARCENY,GRAND BY BANK ACCT COMPROMISE-UNCLASSIFIED\",\"BURGLARY,COMMERCIAL,DAY\",\"ASSAULT POLICE/PEACE OFFICER\",\"UNAUTHORIZED USE VEHICLE 3\",\"ROBBERY,DWELLING\",\"LARCENY,GRAND BY EXTORTION\",\"LARCENY,PETIT BY FALSE PROMISE\",\"FRAUD,UNCLASSIFIED-MISDEMEANOR\",\"LARCENY,GRAND BY BANK ACCT COMPROMISE-ATM TRANSACTION\",\"CONTROLLED SUBSTANCE,INTENT TO\",\"LARCENY,GRAND FROM PERSON,PICK\",\"LARCENY,GRAND BY BANK ACCT COMPROMISE-REPRODUCED CHECK\",\"LARCENY,GRAND BY ACQUIRING LOST CREDIT CARD\",\"PUBLIC ADMINISTATION,UNCLASS M\",\"LARCENY,GRAND FROM PERSON,PERSONAL ELECTRONIC DEVICE(SNATCH)\",\"CONTROLLED SUBSTANCE,POSSESS.\",\"LARCENY,GRAND OF MOTORCYCLE\",\"LARCENY,GRAND FROM RETAIL STORE, UNATTENDED\",\"LARCENY,GRAND BY OPEN CREDIT CARD (NEW ACCT)\"],\"parents\":[\"\",\"Crime range\",\"Crime range\",\"Crime range\",\"VIOLATION\",\"MISDEMEANOR\",\"MISDEMEANOR\",\"VIOLATION\",\"FELONY\",\"MISDEMEANOR\",\"MISDEMEANOR\",\"FELONY\",\"MISDEMEANOR\",\"MISDEMEANOR\",\"MISDEMEANOR\",\"FELONY\",\"MISDEMEANOR\",\"MISDEMEANOR\",\"MISDEMEANOR\",\"MISDEMEANOR\",\"MISDEMEANOR\",\"FELONY\",\"FELONY\",\"MISDEMEANOR\",\"FELONY\",\"FELONY\",\"MISDEMEANOR\",\"FELONY\",\"FELONY\",\"MISDEMEANOR\",\"FELONY\",\"FELONY\",\"MISDEMEANOR\",\"FELONY\",\"MISDEMEANOR\",\"FELONY\",\"FELONY\",\"MISDEMEANOR\",\"FELONY\",\"MISDEMEANOR\",\"FELONY\",\"FELONY\",\"MISDEMEANOR\",\"MISDEMEANOR\",\"FELONY\",\"FELONY\",\"FELONY\",\"FELONY\",\"FELONY\",\"FELONY\",\"MISDEMEANOR\",\"FELONY\",\"FELONY\",\"MISDEMEANOR\",\"MISDEMEANOR\",\"FELONY\",\"FELONY\",\"MISDEMEANOR\",\"MISDEMEANOR\",\"FELONY\",\"FELONY\",\"FELONY\",\"FELONY\",\"MISDEMEANOR\",\"FELONY\",\"FELONY\",\"MISDEMEANOR\",\"MISDEMEANOR\",\"FELONY\",\"FELONY\",\"FELONY\",\"FELONY\",\"FELONY\",\"MISDEMEANOR\",\"FELONY\",\"FELONY\",\"FELONY\",\"FELONY\",\"FELONY\"],\"values\":[0,50264,77141,24422,17928,16333,12029,6359,5446,5327,3955,3505,3312,3234,3009,2852,2742,2589,2473,2317,2175,2067,1641,1623,1610,1599,1471,1313,1249,1191,1076,1065,1037,1008,981,958,925,899,891,886,867,864,853,809,797,768,758,684,675,675,634,609,594,588,585,574,569,559,557,534,470,454,433,416,413,410,395,387,357,334,324,320,319,313,310,292,287,272,268],\"type\":\"sunburst\"}],                        {\"template\":{\"data\":{\"bar\":[{\"error_x\":{\"color\":\"#2a3f5f\"},\"error_y\":{\"color\":\"#2a3f5f\"},\"marker\":{\"line\":{\"color\":\"#E5ECF6\",\"width\":0.5},\"pattern\":{\"fillmode\":\"overlay\",\"size\":10,\"solidity\":0.2}},\"type\":\"bar\"}],\"barpolar\":[{\"marker\":{\"line\":{\"color\":\"#E5ECF6\",\"width\":0.5},\"pattern\":{\"fillmode\":\"overlay\",\"size\":10,\"solidity\":0.2}},\"type\":\"barpolar\"}],\"carpet\":[{\"aaxis\":{\"endlinecolor\":\"#2a3f5f\",\"gridcolor\":\"white\",\"linecolor\":\"white\",\"minorgridcolor\":\"white\",\"startlinecolor\":\"#2a3f5f\"},\"baxis\":{\"endlinecolor\":\"#2a3f5f\",\"gridcolor\":\"white\",\"linecolor\":\"white\",\"minorgridcolor\":\"white\",\"startlinecolor\":\"#2a3f5f\"},\"type\":\"carpet\"}],\"choropleth\":[{\"colorbar\":{\"outlinewidth\":0,\"ticks\":\"\"},\"type\":\"choropleth\"}],\"contour\":[{\"colorbar\":{\"outlinewidth\":0,\"ticks\":\"\"},\"colorscale\":[[0.0,\"#0d0887\"],[0.1111111111111111,\"#46039f\"],[0.2222222222222222,\"#7201a8\"],[0.3333333333333333,\"#9c179e\"],[0.4444444444444444,\"#bd3786\"],[0.5555555555555556,\"#d8576b\"],[0.6666666666666666,\"#ed7953\"],[0.7777777777777778,\"#fb9f3a\"],[0.8888888888888888,\"#fdca26\"],[1.0,\"#f0f921\"]],\"type\":\"contour\"}],\"contourcarpet\":[{\"colorbar\":{\"outlinewidth\":0,\"ticks\":\"\"},\"type\":\"contourcarpet\"}],\"heatmap\":[{\"colorbar\":{\"outlinewidth\":0,\"ticks\":\"\"},\"colorscale\":[[0.0,\"#0d0887\"],[0.1111111111111111,\"#46039f\"],[0.2222222222222222,\"#7201a8\"],[0.3333333333333333,\"#9c179e\"],[0.4444444444444444,\"#bd3786\"],[0.5555555555555556,\"#d8576b\"],[0.6666666666666666,\"#ed7953\"],[0.7777777777777778,\"#fb9f3a\"],[0.8888888888888888,\"#fdca26\"],[1.0,\"#f0f921\"]],\"type\":\"heatmap\"}],\"heatmapgl\":[{\"colorbar\":{\"outlinewidth\":0,\"ticks\":\"\"},\"colorscale\":[[0.0,\"#0d0887\"],[0.1111111111111111,\"#46039f\"],[0.2222222222222222,\"#7201a8\"],[0.3333333333333333,\"#9c179e\"],[0.4444444444444444,\"#bd3786\"],[0.5555555555555556,\"#d8576b\"],[0.6666666666666666,\"#ed7953\"],[0.7777777777777778,\"#fb9f3a\"],[0.8888888888888888,\"#fdca26\"],[1.0,\"#f0f921\"]],\"type\":\"heatmapgl\"}],\"histogram\":[{\"marker\":{\"pattern\":{\"fillmode\":\"overlay\",\"size\":10,\"solidity\":0.2}},\"type\":\"histogram\"}],\"histogram2d\":[{\"colorbar\":{\"outlinewidth\":0,\"ticks\":\"\"},\"colorscale\":[[0.0,\"#0d0887\"],[0.1111111111111111,\"#46039f\"],[0.2222222222222222,\"#7201a8\"],[0.3333333333333333,\"#9c179e\"],[0.4444444444444444,\"#bd3786\"],[0.5555555555555556,\"#d8576b\"],[0.6666666666666666,\"#ed7953\"],[0.7777777777777778,\"#fb9f3a\"],[0.8888888888888888,\"#fdca26\"],[1.0,\"#f0f921\"]],\"type\":\"histogram2d\"}],\"histogram2dcontour\":[{\"colorbar\":{\"outlinewidth\":0,\"ticks\":\"\"},\"colorscale\":[[0.0,\"#0d0887\"],[0.1111111111111111,\"#46039f\"],[0.2222222222222222,\"#7201a8\"],[0.3333333333333333,\"#9c179e\"],[0.4444444444444444,\"#bd3786\"],[0.5555555555555556,\"#d8576b\"],[0.6666666666666666,\"#ed7953\"],[0.7777777777777778,\"#fb9f3a\"],[0.8888888888888888,\"#fdca26\"],[1.0,\"#f0f921\"]],\"type\":\"histogram2dcontour\"}],\"mesh3d\":[{\"colorbar\":{\"outlinewidth\":0,\"ticks\":\"\"},\"type\":\"mesh3d\"}],\"parcoords\":[{\"line\":{\"colorbar\":{\"outlinewidth\":0,\"ticks\":\"\"}},\"type\":\"parcoords\"}],\"pie\":[{\"automargin\":true,\"type\":\"pie\"}],\"scatter\":[{\"marker\":{\"colorbar\":{\"outlinewidth\":0,\"ticks\":\"\"}},\"type\":\"scatter\"}],\"scatter3d\":[{\"line\":{\"colorbar\":{\"outlinewidth\":0,\"ticks\":\"\"}},\"marker\":{\"colorbar\":{\"outlinewidth\":0,\"ticks\":\"\"}},\"type\":\"scatter3d\"}],\"scattercarpet\":[{\"marker\":{\"colorbar\":{\"outlinewidth\":0,\"ticks\":\"\"}},\"type\":\"scattercarpet\"}],\"scattergeo\":[{\"marker\":{\"colorbar\":{\"outlinewidth\":0,\"ticks\":\"\"}},\"type\":\"scattergeo\"}],\"scattergl\":[{\"marker\":{\"colorbar\":{\"outlinewidth\":0,\"ticks\":\"\"}},\"type\":\"scattergl\"}],\"scattermapbox\":[{\"marker\":{\"colorbar\":{\"outlinewidth\":0,\"ticks\":\"\"}},\"type\":\"scattermapbox\"}],\"scatterpolar\":[{\"marker\":{\"colorbar\":{\"outlinewidth\":0,\"ticks\":\"\"}},\"type\":\"scatterpolar\"}],\"scatterpolargl\":[{\"marker\":{\"colorbar\":{\"outlinewidth\":0,\"ticks\":\"\"}},\"type\":\"scatterpolargl\"}],\"scatterternary\":[{\"marker\":{\"colorbar\":{\"outlinewidth\":0,\"ticks\":\"\"}},\"type\":\"scatterternary\"}],\"surface\":[{\"colorbar\":{\"outlinewidth\":0,\"ticks\":\"\"},\"colorscale\":[[0.0,\"#0d0887\"],[0.1111111111111111,\"#46039f\"],[0.2222222222222222,\"#7201a8\"],[0.3333333333333333,\"#9c179e\"],[0.4444444444444444,\"#bd3786\"],[0.5555555555555556,\"#d8576b\"],[0.6666666666666666,\"#ed7953\"],[0.7777777777777778,\"#fb9f3a\"],[0.8888888888888888,\"#fdca26\"],[1.0,\"#f0f921\"]],\"type\":\"surface\"}],\"table\":[{\"cells\":{\"fill\":{\"color\":\"#EBF0F8\"},\"line\":{\"color\":\"white\"}},\"header\":{\"fill\":{\"color\":\"#C8D4E3\"},\"line\":{\"color\":\"white\"}},\"type\":\"table\"}]},\"layout\":{\"annotationdefaults\":{\"arrowcolor\":\"#2a3f5f\",\"arrowhead\":0,\"arrowwidth\":1},\"autotypenumbers\":\"strict\",\"coloraxis\":{\"colorbar\":{\"outlinewidth\":0,\"ticks\":\"\"}},\"colorscale\":{\"diverging\":[[0,\"#8e0152\"],[0.1,\"#c51b7d\"],[0.2,\"#de77ae\"],[0.3,\"#f1b6da\"],[0.4,\"#fde0ef\"],[0.5,\"#f7f7f7\"],[0.6,\"#e6f5d0\"],[0.7,\"#b8e186\"],[0.8,\"#7fbc41\"],[0.9,\"#4d9221\"],[1,\"#276419\"]],\"sequential\":[[0.0,\"#0d0887\"],[0.1111111111111111,\"#46039f\"],[0.2222222222222222,\"#7201a8\"],[0.3333333333333333,\"#9c179e\"],[0.4444444444444444,\"#bd3786\"],[0.5555555555555556,\"#d8576b\"],[0.6666666666666666,\"#ed7953\"],[0.7777777777777778,\"#fb9f3a\"],[0.8888888888888888,\"#fdca26\"],[1.0,\"#f0f921\"]],\"sequentialminus\":[[0.0,\"#0d0887\"],[0.1111111111111111,\"#46039f\"],[0.2222222222222222,\"#7201a8\"],[0.3333333333333333,\"#9c179e\"],[0.4444444444444444,\"#bd3786\"],[0.5555555555555556,\"#d8576b\"],[0.6666666666666666,\"#ed7953\"],[0.7777777777777778,\"#fb9f3a\"],[0.8888888888888888,\"#fdca26\"],[1.0,\"#f0f921\"]]},\"colorway\":[\"#636efa\",\"#EF553B\",\"#00cc96\",\"#ab63fa\",\"#FFA15A\",\"#19d3f3\",\"#FF6692\",\"#B6E880\",\"#FF97FF\",\"#FECB52\"],\"font\":{\"color\":\"#2a3f5f\"},\"geo\":{\"bgcolor\":\"white\",\"lakecolor\":\"white\",\"landcolor\":\"#E5ECF6\",\"showlakes\":true,\"showland\":true,\"subunitcolor\":\"white\"},\"hoverlabel\":{\"align\":\"left\"},\"hovermode\":\"closest\",\"mapbox\":{\"style\":\"light\"},\"paper_bgcolor\":\"white\",\"plot_bgcolor\":\"#E5ECF6\",\"polar\":{\"angularaxis\":{\"gridcolor\":\"white\",\"linecolor\":\"white\",\"ticks\":\"\"},\"bgcolor\":\"#E5ECF6\",\"radialaxis\":{\"gridcolor\":\"white\",\"linecolor\":\"white\",\"ticks\":\"\"}},\"scene\":{\"xaxis\":{\"backgroundcolor\":\"#E5ECF6\",\"gridcolor\":\"white\",\"gridwidth\":2,\"linecolor\":\"white\",\"showbackground\":true,\"ticks\":\"\",\"zerolinecolor\":\"white\"},\"yaxis\":{\"backgroundcolor\":\"#E5ECF6\",\"gridcolor\":\"white\",\"gridwidth\":2,\"linecolor\":\"white\",\"showbackground\":true,\"ticks\":\"\",\"zerolinecolor\":\"white\"},\"zaxis\":{\"backgroundcolor\":\"#E5ECF6\",\"gridcolor\":\"white\",\"gridwidth\":2,\"linecolor\":\"white\",\"showbackground\":true,\"ticks\":\"\",\"zerolinecolor\":\"white\"}},\"shapedefaults\":{\"line\":{\"color\":\"#2a3f5f\"}},\"ternary\":{\"aaxis\":{\"gridcolor\":\"white\",\"linecolor\":\"white\",\"ticks\":\"\"},\"baxis\":{\"gridcolor\":\"white\",\"linecolor\":\"white\",\"ticks\":\"\"},\"bgcolor\":\"#E5ECF6\",\"caxis\":{\"gridcolor\":\"white\",\"linecolor\":\"white\",\"ticks\":\"\"}},\"title\":{\"x\":0.05},\"xaxis\":{\"automargin\":true,\"gridcolor\":\"white\",\"linecolor\":\"white\",\"ticks\":\"\",\"title\":{\"standoff\":15},\"zerolinecolor\":\"white\",\"zerolinewidth\":2},\"yaxis\":{\"automargin\":true,\"gridcolor\":\"white\",\"linecolor\":\"white\",\"ticks\":\"\",\"title\":{\"standoff\":15},\"zerolinecolor\":\"white\",\"zerolinewidth\":2}}},\"margin\":{\"t\":0,\"l\":0,\"r\":0,\"b\":0}},                        {\"responsive\": true}                    ).then(function(){\n",
              "                            \n",
              "var gd = document.getElementById('63e5d56b-e2ea-400e-9c11-00fa5b87dffc');\n",
              "var x = new MutationObserver(function (mutations, observer) {{\n",
              "        var display = window.getComputedStyle(gd).display;\n",
              "        if (!display || display === 'none') {{\n",
              "            console.log([gd, 'removed!']);\n",
              "            Plotly.purge(gd);\n",
              "            observer.disconnect();\n",
              "        }}\n",
              "}});\n",
              "\n",
              "// Listen for the removal of the full notebook cells\n",
              "var notebookContainer = gd.closest('#notebook-container');\n",
              "if (notebookContainer) {{\n",
              "    x.observe(notebookContainer, {childList: true});\n",
              "}}\n",
              "\n",
              "// Listen for the clearing of the current output cell\n",
              "var outputEl = gd.closest('.output');\n",
              "if (outputEl) {{\n",
              "    x.observe(outputEl, {childList: true});\n",
              "}}\n",
              "\n",
              "                        })                };                            </script>        </div>\n",
              "</body>\n",
              "</html>"
            ]
          },
          "metadata": {}
        }
      ]
    },
    {
      "cell_type": "code",
      "source": [
        "crime_attemp = df[['OFNS_DESC',\"CRM_ATPT_CPTD_CD\"]]\n",
        "\n",
        "Filter_data = crime_attemp.loc[(crime_attemp.CRM_ATPT_CPTD_CD == 'COMPLETED')]\n",
        "Complt_data = Filter_data.groupby(['OFNS_DESC']).count()\n",
        "\n",
        "Filter_data = crime_attemp.loc[(crime_attemp.CRM_ATPT_CPTD_CD == 'ATTEMPTED')]\n",
        "Atmpt_data = Filter_data.groupby(['OFNS_DESC']).count()\n",
        "# Data cleaning to littel bit good visulation\n",
        "Index_list,Precentage_list_comp,Precentage_list_attmp= [],[],[]\n",
        "sort_val_list, sort_index_list = [], []\n",
        "\n",
        "for Index in Complt_data.index.values :\n",
        "    \n",
        "    complt_val = Complt_data.loc[(Complt_data.index == Index)].values\n",
        "    attmp_val = Atmpt_data.loc[(Atmpt_data.index == Index)].values\n",
        "    if len(attmp_val) == 0 : attmp_val = 0\n",
        "        \n",
        "    Sum = (complt_val + attmp_val) \n",
        "    \n",
        "    Attamp_perc = int(((100*attmp_val)/Sum)+1)\n",
        "    if Attamp_perc >= 5 : \n",
        "        Index_list.append(Index)\n",
        "        Precentage_list_comp.append(int((100*complt_val)/Sum))\n",
        "        Precentage_list_attmp.append(Attamp_perc)\n",
        "        sort_val_list.append(Attamp_perc)\n",
        "        sort_index_list.append(Index)\n",
        "# sort thenumerical and string values\n",
        "Precentage_list_attmp.sort(reverse = True)\n",
        "Precentage_list_comp.sort()\n",
        "\n",
        "for val in range(len(Precentage_list_attmp)):\n",
        "    main_index = sort_val_list.index(Precentage_list_attmp[val])\n",
        "    sort_val_list[main_index] = 0\n",
        "    Index_list[val] = sort_index_list[main_index]\n",
        "import plotly.graph_objects as go\n",
        "\n",
        "fig = go.Figure(data=[\n",
        "    go.Bar(name='Complated', x=Index_list, y=Precentage_list_comp),\n",
        "    go.Bar(name='Attempted', x=Index_list, y=Precentage_list_attmp)\n",
        "])\n",
        "# Change the bar mode\n",
        "fig.update_layout(barmode='stack')\n",
        "fig.show()"
      ],
      "metadata": {
        "colab": {
          "base_uri": "https://localhost:8080/",
          "height": 542
        },
        "id": "oSGAyiOdB0Ub",
        "outputId": "12f87651-08ba-4d03-a500-738109defb3f"
      },
      "execution_count": 50,
      "outputs": [
        {
          "output_type": "display_data",
          "data": {
            "text/html": [
              "<html>\n",
              "<head><meta charset=\"utf-8\" /></head>\n",
              "<body>\n",
              "    <div>            <script src=\"https://cdnjs.cloudflare.com/ajax/libs/mathjax/2.7.5/MathJax.js?config=TeX-AMS-MML_SVG\"></script><script type=\"text/javascript\">if (window.MathJax) {MathJax.Hub.Config({SVG: {font: \"STIX-Web\"}});}</script>                <script type=\"text/javascript\">window.PlotlyConfig = {MathJaxConfig: 'local'};</script>\n",
              "        <script src=\"https://cdn.plot.ly/plotly-2.8.3.min.js\"></script>                <div id=\"93c1a7b3-5abd-447a-9951-2466656fda36\" class=\"plotly-graph-div\" style=\"height:525px; width:100%;\"></div>            <script type=\"text/javascript\">                                    window.PLOTLYENV=window.PLOTLYENV || {};                                    if (document.getElementById(\"93c1a7b3-5abd-447a-9951-2466656fda36\")) {                    Plotly.newPlot(                        \"93c1a7b3-5abd-447a-9951-2466656fda36\",                        [{\"name\":\"Complated\",\"x\":[\"KIDNAPPING & RELATED OFFENSES\",\"ROBBERY\",\"RAPE\",\"FELONY ASSAULT\",\"BURGLARY\"],\"y\":[82,88,92,93,94],\"type\":\"bar\"},{\"name\":\"Attempted\",\"x\":[\"KIDNAPPING & RELATED OFFENSES\",\"ROBBERY\",\"RAPE\",\"FELONY ASSAULT\",\"BURGLARY\"],\"y\":[18,12,8,7,6],\"type\":\"bar\"}],                        {\"template\":{\"data\":{\"bar\":[{\"error_x\":{\"color\":\"#2a3f5f\"},\"error_y\":{\"color\":\"#2a3f5f\"},\"marker\":{\"line\":{\"color\":\"#E5ECF6\",\"width\":0.5},\"pattern\":{\"fillmode\":\"overlay\",\"size\":10,\"solidity\":0.2}},\"type\":\"bar\"}],\"barpolar\":[{\"marker\":{\"line\":{\"color\":\"#E5ECF6\",\"width\":0.5},\"pattern\":{\"fillmode\":\"overlay\",\"size\":10,\"solidity\":0.2}},\"type\":\"barpolar\"}],\"carpet\":[{\"aaxis\":{\"endlinecolor\":\"#2a3f5f\",\"gridcolor\":\"white\",\"linecolor\":\"white\",\"minorgridcolor\":\"white\",\"startlinecolor\":\"#2a3f5f\"},\"baxis\":{\"endlinecolor\":\"#2a3f5f\",\"gridcolor\":\"white\",\"linecolor\":\"white\",\"minorgridcolor\":\"white\",\"startlinecolor\":\"#2a3f5f\"},\"type\":\"carpet\"}],\"choropleth\":[{\"colorbar\":{\"outlinewidth\":0,\"ticks\":\"\"},\"type\":\"choropleth\"}],\"contour\":[{\"colorbar\":{\"outlinewidth\":0,\"ticks\":\"\"},\"colorscale\":[[0.0,\"#0d0887\"],[0.1111111111111111,\"#46039f\"],[0.2222222222222222,\"#7201a8\"],[0.3333333333333333,\"#9c179e\"],[0.4444444444444444,\"#bd3786\"],[0.5555555555555556,\"#d8576b\"],[0.6666666666666666,\"#ed7953\"],[0.7777777777777778,\"#fb9f3a\"],[0.8888888888888888,\"#fdca26\"],[1.0,\"#f0f921\"]],\"type\":\"contour\"}],\"contourcarpet\":[{\"colorbar\":{\"outlinewidth\":0,\"ticks\":\"\"},\"type\":\"contourcarpet\"}],\"heatmap\":[{\"colorbar\":{\"outlinewidth\":0,\"ticks\":\"\"},\"colorscale\":[[0.0,\"#0d0887\"],[0.1111111111111111,\"#46039f\"],[0.2222222222222222,\"#7201a8\"],[0.3333333333333333,\"#9c179e\"],[0.4444444444444444,\"#bd3786\"],[0.5555555555555556,\"#d8576b\"],[0.6666666666666666,\"#ed7953\"],[0.7777777777777778,\"#fb9f3a\"],[0.8888888888888888,\"#fdca26\"],[1.0,\"#f0f921\"]],\"type\":\"heatmap\"}],\"heatmapgl\":[{\"colorbar\":{\"outlinewidth\":0,\"ticks\":\"\"},\"colorscale\":[[0.0,\"#0d0887\"],[0.1111111111111111,\"#46039f\"],[0.2222222222222222,\"#7201a8\"],[0.3333333333333333,\"#9c179e\"],[0.4444444444444444,\"#bd3786\"],[0.5555555555555556,\"#d8576b\"],[0.6666666666666666,\"#ed7953\"],[0.7777777777777778,\"#fb9f3a\"],[0.8888888888888888,\"#fdca26\"],[1.0,\"#f0f921\"]],\"type\":\"heatmapgl\"}],\"histogram\":[{\"marker\":{\"pattern\":{\"fillmode\":\"overlay\",\"size\":10,\"solidity\":0.2}},\"type\":\"histogram\"}],\"histogram2d\":[{\"colorbar\":{\"outlinewidth\":0,\"ticks\":\"\"},\"colorscale\":[[0.0,\"#0d0887\"],[0.1111111111111111,\"#46039f\"],[0.2222222222222222,\"#7201a8\"],[0.3333333333333333,\"#9c179e\"],[0.4444444444444444,\"#bd3786\"],[0.5555555555555556,\"#d8576b\"],[0.6666666666666666,\"#ed7953\"],[0.7777777777777778,\"#fb9f3a\"],[0.8888888888888888,\"#fdca26\"],[1.0,\"#f0f921\"]],\"type\":\"histogram2d\"}],\"histogram2dcontour\":[{\"colorbar\":{\"outlinewidth\":0,\"ticks\":\"\"},\"colorscale\":[[0.0,\"#0d0887\"],[0.1111111111111111,\"#46039f\"],[0.2222222222222222,\"#7201a8\"],[0.3333333333333333,\"#9c179e\"],[0.4444444444444444,\"#bd3786\"],[0.5555555555555556,\"#d8576b\"],[0.6666666666666666,\"#ed7953\"],[0.7777777777777778,\"#fb9f3a\"],[0.8888888888888888,\"#fdca26\"],[1.0,\"#f0f921\"]],\"type\":\"histogram2dcontour\"}],\"mesh3d\":[{\"colorbar\":{\"outlinewidth\":0,\"ticks\":\"\"},\"type\":\"mesh3d\"}],\"parcoords\":[{\"line\":{\"colorbar\":{\"outlinewidth\":0,\"ticks\":\"\"}},\"type\":\"parcoords\"}],\"pie\":[{\"automargin\":true,\"type\":\"pie\"}],\"scatter\":[{\"marker\":{\"colorbar\":{\"outlinewidth\":0,\"ticks\":\"\"}},\"type\":\"scatter\"}],\"scatter3d\":[{\"line\":{\"colorbar\":{\"outlinewidth\":0,\"ticks\":\"\"}},\"marker\":{\"colorbar\":{\"outlinewidth\":0,\"ticks\":\"\"}},\"type\":\"scatter3d\"}],\"scattercarpet\":[{\"marker\":{\"colorbar\":{\"outlinewidth\":0,\"ticks\":\"\"}},\"type\":\"scattercarpet\"}],\"scattergeo\":[{\"marker\":{\"colorbar\":{\"outlinewidth\":0,\"ticks\":\"\"}},\"type\":\"scattergeo\"}],\"scattergl\":[{\"marker\":{\"colorbar\":{\"outlinewidth\":0,\"ticks\":\"\"}},\"type\":\"scattergl\"}],\"scattermapbox\":[{\"marker\":{\"colorbar\":{\"outlinewidth\":0,\"ticks\":\"\"}},\"type\":\"scattermapbox\"}],\"scatterpolar\":[{\"marker\":{\"colorbar\":{\"outlinewidth\":0,\"ticks\":\"\"}},\"type\":\"scatterpolar\"}],\"scatterpolargl\":[{\"marker\":{\"colorbar\":{\"outlinewidth\":0,\"ticks\":\"\"}},\"type\":\"scatterpolargl\"}],\"scatterternary\":[{\"marker\":{\"colorbar\":{\"outlinewidth\":0,\"ticks\":\"\"}},\"type\":\"scatterternary\"}],\"surface\":[{\"colorbar\":{\"outlinewidth\":0,\"ticks\":\"\"},\"colorscale\":[[0.0,\"#0d0887\"],[0.1111111111111111,\"#46039f\"],[0.2222222222222222,\"#7201a8\"],[0.3333333333333333,\"#9c179e\"],[0.4444444444444444,\"#bd3786\"],[0.5555555555555556,\"#d8576b\"],[0.6666666666666666,\"#ed7953\"],[0.7777777777777778,\"#fb9f3a\"],[0.8888888888888888,\"#fdca26\"],[1.0,\"#f0f921\"]],\"type\":\"surface\"}],\"table\":[{\"cells\":{\"fill\":{\"color\":\"#EBF0F8\"},\"line\":{\"color\":\"white\"}},\"header\":{\"fill\":{\"color\":\"#C8D4E3\"},\"line\":{\"color\":\"white\"}},\"type\":\"table\"}]},\"layout\":{\"annotationdefaults\":{\"arrowcolor\":\"#2a3f5f\",\"arrowhead\":0,\"arrowwidth\":1},\"autotypenumbers\":\"strict\",\"coloraxis\":{\"colorbar\":{\"outlinewidth\":0,\"ticks\":\"\"}},\"colorscale\":{\"diverging\":[[0,\"#8e0152\"],[0.1,\"#c51b7d\"],[0.2,\"#de77ae\"],[0.3,\"#f1b6da\"],[0.4,\"#fde0ef\"],[0.5,\"#f7f7f7\"],[0.6,\"#e6f5d0\"],[0.7,\"#b8e186\"],[0.8,\"#7fbc41\"],[0.9,\"#4d9221\"],[1,\"#276419\"]],\"sequential\":[[0.0,\"#0d0887\"],[0.1111111111111111,\"#46039f\"],[0.2222222222222222,\"#7201a8\"],[0.3333333333333333,\"#9c179e\"],[0.4444444444444444,\"#bd3786\"],[0.5555555555555556,\"#d8576b\"],[0.6666666666666666,\"#ed7953\"],[0.7777777777777778,\"#fb9f3a\"],[0.8888888888888888,\"#fdca26\"],[1.0,\"#f0f921\"]],\"sequentialminus\":[[0.0,\"#0d0887\"],[0.1111111111111111,\"#46039f\"],[0.2222222222222222,\"#7201a8\"],[0.3333333333333333,\"#9c179e\"],[0.4444444444444444,\"#bd3786\"],[0.5555555555555556,\"#d8576b\"],[0.6666666666666666,\"#ed7953\"],[0.7777777777777778,\"#fb9f3a\"],[0.8888888888888888,\"#fdca26\"],[1.0,\"#f0f921\"]]},\"colorway\":[\"#636efa\",\"#EF553B\",\"#00cc96\",\"#ab63fa\",\"#FFA15A\",\"#19d3f3\",\"#FF6692\",\"#B6E880\",\"#FF97FF\",\"#FECB52\"],\"font\":{\"color\":\"#2a3f5f\"},\"geo\":{\"bgcolor\":\"white\",\"lakecolor\":\"white\",\"landcolor\":\"#E5ECF6\",\"showlakes\":true,\"showland\":true,\"subunitcolor\":\"white\"},\"hoverlabel\":{\"align\":\"left\"},\"hovermode\":\"closest\",\"mapbox\":{\"style\":\"light\"},\"paper_bgcolor\":\"white\",\"plot_bgcolor\":\"#E5ECF6\",\"polar\":{\"angularaxis\":{\"gridcolor\":\"white\",\"linecolor\":\"white\",\"ticks\":\"\"},\"bgcolor\":\"#E5ECF6\",\"radialaxis\":{\"gridcolor\":\"white\",\"linecolor\":\"white\",\"ticks\":\"\"}},\"scene\":{\"xaxis\":{\"backgroundcolor\":\"#E5ECF6\",\"gridcolor\":\"white\",\"gridwidth\":2,\"linecolor\":\"white\",\"showbackground\":true,\"ticks\":\"\",\"zerolinecolor\":\"white\"},\"yaxis\":{\"backgroundcolor\":\"#E5ECF6\",\"gridcolor\":\"white\",\"gridwidth\":2,\"linecolor\":\"white\",\"showbackground\":true,\"ticks\":\"\",\"zerolinecolor\":\"white\"},\"zaxis\":{\"backgroundcolor\":\"#E5ECF6\",\"gridcolor\":\"white\",\"gridwidth\":2,\"linecolor\":\"white\",\"showbackground\":true,\"ticks\":\"\",\"zerolinecolor\":\"white\"}},\"shapedefaults\":{\"line\":{\"color\":\"#2a3f5f\"}},\"ternary\":{\"aaxis\":{\"gridcolor\":\"white\",\"linecolor\":\"white\",\"ticks\":\"\"},\"baxis\":{\"gridcolor\":\"white\",\"linecolor\":\"white\",\"ticks\":\"\"},\"bgcolor\":\"#E5ECF6\",\"caxis\":{\"gridcolor\":\"white\",\"linecolor\":\"white\",\"ticks\":\"\"}},\"title\":{\"x\":0.05},\"xaxis\":{\"automargin\":true,\"gridcolor\":\"white\",\"linecolor\":\"white\",\"ticks\":\"\",\"title\":{\"standoff\":15},\"zerolinecolor\":\"white\",\"zerolinewidth\":2},\"yaxis\":{\"automargin\":true,\"gridcolor\":\"white\",\"linecolor\":\"white\",\"ticks\":\"\",\"title\":{\"standoff\":15},\"zerolinecolor\":\"white\",\"zerolinewidth\":2}}},\"barmode\":\"stack\"},                        {\"responsive\": true}                    ).then(function(){\n",
              "                            \n",
              "var gd = document.getElementById('93c1a7b3-5abd-447a-9951-2466656fda36');\n",
              "var x = new MutationObserver(function (mutations, observer) {{\n",
              "        var display = window.getComputedStyle(gd).display;\n",
              "        if (!display || display === 'none') {{\n",
              "            console.log([gd, 'removed!']);\n",
              "            Plotly.purge(gd);\n",
              "            observer.disconnect();\n",
              "        }}\n",
              "}});\n",
              "\n",
              "// Listen for the removal of the full notebook cells\n",
              "var notebookContainer = gd.closest('#notebook-container');\n",
              "if (notebookContainer) {{\n",
              "    x.observe(notebookContainer, {childList: true});\n",
              "}}\n",
              "\n",
              "// Listen for the clearing of the current output cell\n",
              "var outputEl = gd.closest('.output');\n",
              "if (outputEl) {{\n",
              "    x.observe(outputEl, {childList: true});\n",
              "}}\n",
              "\n",
              "                        })                };                            </script>        </div>\n",
              "</body>\n",
              "</html>"
            ]
          },
          "metadata": {}
        }
      ]
    },
    {
      "cell_type": "code",
      "source": [
        "Race_data = (df[['SUSP_RACE','VIC_RACE']]).fillna('UNKNOWN')\n",
        "Race_data.loc[Race_data['SUSP_RACE'] == 'Unknown', 'SUSP_RACE'] = 'UNKNOWN'\n",
        "Race_data['SUSP_RACE'].value_counts(dropna = False)"
      ],
      "metadata": {
        "colab": {
          "base_uri": "https://localhost:8080/"
        },
        "id": "UIkd5y-nDUS7",
        "outputId": "79e50422-655b-4917-af4d-17b9815c47ee"
      },
      "execution_count": 51,
      "outputs": [
        {
          "output_type": "execute_result",
          "data": {
            "text/plain": [
              "UNKNOWN                           67069\n",
              "BLACK                             43810\n",
              "WHITE HISPANIC                    19551\n",
              "WHITE                             11213\n",
              "BLACK HISPANIC                     5895\n",
              "ASIAN / PACIFIC ISLANDER           4032\n",
              "AMERICAN INDIAN/ALASKAN NATIVE      257\n",
              "Name: SUSP_RACE, dtype: int64"
            ]
          },
          "metadata": {},
          "execution_count": 51
        }
      ]
    },
    {
      "cell_type": "code",
      "source": [
        "Race_data['VIC_RACE'].value_counts(dropna = False)"
      ],
      "metadata": {
        "colab": {
          "base_uri": "https://localhost:8080/"
        },
        "id": "guTL3ZmzDb3N",
        "outputId": "f1634a42-6694-4797-e479-5d88dd99408e"
      },
      "execution_count": 52,
      "outputs": [
        {
          "output_type": "execute_result",
          "data": {
            "text/plain": [
              "UNKNOWN                           46709\n",
              "BLACK                             38108\n",
              "WHITE HISPANIC                    26649\n",
              "WHITE                             21561\n",
              "ASIAN / PACIFIC ISLANDER          12120\n",
              "BLACK HISPANIC                     6194\n",
              "AMERICAN INDIAN/ALASKAN NATIVE      486\n",
              "Name: VIC_RACE, dtype: int64"
            ]
          },
          "metadata": {},
          "execution_count": 52
        }
      ]
    },
    {
      "cell_type": "code",
      "source": [
        "Indexer = list(Race_data['SUSP_RACE'].unique())\n",
        "Values_dict = {}\n",
        "Source = []\n",
        "Target = []\n",
        "Data_values_list = zip(list(Race_data['SUSP_RACE'].values),list(Race_data['VIC_RACE'].values))\n",
        "\n",
        "for sus , vic in Data_values_list:\n",
        "    try: \n",
        "        text = str(sus + \"___\" + vic)\n",
        "        Values_dict[text] += 1\n",
        "    except KeyError:\n",
        "        Values_dict[text] = 1\n",
        "        Source.append(Indexer.index(sus))\n",
        "        Target.append(Indexer.index(vic) + 8)\n",
        "fig = go.Figure(data=[go.Sankey(\n",
        "    node = dict(\n",
        "      pad = 15,\n",
        "      thickness = 20,\n",
        "      line = dict(color = \"black\", width = 0.4,),\n",
        "      label = (Indexer * 2),\n",
        "      color = [\"olive\",\"rosybrown\",\"crimson\",\"lightskyblue\",\"bisque\",\"seagreen\",\"brown\",\"wheat\"] * 2\n",
        "    ),\n",
        "    link = dict(\n",
        "      source = Source,\n",
        "      target = Target,\n",
        "      value = list(Values_dict.values())\n",
        "  ))])\n",
        "\n",
        "fig.update_layout(title_text=\"suspect race vs victim race\", font_size=10)\n",
        "fig.show()"
      ],
      "metadata": {
        "colab": {
          "base_uri": "https://localhost:8080/",
          "height": 542
        },
        "id": "R3v4OB7ZDG1H",
        "outputId": "4ceeff95-1dc3-4c40-e36d-ca33aae3b4fc"
      },
      "execution_count": 53,
      "outputs": [
        {
          "output_type": "display_data",
          "data": {
            "text/html": [
              "<html>\n",
              "<head><meta charset=\"utf-8\" /></head>\n",
              "<body>\n",
              "    <div>            <script src=\"https://cdnjs.cloudflare.com/ajax/libs/mathjax/2.7.5/MathJax.js?config=TeX-AMS-MML_SVG\"></script><script type=\"text/javascript\">if (window.MathJax) {MathJax.Hub.Config({SVG: {font: \"STIX-Web\"}});}</script>                <script type=\"text/javascript\">window.PlotlyConfig = {MathJaxConfig: 'local'};</script>\n",
              "        <script src=\"https://cdn.plot.ly/plotly-2.8.3.min.js\"></script>                <div id=\"a53e77aa-c768-4292-a850-d3d1718aa332\" class=\"plotly-graph-div\" style=\"height:525px; width:100%;\"></div>            <script type=\"text/javascript\">                                    window.PLOTLYENV=window.PLOTLYENV || {};                                    if (document.getElementById(\"a53e77aa-c768-4292-a850-d3d1718aa332\")) {                    Plotly.newPlot(                        \"a53e77aa-c768-4292-a850-d3d1718aa332\",                        [{\"link\":{\"source\":[0,1,0,1,2,3,2,4,1,0,2,1,0,1,3,4,5,4,6,2,3,0,4,6,4,0,1,2,6,1,3,6,2,5,6,3,4,6,2,5,5,0,4,5,3,6,5,3,5],\"target\":[9,9,8,12,9,8,10,9,8,14,14,10,10,11,9,12,11,8,10,8,12,12,10,9,11,11,14,11,14,13,11,8,12,9,12,10,14,11,13,12,10,13,13,13,14,13,8,13,14],\"value\":[14708,18513,18593,11804,6483,274,8047,4167,15647,1215,865,11611,4222,6504,771,4352,44,830,1377,1947,421,3099,1034,1998,639,1884,2728,673,1180,262,2193,790,1495,69,358,329,165,183,41,32,29,89,26,49,34,9,27,10,7]},\"node\":{\"color\":[\"olive\",\"rosybrown\",\"crimson\",\"lightskyblue\",\"bisque\",\"seagreen\",\"brown\",\"wheat\",\"olive\",\"rosybrown\",\"crimson\",\"lightskyblue\",\"bisque\",\"seagreen\",\"brown\",\"wheat\"],\"label\":[\"BLACK\",\"UNKNOWN\",\"WHITE HISPANIC\",\"ASIAN / PACIFIC ISLANDER\",\"WHITE\",\"AMERICAN INDIAN/ALASKAN NATIVE\",\"BLACK HISPANIC\",\"BLACK\",\"UNKNOWN\",\"WHITE HISPANIC\",\"ASIAN / PACIFIC ISLANDER\",\"WHITE\",\"AMERICAN INDIAN/ALASKAN NATIVE\",\"BLACK HISPANIC\"],\"line\":{\"color\":\"black\",\"width\":0.4},\"pad\":15,\"thickness\":20},\"type\":\"sankey\"}],                        {\"template\":{\"data\":{\"bar\":[{\"error_x\":{\"color\":\"#2a3f5f\"},\"error_y\":{\"color\":\"#2a3f5f\"},\"marker\":{\"line\":{\"color\":\"#E5ECF6\",\"width\":0.5},\"pattern\":{\"fillmode\":\"overlay\",\"size\":10,\"solidity\":0.2}},\"type\":\"bar\"}],\"barpolar\":[{\"marker\":{\"line\":{\"color\":\"#E5ECF6\",\"width\":0.5},\"pattern\":{\"fillmode\":\"overlay\",\"size\":10,\"solidity\":0.2}},\"type\":\"barpolar\"}],\"carpet\":[{\"aaxis\":{\"endlinecolor\":\"#2a3f5f\",\"gridcolor\":\"white\",\"linecolor\":\"white\",\"minorgridcolor\":\"white\",\"startlinecolor\":\"#2a3f5f\"},\"baxis\":{\"endlinecolor\":\"#2a3f5f\",\"gridcolor\":\"white\",\"linecolor\":\"white\",\"minorgridcolor\":\"white\",\"startlinecolor\":\"#2a3f5f\"},\"type\":\"carpet\"}],\"choropleth\":[{\"colorbar\":{\"outlinewidth\":0,\"ticks\":\"\"},\"type\":\"choropleth\"}],\"contour\":[{\"colorbar\":{\"outlinewidth\":0,\"ticks\":\"\"},\"colorscale\":[[0.0,\"#0d0887\"],[0.1111111111111111,\"#46039f\"],[0.2222222222222222,\"#7201a8\"],[0.3333333333333333,\"#9c179e\"],[0.4444444444444444,\"#bd3786\"],[0.5555555555555556,\"#d8576b\"],[0.6666666666666666,\"#ed7953\"],[0.7777777777777778,\"#fb9f3a\"],[0.8888888888888888,\"#fdca26\"],[1.0,\"#f0f921\"]],\"type\":\"contour\"}],\"contourcarpet\":[{\"colorbar\":{\"outlinewidth\":0,\"ticks\":\"\"},\"type\":\"contourcarpet\"}],\"heatmap\":[{\"colorbar\":{\"outlinewidth\":0,\"ticks\":\"\"},\"colorscale\":[[0.0,\"#0d0887\"],[0.1111111111111111,\"#46039f\"],[0.2222222222222222,\"#7201a8\"],[0.3333333333333333,\"#9c179e\"],[0.4444444444444444,\"#bd3786\"],[0.5555555555555556,\"#d8576b\"],[0.6666666666666666,\"#ed7953\"],[0.7777777777777778,\"#fb9f3a\"],[0.8888888888888888,\"#fdca26\"],[1.0,\"#f0f921\"]],\"type\":\"heatmap\"}],\"heatmapgl\":[{\"colorbar\":{\"outlinewidth\":0,\"ticks\":\"\"},\"colorscale\":[[0.0,\"#0d0887\"],[0.1111111111111111,\"#46039f\"],[0.2222222222222222,\"#7201a8\"],[0.3333333333333333,\"#9c179e\"],[0.4444444444444444,\"#bd3786\"],[0.5555555555555556,\"#d8576b\"],[0.6666666666666666,\"#ed7953\"],[0.7777777777777778,\"#fb9f3a\"],[0.8888888888888888,\"#fdca26\"],[1.0,\"#f0f921\"]],\"type\":\"heatmapgl\"}],\"histogram\":[{\"marker\":{\"pattern\":{\"fillmode\":\"overlay\",\"size\":10,\"solidity\":0.2}},\"type\":\"histogram\"}],\"histogram2d\":[{\"colorbar\":{\"outlinewidth\":0,\"ticks\":\"\"},\"colorscale\":[[0.0,\"#0d0887\"],[0.1111111111111111,\"#46039f\"],[0.2222222222222222,\"#7201a8\"],[0.3333333333333333,\"#9c179e\"],[0.4444444444444444,\"#bd3786\"],[0.5555555555555556,\"#d8576b\"],[0.6666666666666666,\"#ed7953\"],[0.7777777777777778,\"#fb9f3a\"],[0.8888888888888888,\"#fdca26\"],[1.0,\"#f0f921\"]],\"type\":\"histogram2d\"}],\"histogram2dcontour\":[{\"colorbar\":{\"outlinewidth\":0,\"ticks\":\"\"},\"colorscale\":[[0.0,\"#0d0887\"],[0.1111111111111111,\"#46039f\"],[0.2222222222222222,\"#7201a8\"],[0.3333333333333333,\"#9c179e\"],[0.4444444444444444,\"#bd3786\"],[0.5555555555555556,\"#d8576b\"],[0.6666666666666666,\"#ed7953\"],[0.7777777777777778,\"#fb9f3a\"],[0.8888888888888888,\"#fdca26\"],[1.0,\"#f0f921\"]],\"type\":\"histogram2dcontour\"}],\"mesh3d\":[{\"colorbar\":{\"outlinewidth\":0,\"ticks\":\"\"},\"type\":\"mesh3d\"}],\"parcoords\":[{\"line\":{\"colorbar\":{\"outlinewidth\":0,\"ticks\":\"\"}},\"type\":\"parcoords\"}],\"pie\":[{\"automargin\":true,\"type\":\"pie\"}],\"scatter\":[{\"marker\":{\"colorbar\":{\"outlinewidth\":0,\"ticks\":\"\"}},\"type\":\"scatter\"}],\"scatter3d\":[{\"line\":{\"colorbar\":{\"outlinewidth\":0,\"ticks\":\"\"}},\"marker\":{\"colorbar\":{\"outlinewidth\":0,\"ticks\":\"\"}},\"type\":\"scatter3d\"}],\"scattercarpet\":[{\"marker\":{\"colorbar\":{\"outlinewidth\":0,\"ticks\":\"\"}},\"type\":\"scattercarpet\"}],\"scattergeo\":[{\"marker\":{\"colorbar\":{\"outlinewidth\":0,\"ticks\":\"\"}},\"type\":\"scattergeo\"}],\"scattergl\":[{\"marker\":{\"colorbar\":{\"outlinewidth\":0,\"ticks\":\"\"}},\"type\":\"scattergl\"}],\"scattermapbox\":[{\"marker\":{\"colorbar\":{\"outlinewidth\":0,\"ticks\":\"\"}},\"type\":\"scattermapbox\"}],\"scatterpolar\":[{\"marker\":{\"colorbar\":{\"outlinewidth\":0,\"ticks\":\"\"}},\"type\":\"scatterpolar\"}],\"scatterpolargl\":[{\"marker\":{\"colorbar\":{\"outlinewidth\":0,\"ticks\":\"\"}},\"type\":\"scatterpolargl\"}],\"scatterternary\":[{\"marker\":{\"colorbar\":{\"outlinewidth\":0,\"ticks\":\"\"}},\"type\":\"scatterternary\"}],\"surface\":[{\"colorbar\":{\"outlinewidth\":0,\"ticks\":\"\"},\"colorscale\":[[0.0,\"#0d0887\"],[0.1111111111111111,\"#46039f\"],[0.2222222222222222,\"#7201a8\"],[0.3333333333333333,\"#9c179e\"],[0.4444444444444444,\"#bd3786\"],[0.5555555555555556,\"#d8576b\"],[0.6666666666666666,\"#ed7953\"],[0.7777777777777778,\"#fb9f3a\"],[0.8888888888888888,\"#fdca26\"],[1.0,\"#f0f921\"]],\"type\":\"surface\"}],\"table\":[{\"cells\":{\"fill\":{\"color\":\"#EBF0F8\"},\"line\":{\"color\":\"white\"}},\"header\":{\"fill\":{\"color\":\"#C8D4E3\"},\"line\":{\"color\":\"white\"}},\"type\":\"table\"}]},\"layout\":{\"annotationdefaults\":{\"arrowcolor\":\"#2a3f5f\",\"arrowhead\":0,\"arrowwidth\":1},\"autotypenumbers\":\"strict\",\"coloraxis\":{\"colorbar\":{\"outlinewidth\":0,\"ticks\":\"\"}},\"colorscale\":{\"diverging\":[[0,\"#8e0152\"],[0.1,\"#c51b7d\"],[0.2,\"#de77ae\"],[0.3,\"#f1b6da\"],[0.4,\"#fde0ef\"],[0.5,\"#f7f7f7\"],[0.6,\"#e6f5d0\"],[0.7,\"#b8e186\"],[0.8,\"#7fbc41\"],[0.9,\"#4d9221\"],[1,\"#276419\"]],\"sequential\":[[0.0,\"#0d0887\"],[0.1111111111111111,\"#46039f\"],[0.2222222222222222,\"#7201a8\"],[0.3333333333333333,\"#9c179e\"],[0.4444444444444444,\"#bd3786\"],[0.5555555555555556,\"#d8576b\"],[0.6666666666666666,\"#ed7953\"],[0.7777777777777778,\"#fb9f3a\"],[0.8888888888888888,\"#fdca26\"],[1.0,\"#f0f921\"]],\"sequentialminus\":[[0.0,\"#0d0887\"],[0.1111111111111111,\"#46039f\"],[0.2222222222222222,\"#7201a8\"],[0.3333333333333333,\"#9c179e\"],[0.4444444444444444,\"#bd3786\"],[0.5555555555555556,\"#d8576b\"],[0.6666666666666666,\"#ed7953\"],[0.7777777777777778,\"#fb9f3a\"],[0.8888888888888888,\"#fdca26\"],[1.0,\"#f0f921\"]]},\"colorway\":[\"#636efa\",\"#EF553B\",\"#00cc96\",\"#ab63fa\",\"#FFA15A\",\"#19d3f3\",\"#FF6692\",\"#B6E880\",\"#FF97FF\",\"#FECB52\"],\"font\":{\"color\":\"#2a3f5f\"},\"geo\":{\"bgcolor\":\"white\",\"lakecolor\":\"white\",\"landcolor\":\"#E5ECF6\",\"showlakes\":true,\"showland\":true,\"subunitcolor\":\"white\"},\"hoverlabel\":{\"align\":\"left\"},\"hovermode\":\"closest\",\"mapbox\":{\"style\":\"light\"},\"paper_bgcolor\":\"white\",\"plot_bgcolor\":\"#E5ECF6\",\"polar\":{\"angularaxis\":{\"gridcolor\":\"white\",\"linecolor\":\"white\",\"ticks\":\"\"},\"bgcolor\":\"#E5ECF6\",\"radialaxis\":{\"gridcolor\":\"white\",\"linecolor\":\"white\",\"ticks\":\"\"}},\"scene\":{\"xaxis\":{\"backgroundcolor\":\"#E5ECF6\",\"gridcolor\":\"white\",\"gridwidth\":2,\"linecolor\":\"white\",\"showbackground\":true,\"ticks\":\"\",\"zerolinecolor\":\"white\"},\"yaxis\":{\"backgroundcolor\":\"#E5ECF6\",\"gridcolor\":\"white\",\"gridwidth\":2,\"linecolor\":\"white\",\"showbackground\":true,\"ticks\":\"\",\"zerolinecolor\":\"white\"},\"zaxis\":{\"backgroundcolor\":\"#E5ECF6\",\"gridcolor\":\"white\",\"gridwidth\":2,\"linecolor\":\"white\",\"showbackground\":true,\"ticks\":\"\",\"zerolinecolor\":\"white\"}},\"shapedefaults\":{\"line\":{\"color\":\"#2a3f5f\"}},\"ternary\":{\"aaxis\":{\"gridcolor\":\"white\",\"linecolor\":\"white\",\"ticks\":\"\"},\"baxis\":{\"gridcolor\":\"white\",\"linecolor\":\"white\",\"ticks\":\"\"},\"bgcolor\":\"#E5ECF6\",\"caxis\":{\"gridcolor\":\"white\",\"linecolor\":\"white\",\"ticks\":\"\"}},\"title\":{\"x\":0.05},\"xaxis\":{\"automargin\":true,\"gridcolor\":\"white\",\"linecolor\":\"white\",\"ticks\":\"\",\"title\":{\"standoff\":15},\"zerolinecolor\":\"white\",\"zerolinewidth\":2},\"yaxis\":{\"automargin\":true,\"gridcolor\":\"white\",\"linecolor\":\"white\",\"ticks\":\"\",\"title\":{\"standoff\":15},\"zerolinecolor\":\"white\",\"zerolinewidth\":2}}},\"title\":{\"text\":\"suspect race vs victim race\"},\"font\":{\"size\":10}},                        {\"responsive\": true}                    ).then(function(){\n",
              "                            \n",
              "var gd = document.getElementById('a53e77aa-c768-4292-a850-d3d1718aa332');\n",
              "var x = new MutationObserver(function (mutations, observer) {{\n",
              "        var display = window.getComputedStyle(gd).display;\n",
              "        if (!display || display === 'none') {{\n",
              "            console.log([gd, 'removed!']);\n",
              "            Plotly.purge(gd);\n",
              "            observer.disconnect();\n",
              "        }}\n",
              "}});\n",
              "\n",
              "// Listen for the removal of the full notebook cells\n",
              "var notebookContainer = gd.closest('#notebook-container');\n",
              "if (notebookContainer) {{\n",
              "    x.observe(notebookContainer, {childList: true});\n",
              "}}\n",
              "\n",
              "// Listen for the clearing of the current output cell\n",
              "var outputEl = gd.closest('.output');\n",
              "if (outputEl) {{\n",
              "    x.observe(outputEl, {childList: true});\n",
              "}}\n",
              "\n",
              "                        })                };                            </script>        </div>\n",
              "</body>\n",
              "</html>"
            ]
          },
          "metadata": {}
        }
      ]
    },
    {
      "cell_type": "code",
      "source": [
        "graph_data = (df[['LAW_CAT_CD','VIC_AGE_GROUP','VIC_RACE']]).dropna()\n",
        "\n",
        "Crimetype_data= list(graph_data.LAW_CAT_CD.unique())\n",
        "Vicage_data= list(graph_data.VIC_AGE_GROUP.unique())[0:6]\n",
        "Vicrace_data= list(graph_data.VIC_RACE.unique())\n",
        "\n",
        "Indexer = Crimetype_data + Vicage_data + Vicrace_data\n",
        "Values_dict = {}\n",
        "Source = []\n",
        "Target = []\n",
        "Data_values_list = zip(list(graph_data['LAW_CAT_CD'].values),list(graph_data['VIC_AGE_GROUP'].values),\n",
        "                       list(graph_data['VIC_RACE'].values))\n",
        "# For loop to create link map\n",
        "for sus, vic_age, vic_race in Data_values_list:\n",
        "    if (vic_age in Vicage_data) and ((sus and vic_age and vic_race) !='UNKNOWN'):\n",
        "        try: \n",
        "            text = str(sus + \"___\" + vic_age + \"___\" + vic_race)\n",
        "            Values_dict[text] += 1\n",
        "        except KeyError:\n",
        "            Values_dict[text] = 1\n",
        "            Source.append(Indexer.index(sus))\n",
        "            Target.append(Indexer.index(vic_age))\n",
        "            Source.append(Indexer.index(vic_age))\n",
        "            Target.append(Indexer.index(vic_race))\n",
        "\n",
        "import random\n",
        "color_list = []\n",
        "\n",
        "def color_creater(List):\n",
        "    if len(List) == len(Values_dict) :\n",
        "        return 0\n",
        "    else:\n",
        "        first_rgb = random.randint(0,255)\n",
        "        second_rgb = random.randint(0,255)    \n",
        "        third_rgb = random.randint(0,255)    \n",
        "    \n",
        "        color_text = f\"rgba({str(first_rgb)},{str(second_rgb)},{str(third_rgb)},0.1)\"\n",
        "        if color_text not in color_list :\n",
        "            color_list.append(color_text)\n",
        "        color_creater(List)\n",
        "\n",
        "color_creater(color_list)\n",
        "# And result ....\n",
        "fig = go.Figure(data=[go.Sankey(\n",
        "    node = dict(\n",
        "      pad = 15,\n",
        "      thickness = 20,\n",
        "      line = dict(color = \"black\", width = 0.4,),\n",
        "      label = (Indexer),\n",
        "      color = [\"olive\",\"rosybrown\",\"crimson\",\"lightskyblue\",\"bisque\",\"seagreen\",\"brown\",\"wheat\"] * 2\n",
        "    ),\n",
        "    link = dict(\n",
        "      source = Source, \n",
        "      target = Target,\n",
        "      value = list(Values_dict.values()),\n",
        "      color = color_list\n",
        "  ))])\n",
        "\n",
        "fig.update_layout(title_text=\"level of offence vs victim's age vs victim's race\", font_size=10)\n",
        "fig.show()"
      ],
      "metadata": {
        "colab": {
          "base_uri": "https://localhost:8080/",
          "height": 542
        },
        "id": "kWHoPnA9B-RC",
        "outputId": "4dd02846-70bf-48d2-8844-21dc35e525ef"
      },
      "execution_count": 54,
      "outputs": [
        {
          "output_type": "display_data",
          "data": {
            "text/html": [
              "<html>\n",
              "<head><meta charset=\"utf-8\" /></head>\n",
              "<body>\n",
              "    <div>            <script src=\"https://cdnjs.cloudflare.com/ajax/libs/mathjax/2.7.5/MathJax.js?config=TeX-AMS-MML_SVG\"></script><script type=\"text/javascript\">if (window.MathJax) {MathJax.Hub.Config({SVG: {font: \"STIX-Web\"}});}</script>                <script type=\"text/javascript\">window.PlotlyConfig = {MathJaxConfig: 'local'};</script>\n",
              "        <script src=\"https://cdn.plot.ly/plotly-2.8.3.min.js\"></script>                <div id=\"d2d0b24d-a55a-4100-af37-16cd5f25eef0\" class=\"plotly-graph-div\" style=\"height:525px; width:100%;\"></div>            <script type=\"text/javascript\">                                    window.PLOTLYENV=window.PLOTLYENV || {};                                    if (document.getElementById(\"d2d0b24d-a55a-4100-af37-16cd5f25eef0\")) {                    Plotly.newPlot(                        \"d2d0b24d-a55a-4100-af37-16cd5f25eef0\",                        [{\"link\":{\"color\":[\"rgba(16,51,254,0.1)\",\"rgba(92,150,158,0.1)\",\"rgba(229,169,176,0.1)\",\"rgba(208,135,71,0.1)\",\"rgba(171,214,46,0.1)\",\"rgba(101,208,121,0.1)\",\"rgba(73,224,138,0.1)\",\"rgba(210,213,75,0.1)\",\"rgba(11,200,65,0.1)\",\"rgba(32,177,184,0.1)\",\"rgba(139,65,122,0.1)\",\"rgba(67,116,245,0.1)\",\"rgba(61,104,152,0.1)\",\"rgba(177,106,44,0.1)\",\"rgba(129,76,31,0.1)\",\"rgba(21,105,111,0.1)\",\"rgba(245,64,136,0.1)\",\"rgba(118,8,64,0.1)\",\"rgba(146,48,255,0.1)\",\"rgba(224,195,109,0.1)\",\"rgba(201,245,166,0.1)\",\"rgba(80,241,224,0.1)\",\"rgba(133,46,196,0.1)\",\"rgba(163,233,61,0.1)\",\"rgba(63,196,222,0.1)\",\"rgba(6,167,35,0.1)\",\"rgba(185,134,152,0.1)\",\"rgba(126,109,139,0.1)\",\"rgba(248,169,230,0.1)\",\"rgba(164,174,230,0.1)\",\"rgba(183,62,41,0.1)\",\"rgba(254,151,81,0.1)\",\"rgba(127,249,9,0.1)\",\"rgba(187,43,157,0.1)\",\"rgba(107,40,172,0.1)\",\"rgba(181,185,176,0.1)\",\"rgba(199,246,176,0.1)\",\"rgba(83,22,63,0.1)\",\"rgba(44,182,146,0.1)\",\"rgba(146,164,133,0.1)\",\"rgba(19,37,16,0.1)\",\"rgba(90,21,184,0.1)\",\"rgba(155,226,47,0.1)\",\"rgba(93,129,162,0.1)\",\"rgba(0,23,104,0.1)\",\"rgba(250,241,195,0.1)\",\"rgba(81,148,232,0.1)\",\"rgba(249,239,36,0.1)\",\"rgba(39,19,242,0.1)\",\"rgba(224,139,161,0.1)\",\"rgba(226,141,32,0.1)\",\"rgba(101,116,176,0.1)\",\"rgba(250,44,115,0.1)\",\"rgba(89,235,66,0.1)\",\"rgba(234,158,199,0.1)\",\"rgba(202,36,132,0.1)\",\"rgba(13,214,249,0.1)\",\"rgba(120,201,189,0.1)\",\"rgba(154,118,32,0.1)\",\"rgba(191,42,85,0.1)\",\"rgba(131,64,88,0.1)\",\"rgba(103,132,247,0.1)\",\"rgba(11,152,51,0.1)\",\"rgba(219,10,114,0.1)\",\"rgba(188,106,35,0.1)\",\"rgba(63,162,4,0.1)\",\"rgba(169,247,125,0.1)\",\"rgba(62,172,22,0.1)\",\"rgba(178,115,89,0.1)\",\"rgba(63,178,146,0.1)\",\"rgba(99,192,11,0.1)\",\"rgba(223,54,183,0.1)\",\"rgba(25,118,106,0.1)\",\"rgba(40,22,69,0.1)\",\"rgba(61,172,14,0.1)\",\"rgba(240,153,45,0.1)\",\"rgba(161,71,48,0.1)\",\"rgba(28,38,178,0.1)\",\"rgba(170,240,59,0.1)\",\"rgba(152,167,69,0.1)\",\"rgba(131,62,92,0.1)\",\"rgba(52,223,65,0.1)\",\"rgba(243,229,143,0.1)\",\"rgba(8,98,178,0.1)\",\"rgba(28,149,107,0.1)\",\"rgba(15,159,211,0.1)\",\"rgba(154,52,28,0.1)\",\"rgba(92,44,37,0.1)\",\"rgba(174,194,152,0.1)\",\"rgba(147,234,27,0.1)\",\"rgba(34,210,92,0.1)\",\"rgba(238,111,179,0.1)\",\"rgba(44,166,114,0.1)\",\"rgba(65,90,155,0.1)\",\"rgba(161,225,74,0.1)\",\"rgba(168,213,166,0.1)\",\"rgba(254,29,86,0.1)\",\"rgba(199,46,230,0.1)\",\"rgba(77,87,194,0.1)\",\"rgba(180,176,243,0.1)\",\"rgba(243,244,63,0.1)\",\"rgba(71,36,20,0.1)\",\"rgba(168,78,72,0.1)\",\"rgba(81,177,161,0.1)\",\"rgba(94,228,59,0.1)\",\"rgba(33,230,199,0.1)\",\"rgba(100,94,81,0.1)\",\"rgba(178,207,191,0.1)\"],\"source\":[0,4,0,4,0,6,0,7,2,4,1,4,1,4,1,6,1,4,1,8,1,5,2,6,1,7,2,6,0,4,0,5,1,6,0,6,1,4,1,8,1,5,2,6,1,3,0,6,1,7,0,6,2,6,2,4,0,7,2,7,0,8,1,6,2,8,1,6,2,4,0,3,1,8,2,6,1,4,2,7,1,7,0,4,0,7,0,4,2,7,0,7,0,4,2,8,2,4,2,5,0,7,0,8,1,7,0,8,1,5,1,8,2,4,1,3,1,7,1,6,0,5,2,8,2,6,0,5,2,7,0,5,0,8,2,3,0,5,2,5,0,3,1,7,1,3,0,3,0,8,1,8,2,4,0,6,1,5,2,3,2,5,1,6,1,4,2,7,2,7,2,5,1,5,0,3,2,8,2,3,2,8,2,3,2,3,2,5,0,6,1,8,0,8,0,3,1,3,0,7,1,5,1,3,0,3,2,3,2,5,2,8,0,5,1,3],\"target\":[4,10,4,11,6,10,7,11,4,10,4,11,4,12,6,10,4,10,8,13,5,10,6,10,7,13,6,13,4,12,5,10,6,12,6,11,4,14,8,12,5,12,6,11,3,11,6,14,7,10,6,12,6,14,4,12,7,12,7,12,8,11,6,11,8,11,6,14,4,11,3,12,8,11,6,12,4,13,7,10,7,12,4,14,7,10,4,13,7,14,7,13,4,15,8,12,4,14,5,11,7,14,8,10,7,14,8,12,5,11,8,10,4,13,3,10,7,11,6,13,5,12,8,10,6,15,5,13,7,11,5,11,8,14,3,11,5,14,5,10,3,14,7,15,3,12,3,10,8,13,8,14,4,15,6,13,5,13,3,10,5,12,6,15,4,15,7,15,7,13,5,14,5,14,3,11,8,14,3,14,8,13,3,15,3,12,5,13,6,15,8,15,8,15,3,15,3,13,7,15,5,15,3,14,3,13,3,13,5,15,8,15,5,15,3,15],\"value\":[5511,3387,2697,768,4534,4612,6113,4531,8847,79,1128,2731,409,306,4476,603,2760,2104,2627,448,970,1477,90,1333,2089,2007,620,2872,1146,690,1138,2712,464,1552,1867,49,967,1532,1382,910,1833,2236,1390,1159,244,282,77,286,1001,130,545,787,616,500,310,849,629,216,940,656,466,578,28,133,345,140,388,42,124,480,42,34,105,86,101,250,51,491,222,139,341,70,117,11,131,84,233,65,145,28,71,1,55,91,34,9,11,3,24,21,5,50,12,16,1,6,4,3]},\"node\":{\"color\":[\"olive\",\"rosybrown\",\"crimson\",\"lightskyblue\",\"bisque\",\"seagreen\",\"brown\",\"wheat\",\"olive\",\"rosybrown\",\"crimson\",\"lightskyblue\",\"bisque\",\"seagreen\",\"brown\",\"wheat\"],\"label\":[\"FELONY\",\"MISDEMEANOR\",\"VIOLATION\",\"UNKNOWN\",\"25-44\",\"<18\",\"45-64\",\"18-24\",\"65+\",\"UNKNOWN\",\"BLACK\",\"WHITE\",\"WHITE HISPANIC\",\"BLACK HISPANIC\",\"ASIAN / PACIFIC ISLANDER\",\"AMERICAN INDIAN/ALASKAN NATIVE\"],\"line\":{\"color\":\"black\",\"width\":0.4},\"pad\":15,\"thickness\":20},\"type\":\"sankey\"}],                        {\"template\":{\"data\":{\"bar\":[{\"error_x\":{\"color\":\"#2a3f5f\"},\"error_y\":{\"color\":\"#2a3f5f\"},\"marker\":{\"line\":{\"color\":\"#E5ECF6\",\"width\":0.5},\"pattern\":{\"fillmode\":\"overlay\",\"size\":10,\"solidity\":0.2}},\"type\":\"bar\"}],\"barpolar\":[{\"marker\":{\"line\":{\"color\":\"#E5ECF6\",\"width\":0.5},\"pattern\":{\"fillmode\":\"overlay\",\"size\":10,\"solidity\":0.2}},\"type\":\"barpolar\"}],\"carpet\":[{\"aaxis\":{\"endlinecolor\":\"#2a3f5f\",\"gridcolor\":\"white\",\"linecolor\":\"white\",\"minorgridcolor\":\"white\",\"startlinecolor\":\"#2a3f5f\"},\"baxis\":{\"endlinecolor\":\"#2a3f5f\",\"gridcolor\":\"white\",\"linecolor\":\"white\",\"minorgridcolor\":\"white\",\"startlinecolor\":\"#2a3f5f\"},\"type\":\"carpet\"}],\"choropleth\":[{\"colorbar\":{\"outlinewidth\":0,\"ticks\":\"\"},\"type\":\"choropleth\"}],\"contour\":[{\"colorbar\":{\"outlinewidth\":0,\"ticks\":\"\"},\"colorscale\":[[0.0,\"#0d0887\"],[0.1111111111111111,\"#46039f\"],[0.2222222222222222,\"#7201a8\"],[0.3333333333333333,\"#9c179e\"],[0.4444444444444444,\"#bd3786\"],[0.5555555555555556,\"#d8576b\"],[0.6666666666666666,\"#ed7953\"],[0.7777777777777778,\"#fb9f3a\"],[0.8888888888888888,\"#fdca26\"],[1.0,\"#f0f921\"]],\"type\":\"contour\"}],\"contourcarpet\":[{\"colorbar\":{\"outlinewidth\":0,\"ticks\":\"\"},\"type\":\"contourcarpet\"}],\"heatmap\":[{\"colorbar\":{\"outlinewidth\":0,\"ticks\":\"\"},\"colorscale\":[[0.0,\"#0d0887\"],[0.1111111111111111,\"#46039f\"],[0.2222222222222222,\"#7201a8\"],[0.3333333333333333,\"#9c179e\"],[0.4444444444444444,\"#bd3786\"],[0.5555555555555556,\"#d8576b\"],[0.6666666666666666,\"#ed7953\"],[0.7777777777777778,\"#fb9f3a\"],[0.8888888888888888,\"#fdca26\"],[1.0,\"#f0f921\"]],\"type\":\"heatmap\"}],\"heatmapgl\":[{\"colorbar\":{\"outlinewidth\":0,\"ticks\":\"\"},\"colorscale\":[[0.0,\"#0d0887\"],[0.1111111111111111,\"#46039f\"],[0.2222222222222222,\"#7201a8\"],[0.3333333333333333,\"#9c179e\"],[0.4444444444444444,\"#bd3786\"],[0.5555555555555556,\"#d8576b\"],[0.6666666666666666,\"#ed7953\"],[0.7777777777777778,\"#fb9f3a\"],[0.8888888888888888,\"#fdca26\"],[1.0,\"#f0f921\"]],\"type\":\"heatmapgl\"}],\"histogram\":[{\"marker\":{\"pattern\":{\"fillmode\":\"overlay\",\"size\":10,\"solidity\":0.2}},\"type\":\"histogram\"}],\"histogram2d\":[{\"colorbar\":{\"outlinewidth\":0,\"ticks\":\"\"},\"colorscale\":[[0.0,\"#0d0887\"],[0.1111111111111111,\"#46039f\"],[0.2222222222222222,\"#7201a8\"],[0.3333333333333333,\"#9c179e\"],[0.4444444444444444,\"#bd3786\"],[0.5555555555555556,\"#d8576b\"],[0.6666666666666666,\"#ed7953\"],[0.7777777777777778,\"#fb9f3a\"],[0.8888888888888888,\"#fdca26\"],[1.0,\"#f0f921\"]],\"type\":\"histogram2d\"}],\"histogram2dcontour\":[{\"colorbar\":{\"outlinewidth\":0,\"ticks\":\"\"},\"colorscale\":[[0.0,\"#0d0887\"],[0.1111111111111111,\"#46039f\"],[0.2222222222222222,\"#7201a8\"],[0.3333333333333333,\"#9c179e\"],[0.4444444444444444,\"#bd3786\"],[0.5555555555555556,\"#d8576b\"],[0.6666666666666666,\"#ed7953\"],[0.7777777777777778,\"#fb9f3a\"],[0.8888888888888888,\"#fdca26\"],[1.0,\"#f0f921\"]],\"type\":\"histogram2dcontour\"}],\"mesh3d\":[{\"colorbar\":{\"outlinewidth\":0,\"ticks\":\"\"},\"type\":\"mesh3d\"}],\"parcoords\":[{\"line\":{\"colorbar\":{\"outlinewidth\":0,\"ticks\":\"\"}},\"type\":\"parcoords\"}],\"pie\":[{\"automargin\":true,\"type\":\"pie\"}],\"scatter\":[{\"marker\":{\"colorbar\":{\"outlinewidth\":0,\"ticks\":\"\"}},\"type\":\"scatter\"}],\"scatter3d\":[{\"line\":{\"colorbar\":{\"outlinewidth\":0,\"ticks\":\"\"}},\"marker\":{\"colorbar\":{\"outlinewidth\":0,\"ticks\":\"\"}},\"type\":\"scatter3d\"}],\"scattercarpet\":[{\"marker\":{\"colorbar\":{\"outlinewidth\":0,\"ticks\":\"\"}},\"type\":\"scattercarpet\"}],\"scattergeo\":[{\"marker\":{\"colorbar\":{\"outlinewidth\":0,\"ticks\":\"\"}},\"type\":\"scattergeo\"}],\"scattergl\":[{\"marker\":{\"colorbar\":{\"outlinewidth\":0,\"ticks\":\"\"}},\"type\":\"scattergl\"}],\"scattermapbox\":[{\"marker\":{\"colorbar\":{\"outlinewidth\":0,\"ticks\":\"\"}},\"type\":\"scattermapbox\"}],\"scatterpolar\":[{\"marker\":{\"colorbar\":{\"outlinewidth\":0,\"ticks\":\"\"}},\"type\":\"scatterpolar\"}],\"scatterpolargl\":[{\"marker\":{\"colorbar\":{\"outlinewidth\":0,\"ticks\":\"\"}},\"type\":\"scatterpolargl\"}],\"scatterternary\":[{\"marker\":{\"colorbar\":{\"outlinewidth\":0,\"ticks\":\"\"}},\"type\":\"scatterternary\"}],\"surface\":[{\"colorbar\":{\"outlinewidth\":0,\"ticks\":\"\"},\"colorscale\":[[0.0,\"#0d0887\"],[0.1111111111111111,\"#46039f\"],[0.2222222222222222,\"#7201a8\"],[0.3333333333333333,\"#9c179e\"],[0.4444444444444444,\"#bd3786\"],[0.5555555555555556,\"#d8576b\"],[0.6666666666666666,\"#ed7953\"],[0.7777777777777778,\"#fb9f3a\"],[0.8888888888888888,\"#fdca26\"],[1.0,\"#f0f921\"]],\"type\":\"surface\"}],\"table\":[{\"cells\":{\"fill\":{\"color\":\"#EBF0F8\"},\"line\":{\"color\":\"white\"}},\"header\":{\"fill\":{\"color\":\"#C8D4E3\"},\"line\":{\"color\":\"white\"}},\"type\":\"table\"}]},\"layout\":{\"annotationdefaults\":{\"arrowcolor\":\"#2a3f5f\",\"arrowhead\":0,\"arrowwidth\":1},\"autotypenumbers\":\"strict\",\"coloraxis\":{\"colorbar\":{\"outlinewidth\":0,\"ticks\":\"\"}},\"colorscale\":{\"diverging\":[[0,\"#8e0152\"],[0.1,\"#c51b7d\"],[0.2,\"#de77ae\"],[0.3,\"#f1b6da\"],[0.4,\"#fde0ef\"],[0.5,\"#f7f7f7\"],[0.6,\"#e6f5d0\"],[0.7,\"#b8e186\"],[0.8,\"#7fbc41\"],[0.9,\"#4d9221\"],[1,\"#276419\"]],\"sequential\":[[0.0,\"#0d0887\"],[0.1111111111111111,\"#46039f\"],[0.2222222222222222,\"#7201a8\"],[0.3333333333333333,\"#9c179e\"],[0.4444444444444444,\"#bd3786\"],[0.5555555555555556,\"#d8576b\"],[0.6666666666666666,\"#ed7953\"],[0.7777777777777778,\"#fb9f3a\"],[0.8888888888888888,\"#fdca26\"],[1.0,\"#f0f921\"]],\"sequentialminus\":[[0.0,\"#0d0887\"],[0.1111111111111111,\"#46039f\"],[0.2222222222222222,\"#7201a8\"],[0.3333333333333333,\"#9c179e\"],[0.4444444444444444,\"#bd3786\"],[0.5555555555555556,\"#d8576b\"],[0.6666666666666666,\"#ed7953\"],[0.7777777777777778,\"#fb9f3a\"],[0.8888888888888888,\"#fdca26\"],[1.0,\"#f0f921\"]]},\"colorway\":[\"#636efa\",\"#EF553B\",\"#00cc96\",\"#ab63fa\",\"#FFA15A\",\"#19d3f3\",\"#FF6692\",\"#B6E880\",\"#FF97FF\",\"#FECB52\"],\"font\":{\"color\":\"#2a3f5f\"},\"geo\":{\"bgcolor\":\"white\",\"lakecolor\":\"white\",\"landcolor\":\"#E5ECF6\",\"showlakes\":true,\"showland\":true,\"subunitcolor\":\"white\"},\"hoverlabel\":{\"align\":\"left\"},\"hovermode\":\"closest\",\"mapbox\":{\"style\":\"light\"},\"paper_bgcolor\":\"white\",\"plot_bgcolor\":\"#E5ECF6\",\"polar\":{\"angularaxis\":{\"gridcolor\":\"white\",\"linecolor\":\"white\",\"ticks\":\"\"},\"bgcolor\":\"#E5ECF6\",\"radialaxis\":{\"gridcolor\":\"white\",\"linecolor\":\"white\",\"ticks\":\"\"}},\"scene\":{\"xaxis\":{\"backgroundcolor\":\"#E5ECF6\",\"gridcolor\":\"white\",\"gridwidth\":2,\"linecolor\":\"white\",\"showbackground\":true,\"ticks\":\"\",\"zerolinecolor\":\"white\"},\"yaxis\":{\"backgroundcolor\":\"#E5ECF6\",\"gridcolor\":\"white\",\"gridwidth\":2,\"linecolor\":\"white\",\"showbackground\":true,\"ticks\":\"\",\"zerolinecolor\":\"white\"},\"zaxis\":{\"backgroundcolor\":\"#E5ECF6\",\"gridcolor\":\"white\",\"gridwidth\":2,\"linecolor\":\"white\",\"showbackground\":true,\"ticks\":\"\",\"zerolinecolor\":\"white\"}},\"shapedefaults\":{\"line\":{\"color\":\"#2a3f5f\"}},\"ternary\":{\"aaxis\":{\"gridcolor\":\"white\",\"linecolor\":\"white\",\"ticks\":\"\"},\"baxis\":{\"gridcolor\":\"white\",\"linecolor\":\"white\",\"ticks\":\"\"},\"bgcolor\":\"#E5ECF6\",\"caxis\":{\"gridcolor\":\"white\",\"linecolor\":\"white\",\"ticks\":\"\"}},\"title\":{\"x\":0.05},\"xaxis\":{\"automargin\":true,\"gridcolor\":\"white\",\"linecolor\":\"white\",\"ticks\":\"\",\"title\":{\"standoff\":15},\"zerolinecolor\":\"white\",\"zerolinewidth\":2},\"yaxis\":{\"automargin\":true,\"gridcolor\":\"white\",\"linecolor\":\"white\",\"ticks\":\"\",\"title\":{\"standoff\":15},\"zerolinecolor\":\"white\",\"zerolinewidth\":2}}},\"title\":{\"text\":\"level of offence vs victim's age vs victim's race\"},\"font\":{\"size\":10}},                        {\"responsive\": true}                    ).then(function(){\n",
              "                            \n",
              "var gd = document.getElementById('d2d0b24d-a55a-4100-af37-16cd5f25eef0');\n",
              "var x = new MutationObserver(function (mutations, observer) {{\n",
              "        var display = window.getComputedStyle(gd).display;\n",
              "        if (!display || display === 'none') {{\n",
              "            console.log([gd, 'removed!']);\n",
              "            Plotly.purge(gd);\n",
              "            observer.disconnect();\n",
              "        }}\n",
              "}});\n",
              "\n",
              "// Listen for the removal of the full notebook cells\n",
              "var notebookContainer = gd.closest('#notebook-container');\n",
              "if (notebookContainer) {{\n",
              "    x.observe(notebookContainer, {childList: true});\n",
              "}}\n",
              "\n",
              "// Listen for the clearing of the current output cell\n",
              "var outputEl = gd.closest('.output');\n",
              "if (outputEl) {{\n",
              "    x.observe(outputEl, {childList: true});\n",
              "}}\n",
              "\n",
              "                        })                };                            </script>        </div>\n",
              "</body>\n",
              "</html>"
            ]
          },
          "metadata": {}
        }
      ]
    },
    {
      "cell_type": "markdown",
      "source": [
        "Read df and check info"
      ],
      "metadata": {
        "id": "kG40QcNaQrQ1"
      }
    },
    {
      "cell_type": "code",
      "source": [
        "crimeDF = pd.read_csv(os.path.join(cur_dir, data_dir, 'current_cleaned_data.csv'))"
      ],
      "metadata": {
        "id": "SB_W4DSv4433"
      },
      "execution_count": 113,
      "outputs": []
    },
    {
      "cell_type": "code",
      "source": [
        "crimeDF.info()"
      ],
      "metadata": {
        "colab": {
          "base_uri": "https://localhost:8080/"
        },
        "id": "b_0cyqfkNtt5",
        "outputId": "aec01d35-af17-42df-f775-8e9b2c361dbe"
      },
      "execution_count": 114,
      "outputs": [
        {
          "output_type": "stream",
          "name": "stdout",
          "text": [
            "<class 'pandas.core.frame.DataFrame'>\n",
            "RangeIndex: 385373 entries, 0 to 385372\n",
            "Data columns (total 28 columns):\n",
            " #   Column                    Non-Null Count   Dtype  \n",
            "---  ------                    --------------   -----  \n",
            " 0   CMPLNT_NUM                385373 non-null  int64  \n",
            " 1   ADDR_PCT_CD               385373 non-null  float64\n",
            " 2   BORO_NM                   385373 non-null  object \n",
            " 3   zipcode                   385373 non-null  int64  \n",
            " 4   CRM_ATPT_CPTD_CD          385373 non-null  object \n",
            " 5   JURISDICTION_CODE         385373 non-null  int64  \n",
            " 6   JURIS_DESC                385373 non-null  object \n",
            " 7   KY_CD                     385373 non-null  int64  \n",
            " 8   LAW_CAT_CD                385373 non-null  object \n",
            " 9   OFNS_DESC                 385373 non-null  object \n",
            " 10  PATROL_BORO               385373 non-null  object \n",
            " 11  PD_CD                     385373 non-null  float64\n",
            " 12  PD_DESC                   385373 non-null  object \n",
            " 13  PREM_TYP_DESC             385373 non-null  object \n",
            " 14  RPT_DT                    385373 non-null  object \n",
            " 15  SUSP_AGE_GROUP            385373 non-null  object \n",
            " 16  SUSP_RACE                 385373 non-null  object \n",
            " 17  SUSP_SEX                  385373 non-null  object \n",
            " 18  VIC_AGE_GROUP             385373 non-null  object \n",
            " 19  VIC_RACE                  385373 non-null  object \n",
            " 20  VIC_SEX                   385373 non-null  object \n",
            " 21  X_COORD_CD                385373 non-null  float64\n",
            " 22  Y_COORD_CD                385373 non-null  float64\n",
            " 23  Latitude                  385373 non-null  float64\n",
            " 24  Longitude                 385373 non-null  float64\n",
            " 25  Lat_Lon                   385373 non-null  object \n",
            " 26  New Georeferenced Column  385373 non-null  object \n",
            " 27  CMPLNT_DT_TS              385373 non-null  object \n",
            "dtypes: float64(6), int64(4), object(18)\n",
            "memory usage: 82.3+ MB\n"
          ]
        }
      ]
    },
    {
      "cell_type": "markdown",
      "source": [
        "Create a column only for dates"
      ],
      "metadata": {
        "id": "41LENKpoR0xS"
      }
    },
    {
      "cell_type": "code",
      "source": [
        "crimeDF['CMPLNT_DT'] = pd.to_datetime(crimeDF['CMPLNT_DT_TS']).dt.date\n",
        "crimeDF['CMPLNT_DT'] = pd.to_datetime(crimeDF['CMPLNT_DT'])"
      ],
      "metadata": {
        "id": "tu4oNUj8PrHs"
      },
      "execution_count": 115,
      "outputs": []
    },
    {
      "cell_type": "markdown",
      "source": [
        "Find out the first and last date for complaints"
      ],
      "metadata": {
        "id": "bY2NhTAAUl_A"
      }
    },
    {
      "cell_type": "code",
      "source": [
        "first_date = crimeDF[\"CMPLNT_DT\"].min()\n",
        "last_date = crimeDF[\"CMPLNT_DT\"].max()\n",
        "print(first_date,last_date)"
      ],
      "metadata": {
        "colab": {
          "base_uri": "https://localhost:8080/"
        },
        "id": "KDIJpdpxUjtY",
        "outputId": "35b172aa-61a0-49f1-dea4-5c92fe21f2d1"
      },
      "execution_count": 116,
      "outputs": [
        {
          "output_type": "stream",
          "name": "stdout",
          "text": [
            "2022-01-01 00:00:00 2022-09-30 00:00:00\n"
          ]
        }
      ]
    },
    {
      "cell_type": "code",
      "source": [
        "day_count = (last_date - first_date).days + 1\n",
        "day_count"
      ],
      "metadata": {
        "colab": {
          "base_uri": "https://localhost:8080/"
        },
        "id": "7u2GrkkcRncM",
        "outputId": "a60a9a1e-7267-4b5f-e9d2-a75fa5ebb96a"
      },
      "execution_count": 117,
      "outputs": [
        {
          "output_type": "execute_result",
          "data": {
            "text/plain": [
              "273"
            ]
          },
          "metadata": {},
          "execution_count": 117
        }
      ]
    },
    {
      "cell_type": "markdown",
      "source": [
        "Get a df with all zips and all dates, add 0s to records which does not have a crime on a given date"
      ],
      "metadata": {
        "id": "dy6RF6ruzNCm"
      }
    },
    {
      "cell_type": "code",
      "source": [
        "zips = crimeDF.zipcode.unique()"
      ],
      "metadata": {
        "id": "LzldmxK-XfeM"
      },
      "execution_count": 118,
      "outputs": []
    },
    {
      "cell_type": "code",
      "source": [
        "def daterange(start_date, end_date):\n",
        "    for n in range(int((end_date - start_date).days)):\n",
        "        yield start_date + timedelta(n)\n",
        "\n",
        "start_date = date(2022, 1, 1)\n",
        "end_date = date(2022, 10, 1)"
      ],
      "metadata": {
        "id": "IALdSZP8VIAa"
      },
      "execution_count": 119,
      "outputs": []
    },
    {
      "cell_type": "code",
      "source": [
        "dates = []\n",
        "for single_date in daterange(start_date, end_date):\n",
        "    dates.append(single_date.strftime(\"%Y-%m-%d\"))"
      ],
      "metadata": {
        "id": "rcCOcYPrj3D5"
      },
      "execution_count": 120,
      "outputs": []
    },
    {
      "cell_type": "code",
      "source": [
        "zips = pd.DataFrame(zips)\n",
        "zips.columns = ['zipcode']\n",
        "dates = pd.DataFrame(dates)\n",
        "dates.columns = ['CMPLNT_DT']"
      ],
      "metadata": {
        "id": "H4Vs2-Xvrebx"
      },
      "execution_count": 121,
      "outputs": []
    },
    {
      "cell_type": "code",
      "source": [
        "zip_date = pd.merge(zips, dates, how =\"cross\")"
      ],
      "metadata": {
        "id": "5Q5d5trknx7k"
      },
      "execution_count": 122,
      "outputs": []
    },
    {
      "cell_type": "code",
      "source": [
        "zip_date = zip_date.fillna(0)\n",
        "zip_date['CMPLNT_DT'] = pd.to_datetime(zip_date['CMPLNT_DT'])"
      ],
      "metadata": {
        "id": "vkJ5b0l8oUCL"
      },
      "execution_count": 123,
      "outputs": []
    },
    {
      "cell_type": "code",
      "source": [
        "recent_pdf = crimeDF"
      ],
      "metadata": {
        "id": "OROb8mAZn_QY"
      },
      "execution_count": 124,
      "outputs": []
    },
    {
      "cell_type": "code",
      "source": [
        "#add new column denoting which category the crime falls in from the above\n",
        "cat1 = ['MURDER & NON-NEGL. MANSLAUGHTER', 'FELONY ASSAULT']\n",
        "cat2 = ['RAPE', 'SEX CRIMES', 'FELONY SEX CRIMES', 'OFFENSES RELATED TO CHILDREN', 'KIDNAPPING', 'KIDNAPPING & RELATED OFFENSES']\n",
        "cat3 = ['ARSON','OFFENSES AGAINST THE PERSON','DANGEROUS WEAPONS','DANGEROUS DRUGS','UNLAWFUL POSS. WEAP. ON SCHOOL','INTOXICATED & IMPAIRED DRIVING','OFFENSES AGAINST PUBLIC SAFETY','HOMICIDE-NEGLIGENT-VEHICLE','INTOXICATED/IMPAIRED DRIVING','ESCAPE 3']\n",
        "cat4 = ['ROBBERY', 'GRAND LARCENY', 'GRAND LARCENY OF MOTOR VEHICLE', 'BURGLARY', 'UNAUTHORIZED USE OF A VEHICLE', 'THEFT-FRAUD', 'OTHER OFFENSES RELATED TO THEF', 'PETIT LARCENY', 'PETIT LARCENY OF MOTOR VEHICLE']\n",
        "\n",
        "if 'OffenseCategory' not in recent_pdf.columns:\n",
        "  recent_pdf['OffenseCategory'] = [\"\"] * len(recent_pdf.index)\n",
        "\n",
        "recent_pdf['OffenseCategory'] = recent_pdf.apply(lambda x : 'Category1' if x['OFNS_DESC'] in cat1 else ('Category2' if x['OFNS_DESC'] in cat2 else ('Category3' if x['OFNS_DESC'] in cat3 else ('Category4' if x['OFNS_DESC'] in cat4 else 'Other'))), axis = 1)\n"
      ],
      "metadata": {
        "id": "lmUDgLtBnybL"
      },
      "execution_count": 125,
      "outputs": []
    },
    {
      "cell_type": "code",
      "source": [
        "recent_pdf.to_csv(os.path.join(cur_dir, data_dir, 'current_category_cleaned_data.csv'), index = False)\n",
        "#TODO fix type datetime -> object\n",
        "recent_pdf.dtypes.to_csv(os.path.join(cur_dir, data_dir, 'current_category_cleaned_types.csv'), index = False)"
      ],
      "metadata": {
        "id": "NXKdpGtfrKku"
      },
      "execution_count": 126,
      "outputs": []
    },
    {
      "cell_type": "code",
      "source": [
        "datatype_temp = recent_pdf.dtypes\n",
        "datatype_temp['RPT_DT'] = \"object\"\n",
        "datatype_temp['CMPLNT_DT_TS'] = \"object\"\n",
        "datatype_temp['CMPLNT_DT'] = \"object\""
      ],
      "metadata": {
        "id": "A25BYkN400Y8"
      },
      "execution_count": 131,
      "outputs": []
    },
    {
      "cell_type": "code",
      "source": [
        "datatype_temp.name = 'types'\n",
        "datatype_temp.to_csv(os.path.join(cur_dir, data_dir, 'current_category_cleaned_types.csv'), index = False)"
      ],
      "metadata": {
        "id": "uYgOgpSb1TUI"
      },
      "execution_count": 132,
      "outputs": []
    },
    {
      "cell_type": "code",
      "source": [
        "pdf_types = pd.read_csv(os.path.join(cur_dir, data_dir, 'current_category_cleaned_types.csv'))['types']\n",
        "##\n",
        "pdf = pd.read_csv(os.path.join(cur_dir, data_dir, 'current_category_cleaned_data.csv'), dtype=pdf_types.to_dict(), parse_dates = ['RPT_DT', 'CMPLNT_DT_TS', 'CMPLNT_DT'])"
      ],
      "metadata": {
        "id": "Ulsj6CnRcOqt"
      },
      "execution_count": 134,
      "outputs": []
    },
    {
      "cell_type": "code",
      "source": [
        "pdf['CMPLNT_DT'] = pd.to_datetime(pdf['CMPLNT_DT_TS']).dt.date\n",
        "pdf['CMPLNT_DT'] = pd.to_datetime(pdf['CMPLNT_DT'])"
      ],
      "metadata": {
        "id": "Uk98effTYF6W"
      },
      "execution_count": 135,
      "outputs": []
    },
    {
      "cell_type": "code",
      "source": [
        "pdf.info()"
      ],
      "metadata": {
        "colab": {
          "base_uri": "https://localhost:8080/"
        },
        "id": "s919z-rY2oAy",
        "outputId": "bc9a762c-afdb-411d-c6bd-db4a7d0de70d"
      },
      "execution_count": 136,
      "outputs": [
        {
          "output_type": "stream",
          "name": "stdout",
          "text": [
            "<class 'pandas.core.frame.DataFrame'>\n",
            "RangeIndex: 385373 entries, 0 to 385372\n",
            "Data columns (total 30 columns):\n",
            " #   Column                    Non-Null Count   Dtype         \n",
            "---  ------                    --------------   -----         \n",
            " 0   CMPLNT_NUM                385373 non-null  int64         \n",
            " 1   ADDR_PCT_CD               385373 non-null  float64       \n",
            " 2   BORO_NM                   385373 non-null  object        \n",
            " 3   zipcode                   385373 non-null  int64         \n",
            " 4   CRM_ATPT_CPTD_CD          385373 non-null  object        \n",
            " 5   JURISDICTION_CODE         385373 non-null  int64         \n",
            " 6   JURIS_DESC                385373 non-null  object        \n",
            " 7   KY_CD                     385373 non-null  int64         \n",
            " 8   LAW_CAT_CD                385373 non-null  object        \n",
            " 9   OFNS_DESC                 385373 non-null  object        \n",
            " 10  PATROL_BORO               385373 non-null  object        \n",
            " 11  PD_CD                     385373 non-null  float64       \n",
            " 12  PD_DESC                   385373 non-null  object        \n",
            " 13  PREM_TYP_DESC             385373 non-null  object        \n",
            " 14  RPT_DT                    385373 non-null  datetime64[ns]\n",
            " 15  SUSP_AGE_GROUP            385373 non-null  object        \n",
            " 16  SUSP_RACE                 385373 non-null  object        \n",
            " 17  SUSP_SEX                  385373 non-null  object        \n",
            " 18  VIC_AGE_GROUP             385373 non-null  object        \n",
            " 19  VIC_RACE                  385373 non-null  object        \n",
            " 20  VIC_SEX                   385373 non-null  object        \n",
            " 21  X_COORD_CD                385373 non-null  float64       \n",
            " 22  Y_COORD_CD                385373 non-null  float64       \n",
            " 23  Latitude                  385373 non-null  float64       \n",
            " 24  Longitude                 385373 non-null  float64       \n",
            " 25  Lat_Lon                   385373 non-null  object        \n",
            " 26  New Georeferenced Column  385373 non-null  object        \n",
            " 27  CMPLNT_DT_TS              385373 non-null  datetime64[ns]\n",
            " 28  CMPLNT_DT                 385373 non-null  datetime64[ns]\n",
            " 29  OffenseCategory           385373 non-null  object        \n",
            "dtypes: datetime64[ns](3), float64(6), int64(4), object(17)\n",
            "memory usage: 88.2+ MB\n"
          ]
        }
      ]
    },
    {
      "cell_type": "markdown",
      "source": [
        "Create a df with zipcode, date and crime counts for various categories"
      ],
      "metadata": {
        "id": "2s5HIaRy366D"
      }
    },
    {
      "cell_type": "code",
      "source": [
        "q1 = \"\"\"SELECT zipcode, CMPLNT_DT, OffenseCategory, count(OffenseCategory) as cat_count \n",
        "       FROM pdf\n",
        "       group by zipcode, CMPLNT_DT, OffenseCategory;\"\"\"\n",
        "\n",
        "adf1 = sqldf(q1, globals())"
      ],
      "metadata": {
        "id": "Cxbq3ITjtsDv"
      },
      "execution_count": 137,
      "outputs": []
    },
    {
      "cell_type": "code",
      "source": [
        "adf1['OffenseCategory'].value_counts()"
      ],
      "metadata": {
        "colab": {
          "base_uri": "https://localhost:8080/"
        },
        "id": "0R4Wp8gDXz33",
        "outputId": "12de5832-9dab-483f-c656-e5ed2a2447f8"
      },
      "execution_count": 138,
      "outputs": [
        {
          "output_type": "execute_result",
          "data": {
            "text/plain": [
              "Other        42321\n",
              "Category4    40828\n",
              "Category1    10597\n",
              "Category3    10415\n",
              "Category2     4821\n",
              "Name: OffenseCategory, dtype: int64"
            ]
          },
          "metadata": {},
          "execution_count": 138
        }
      ]
    },
    {
      "cell_type": "code",
      "source": [
        "table1 = pd.pivot_table(adf1, values='cat_count', index=['zipcode', 'CMPLNT_DT'], columns=['OffenseCategory'], aggfunc=np.sum).fillna(0).reset_index()"
      ],
      "metadata": {
        "id": "k9NEa5_ltsDw"
      },
      "execution_count": 139,
      "outputs": []
    },
    {
      "cell_type": "code",
      "source": [
        "table1"
      ],
      "metadata": {
        "colab": {
          "base_uri": "https://localhost:8080/",
          "height": 424
        },
        "id": "t-cO66ayYd-1",
        "outputId": "569ae9f0-f3ad-4088-9dcc-15b616e783b3"
      },
      "execution_count": 140,
      "outputs": [
        {
          "output_type": "execute_result",
          "data": {
            "text/plain": [
              "OffenseCategory  zipcode                   CMPLNT_DT  Category1  Category2  \\\n",
              "0                   7002  2022-01-16 00:00:00.000000        0.0        0.0   \n",
              "1                   7002  2022-01-20 00:00:00.000000        0.0        0.0   \n",
              "2                   7002  2022-03-16 00:00:00.000000        0.0        0.0   \n",
              "3                   7002  2022-05-02 00:00:00.000000        0.0        0.0   \n",
              "4                   7002  2022-05-30 00:00:00.000000        0.0        0.0   \n",
              "...                  ...                         ...        ...        ...   \n",
              "46651              11697  2022-07-13 00:00:00.000000        0.0        0.0   \n",
              "46652              11697  2022-07-16 00:00:00.000000        0.0        0.0   \n",
              "46653              11697  2022-07-21 00:00:00.000000        0.0        0.0   \n",
              "46654              11697  2022-07-25 00:00:00.000000        0.0        0.0   \n",
              "46655              11697  2022-09-03 00:00:00.000000        0.0        0.0   \n",
              "\n",
              "OffenseCategory  Category3  Category4  Other  \n",
              "0                      0.0        0.0    1.0  \n",
              "1                      0.0        0.0    1.0  \n",
              "2                      0.0        0.0    2.0  \n",
              "3                      0.0        1.0    0.0  \n",
              "4                      0.0        1.0    0.0  \n",
              "...                    ...        ...    ...  \n",
              "46651                  0.0        1.0    2.0  \n",
              "46652                  0.0        0.0    1.0  \n",
              "46653                  0.0        0.0    1.0  \n",
              "46654                  1.0        0.0    0.0  \n",
              "46655                  0.0        0.0    1.0  \n",
              "\n",
              "[46656 rows x 7 columns]"
            ],
            "text/html": [
              "\n",
              "  <div id=\"df-23f9ac6c-20b8-4562-b215-68ccafd01a8e\">\n",
              "    <div class=\"colab-df-container\">\n",
              "      <div>\n",
              "<style scoped>\n",
              "    .dataframe tbody tr th:only-of-type {\n",
              "        vertical-align: middle;\n",
              "    }\n",
              "\n",
              "    .dataframe tbody tr th {\n",
              "        vertical-align: top;\n",
              "    }\n",
              "\n",
              "    .dataframe thead th {\n",
              "        text-align: right;\n",
              "    }\n",
              "</style>\n",
              "<table border=\"1\" class=\"dataframe\">\n",
              "  <thead>\n",
              "    <tr style=\"text-align: right;\">\n",
              "      <th>OffenseCategory</th>\n",
              "      <th>zipcode</th>\n",
              "      <th>CMPLNT_DT</th>\n",
              "      <th>Category1</th>\n",
              "      <th>Category2</th>\n",
              "      <th>Category3</th>\n",
              "      <th>Category4</th>\n",
              "      <th>Other</th>\n",
              "    </tr>\n",
              "  </thead>\n",
              "  <tbody>\n",
              "    <tr>\n",
              "      <th>0</th>\n",
              "      <td>7002</td>\n",
              "      <td>2022-01-16 00:00:00.000000</td>\n",
              "      <td>0.0</td>\n",
              "      <td>0.0</td>\n",
              "      <td>0.0</td>\n",
              "      <td>0.0</td>\n",
              "      <td>1.0</td>\n",
              "    </tr>\n",
              "    <tr>\n",
              "      <th>1</th>\n",
              "      <td>7002</td>\n",
              "      <td>2022-01-20 00:00:00.000000</td>\n",
              "      <td>0.0</td>\n",
              "      <td>0.0</td>\n",
              "      <td>0.0</td>\n",
              "      <td>0.0</td>\n",
              "      <td>1.0</td>\n",
              "    </tr>\n",
              "    <tr>\n",
              "      <th>2</th>\n",
              "      <td>7002</td>\n",
              "      <td>2022-03-16 00:00:00.000000</td>\n",
              "      <td>0.0</td>\n",
              "      <td>0.0</td>\n",
              "      <td>0.0</td>\n",
              "      <td>0.0</td>\n",
              "      <td>2.0</td>\n",
              "    </tr>\n",
              "    <tr>\n",
              "      <th>3</th>\n",
              "      <td>7002</td>\n",
              "      <td>2022-05-02 00:00:00.000000</td>\n",
              "      <td>0.0</td>\n",
              "      <td>0.0</td>\n",
              "      <td>0.0</td>\n",
              "      <td>1.0</td>\n",
              "      <td>0.0</td>\n",
              "    </tr>\n",
              "    <tr>\n",
              "      <th>4</th>\n",
              "      <td>7002</td>\n",
              "      <td>2022-05-30 00:00:00.000000</td>\n",
              "      <td>0.0</td>\n",
              "      <td>0.0</td>\n",
              "      <td>0.0</td>\n",
              "      <td>1.0</td>\n",
              "      <td>0.0</td>\n",
              "    </tr>\n",
              "    <tr>\n",
              "      <th>...</th>\n",
              "      <td>...</td>\n",
              "      <td>...</td>\n",
              "      <td>...</td>\n",
              "      <td>...</td>\n",
              "      <td>...</td>\n",
              "      <td>...</td>\n",
              "      <td>...</td>\n",
              "    </tr>\n",
              "    <tr>\n",
              "      <th>46651</th>\n",
              "      <td>11697</td>\n",
              "      <td>2022-07-13 00:00:00.000000</td>\n",
              "      <td>0.0</td>\n",
              "      <td>0.0</td>\n",
              "      <td>0.0</td>\n",
              "      <td>1.0</td>\n",
              "      <td>2.0</td>\n",
              "    </tr>\n",
              "    <tr>\n",
              "      <th>46652</th>\n",
              "      <td>11697</td>\n",
              "      <td>2022-07-16 00:00:00.000000</td>\n",
              "      <td>0.0</td>\n",
              "      <td>0.0</td>\n",
              "      <td>0.0</td>\n",
              "      <td>0.0</td>\n",
              "      <td>1.0</td>\n",
              "    </tr>\n",
              "    <tr>\n",
              "      <th>46653</th>\n",
              "      <td>11697</td>\n",
              "      <td>2022-07-21 00:00:00.000000</td>\n",
              "      <td>0.0</td>\n",
              "      <td>0.0</td>\n",
              "      <td>0.0</td>\n",
              "      <td>0.0</td>\n",
              "      <td>1.0</td>\n",
              "    </tr>\n",
              "    <tr>\n",
              "      <th>46654</th>\n",
              "      <td>11697</td>\n",
              "      <td>2022-07-25 00:00:00.000000</td>\n",
              "      <td>0.0</td>\n",
              "      <td>0.0</td>\n",
              "      <td>1.0</td>\n",
              "      <td>0.0</td>\n",
              "      <td>0.0</td>\n",
              "    </tr>\n",
              "    <tr>\n",
              "      <th>46655</th>\n",
              "      <td>11697</td>\n",
              "      <td>2022-09-03 00:00:00.000000</td>\n",
              "      <td>0.0</td>\n",
              "      <td>0.0</td>\n",
              "      <td>0.0</td>\n",
              "      <td>0.0</td>\n",
              "      <td>1.0</td>\n",
              "    </tr>\n",
              "  </tbody>\n",
              "</table>\n",
              "<p>46656 rows × 7 columns</p>\n",
              "</div>\n",
              "      <button class=\"colab-df-convert\" onclick=\"convertToInteractive('df-23f9ac6c-20b8-4562-b215-68ccafd01a8e')\"\n",
              "              title=\"Convert this dataframe to an interactive table.\"\n",
              "              style=\"display:none;\">\n",
              "        \n",
              "  <svg xmlns=\"http://www.w3.org/2000/svg\" height=\"24px\"viewBox=\"0 0 24 24\"\n",
              "       width=\"24px\">\n",
              "    <path d=\"M0 0h24v24H0V0z\" fill=\"none\"/>\n",
              "    <path d=\"M18.56 5.44l.94 2.06.94-2.06 2.06-.94-2.06-.94-.94-2.06-.94 2.06-2.06.94zm-11 1L8.5 8.5l.94-2.06 2.06-.94-2.06-.94L8.5 2.5l-.94 2.06-2.06.94zm10 10l.94 2.06.94-2.06 2.06-.94-2.06-.94-.94-2.06-.94 2.06-2.06.94z\"/><path d=\"M17.41 7.96l-1.37-1.37c-.4-.4-.92-.59-1.43-.59-.52 0-1.04.2-1.43.59L10.3 9.45l-7.72 7.72c-.78.78-.78 2.05 0 2.83L4 21.41c.39.39.9.59 1.41.59.51 0 1.02-.2 1.41-.59l7.78-7.78 2.81-2.81c.8-.78.8-2.07 0-2.86zM5.41 20L4 18.59l7.72-7.72 1.47 1.35L5.41 20z\"/>\n",
              "  </svg>\n",
              "      </button>\n",
              "      \n",
              "  <style>\n",
              "    .colab-df-container {\n",
              "      display:flex;\n",
              "      flex-wrap:wrap;\n",
              "      gap: 12px;\n",
              "    }\n",
              "\n",
              "    .colab-df-convert {\n",
              "      background-color: #E8F0FE;\n",
              "      border: none;\n",
              "      border-radius: 50%;\n",
              "      cursor: pointer;\n",
              "      display: none;\n",
              "      fill: #1967D2;\n",
              "      height: 32px;\n",
              "      padding: 0 0 0 0;\n",
              "      width: 32px;\n",
              "    }\n",
              "\n",
              "    .colab-df-convert:hover {\n",
              "      background-color: #E2EBFA;\n",
              "      box-shadow: 0px 1px 2px rgba(60, 64, 67, 0.3), 0px 1px 3px 1px rgba(60, 64, 67, 0.15);\n",
              "      fill: #174EA6;\n",
              "    }\n",
              "\n",
              "    [theme=dark] .colab-df-convert {\n",
              "      background-color: #3B4455;\n",
              "      fill: #D2E3FC;\n",
              "    }\n",
              "\n",
              "    [theme=dark] .colab-df-convert:hover {\n",
              "      background-color: #434B5C;\n",
              "      box-shadow: 0px 1px 3px 1px rgba(0, 0, 0, 0.15);\n",
              "      filter: drop-shadow(0px 1px 2px rgba(0, 0, 0, 0.3));\n",
              "      fill: #FFFFFF;\n",
              "    }\n",
              "  </style>\n",
              "\n",
              "      <script>\n",
              "        const buttonEl =\n",
              "          document.querySelector('#df-23f9ac6c-20b8-4562-b215-68ccafd01a8e button.colab-df-convert');\n",
              "        buttonEl.style.display =\n",
              "          google.colab.kernel.accessAllowed ? 'block' : 'none';\n",
              "\n",
              "        async function convertToInteractive(key) {\n",
              "          const element = document.querySelector('#df-23f9ac6c-20b8-4562-b215-68ccafd01a8e');\n",
              "          const dataTable =\n",
              "            await google.colab.kernel.invokeFunction('convertToInteractive',\n",
              "                                                     [key], {});\n",
              "          if (!dataTable) return;\n",
              "\n",
              "          const docLinkHtml = 'Like what you see? Visit the ' +\n",
              "            '<a target=\"_blank\" href=https://colab.research.google.com/notebooks/data_table.ipynb>data table notebook</a>'\n",
              "            + ' to learn more about interactive tables.';\n",
              "          element.innerHTML = '';\n",
              "          dataTable['output_type'] = 'display_data';\n",
              "          await google.colab.output.renderOutput(dataTable, element);\n",
              "          const docLink = document.createElement('div');\n",
              "          docLink.innerHTML = docLinkHtml;\n",
              "          element.appendChild(docLink);\n",
              "        }\n",
              "      </script>\n",
              "    </div>\n",
              "  </div>\n",
              "  "
            ]
          },
          "metadata": {},
          "execution_count": 140
        }
      ]
    },
    {
      "cell_type": "code",
      "source": [
        "table1['CMPLNT_DT'] = pd.to_datetime(table1['CMPLNT_DT'])"
      ],
      "metadata": {
        "id": "ohMX_pr6Y0dh"
      },
      "execution_count": 141,
      "outputs": []
    },
    {
      "cell_type": "code",
      "source": [
        "table1"
      ],
      "metadata": {
        "colab": {
          "base_uri": "https://localhost:8080/",
          "height": 424
        },
        "id": "5j7L80BoZ1B2",
        "outputId": "36f11dc3-f57b-441d-8e82-b3a3ad3043c6"
      },
      "execution_count": 142,
      "outputs": [
        {
          "output_type": "execute_result",
          "data": {
            "text/plain": [
              "OffenseCategory  zipcode  CMPLNT_DT  Category1  Category2  Category3  \\\n",
              "0                   7002 2022-01-16        0.0        0.0        0.0   \n",
              "1                   7002 2022-01-20        0.0        0.0        0.0   \n",
              "2                   7002 2022-03-16        0.0        0.0        0.0   \n",
              "3                   7002 2022-05-02        0.0        0.0        0.0   \n",
              "4                   7002 2022-05-30        0.0        0.0        0.0   \n",
              "...                  ...        ...        ...        ...        ...   \n",
              "46651              11697 2022-07-13        0.0        0.0        0.0   \n",
              "46652              11697 2022-07-16        0.0        0.0        0.0   \n",
              "46653              11697 2022-07-21        0.0        0.0        0.0   \n",
              "46654              11697 2022-07-25        0.0        0.0        1.0   \n",
              "46655              11697 2022-09-03        0.0        0.0        0.0   \n",
              "\n",
              "OffenseCategory  Category4  Other  \n",
              "0                      0.0    1.0  \n",
              "1                      0.0    1.0  \n",
              "2                      0.0    2.0  \n",
              "3                      1.0    0.0  \n",
              "4                      1.0    0.0  \n",
              "...                    ...    ...  \n",
              "46651                  1.0    2.0  \n",
              "46652                  0.0    1.0  \n",
              "46653                  0.0    1.0  \n",
              "46654                  0.0    0.0  \n",
              "46655                  0.0    1.0  \n",
              "\n",
              "[46656 rows x 7 columns]"
            ],
            "text/html": [
              "\n",
              "  <div id=\"df-4b085f54-f13c-4687-ac17-7d333c5aecfe\">\n",
              "    <div class=\"colab-df-container\">\n",
              "      <div>\n",
              "<style scoped>\n",
              "    .dataframe tbody tr th:only-of-type {\n",
              "        vertical-align: middle;\n",
              "    }\n",
              "\n",
              "    .dataframe tbody tr th {\n",
              "        vertical-align: top;\n",
              "    }\n",
              "\n",
              "    .dataframe thead th {\n",
              "        text-align: right;\n",
              "    }\n",
              "</style>\n",
              "<table border=\"1\" class=\"dataframe\">\n",
              "  <thead>\n",
              "    <tr style=\"text-align: right;\">\n",
              "      <th>OffenseCategory</th>\n",
              "      <th>zipcode</th>\n",
              "      <th>CMPLNT_DT</th>\n",
              "      <th>Category1</th>\n",
              "      <th>Category2</th>\n",
              "      <th>Category3</th>\n",
              "      <th>Category4</th>\n",
              "      <th>Other</th>\n",
              "    </tr>\n",
              "  </thead>\n",
              "  <tbody>\n",
              "    <tr>\n",
              "      <th>0</th>\n",
              "      <td>7002</td>\n",
              "      <td>2022-01-16</td>\n",
              "      <td>0.0</td>\n",
              "      <td>0.0</td>\n",
              "      <td>0.0</td>\n",
              "      <td>0.0</td>\n",
              "      <td>1.0</td>\n",
              "    </tr>\n",
              "    <tr>\n",
              "      <th>1</th>\n",
              "      <td>7002</td>\n",
              "      <td>2022-01-20</td>\n",
              "      <td>0.0</td>\n",
              "      <td>0.0</td>\n",
              "      <td>0.0</td>\n",
              "      <td>0.0</td>\n",
              "      <td>1.0</td>\n",
              "    </tr>\n",
              "    <tr>\n",
              "      <th>2</th>\n",
              "      <td>7002</td>\n",
              "      <td>2022-03-16</td>\n",
              "      <td>0.0</td>\n",
              "      <td>0.0</td>\n",
              "      <td>0.0</td>\n",
              "      <td>0.0</td>\n",
              "      <td>2.0</td>\n",
              "    </tr>\n",
              "    <tr>\n",
              "      <th>3</th>\n",
              "      <td>7002</td>\n",
              "      <td>2022-05-02</td>\n",
              "      <td>0.0</td>\n",
              "      <td>0.0</td>\n",
              "      <td>0.0</td>\n",
              "      <td>1.0</td>\n",
              "      <td>0.0</td>\n",
              "    </tr>\n",
              "    <tr>\n",
              "      <th>4</th>\n",
              "      <td>7002</td>\n",
              "      <td>2022-05-30</td>\n",
              "      <td>0.0</td>\n",
              "      <td>0.0</td>\n",
              "      <td>0.0</td>\n",
              "      <td>1.0</td>\n",
              "      <td>0.0</td>\n",
              "    </tr>\n",
              "    <tr>\n",
              "      <th>...</th>\n",
              "      <td>...</td>\n",
              "      <td>...</td>\n",
              "      <td>...</td>\n",
              "      <td>...</td>\n",
              "      <td>...</td>\n",
              "      <td>...</td>\n",
              "      <td>...</td>\n",
              "    </tr>\n",
              "    <tr>\n",
              "      <th>46651</th>\n",
              "      <td>11697</td>\n",
              "      <td>2022-07-13</td>\n",
              "      <td>0.0</td>\n",
              "      <td>0.0</td>\n",
              "      <td>0.0</td>\n",
              "      <td>1.0</td>\n",
              "      <td>2.0</td>\n",
              "    </tr>\n",
              "    <tr>\n",
              "      <th>46652</th>\n",
              "      <td>11697</td>\n",
              "      <td>2022-07-16</td>\n",
              "      <td>0.0</td>\n",
              "      <td>0.0</td>\n",
              "      <td>0.0</td>\n",
              "      <td>0.0</td>\n",
              "      <td>1.0</td>\n",
              "    </tr>\n",
              "    <tr>\n",
              "      <th>46653</th>\n",
              "      <td>11697</td>\n",
              "      <td>2022-07-21</td>\n",
              "      <td>0.0</td>\n",
              "      <td>0.0</td>\n",
              "      <td>0.0</td>\n",
              "      <td>0.0</td>\n",
              "      <td>1.0</td>\n",
              "    </tr>\n",
              "    <tr>\n",
              "      <th>46654</th>\n",
              "      <td>11697</td>\n",
              "      <td>2022-07-25</td>\n",
              "      <td>0.0</td>\n",
              "      <td>0.0</td>\n",
              "      <td>1.0</td>\n",
              "      <td>0.0</td>\n",
              "      <td>0.0</td>\n",
              "    </tr>\n",
              "    <tr>\n",
              "      <th>46655</th>\n",
              "      <td>11697</td>\n",
              "      <td>2022-09-03</td>\n",
              "      <td>0.0</td>\n",
              "      <td>0.0</td>\n",
              "      <td>0.0</td>\n",
              "      <td>0.0</td>\n",
              "      <td>1.0</td>\n",
              "    </tr>\n",
              "  </tbody>\n",
              "</table>\n",
              "<p>46656 rows × 7 columns</p>\n",
              "</div>\n",
              "      <button class=\"colab-df-convert\" onclick=\"convertToInteractive('df-4b085f54-f13c-4687-ac17-7d333c5aecfe')\"\n",
              "              title=\"Convert this dataframe to an interactive table.\"\n",
              "              style=\"display:none;\">\n",
              "        \n",
              "  <svg xmlns=\"http://www.w3.org/2000/svg\" height=\"24px\"viewBox=\"0 0 24 24\"\n",
              "       width=\"24px\">\n",
              "    <path d=\"M0 0h24v24H0V0z\" fill=\"none\"/>\n",
              "    <path d=\"M18.56 5.44l.94 2.06.94-2.06 2.06-.94-2.06-.94-.94-2.06-.94 2.06-2.06.94zm-11 1L8.5 8.5l.94-2.06 2.06-.94-2.06-.94L8.5 2.5l-.94 2.06-2.06.94zm10 10l.94 2.06.94-2.06 2.06-.94-2.06-.94-.94-2.06-.94 2.06-2.06.94z\"/><path d=\"M17.41 7.96l-1.37-1.37c-.4-.4-.92-.59-1.43-.59-.52 0-1.04.2-1.43.59L10.3 9.45l-7.72 7.72c-.78.78-.78 2.05 0 2.83L4 21.41c.39.39.9.59 1.41.59.51 0 1.02-.2 1.41-.59l7.78-7.78 2.81-2.81c.8-.78.8-2.07 0-2.86zM5.41 20L4 18.59l7.72-7.72 1.47 1.35L5.41 20z\"/>\n",
              "  </svg>\n",
              "      </button>\n",
              "      \n",
              "  <style>\n",
              "    .colab-df-container {\n",
              "      display:flex;\n",
              "      flex-wrap:wrap;\n",
              "      gap: 12px;\n",
              "    }\n",
              "\n",
              "    .colab-df-convert {\n",
              "      background-color: #E8F0FE;\n",
              "      border: none;\n",
              "      border-radius: 50%;\n",
              "      cursor: pointer;\n",
              "      display: none;\n",
              "      fill: #1967D2;\n",
              "      height: 32px;\n",
              "      padding: 0 0 0 0;\n",
              "      width: 32px;\n",
              "    }\n",
              "\n",
              "    .colab-df-convert:hover {\n",
              "      background-color: #E2EBFA;\n",
              "      box-shadow: 0px 1px 2px rgba(60, 64, 67, 0.3), 0px 1px 3px 1px rgba(60, 64, 67, 0.15);\n",
              "      fill: #174EA6;\n",
              "    }\n",
              "\n",
              "    [theme=dark] .colab-df-convert {\n",
              "      background-color: #3B4455;\n",
              "      fill: #D2E3FC;\n",
              "    }\n",
              "\n",
              "    [theme=dark] .colab-df-convert:hover {\n",
              "      background-color: #434B5C;\n",
              "      box-shadow: 0px 1px 3px 1px rgba(0, 0, 0, 0.15);\n",
              "      filter: drop-shadow(0px 1px 2px rgba(0, 0, 0, 0.3));\n",
              "      fill: #FFFFFF;\n",
              "    }\n",
              "  </style>\n",
              "\n",
              "      <script>\n",
              "        const buttonEl =\n",
              "          document.querySelector('#df-4b085f54-f13c-4687-ac17-7d333c5aecfe button.colab-df-convert');\n",
              "        buttonEl.style.display =\n",
              "          google.colab.kernel.accessAllowed ? 'block' : 'none';\n",
              "\n",
              "        async function convertToInteractive(key) {\n",
              "          const element = document.querySelector('#df-4b085f54-f13c-4687-ac17-7d333c5aecfe');\n",
              "          const dataTable =\n",
              "            await google.colab.kernel.invokeFunction('convertToInteractive',\n",
              "                                                     [key], {});\n",
              "          if (!dataTable) return;\n",
              "\n",
              "          const docLinkHtml = 'Like what you see? Visit the ' +\n",
              "            '<a target=\"_blank\" href=https://colab.research.google.com/notebooks/data_table.ipynb>data table notebook</a>'\n",
              "            + ' to learn more about interactive tables.';\n",
              "          element.innerHTML = '';\n",
              "          dataTable['output_type'] = 'display_data';\n",
              "          await google.colab.output.renderOutput(dataTable, element);\n",
              "          const docLink = document.createElement('div');\n",
              "          docLink.innerHTML = docLinkHtml;\n",
              "          element.appendChild(docLink);\n",
              "        }\n",
              "      </script>\n",
              "    </div>\n",
              "  </div>\n",
              "  "
            ]
          },
          "metadata": {},
          "execution_count": 142
        }
      ]
    },
    {
      "cell_type": "code",
      "source": [
        "zip_date_cat_countDF = zip_date.merge(table1, how='left', on=['zipcode','CMPLNT_DT'])"
      ],
      "metadata": {
        "id": "Ep4WUnvzY0di"
      },
      "execution_count": 143,
      "outputs": []
    },
    {
      "cell_type": "code",
      "source": [
        "zip_date_cat_countDF = zip_date_cat_countDF.fillna(0)"
      ],
      "metadata": {
        "id": "GXYOArCzY0di"
      },
      "execution_count": 144,
      "outputs": []
    },
    {
      "cell_type": "code",
      "source": [
        "zip_date_cat_countDF"
      ],
      "metadata": {
        "colab": {
          "base_uri": "https://localhost:8080/",
          "height": 424
        },
        "outputId": "dfa9e0db-29d9-40ee-9138-a382c57e61ff",
        "id": "kCKjR8HGY0dj"
      },
      "execution_count": 145,
      "outputs": [
        {
          "output_type": "execute_result",
          "data": {
            "text/plain": [
              "       zipcode  CMPLNT_DT  Category1  Category2  Category3  Category4  Other\n",
              "0        10462 2022-01-01        0.0        0.0        0.0        1.0    2.0\n",
              "1        10462 2022-01-02        0.0        0.0        0.0        1.0    7.0\n",
              "2        10462 2022-01-03        0.0        0.0        0.0        4.0    4.0\n",
              "3        10462 2022-01-04        0.0        0.0        0.0        2.0    5.0\n",
              "4        10462 2022-01-05        0.0        0.0        0.0        4.0    8.0\n",
              "...        ...        ...        ...        ...        ...        ...    ...\n",
              "53503     7077 2022-09-26        0.0        0.0        0.0        0.0    0.0\n",
              "53504     7077 2022-09-27        0.0        0.0        0.0        0.0    0.0\n",
              "53505     7077 2022-09-28        0.0        0.0        0.0        0.0    0.0\n",
              "53506     7077 2022-09-29        0.0        0.0        0.0        0.0    0.0\n",
              "53507     7077 2022-09-30        0.0        0.0        0.0        0.0    0.0\n",
              "\n",
              "[53508 rows x 7 columns]"
            ],
            "text/html": [
              "\n",
              "  <div id=\"df-ed7e1fe8-99ff-45f6-a5d7-5bd6deb5a61e\">\n",
              "    <div class=\"colab-df-container\">\n",
              "      <div>\n",
              "<style scoped>\n",
              "    .dataframe tbody tr th:only-of-type {\n",
              "        vertical-align: middle;\n",
              "    }\n",
              "\n",
              "    .dataframe tbody tr th {\n",
              "        vertical-align: top;\n",
              "    }\n",
              "\n",
              "    .dataframe thead th {\n",
              "        text-align: right;\n",
              "    }\n",
              "</style>\n",
              "<table border=\"1\" class=\"dataframe\">\n",
              "  <thead>\n",
              "    <tr style=\"text-align: right;\">\n",
              "      <th></th>\n",
              "      <th>zipcode</th>\n",
              "      <th>CMPLNT_DT</th>\n",
              "      <th>Category1</th>\n",
              "      <th>Category2</th>\n",
              "      <th>Category3</th>\n",
              "      <th>Category4</th>\n",
              "      <th>Other</th>\n",
              "    </tr>\n",
              "  </thead>\n",
              "  <tbody>\n",
              "    <tr>\n",
              "      <th>0</th>\n",
              "      <td>10462</td>\n",
              "      <td>2022-01-01</td>\n",
              "      <td>0.0</td>\n",
              "      <td>0.0</td>\n",
              "      <td>0.0</td>\n",
              "      <td>1.0</td>\n",
              "      <td>2.0</td>\n",
              "    </tr>\n",
              "    <tr>\n",
              "      <th>1</th>\n",
              "      <td>10462</td>\n",
              "      <td>2022-01-02</td>\n",
              "      <td>0.0</td>\n",
              "      <td>0.0</td>\n",
              "      <td>0.0</td>\n",
              "      <td>1.0</td>\n",
              "      <td>7.0</td>\n",
              "    </tr>\n",
              "    <tr>\n",
              "      <th>2</th>\n",
              "      <td>10462</td>\n",
              "      <td>2022-01-03</td>\n",
              "      <td>0.0</td>\n",
              "      <td>0.0</td>\n",
              "      <td>0.0</td>\n",
              "      <td>4.0</td>\n",
              "      <td>4.0</td>\n",
              "    </tr>\n",
              "    <tr>\n",
              "      <th>3</th>\n",
              "      <td>10462</td>\n",
              "      <td>2022-01-04</td>\n",
              "      <td>0.0</td>\n",
              "      <td>0.0</td>\n",
              "      <td>0.0</td>\n",
              "      <td>2.0</td>\n",
              "      <td>5.0</td>\n",
              "    </tr>\n",
              "    <tr>\n",
              "      <th>4</th>\n",
              "      <td>10462</td>\n",
              "      <td>2022-01-05</td>\n",
              "      <td>0.0</td>\n",
              "      <td>0.0</td>\n",
              "      <td>0.0</td>\n",
              "      <td>4.0</td>\n",
              "      <td>8.0</td>\n",
              "    </tr>\n",
              "    <tr>\n",
              "      <th>...</th>\n",
              "      <td>...</td>\n",
              "      <td>...</td>\n",
              "      <td>...</td>\n",
              "      <td>...</td>\n",
              "      <td>...</td>\n",
              "      <td>...</td>\n",
              "      <td>...</td>\n",
              "    </tr>\n",
              "    <tr>\n",
              "      <th>53503</th>\n",
              "      <td>7077</td>\n",
              "      <td>2022-09-26</td>\n",
              "      <td>0.0</td>\n",
              "      <td>0.0</td>\n",
              "      <td>0.0</td>\n",
              "      <td>0.0</td>\n",
              "      <td>0.0</td>\n",
              "    </tr>\n",
              "    <tr>\n",
              "      <th>53504</th>\n",
              "      <td>7077</td>\n",
              "      <td>2022-09-27</td>\n",
              "      <td>0.0</td>\n",
              "      <td>0.0</td>\n",
              "      <td>0.0</td>\n",
              "      <td>0.0</td>\n",
              "      <td>0.0</td>\n",
              "    </tr>\n",
              "    <tr>\n",
              "      <th>53505</th>\n",
              "      <td>7077</td>\n",
              "      <td>2022-09-28</td>\n",
              "      <td>0.0</td>\n",
              "      <td>0.0</td>\n",
              "      <td>0.0</td>\n",
              "      <td>0.0</td>\n",
              "      <td>0.0</td>\n",
              "    </tr>\n",
              "    <tr>\n",
              "      <th>53506</th>\n",
              "      <td>7077</td>\n",
              "      <td>2022-09-29</td>\n",
              "      <td>0.0</td>\n",
              "      <td>0.0</td>\n",
              "      <td>0.0</td>\n",
              "      <td>0.0</td>\n",
              "      <td>0.0</td>\n",
              "    </tr>\n",
              "    <tr>\n",
              "      <th>53507</th>\n",
              "      <td>7077</td>\n",
              "      <td>2022-09-30</td>\n",
              "      <td>0.0</td>\n",
              "      <td>0.0</td>\n",
              "      <td>0.0</td>\n",
              "      <td>0.0</td>\n",
              "      <td>0.0</td>\n",
              "    </tr>\n",
              "  </tbody>\n",
              "</table>\n",
              "<p>53508 rows × 7 columns</p>\n",
              "</div>\n",
              "      <button class=\"colab-df-convert\" onclick=\"convertToInteractive('df-ed7e1fe8-99ff-45f6-a5d7-5bd6deb5a61e')\"\n",
              "              title=\"Convert this dataframe to an interactive table.\"\n",
              "              style=\"display:none;\">\n",
              "        \n",
              "  <svg xmlns=\"http://www.w3.org/2000/svg\" height=\"24px\"viewBox=\"0 0 24 24\"\n",
              "       width=\"24px\">\n",
              "    <path d=\"M0 0h24v24H0V0z\" fill=\"none\"/>\n",
              "    <path d=\"M18.56 5.44l.94 2.06.94-2.06 2.06-.94-2.06-.94-.94-2.06-.94 2.06-2.06.94zm-11 1L8.5 8.5l.94-2.06 2.06-.94-2.06-.94L8.5 2.5l-.94 2.06-2.06.94zm10 10l.94 2.06.94-2.06 2.06-.94-2.06-.94-.94-2.06-.94 2.06-2.06.94z\"/><path d=\"M17.41 7.96l-1.37-1.37c-.4-.4-.92-.59-1.43-.59-.52 0-1.04.2-1.43.59L10.3 9.45l-7.72 7.72c-.78.78-.78 2.05 0 2.83L4 21.41c.39.39.9.59 1.41.59.51 0 1.02-.2 1.41-.59l7.78-7.78 2.81-2.81c.8-.78.8-2.07 0-2.86zM5.41 20L4 18.59l7.72-7.72 1.47 1.35L5.41 20z\"/>\n",
              "  </svg>\n",
              "      </button>\n",
              "      \n",
              "  <style>\n",
              "    .colab-df-container {\n",
              "      display:flex;\n",
              "      flex-wrap:wrap;\n",
              "      gap: 12px;\n",
              "    }\n",
              "\n",
              "    .colab-df-convert {\n",
              "      background-color: #E8F0FE;\n",
              "      border: none;\n",
              "      border-radius: 50%;\n",
              "      cursor: pointer;\n",
              "      display: none;\n",
              "      fill: #1967D2;\n",
              "      height: 32px;\n",
              "      padding: 0 0 0 0;\n",
              "      width: 32px;\n",
              "    }\n",
              "\n",
              "    .colab-df-convert:hover {\n",
              "      background-color: #E2EBFA;\n",
              "      box-shadow: 0px 1px 2px rgba(60, 64, 67, 0.3), 0px 1px 3px 1px rgba(60, 64, 67, 0.15);\n",
              "      fill: #174EA6;\n",
              "    }\n",
              "\n",
              "    [theme=dark] .colab-df-convert {\n",
              "      background-color: #3B4455;\n",
              "      fill: #D2E3FC;\n",
              "    }\n",
              "\n",
              "    [theme=dark] .colab-df-convert:hover {\n",
              "      background-color: #434B5C;\n",
              "      box-shadow: 0px 1px 3px 1px rgba(0, 0, 0, 0.15);\n",
              "      filter: drop-shadow(0px 1px 2px rgba(0, 0, 0, 0.3));\n",
              "      fill: #FFFFFF;\n",
              "    }\n",
              "  </style>\n",
              "\n",
              "      <script>\n",
              "        const buttonEl =\n",
              "          document.querySelector('#df-ed7e1fe8-99ff-45f6-a5d7-5bd6deb5a61e button.colab-df-convert');\n",
              "        buttonEl.style.display =\n",
              "          google.colab.kernel.accessAllowed ? 'block' : 'none';\n",
              "\n",
              "        async function convertToInteractive(key) {\n",
              "          const element = document.querySelector('#df-ed7e1fe8-99ff-45f6-a5d7-5bd6deb5a61e');\n",
              "          const dataTable =\n",
              "            await google.colab.kernel.invokeFunction('convertToInteractive',\n",
              "                                                     [key], {});\n",
              "          if (!dataTable) return;\n",
              "\n",
              "          const docLinkHtml = 'Like what you see? Visit the ' +\n",
              "            '<a target=\"_blank\" href=https://colab.research.google.com/notebooks/data_table.ipynb>data table notebook</a>'\n",
              "            + ' to learn more about interactive tables.';\n",
              "          element.innerHTML = '';\n",
              "          dataTable['output_type'] = 'display_data';\n",
              "          await google.colab.output.renderOutput(dataTable, element);\n",
              "          const docLink = document.createElement('div');\n",
              "          docLink.innerHTML = docLinkHtml;\n",
              "          element.appendChild(docLink);\n",
              "        }\n",
              "      </script>\n",
              "    </div>\n",
              "  </div>\n",
              "  "
            ]
          },
          "metadata": {},
          "execution_count": 145
        }
      ]
    },
    {
      "cell_type": "markdown",
      "source": [
        "Forecast using ARIMA"
      ],
      "metadata": {
        "id": "96UHMkgB4MLg"
      }
    },
    {
      "cell_type": "code",
      "source": [
        "def forecast_pred_ARIMA_new(zip):\n",
        "  df = zip_date_cat_countDF.loc[zip_date_cat_countDF['zipcode'] == zip]\n",
        "  train = df[df.CMPLNT_DT < pd.to_datetime(\"2022-09-01\", format='%Y-%m-%d')]\n",
        "  test = df[df.CMPLNT_DT >= pd.to_datetime(\"2022-09-01\", format='%Y-%m-%d')]\n",
        "\n",
        "  modelARIMA_Category1 = ARIMA(train.Category1, order=(2,1,0)).fit()\n",
        "  modelARIMA_Category2 = ARIMA(train.Category2, order=(2,1,0)).fit()\n",
        "  modelARIMA_Category3 = ARIMA(train.Category3, order=(2,1,0)).fit()\n",
        "  modelARIMA_Category4 = ARIMA(train.Category4, order=(2,1,0)).fit()\n",
        "\n",
        "  Category1_pred = modelARIMA_Category1.get_forecast(len(test.index))\n",
        "  Category2_pred = modelARIMA_Category2.get_forecast(len(test.index))\n",
        "  Category3_pred = modelARIMA_Category3.get_forecast(len(test.index))\n",
        "  Category4_pred = modelARIMA_Category4.get_forecast(len(test.index))\n",
        "\n",
        "  Category1_pred_df = Category1_pred.conf_int(alpha = 0.05)\n",
        "  Category2_pred_df = Category2_pred.conf_int(alpha = 0.05)\n",
        "  Category3_pred_df = Category3_pred.conf_int(alpha = 0.05) \n",
        "  Category4_pred_df = Category4_pred.conf_int(alpha = 0.05) \n",
        "\n",
        "  Category1_pred_df[\"Predictions\"] = modelARIMA_Category1.predict(start = Category1_pred_df.index[0], end = Category1_pred_df.index[-1])\n",
        "  Category2_pred_df[\"Predictions\"] = modelARIMA_Category2.predict(start = Category2_pred_df.index[0], end = Category2_pred_df.index[-1])\n",
        "  Category3_pred_df[\"Predictions\"] = modelARIMA_Category3.predict(start = Category3_pred_df.index[0], end = Category3_pred_df.index[-1])\n",
        "  Category4_pred_df[\"Predictions\"] = modelARIMA_Category4.predict(start = Category4_pred_df.index[0], end = Category4_pred_df.index[-1])\n",
        "\n",
        "  Category1_pred_df.index = test.index\n",
        "  Category2_pred_df.index = test.index\n",
        "  Category3_pred_df.index = test.index\n",
        "  Category4_pred_df.index = test.index\n",
        "\n",
        "  Category1_pred_out = Category1_pred_df[\"Predictions\"]\n",
        "  Category2_pred_out = Category2_pred_df[\"Predictions\"]\n",
        "  Category3_pred_out = Category3_pred_df[\"Predictions\"]\n",
        "  Category4_pred_out = Category4_pred_df[\"Predictions\"]\n",
        "\n",
        "  # Uncomment for plots\n",
        "  \n",
        "  # forecast_error_Category1 = test[\"Category1\"] - Category1_pred_out\n",
        "  # forecast_error_Category2 = test[\"Category2\"] - Category2_pred_out\n",
        "  # forecast_error_Category3 = test[\"Category3\"] - Category3_pred_out\n",
        "  # forecast_error_Category4 = test[\"Category4\"] - Category4_pred_out\n",
        "\n",
        "  # print(\"RMSE, MFE for Category1 = \", str(np.sqrt(mean_squared_error(test[\"Category1\"], forecast_error_Category1))), str(np.mean(forecast_error_Category1)))\n",
        "  # print(\"RMSE, MFE for Category2 = \", str(np.sqrt(mean_squared_error(test[\"Category2\"], forecast_error_Category2))), str(np.mean(forecast_error_Category2)))\n",
        "  # print(\"RMSE, MFE for Category3 = \", str(np.sqrt(mean_squared_error(test[\"Category3\"], forecast_error_Category3))), str(np.mean(forecast_error_Category3)))\n",
        "  # print(\"RMSE, MFE for Category4 = \", str(np.sqrt(mean_squared_error(test[\"Category4\"], forecast_error_Category4))), str(np.mean(forecast_error_Category4)))\n",
        "\n",
        "  # fig, axs = plt.subplots(4, figsize=(18,14))\n",
        "  # fig.suptitle('ARIMA Model Results')\n",
        "  # # Category1\n",
        "  # axs[0].plot(test['CMPLNT_DT'], test['Category1'])\n",
        "  # axs[0].plot(test['CMPLNT_DT'],Category1_pred_out)\n",
        "  # axs[0].set_title('Predicted Category1')\n",
        "  # # Category2\n",
        "  # axs[1].plot(test['CMPLNT_DT'], test['Category2'])\n",
        "  # axs[1].plot(test['CMPLNT_DT'],Category2_pred_out)\n",
        "  # axs[1].set_title('Predicted Category2')\n",
        "  # # Category3\n",
        "  # axs[2].plot(test['CMPLNT_DT'], test['Category3'])\n",
        "  # axs[2].plot(test['CMPLNT_DT'],Category3_pred_out)\n",
        "  # axs[2].set_title('Predicted Category3')\n",
        "  # # Category4\n",
        "  # axs[3].plot(test['CMPLNT_DT'], test['Category4'])\n",
        "  # axs[3].plot(test['CMPLNT_DT'],Category4_pred_out)\n",
        "  # axs[3].set_title('Predicted Category4')\n",
        "\n",
        "  # for ax in axs.flat:\n",
        "  #   ax.set(xlabel='Time', ylabel= 'Crime Count')\n",
        "\n",
        "  # # Hide x labels and tick labels for top plots and y ticks for right plots.\n",
        "  # for ax in axs.flat:\n",
        "  #     ax.label_outer()\n",
        "\n",
        "  return np.array(Category1_pred_out), np.array(Category2_pred_out), np.array(Category3_pred_out), np.array(Category4_pred_out)"
      ],
      "metadata": {
        "id": "iV9APSnuaeNC"
      },
      "execution_count": 146,
      "outputs": []
    },
    {
      "cell_type": "markdown",
      "source": [
        "Forecast using Auto ARIMA"
      ],
      "metadata": {
        "id": "zt2BYLCy4Nt2"
      }
    },
    {
      "cell_type": "code",
      "source": [
        "def forecast_pred_Auto_ARIMA_new(zip):\n",
        "  df = zip_date_cat_countDF.loc[zip_date_cat_countDF['zipcode'] == zip]\n",
        "  train = df[df.CMPLNT_DT < pd.to_datetime(\"2022-09-01\", format='%Y-%m-%d')]\n",
        "  test = df[df.CMPLNT_DT >= pd.to_datetime(\"2022-09-01\", format='%Y-%m-%d')]\n",
        "\n",
        "  # Category1\n",
        "  stepwise_model_Category1 = auto_arima(df.Category1, start_p=1, start_q=1, max_p=3, max_q=3, m=12, start_P=0, seasonal=True, d=1, D=1, trace=True, error_action='ignore', suppress_warnings=True, stepwise=True)\n",
        "  stepwise_model_Category1.fit(train.Category1)\n",
        "  future_forecast_Category1 = stepwise_model_Category1.predict(n_periods=30)\n",
        "  # Category2\n",
        "  stepwise_model_Category2 = auto_arima(df.Category2, start_p=1, start_q=1, max_p=3, max_q=3, m=12, start_P=0, seasonal=True, d=1, D=1, trace=True, error_action='ignore', suppress_warnings=True, stepwise=True)\n",
        "  stepwise_model_Category2.fit(train.Category2)\n",
        "  future_forecast_Category2 = stepwise_model_Category2.predict(n_periods=30)\n",
        "  # Category3\n",
        "  stepwise_model_Category3 = auto_arima(df.Category3, start_p=1, start_q=1, max_p=3, max_q=3, m=12, start_P=0, seasonal=True, d=1, D=1, trace=True, error_action='ignore', suppress_warnings=True, stepwise=True)\n",
        "  stepwise_model_Category3.fit(train.Category3)\n",
        "  future_forecast_Category3 = stepwise_model_Category3.predict(n_periods=30)\n",
        "  # Category4\n",
        "  stepwise_model_Category4 = auto_arima(df.Category4, start_p=1, start_q=1, max_p=3, max_q=3, m=12, start_P=0, seasonal=True, d=1, D=1, trace=True, error_action='ignore', suppress_warnings=True, stepwise=True)\n",
        "  stepwise_model_Category4.fit(train.Category4)\n",
        "  future_forecast_Category4 = stepwise_model_Category4.predict(n_periods=30)\n",
        "\n",
        "\n",
        "  # Uncomment for graphs\n",
        "\n",
        "  # forecast_error_Category1 = test[\"Category1\"] - future_forecast_Category1\n",
        "  # forecast_error_Category2 = test[\"Category2\"] - future_forecast_Category2\n",
        "  # forecast_error_Category3 = test[\"Category3\"] - future_forecast_Category3\n",
        "  # forecast_error_Category4 = test[\"Category4\"] - future_forecast_Category4\n",
        "\n",
        "  # print(\"RMSE, MFE for Category1 = \", str(np.sqrt(mean_squared_error(test[\"Category1\"], future_forecast_Category1))), str(np.mean(forecast_error_Category1)))\n",
        "  # print(\"RMSE, MFE for Category2 = \", str(np.sqrt(mean_squared_error(test[\"Category2\"], future_forecast_Category2))), str(np.mean(forecast_error_Category2)))\n",
        "  # print(\"RMSE, MFE for Category3 = \", str(np.sqrt(mean_squared_error(test[\"Category3\"], future_forecast_Category3))), str(np.mean(forecast_error_Category3)))\n",
        "  # print(\"RMSE, MFE for Category4 = \", str(np.sqrt(mean_squared_error(test[\"Category4\"], future_forecast_Category4))), str(np.mean(forecast_error_Category4)))\n",
        "\n",
        "  # fig, axs = plt.subplots(4, figsize=(20,14))\n",
        "  # fig.suptitle('Auto ARIMA Model Results')\n",
        "  # # Category1\n",
        "  # axs[0].plot(test['CMPLNT_DT'], test['Category1'])\n",
        "  # # axs[0].set_title('Actual Felony')\n",
        "  # axs[0].plot(test['CMPLNT_DT'],future_forecast_Category1)\n",
        "  # ttle_Felony = 'Predicted Category1 with RMSE = '+str(np.sqrt(mean_squared_error(test[\"Category1\"], future_forecast_Category1)))\n",
        "  # axs[0].set_title('Category1')\n",
        "  # axs[0].legend(['actual','predicted'])\n",
        "  # # Category2\n",
        "  # axs[1].plot(test['CMPLNT_DT'], test['Category2'])\n",
        "  # # axs[1].set_title('Actual Misdemeanor')\n",
        "  # axs[1].plot(test['CMPLNT_DT'],future_forecast_Category2)\n",
        "  # ttle_Misdemeanor = 'Predicted Category2 with RMSE = '+str(np.sqrt(mean_squared_error(test[\"Category2\"], future_forecast_Category2)))\n",
        "  # axs[1].set_title('Category2')\n",
        "  # axs[1].legend(['actual','predicted'])\n",
        "  # # Category3\n",
        "  # axs[2].plot(test['CMPLNT_DT'], test['Category3'])\n",
        "  # # axs[2].set_title('Actual Violation')\n",
        "  # axs[2].plot(test['CMPLNT_DT'],future_forecast_Category3)\n",
        "  # ttle_Violation = 'Predicted Category3 with RMSE = '+str(np.sqrt(mean_squared_error(test[\"Category3\"], future_forecast_Category3)))\n",
        "  # axs[2].set_title('Category3')\n",
        "  # axs[2].legend(['actual','predicted'])\n",
        "  # # Category4\n",
        "  # axs[3].plot(test['CMPLNT_DT'], test['Category4'])\n",
        "  # # axs[2].set_title('Actual Violation')\n",
        "  # axs[3].plot(test['CMPLNT_DT'],future_forecast_Category4)\n",
        "  # ttle_Violation = 'Predicted Category4 with RMSE = '+str(np.sqrt(mean_squared_error(test[\"Category4\"], future_forecast_Category4)))\n",
        "  # axs[3].set_title('Category4')\n",
        "  # axs[3].legend(['actual','predicted'])\n",
        "\n",
        "  # for ax in axs.flat:\n",
        "  #   ax.set(xlabel='Time', ylabel= 'Crime Count')\n",
        "\n",
        "  # # Hide x labels and tick labels for top plots and y ticks for right plots.\n",
        "  # for ax in axs.flat:\n",
        "  #     ax.label_outer()\n",
        "\n",
        "  return np.array(future_forecast_Category1),np.array(future_forecast_Category2),np.array(future_forecast_Category3),np.array(future_forecast_Category4)"
      ],
      "metadata": {
        "id": "mUScw15faeND"
      },
      "execution_count": 147,
      "outputs": []
    },
    {
      "cell_type": "code",
      "source": [
        "def zip_arima_pred():\n",
        "  zipcode_list = np.array(zips['zipcode'])\n",
        "  zip_pred_dict = {}\n",
        "  i = 0\n",
        "  for zip in zipcode_list:\n",
        "    # uncomment to track progress\n",
        "    # print(\"i = \",i)\n",
        "    # i+=1\n",
        "    cat1_pred, cat2_pred, cat3_pred, cat4_pred = forecast_pred_ARIMA_new(zip)\n",
        "    zip_pred_dict[zip] = [cat1_pred, cat2_pred, cat3_pred, cat4_pred]\n",
        "  return zip_pred_dict"
      ],
      "metadata": {
        "id": "HyUCIC6mZEXu"
      },
      "execution_count": 148,
      "outputs": []
    },
    {
      "cell_type": "markdown",
      "source": [
        "Store predicted values and create a csv"
      ],
      "metadata": {
        "id": "a-nsNDNz4RiJ"
      }
    },
    {
      "cell_type": "code",
      "source": [
        "predictions_ARIMA_dict = zip_arima_pred()\n",
        "df_arima_pred = pd.DataFrame.from_dict(predictions_ARIMA_dict,orient='index')\n",
        "df_arima_pred.reset_index(inplace=True)\n",
        "df_arima_pred.columns = ['zipcode','Category1', 'Category2', 'Category3', 'Category4']\n",
        "df_arima_pred = df_arima_pred.explode(['Category1', 'Category2', 'Category3', 'Category4'])\n"
      ],
      "metadata": {
        "id": "fwpAsmu0bTIP"
      },
      "execution_count": 149,
      "outputs": []
    },
    {
      "cell_type": "code",
      "source": [
        "df_arima_pred"
      ],
      "metadata": {
        "colab": {
          "base_uri": "https://localhost:8080/",
          "height": 424
        },
        "id": "XLvxkVQaiwZt",
        "outputId": "5fd8b4ef-9f09-4c4d-fd0d-f996f80b49bc"
      },
      "execution_count": 150,
      "outputs": [
        {
          "output_type": "execute_result",
          "data": {
            "text/plain": [
              "     zipcode Category1 Category2 Category3 Category4\n",
              "0      10462       0.0       0.0  0.382057  2.659298\n",
              "0      10462       0.0       0.0  0.456396  2.515008\n",
              "0      10462       0.0       0.0  0.265281   3.08669\n",
              "0      10462       0.0       0.0   0.37993  2.747608\n",
              "0      10462       0.0       0.0  0.363389  2.777144\n",
              "..       ...       ...       ...       ...       ...\n",
              "195     7077       0.0       0.0       0.0       0.0\n",
              "195     7077       0.0       0.0       0.0       0.0\n",
              "195     7077       0.0       0.0       0.0       0.0\n",
              "195     7077       0.0       0.0       0.0       0.0\n",
              "195     7077       0.0       0.0       0.0       0.0\n",
              "\n",
              "[5880 rows x 5 columns]"
            ],
            "text/html": [
              "\n",
              "  <div id=\"df-f31303f2-f40c-4fac-9212-2eec6f6136ce\">\n",
              "    <div class=\"colab-df-container\">\n",
              "      <div>\n",
              "<style scoped>\n",
              "    .dataframe tbody tr th:only-of-type {\n",
              "        vertical-align: middle;\n",
              "    }\n",
              "\n",
              "    .dataframe tbody tr th {\n",
              "        vertical-align: top;\n",
              "    }\n",
              "\n",
              "    .dataframe thead th {\n",
              "        text-align: right;\n",
              "    }\n",
              "</style>\n",
              "<table border=\"1\" class=\"dataframe\">\n",
              "  <thead>\n",
              "    <tr style=\"text-align: right;\">\n",
              "      <th></th>\n",
              "      <th>zipcode</th>\n",
              "      <th>Category1</th>\n",
              "      <th>Category2</th>\n",
              "      <th>Category3</th>\n",
              "      <th>Category4</th>\n",
              "    </tr>\n",
              "  </thead>\n",
              "  <tbody>\n",
              "    <tr>\n",
              "      <th>0</th>\n",
              "      <td>10462</td>\n",
              "      <td>0.0</td>\n",
              "      <td>0.0</td>\n",
              "      <td>0.382057</td>\n",
              "      <td>2.659298</td>\n",
              "    </tr>\n",
              "    <tr>\n",
              "      <th>0</th>\n",
              "      <td>10462</td>\n",
              "      <td>0.0</td>\n",
              "      <td>0.0</td>\n",
              "      <td>0.456396</td>\n",
              "      <td>2.515008</td>\n",
              "    </tr>\n",
              "    <tr>\n",
              "      <th>0</th>\n",
              "      <td>10462</td>\n",
              "      <td>0.0</td>\n",
              "      <td>0.0</td>\n",
              "      <td>0.265281</td>\n",
              "      <td>3.08669</td>\n",
              "    </tr>\n",
              "    <tr>\n",
              "      <th>0</th>\n",
              "      <td>10462</td>\n",
              "      <td>0.0</td>\n",
              "      <td>0.0</td>\n",
              "      <td>0.37993</td>\n",
              "      <td>2.747608</td>\n",
              "    </tr>\n",
              "    <tr>\n",
              "      <th>0</th>\n",
              "      <td>10462</td>\n",
              "      <td>0.0</td>\n",
              "      <td>0.0</td>\n",
              "      <td>0.363389</td>\n",
              "      <td>2.777144</td>\n",
              "    </tr>\n",
              "    <tr>\n",
              "      <th>...</th>\n",
              "      <td>...</td>\n",
              "      <td>...</td>\n",
              "      <td>...</td>\n",
              "      <td>...</td>\n",
              "      <td>...</td>\n",
              "    </tr>\n",
              "    <tr>\n",
              "      <th>195</th>\n",
              "      <td>7077</td>\n",
              "      <td>0.0</td>\n",
              "      <td>0.0</td>\n",
              "      <td>0.0</td>\n",
              "      <td>0.0</td>\n",
              "    </tr>\n",
              "    <tr>\n",
              "      <th>195</th>\n",
              "      <td>7077</td>\n",
              "      <td>0.0</td>\n",
              "      <td>0.0</td>\n",
              "      <td>0.0</td>\n",
              "      <td>0.0</td>\n",
              "    </tr>\n",
              "    <tr>\n",
              "      <th>195</th>\n",
              "      <td>7077</td>\n",
              "      <td>0.0</td>\n",
              "      <td>0.0</td>\n",
              "      <td>0.0</td>\n",
              "      <td>0.0</td>\n",
              "    </tr>\n",
              "    <tr>\n",
              "      <th>195</th>\n",
              "      <td>7077</td>\n",
              "      <td>0.0</td>\n",
              "      <td>0.0</td>\n",
              "      <td>0.0</td>\n",
              "      <td>0.0</td>\n",
              "    </tr>\n",
              "    <tr>\n",
              "      <th>195</th>\n",
              "      <td>7077</td>\n",
              "      <td>0.0</td>\n",
              "      <td>0.0</td>\n",
              "      <td>0.0</td>\n",
              "      <td>0.0</td>\n",
              "    </tr>\n",
              "  </tbody>\n",
              "</table>\n",
              "<p>5880 rows × 5 columns</p>\n",
              "</div>\n",
              "      <button class=\"colab-df-convert\" onclick=\"convertToInteractive('df-f31303f2-f40c-4fac-9212-2eec6f6136ce')\"\n",
              "              title=\"Convert this dataframe to an interactive table.\"\n",
              "              style=\"display:none;\">\n",
              "        \n",
              "  <svg xmlns=\"http://www.w3.org/2000/svg\" height=\"24px\"viewBox=\"0 0 24 24\"\n",
              "       width=\"24px\">\n",
              "    <path d=\"M0 0h24v24H0V0z\" fill=\"none\"/>\n",
              "    <path d=\"M18.56 5.44l.94 2.06.94-2.06 2.06-.94-2.06-.94-.94-2.06-.94 2.06-2.06.94zm-11 1L8.5 8.5l.94-2.06 2.06-.94-2.06-.94L8.5 2.5l-.94 2.06-2.06.94zm10 10l.94 2.06.94-2.06 2.06-.94-2.06-.94-.94-2.06-.94 2.06-2.06.94z\"/><path d=\"M17.41 7.96l-1.37-1.37c-.4-.4-.92-.59-1.43-.59-.52 0-1.04.2-1.43.59L10.3 9.45l-7.72 7.72c-.78.78-.78 2.05 0 2.83L4 21.41c.39.39.9.59 1.41.59.51 0 1.02-.2 1.41-.59l7.78-7.78 2.81-2.81c.8-.78.8-2.07 0-2.86zM5.41 20L4 18.59l7.72-7.72 1.47 1.35L5.41 20z\"/>\n",
              "  </svg>\n",
              "      </button>\n",
              "      \n",
              "  <style>\n",
              "    .colab-df-container {\n",
              "      display:flex;\n",
              "      flex-wrap:wrap;\n",
              "      gap: 12px;\n",
              "    }\n",
              "\n",
              "    .colab-df-convert {\n",
              "      background-color: #E8F0FE;\n",
              "      border: none;\n",
              "      border-radius: 50%;\n",
              "      cursor: pointer;\n",
              "      display: none;\n",
              "      fill: #1967D2;\n",
              "      height: 32px;\n",
              "      padding: 0 0 0 0;\n",
              "      width: 32px;\n",
              "    }\n",
              "\n",
              "    .colab-df-convert:hover {\n",
              "      background-color: #E2EBFA;\n",
              "      box-shadow: 0px 1px 2px rgba(60, 64, 67, 0.3), 0px 1px 3px 1px rgba(60, 64, 67, 0.15);\n",
              "      fill: #174EA6;\n",
              "    }\n",
              "\n",
              "    [theme=dark] .colab-df-convert {\n",
              "      background-color: #3B4455;\n",
              "      fill: #D2E3FC;\n",
              "    }\n",
              "\n",
              "    [theme=dark] .colab-df-convert:hover {\n",
              "      background-color: #434B5C;\n",
              "      box-shadow: 0px 1px 3px 1px rgba(0, 0, 0, 0.15);\n",
              "      filter: drop-shadow(0px 1px 2px rgba(0, 0, 0, 0.3));\n",
              "      fill: #FFFFFF;\n",
              "    }\n",
              "  </style>\n",
              "\n",
              "      <script>\n",
              "        const buttonEl =\n",
              "          document.querySelector('#df-f31303f2-f40c-4fac-9212-2eec6f6136ce button.colab-df-convert');\n",
              "        buttonEl.style.display =\n",
              "          google.colab.kernel.accessAllowed ? 'block' : 'none';\n",
              "\n",
              "        async function convertToInteractive(key) {\n",
              "          const element = document.querySelector('#df-f31303f2-f40c-4fac-9212-2eec6f6136ce');\n",
              "          const dataTable =\n",
              "            await google.colab.kernel.invokeFunction('convertToInteractive',\n",
              "                                                     [key], {});\n",
              "          if (!dataTable) return;\n",
              "\n",
              "          const docLinkHtml = 'Like what you see? Visit the ' +\n",
              "            '<a target=\"_blank\" href=https://colab.research.google.com/notebooks/data_table.ipynb>data table notebook</a>'\n",
              "            + ' to learn more about interactive tables.';\n",
              "          element.innerHTML = '';\n",
              "          dataTable['output_type'] = 'display_data';\n",
              "          await google.colab.output.renderOutput(dataTable, element);\n",
              "          const docLink = document.createElement('div');\n",
              "          docLink.innerHTML = docLinkHtml;\n",
              "          element.appendChild(docLink);\n",
              "        }\n",
              "      </script>\n",
              "    </div>\n",
              "  </div>\n",
              "  "
            ]
          },
          "metadata": {},
          "execution_count": 150
        }
      ]
    },
    {
      "cell_type": "code",
      "source": [
        "start_date_pred = date(2022, 9, 1)\n",
        "end_date_pred = date(2022, 10, 1)"
      ],
      "metadata": {
        "id": "HHDpI3ovk8Mo"
      },
      "execution_count": 151,
      "outputs": []
    },
    {
      "cell_type": "code",
      "source": [
        "dates_pred = []\n",
        "for single_date in daterange(start_date_pred, end_date_pred):\n",
        "    dates_pred.append(single_date.strftime(\"%Y-%m-%d\"))"
      ],
      "metadata": {
        "id": "-rVbp9zmk8Mp"
      },
      "execution_count": 152,
      "outputs": []
    },
    {
      "cell_type": "code",
      "source": [
        "dates_pred_list = dates_pred * len(np.array(zips['zipcode']))"
      ],
      "metadata": {
        "id": "oQngdL3Fl6bf"
      },
      "execution_count": 153,
      "outputs": []
    },
    {
      "cell_type": "code",
      "source": [
        "df_arima_pred['Date'] = dates_pred_list"
      ],
      "metadata": {
        "id": "dhul9VPblc4r"
      },
      "execution_count": 154,
      "outputs": []
    },
    {
      "cell_type": "code",
      "source": [
        "zip_data = pd.DataFrame(pd.unique(df_arima_pred['zipcode']))"
      ],
      "metadata": {
        "id": "rro6iim3mlKZ"
      },
      "execution_count": 155,
      "outputs": []
    },
    {
      "cell_type": "code",
      "source": [
        "df_arima_pred.to_csv('ARIMA_pred.csv', index=False)"
      ],
      "metadata": {
        "id": "q6-zdQpwmoDU"
      },
      "execution_count": 156,
      "outputs": []
    },
    {
      "cell_type": "code",
      "source": [
        "zip_data.to_csv('Zips.csv', index=False)"
      ],
      "metadata": {
        "id": "zjtxliYJmuwV"
      },
      "execution_count": 157,
      "outputs": []
    },
    {
      "cell_type": "code",
      "source": [
        "zip_date_cat_countDF.to_csv('zip_cat_count.csv', index=False)"
      ],
      "metadata": {
        "id": "lbzmekgvZKI9"
      },
      "execution_count": 158,
      "outputs": []
    },
    {
      "cell_type": "code",
      "source": [
        "zip_date_cat_countDF.info()"
      ],
      "metadata": {
        "colab": {
          "base_uri": "https://localhost:8080/"
        },
        "id": "CF27f1qPc1Ke",
        "outputId": "a1a42351-0f7d-4ad0-aaba-e6b975046933"
      },
      "execution_count": 159,
      "outputs": [
        {
          "output_type": "stream",
          "name": "stdout",
          "text": [
            "<class 'pandas.core.frame.DataFrame'>\n",
            "Int64Index: 53508 entries, 0 to 53507\n",
            "Data columns (total 7 columns):\n",
            " #   Column     Non-Null Count  Dtype         \n",
            "---  ------     --------------  -----         \n",
            " 0   zipcode    53508 non-null  int64         \n",
            " 1   CMPLNT_DT  53508 non-null  datetime64[ns]\n",
            " 2   Category1  53508 non-null  float64       \n",
            " 3   Category2  53508 non-null  float64       \n",
            " 4   Category3  53508 non-null  float64       \n",
            " 5   Category4  53508 non-null  float64       \n",
            " 6   Other      53508 non-null  float64       \n",
            "dtypes: datetime64[ns](1), float64(5), int64(1)\n",
            "memory usage: 3.3 MB\n"
          ]
        }
      ]
    },
    {
      "cell_type": "code",
      "source": [
        "zip_date_cat_countDF = pd.read_csv('/content/zip_cat_count.csv')\n",
        "zip_date_cat_countDF['CMPLNT_DT'] = pd.to_datetime(zip_date_cat_countDF['CMPLNT_DT'])\n",
        "zips = pd.read_csv('/content/Zips.csv')\n",
        "zips.columns = ['zipcode']\n",
        "zips = np.array(zips['zipcode'])"
      ],
      "metadata": {
        "id": "lMjTjynxfXkF"
      },
      "execution_count": 160,
      "outputs": []
    },
    {
      "cell_type": "code",
      "source": [
        "def zip_auto_arima_pred():\n",
        "  zip_pred_dict = {}\n",
        "  i = 0\n",
        "  for zip in zips:\n",
        "    # uncomment to track progress\n",
        "    print(\"i = \",i)\n",
        "    i+=1\n",
        "    cat1_pred, cat2_pred, cat3_pred, cat4_pred = forecast_pred_Auto_ARIMA_new(zip)\n",
        "    zip_pred_dict[zip] = [cat1_pred, cat2_pred, cat3_pred, cat4_pred]\n",
        "  return zip_pred_dict"
      ],
      "metadata": {
        "id": "ObENUwdoXhZY"
      },
      "execution_count": 161,
      "outputs": []
    },
    {
      "cell_type": "markdown",
      "source": [
        "Below code takes long time to run. Uncomment to verify. The output was saved and the file was used for cluster prediction."
      ],
      "metadata": {
        "id": "SywMoMOqUGe2"
      }
    },
    {
      "cell_type": "code",
      "source": [
        "# predictions_Auto_ARIMA_dict = zip_auto_arima_pred()"
      ],
      "metadata": {
        "id": "GeZJugRuXhZZ"
      },
      "execution_count": 162,
      "outputs": []
    },
    {
      "cell_type": "code",
      "source": [
        "# df_auto_arima_pred = pd.DataFrame.from_dict(predictions_Auto_ARIMA_dict,orient='index')\n",
        "# df_auto_arima_pred.reset_index(inplace=True)\n",
        "# df_auto_arima_pred.columns = ['zipcode','Category1', 'Category2', 'Category3', 'Category4']\n",
        "# df_auto_arima_pred = df_auto_arima_pred.explode(['Category1', 'Category2', 'Category3', 'Category4'])"
      ],
      "metadata": {
        "id": "BnAL8TWiXhZZ"
      },
      "execution_count": 163,
      "outputs": []
    },
    {
      "cell_type": "code",
      "source": [
        "# df_auto_arima_pred"
      ],
      "metadata": {
        "id": "Aqofz89kXhZa"
      },
      "execution_count": 164,
      "outputs": []
    },
    {
      "cell_type": "code",
      "source": [
        "# df_auto_arima_pred['Date'] = dates_pred_list"
      ],
      "metadata": {
        "id": "yNrqmUoaXhZa"
      },
      "execution_count": 165,
      "outputs": []
    },
    {
      "cell_type": "code",
      "source": [
        "# df_auto_arima_pred.to_csv('Auto_ARIMA_pred.csv', index=False)"
      ],
      "metadata": {
        "id": "i2B6H6JHXhZb"
      },
      "execution_count": 166,
      "outputs": []
    },
    {
      "cell_type": "code",
      "source": [
        "# files.download(\"Auto_ARIMA_pred.csv\")"
      ],
      "metadata": {
        "id": "yYys_apdp2go"
      },
      "execution_count": 167,
      "outputs": []
    },
    {
      "cell_type": "code",
      "source": [
        "preddf = pd.read_csv(os.path.join(cur_dir, data_dir, 'Auto_ARIMA_pred.csv'))\n",
        "zip_date_cat_countDF = pd.read_csv('zip_cat_count.csv')\n",
        "arima_preddf = pd.read_csv('ARIMA_pred.csv')"
      ],
      "metadata": {
        "id": "ctEYimaIGFAl"
      },
      "execution_count": 168,
      "outputs": []
    },
    {
      "cell_type": "code",
      "source": [
        "def Auto_Arima_Scores(zip_date_cat_countDF,preddf):\n",
        "  zip_date_cat_countDF = zip_date_cat_countDF.sort_values(by=['zipcode','CMPLNT_DT'])\n",
        "  df = zip_date_cat_countDF\n",
        "  # df = df.sort_values(by=['zipcode'])\n",
        "  # train = df[df.CMPLNT_DT < pd.to_datetime(\"2022-09-01\", format='%Y-%m-%d')]\n",
        "  df['CMPLNT_DT'] = pd.to_datetime(df['CMPLNT_DT'])\n",
        "  test = df[df.CMPLNT_DT >= pd.to_datetime(\"2022-09-01\", format='%Y-%m-%d')]\n",
        "  test = test.sort_values(by=['zipcode','CMPLNT_DT'])\n",
        "  preddf['Date'] = pd.to_datetime(preddf['Date'])\n",
        "  preddf = preddf.sort_values(by=['zipcode','Date'])\n",
        "  y_cat1_true = test['Category1']\n",
        "  y_cat2_true = test['Category2']\n",
        "  y_cat3_true = test['Category3']\n",
        "  y_cat4_true = test['Category4']\n",
        "\n",
        "  # Auto ARIMA\n",
        "  y_cat1_pred = preddf['Category1']\n",
        "  y_cat2_pred = preddf['Category2']\n",
        "  y_cat3_pred = preddf['Category3']\n",
        "  y_cat4_pred = preddf['Category4']\n",
        "  #MSE\n",
        "  MSE_cat1 = np.square(np.subtract(y_cat1_true,y_cat1_pred)).mean() \n",
        "  MSE_cat2 = np.square(np.subtract(y_cat2_true,y_cat2_pred)).mean() \n",
        "  MSE_cat3 = np.square(np.subtract(y_cat3_true,y_cat3_pred)).mean() \n",
        "  MSE_cat4 = np.square(np.subtract(y_cat4_true,y_cat4_pred)).mean() \n",
        "  #RMSE\n",
        "  RMSE_cat1 = math.sqrt(MSE_cat1)\n",
        "  RMSE_cat2 = math.sqrt(MSE_cat2)\n",
        "  RMSE_cat3 = math.sqrt(MSE_cat3)\n",
        "  RMSE_cat4 = math.sqrt(MSE_cat4)\n",
        "\n",
        "  #MFE\n",
        "  forecast_error_cat1 = y_cat1_true - y_cat1_pred\n",
        "  MFE_cat1 = np.mean(forecast_error_cat1)\n",
        "  forecast_error_cat2 = y_cat2_true - y_cat2_pred\n",
        "  MFE_cat2 = np.mean(forecast_error_cat2)\n",
        "  forecast_error_cat3 = y_cat3_true - y_cat3_pred\n",
        "  MFE_cat3 = np.mean(forecast_error_cat3)\n",
        "  forecast_error_cat4 = y_cat4_true - y_cat4_pred\n",
        "  MFE_cat4 = np.mean(forecast_error_cat4)\n",
        "\n",
        "  print(\"RMSE for Auto Arima (Cat1,2,3,4) are - \",RMSE_cat1, RMSE_cat2, RMSE_cat3, RMSE_cat4)\n",
        "  print(\"MFE for Auto Arima (Cat1,2,3,4) are - \",MFE_cat1, MFE_cat2, MFE_cat3, MFE_cat4)"
      ],
      "metadata": {
        "id": "yasPOTYhvxVQ"
      },
      "execution_count": 169,
      "outputs": []
    },
    {
      "cell_type": "code",
      "source": [
        "zip_date_cat_countDF.info()"
      ],
      "metadata": {
        "colab": {
          "base_uri": "https://localhost:8080/"
        },
        "id": "acqBSTP0JvCr",
        "outputId": "8138e311-8c3b-4fdc-8dac-361079ee80ac"
      },
      "execution_count": 170,
      "outputs": [
        {
          "output_type": "stream",
          "name": "stdout",
          "text": [
            "<class 'pandas.core.frame.DataFrame'>\n",
            "RangeIndex: 53508 entries, 0 to 53507\n",
            "Data columns (total 7 columns):\n",
            " #   Column     Non-Null Count  Dtype  \n",
            "---  ------     --------------  -----  \n",
            " 0   zipcode    53508 non-null  int64  \n",
            " 1   CMPLNT_DT  53508 non-null  object \n",
            " 2   Category1  53508 non-null  float64\n",
            " 3   Category2  53508 non-null  float64\n",
            " 4   Category3  53508 non-null  float64\n",
            " 5   Category4  53508 non-null  float64\n",
            " 6   Other      53508 non-null  float64\n",
            "dtypes: float64(5), int64(1), object(1)\n",
            "memory usage: 2.9+ MB\n"
          ]
        }
      ]
    },
    {
      "cell_type": "code",
      "source": [
        "Auto_Arima_Scores(zip_date_cat_countDF,preddf)"
      ],
      "metadata": {
        "colab": {
          "base_uri": "https://localhost:8080/"
        },
        "id": "DsgRYPu5HH1p",
        "outputId": "5ab4d891-e6c7-4acb-e648-90929cf2a227"
      },
      "execution_count": 171,
      "outputs": [
        {
          "output_type": "stream",
          "name": "stdout",
          "text": [
            "RMSE for Auto Arima (Cat1,2,3,4) are -  1.5933568613334068 0.7159793236299165 1.3064188113355757 4.69168563535207\n",
            "MFE for Auto Arima (Cat1,2,3,4) are -  0.7446775276253969 0.17777961482982332 0.2943525830492066 1.4118705463252805\n"
          ]
        }
      ]
    },
    {
      "cell_type": "code",
      "source": [
        "def Arima_Scores(zip_date_cat_countDF,arima_preddf):\n",
        "  zip_date_cat_countDF = zip_date_cat_countDF.sort_values(by=['zipcode','CMPLNT_DT'])\n",
        "  df = zip_date_cat_countDF\n",
        "  # df = df.sort_values(by=['zipcode'])\n",
        "  # train = df[df.CMPLNT_DT < pd.to_datetime(\"2022-09-01\", format='%Y-%m-%d')]\n",
        "  df['CMPLNT_DT'] = pd.to_datetime(df['CMPLNT_DT'])\n",
        "  test = df[df.CMPLNT_DT >= pd.to_datetime(\"2022-09-01\", format='%Y-%m-%d')]\n",
        "  test = test.sort_values(by=['zipcode','CMPLNT_DT'])\n",
        "  arima_preddf['Date'] = pd.to_datetime(arima_preddf['Date'])\n",
        "  arima_preddf = arima_preddf.sort_values(by=['zipcode','Date'])\n",
        "  y_cat1_true = test['Category1']\n",
        "  y_cat2_true = test['Category2']\n",
        "  y_cat3_true = test['Category3']\n",
        "  y_cat4_true = test['Category4']\n",
        "\n",
        "  # Auto ARIMA\n",
        "  y_cat1_pred = arima_preddf['Category1']\n",
        "  y_cat2_pred = arima_preddf['Category2']\n",
        "  y_cat3_pred = arima_preddf['Category3']\n",
        "  y_cat4_pred = arima_preddf['Category4']\n",
        "  #MSE\n",
        "  MSE_cat1 = np.square(np.subtract(y_cat1_true,y_cat1_pred)).mean() \n",
        "  MSE_cat2 = np.square(np.subtract(y_cat2_true,y_cat2_pred)).mean() \n",
        "  MSE_cat3 = np.square(np.subtract(y_cat3_true,y_cat3_pred)).mean() \n",
        "  MSE_cat4 = np.square(np.subtract(y_cat4_true,y_cat4_pred)).mean() \n",
        "  #RMSE\n",
        "  RMSE_cat1 = math.sqrt(MSE_cat1)\n",
        "  RMSE_cat2 = math.sqrt(MSE_cat2)\n",
        "  RMSE_cat3 = math.sqrt(MSE_cat3)\n",
        "  RMSE_cat4 = math.sqrt(MSE_cat4)\n",
        "\n",
        "  #MFE\n",
        "  forecast_error_cat1 = y_cat1_true - y_cat1_pred\n",
        "  MFE_cat1 = np.mean(forecast_error_cat1)\n",
        "  forecast_error_cat2 = y_cat2_true - y_cat2_pred\n",
        "  MFE_cat2 = np.mean(forecast_error_cat2)\n",
        "  forecast_error_cat3 = y_cat3_true - y_cat3_pred\n",
        "  MFE_cat3 = np.mean(forecast_error_cat3)\n",
        "  forecast_error_cat4 = y_cat4_true - y_cat4_pred\n",
        "  MFE_cat4 = np.mean(forecast_error_cat4)\n",
        "\n",
        "  print(\"RMSE for Arima (Cat1,2,3,4) are - \",RMSE_cat1, RMSE_cat2, RMSE_cat3, RMSE_cat4)\n",
        "  print(\"MFE for Arima (Cat1,2,3,4) are - \",MFE_cat1, MFE_cat2, MFE_cat3, MFE_cat4)"
      ],
      "metadata": {
        "id": "OrG1wsp_He59"
      },
      "execution_count": 172,
      "outputs": []
    },
    {
      "cell_type": "code",
      "source": [
        "Arima_Scores(zip_date_cat_countDF,arima_preddf)"
      ],
      "metadata": {
        "colab": {
          "base_uri": "https://localhost:8080/"
        },
        "id": "u6z_P-LSKh3s",
        "outputId": "8c1d3fd9-f8f0-4f5f-b0ba-7a1c78f9cb88"
      },
      "execution_count": 173,
      "outputs": [
        {
          "output_type": "stream",
          "name": "stdout",
          "text": [
            "RMSE for Arima (Cat1,2,3,4) are -  1.5534827821172859 0.6817031708334375 1.2621301489440826 4.687220121842255\n",
            "MFE for Arima (Cat1,2,3,4) are -  0.7591056159844666 0.19848008391217442 0.2629747163856397 1.4879426025337028\n"
          ]
        }
      ]
    },
    {
      "cell_type": "markdown",
      "source": [
        "Unsupervised Clustering to define ground truth labels"
      ],
      "metadata": {
        "id": "xsPIkparYnQ5"
      }
    },
    {
      "cell_type": "code",
      "source": [
        "recent_pdf = pdf\n",
        "recent_pdf.loc[:, ['zipcode']] = recent_pdf['zipcode'].astype(str).apply(lambda x: x.zfill(5))"
      ],
      "metadata": {
        "id": "PDFPyyBr7Wfx"
      },
      "execution_count": 191,
      "outputs": []
    },
    {
      "cell_type": "code",
      "source": [
        "#set Year to the right value using CMPLNT_FR_DT\n",
        "recent_pdf['Year'] = recent_pdf['CMPLNT_DT_TS'].dt.year\n",
        "# recent_pdf.info()\n"
      ],
      "metadata": {
        "id": "HrbEBuIXBLYl"
      },
      "execution_count": 192,
      "outputs": []
    },
    {
      "cell_type": "code",
      "source": [
        "cat1 = ['MURDER & NON-NEGL. MANSLAUGHTER', 'FELONY ASSAULT']\n",
        "cat2 = ['RAPE', 'SEX CRIMES', 'FELONY SEX CRIMES', 'OFFENSES RELATED TO CHILDREN', 'KIDNAPPING', 'KIDNAPPING & RELATED OFFENSES']\n",
        "cat3 = ['ARSON','OFFENSES AGAINST THE PERSON','DANGEROUS WEAPONS','DANGEROUS DRUGS','UNLAWFUL POSS. WEAP. ON SCHOOL','INTOXICATED & IMPAIRED DRIVING','OFFENSES AGAINST PUBLIC SAFETY','HOMICIDE-NEGLIGENT-VEHICLE','INTOXICATED/IMPAIRED DRIVING','ESCAPE 3']\n",
        "cat4 = ['ROBBERY', 'GRAND LARCENY', 'GRAND LARCENY OF MOTOR VEHICLE', 'BURGLARY', 'UNAUTHORIZED USE OF A VEHICLE', 'THEFT-FRAUD', 'OTHER OFFENSES RELATED TO THEF', 'PETIT LARCENY', 'PETIT LARCENY OF MOTOR VEHICLE']\n",
        "\n",
        "\n",
        "counts_by_year_zip_cat = recent_pdf.loc[:, ['CMPLNT_NUM', 'Year', 'zipcode', 'OFNS_DESC']].groupby(by = ['Year', 'zipcode', 'OFNS_DESC']).count()\n",
        "input_data = pd.DataFrame(columns = ['zipcode', 'Cat1Count', 'Cat2Count', 'Cat3Count', 'Cat4Count'])\n",
        "for zip in counts_by_year_zip_cat.index.levels[1]:\n",
        "  zip_counts = counts_by_year_zip_cat.xs(zip, level='zipcode')\n",
        "  \n",
        "  cat1Count, cat2Count, cat3Count, cat4Count = 0, 0, 0, 0\n",
        "\n",
        "  for c1 in cat1:\n",
        "    if c1 in zip_counts.index.get_level_values(1):\n",
        "      cat1Count += zip_counts.xs(c1, level = 'OFNS_DESC').sum()[0]\n",
        "  \n",
        "  for c2 in cat2:\n",
        "    if c2 in zip_counts.index.get_level_values(1):\n",
        "      cat2Count += zip_counts.xs(c2, level = 'OFNS_DESC').sum()[0]\n",
        "  \n",
        "  for c3 in cat3:\n",
        "    if c3 in zip_counts.index.get_level_values(1):\n",
        "      cat3Count += zip_counts.xs(c3, level = 'OFNS_DESC').sum()[0]\n",
        "  \n",
        "  for c4 in cat4:\n",
        "    if c4 in zip_counts.index.get_level_values(1):\n",
        "      cat4Count += zip_counts.xs(c4, level = 'OFNS_DESC').sum()[0]\n",
        "  input_data.loc[len(input_data.index), : ] = [zip, cat1Count, cat2Count, cat3Count, cat4Count]\n",
        "\n",
        "\n",
        "\n",
        "from sklearn import preprocessing\n",
        "import numpy as np\n",
        "from sklearn.manifold import TSNE\n",
        "import plotly.express as px\n",
        "\n",
        "X_train = input_data.loc[:, ['Cat1Count', 'Cat2Count', 'Cat3Count', 'Cat4Count']].values\n",
        "scaler = preprocessing.StandardScaler().fit(X_train)\n",
        "\n",
        "X_scaled = scaler.transform(X_train)\n",
        "\n",
        "\n",
        "\n",
        "#unsupervised classification of zipcodes\n",
        "from sklearn.cluster import KMeans\n",
        "from sklearn import metrics\n",
        "from scipy.spatial.distance import cdist\n",
        "\n",
        "k_vals = list(range(2,15))\n",
        "distortions = []\n",
        "inertias = []\n",
        "for k in k_vals:\n",
        "  kmeans = KMeans(init=\"k-means++\", n_clusters=k, n_init=4, random_state=7)\n",
        "  kmeans = kmeans.fit(X_scaled)\n",
        "  labels = kmeans.labels_\n",
        "\n",
        "  distortions.append(sum(np.min(cdist(X_scaled, kmeans.cluster_centers_, 'euclidean'), axis=1)) / X_scaled.shape[0])\n",
        "  inertias.append(kmeans.inertia_)\n",
        "\n",
        "  #visualising clusters in 2d\n",
        "  features = X_scaled\n",
        "\n",
        "  tsne = TSNE(n_components=2, random_state=0)\n",
        "  projections = tsne.fit_transform(features)\n",
        "\n",
        "  fig = px.scatter(\n",
        "      projections, x=0, y=1,\n",
        "      color=labels, labels={'color': 'Cluster ID'}\n",
        "  )\n",
        "  fig.show()\n",
        "\n",
        "plt.plot(k_vals, distortions, 'bx-')\n",
        "plt.xlabel('Values of K')\n",
        "plt.ylabel('Distortion')\n",
        "plt.title('The Elbow Method using Distortion')\n",
        "plt.show()\n",
        "\n",
        "\n",
        "plt.plot(k_vals, inertias, 'bx-')\n",
        "plt.xlabel('Values of K')\n",
        "plt.ylabel('Inertia')\n",
        "plt.title('The Elbow Method using Inertia')\n",
        "plt.show()"
      ],
      "metadata": {
        "colab": {
          "base_uri": "https://localhost:8080/",
          "height": 1000
        },
        "id": "d8CU8gB2mZwr",
        "outputId": "3b195bdb-6f68-4604-a11e-3759b24b7ca5"
      },
      "execution_count": 193,
      "outputs": [
        {
          "output_type": "display_data",
          "data": {
            "text/html": [
              "<html>\n",
              "<head><meta charset=\"utf-8\" /></head>\n",
              "<body>\n",
              "    <div>            <script src=\"https://cdnjs.cloudflare.com/ajax/libs/mathjax/2.7.5/MathJax.js?config=TeX-AMS-MML_SVG\"></script><script type=\"text/javascript\">if (window.MathJax) {MathJax.Hub.Config({SVG: {font: \"STIX-Web\"}});}</script>                <script type=\"text/javascript\">window.PlotlyConfig = {MathJaxConfig: 'local'};</script>\n",
              "        <script src=\"https://cdn.plot.ly/plotly-2.8.3.min.js\"></script>                <div id=\"cc15d58e-c060-4023-af9d-51635ba4ab32\" class=\"plotly-graph-div\" style=\"height:525px; width:100%;\"></div>            <script type=\"text/javascript\">                                    window.PLOTLYENV=window.PLOTLYENV || {};                                    if (document.getElementById(\"cc15d58e-c060-4023-af9d-51635ba4ab32\")) {                    Plotly.newPlot(                        \"cc15d58e-c060-4023-af9d-51635ba4ab32\",                        [{\"hovertemplate\":\"0=%{x}<br>1=%{y}<br>Cluster ID=%{marker.color}<extra></extra>\",\"legendgroup\":\"\",\"marker\":{\"color\":[0,0,0,0,0,1,1,0,0,0,1,1,0,1,0,0,0,0,1,0,1,0,0,0,1,1,1,0,1,1,0,1,1,0,0,0,1,0,0,0,0,0,1,0,0,0,1,0,0,0,0,0,0,0,0,0,0,0,0,0,1,0,1,1,1,1,1,0,0,1,0,1,0,0,1,1,0,0,0,0,1,0,0,0,0,0,0,0,0,0,0,0,0,0,0,1,0,0,0,0,0,0,0,0,0,1,0,0,0,1,0,1,0,0,1,0,1,0,1,1,0,0,1,1,1,0,0,0,0,0,1,0,0,1,1,0,0,0,0,1,0,0,0,0,0,0,0,0,0,0,0,0,0,0,1,0,0,0,1,0,0,0,0,0,1,0,0,0,0,0,0,1,1,0,0,0,0,0,0,0,1,0,0,0,1,1,0,0,0,0,0,0,0,0,0,0],\"coloraxis\":\"coloraxis\",\"symbol\":\"circle\"},\"mode\":\"markers\",\"name\":\"\",\"orientation\":\"v\",\"showlegend\":false,\"x\":[-14.010978698730469,-12.515832901000977,-12.275636672973633,-14.0247220993042,-0.05660586431622505,7.785799026489258,8.65894603729248,-13.883360862731934,6.330460071563721,5.1363348960876465,9.125096321105957,7.667591094970703,4.02144193649292,11.73284912109375,5.495007514953613,-6.588618278503418,1.4258551597595215,0.48763397336006165,4.757401943206787,0.9017603397369385,8.61030101776123,4.182751178741455,3.2776882648468018,3.6755619049072266,7.523323059082031,12.450135231018066,10.413459777832031,6.1767802238464355,9.884696006774902,10.27029037475586,2.1883890628814697,7.275228500366211,8.22805118560791,-4.976815223693848,1.6613787412643433,2.465054988861084,7.073122024536133,-3.2369418144226074,-6.87083625793457,-4.682879447937012,-11.485442161560059,-2.1431286334991455,13.77086067199707,4.836908340454102,-10.89206600189209,-11.097627639770508,11.540698051452637,6.568370819091797,-7.307698726654053,-6.01694917678833,-6.274954319000244,4.864841938018799,-9.068275451660156,-8.303997039794922,-7.7075581550598145,-5.814850330352783,-12.051400184631348,-7.044747352600098,-5.032057762145996,1.9856668710708618,13.78812313079834,3.153083324432373,13.587113380432129,11.517004013061523,13.095743179321289,14.317023277282715,5.229954719543457,4.92117977142334,0.17513889074325562,7.789636135101318,1.6017875671386719,7.345010280609131,-11.685294151306152,6.369613170623779,11.935188293457031,12.144782066345215,2.3990261554718018,2.1272459030151367,-3.3683013916015625,-8.397220611572266,12.601922035217285,2.0916097164154053,-6.567148208618164,-4.227802753448486,-10.996848106384277,-13.215270042419434,-12.746932029724121,-10.198628425598145,-12.607071876525879,-13.52371597290039,-13.750264167785645,-13.01758861541748,-12.918519973754883,-6.279868125915527,-5.282954216003418,10.732418060302734,-2.4336681365966797,-4.765777587890625,1.1893893480300903,6.60901403427124,3.083696126937866,2.428781509399414,-1.2821564674377441,5.124421119689941,3.9283556938171387,14.010927200317383,2.127617120742798,-0.6151411533355713,4.330058574676514,8.632848739624023,3.9762089252471924,10.490377426147461,5.10472297668457,0.6674067378044128,10.201642990112305,3.9708151817321777,7.912269115447998,5.4351277351379395,6.77620267868042,8.205607414245605,4.436781406402588,4.227747440338135,8.963719367980957,8.136098861694336,12.006921768188477,-3.026888132095337,1.9714417457580566,-3.9395267963409424,-5.505794525146484,6.994745254516602,13.137016296386719,-0.6454105377197266,0.4902547001838684,7.4001030921936035,9.387517929077148,-0.5460483431816101,3.548675775527954,4.205582141876221,-2.703530788421631,9.029582977294922,3.0576939582824707,-7.636250019073486,-7.677859783172607,-3.0892415046691895,-12.206745147705078,-9.240605354309082,-3.8148529529571533,-10.251330375671387,-11.920907020568848,-7.870264530181885,-5.344679355621338,-6.890105247497559,6.160467147827148,1.398328423500061,11.325250625610352,-8.482756614685059,-9.338644027709961,5.537505149841309,11.709348678588867,3.5623257160186768,-2.144505262374878,-0.3762928545475006,-2.106393575668335,-6.71696662902832,7.515575885772705,-10.37488079071045,-4.228031158447266,-6.004608631134033,-7.508798122406006,-4.0403218269348145,-4.970010280609131,8.94958209991455,7.812694072723389,-1.1073434352874756,-5.532106876373291,-0.09165970981121063,-8.13768196105957,-5.729972839355469,-9.999256134033203,-6.756372451782227,7.6949687004089355,-8.305843353271484,-12.779684066772461,-2.443340301513672,12.398134231567383,11.224562644958496,2.144240140914917,-6.210644721984863,-12.366594314575195,-13.272161483764648,-13.276944160461426,6.571345329284668,-8.26191234588623,4.392890453338623,-7.292463302612305,-13.428526878356934],\"xaxis\":\"x\",\"y\":[-13.678510665893555,-14.926478385925293,-12.664448738098145,-14.103216171264648,-2.7045376300811768,3.7388765811920166,2.9787039756774902,-14.538312911987305,-0.04069153591990471,-0.17070341110229492,9.108237266540527,3.3689980506896973,-0.5149036645889282,10.879043579101562,7.716517448425293,-7.795140266418457,-4.279665470123291,-5.276700496673584,2.3247292041778564,-4.141783714294434,2.986602783203125,10.088926315307617,9.072290420532227,9.550048828125,3.107208013534546,6.2223896980285645,6.212632179260254,-0.18007206916809082,7.577554225921631,9.431360244750977,0.5723443627357483,7.950829029083252,4.666554927825928,-4.95464563369751,-0.8072100281715393,1.8029922246932983,8.378740310668945,-5.897435665130615,-3.9837446212768555,-8.774636268615723,-13.08329963684082,-7.591141700744629,6.289308071136475,7.298811912536621,-12.881646156311035,-12.496357917785645,6.513524532318115,7.820786952972412,-5.240993022918701,-3.425225019454956,-3.981487274169922,7.129267692565918,-6.374490737915039,-8.65267276763916,-8.71232795715332,-5.176576137542725,-13.079050064086914,-5.992271900177002,-7.4427809715271,-1.5487443208694458,8.57323932647705,0.2544406056404114,7.523603916168213,8.265546798706055,7.34541130065918,8.653066635131836,2.258789539337158,1.115339994430542,-1.7556580305099487,9.242561340332031,-1.956719160079956,3.064075469970703,-14.123490333557129,9.224174499511719,9.371334075927734,8.01406192779541,1.2611383199691772,-2.577829122543335,-4.898883819580078,-10.80549144744873,8.734498977661133,-0.8824284076690674,-5.035815715789795,-6.307501316070557,-11.122966766357422,-13.540948867797852,-14.412473678588867,-12.537470817565918,-13.056117057800293,-14.903593063354492,-13.231895446777344,-15.020448684692383,-12.25428295135498,-9.241068840026855,-5.24053430557251,9.093822479248047,-6.742518424987793,-8.119658470153809,-3.482680559158325,10.537288665771484,-1.580485463142395,-1.2131307125091553,-5.226967811584473,7.419678211212158,1.7264763116836548,8.354442596435547,-0.5216042995452881,-3.768120050430298,8.236891746520996,4.711859226226807,2.0339341163635254,7.229105472564697,9.2910737991333,-4.789695739746094,7.2369842529296875,9.407408714294434,9.440190315246582,9.609957695007324,3.7763497829437256,7.751552581787109,8.044508934020996,9.66302490234375,7.269323825836182,8.279678344726562,8.569880485534668,-5.649818420410156,-3.2245187759399414,-7.421112537384033,-2.0564444065093994,9.566320419311523,7.344461441040039,-4.275933265686035,-2.8847289085388184,7.462952613830566,5.980792999267578,-3.161151885986328,-1.9956326484680176,9.148406982421875,-7.888240814208984,9.636553764343262,-2.4276516437530518,-10.669692039489746,-11.091001510620117,-7.249883651733398,-14.64958667755127,-10.87609577178955,-9.572306632995605,-11.894397735595703,-13.661639213562012,-10.286446571350098,-9.097654342651367,-10.2250394821167,9.884992599487305,-2.2751665115356445,8.919795036315918,-10.141860008239746,-9.922017097473145,0.1636871099472046,10.401719093322754,8.058622360229492,-6.303009510040283,-4.423891067504883,-6.123499393463135,-9.665973663330078,10.203001976013184,-11.833146095275879,-5.137752532958984,-6.179619789123535,-9.594718933105469,-7.783646583557129,-7.401795864105225,10.463205337524414,10.954280853271484,-3.8004813194274902,-7.052220821380615,-4.603560924530029,-9.661861419677734,-4.203394412994385,-11.572652816772461,-8.94922161102295,10.98442268371582,-9.243114471435547,-13.765069961547852,-5.080360412597656,9.768122673034668,7.116754531860352,0.4650627672672272,-4.727939605712891,-13.889153480529785,-13.962550163269043,-14.378744125366211,9.726011276245117,-6.2789835929870605,6.323051452636719,-9.081849098205566,-13.091300010681152],\"yaxis\":\"y\",\"type\":\"scatter\"}],                        {\"template\":{\"data\":{\"bar\":[{\"error_x\":{\"color\":\"#2a3f5f\"},\"error_y\":{\"color\":\"#2a3f5f\"},\"marker\":{\"line\":{\"color\":\"#E5ECF6\",\"width\":0.5},\"pattern\":{\"fillmode\":\"overlay\",\"size\":10,\"solidity\":0.2}},\"type\":\"bar\"}],\"barpolar\":[{\"marker\":{\"line\":{\"color\":\"#E5ECF6\",\"width\":0.5},\"pattern\":{\"fillmode\":\"overlay\",\"size\":10,\"solidity\":0.2}},\"type\":\"barpolar\"}],\"carpet\":[{\"aaxis\":{\"endlinecolor\":\"#2a3f5f\",\"gridcolor\":\"white\",\"linecolor\":\"white\",\"minorgridcolor\":\"white\",\"startlinecolor\":\"#2a3f5f\"},\"baxis\":{\"endlinecolor\":\"#2a3f5f\",\"gridcolor\":\"white\",\"linecolor\":\"white\",\"minorgridcolor\":\"white\",\"startlinecolor\":\"#2a3f5f\"},\"type\":\"carpet\"}],\"choropleth\":[{\"colorbar\":{\"outlinewidth\":0,\"ticks\":\"\"},\"type\":\"choropleth\"}],\"contour\":[{\"colorbar\":{\"outlinewidth\":0,\"ticks\":\"\"},\"colorscale\":[[0.0,\"#0d0887\"],[0.1111111111111111,\"#46039f\"],[0.2222222222222222,\"#7201a8\"],[0.3333333333333333,\"#9c179e\"],[0.4444444444444444,\"#bd3786\"],[0.5555555555555556,\"#d8576b\"],[0.6666666666666666,\"#ed7953\"],[0.7777777777777778,\"#fb9f3a\"],[0.8888888888888888,\"#fdca26\"],[1.0,\"#f0f921\"]],\"type\":\"contour\"}],\"contourcarpet\":[{\"colorbar\":{\"outlinewidth\":0,\"ticks\":\"\"},\"type\":\"contourcarpet\"}],\"heatmap\":[{\"colorbar\":{\"outlinewidth\":0,\"ticks\":\"\"},\"colorscale\":[[0.0,\"#0d0887\"],[0.1111111111111111,\"#46039f\"],[0.2222222222222222,\"#7201a8\"],[0.3333333333333333,\"#9c179e\"],[0.4444444444444444,\"#bd3786\"],[0.5555555555555556,\"#d8576b\"],[0.6666666666666666,\"#ed7953\"],[0.7777777777777778,\"#fb9f3a\"],[0.8888888888888888,\"#fdca26\"],[1.0,\"#f0f921\"]],\"type\":\"heatmap\"}],\"heatmapgl\":[{\"colorbar\":{\"outlinewidth\":0,\"ticks\":\"\"},\"colorscale\":[[0.0,\"#0d0887\"],[0.1111111111111111,\"#46039f\"],[0.2222222222222222,\"#7201a8\"],[0.3333333333333333,\"#9c179e\"],[0.4444444444444444,\"#bd3786\"],[0.5555555555555556,\"#d8576b\"],[0.6666666666666666,\"#ed7953\"],[0.7777777777777778,\"#fb9f3a\"],[0.8888888888888888,\"#fdca26\"],[1.0,\"#f0f921\"]],\"type\":\"heatmapgl\"}],\"histogram\":[{\"marker\":{\"pattern\":{\"fillmode\":\"overlay\",\"size\":10,\"solidity\":0.2}},\"type\":\"histogram\"}],\"histogram2d\":[{\"colorbar\":{\"outlinewidth\":0,\"ticks\":\"\"},\"colorscale\":[[0.0,\"#0d0887\"],[0.1111111111111111,\"#46039f\"],[0.2222222222222222,\"#7201a8\"],[0.3333333333333333,\"#9c179e\"],[0.4444444444444444,\"#bd3786\"],[0.5555555555555556,\"#d8576b\"],[0.6666666666666666,\"#ed7953\"],[0.7777777777777778,\"#fb9f3a\"],[0.8888888888888888,\"#fdca26\"],[1.0,\"#f0f921\"]],\"type\":\"histogram2d\"}],\"histogram2dcontour\":[{\"colorbar\":{\"outlinewidth\":0,\"ticks\":\"\"},\"colorscale\":[[0.0,\"#0d0887\"],[0.1111111111111111,\"#46039f\"],[0.2222222222222222,\"#7201a8\"],[0.3333333333333333,\"#9c179e\"],[0.4444444444444444,\"#bd3786\"],[0.5555555555555556,\"#d8576b\"],[0.6666666666666666,\"#ed7953\"],[0.7777777777777778,\"#fb9f3a\"],[0.8888888888888888,\"#fdca26\"],[1.0,\"#f0f921\"]],\"type\":\"histogram2dcontour\"}],\"mesh3d\":[{\"colorbar\":{\"outlinewidth\":0,\"ticks\":\"\"},\"type\":\"mesh3d\"}],\"parcoords\":[{\"line\":{\"colorbar\":{\"outlinewidth\":0,\"ticks\":\"\"}},\"type\":\"parcoords\"}],\"pie\":[{\"automargin\":true,\"type\":\"pie\"}],\"scatter\":[{\"marker\":{\"colorbar\":{\"outlinewidth\":0,\"ticks\":\"\"}},\"type\":\"scatter\"}],\"scatter3d\":[{\"line\":{\"colorbar\":{\"outlinewidth\":0,\"ticks\":\"\"}},\"marker\":{\"colorbar\":{\"outlinewidth\":0,\"ticks\":\"\"}},\"type\":\"scatter3d\"}],\"scattercarpet\":[{\"marker\":{\"colorbar\":{\"outlinewidth\":0,\"ticks\":\"\"}},\"type\":\"scattercarpet\"}],\"scattergeo\":[{\"marker\":{\"colorbar\":{\"outlinewidth\":0,\"ticks\":\"\"}},\"type\":\"scattergeo\"}],\"scattergl\":[{\"marker\":{\"colorbar\":{\"outlinewidth\":0,\"ticks\":\"\"}},\"type\":\"scattergl\"}],\"scattermapbox\":[{\"marker\":{\"colorbar\":{\"outlinewidth\":0,\"ticks\":\"\"}},\"type\":\"scattermapbox\"}],\"scatterpolar\":[{\"marker\":{\"colorbar\":{\"outlinewidth\":0,\"ticks\":\"\"}},\"type\":\"scatterpolar\"}],\"scatterpolargl\":[{\"marker\":{\"colorbar\":{\"outlinewidth\":0,\"ticks\":\"\"}},\"type\":\"scatterpolargl\"}],\"scatterternary\":[{\"marker\":{\"colorbar\":{\"outlinewidth\":0,\"ticks\":\"\"}},\"type\":\"scatterternary\"}],\"surface\":[{\"colorbar\":{\"outlinewidth\":0,\"ticks\":\"\"},\"colorscale\":[[0.0,\"#0d0887\"],[0.1111111111111111,\"#46039f\"],[0.2222222222222222,\"#7201a8\"],[0.3333333333333333,\"#9c179e\"],[0.4444444444444444,\"#bd3786\"],[0.5555555555555556,\"#d8576b\"],[0.6666666666666666,\"#ed7953\"],[0.7777777777777778,\"#fb9f3a\"],[0.8888888888888888,\"#fdca26\"],[1.0,\"#f0f921\"]],\"type\":\"surface\"}],\"table\":[{\"cells\":{\"fill\":{\"color\":\"#EBF0F8\"},\"line\":{\"color\":\"white\"}},\"header\":{\"fill\":{\"color\":\"#C8D4E3\"},\"line\":{\"color\":\"white\"}},\"type\":\"table\"}]},\"layout\":{\"annotationdefaults\":{\"arrowcolor\":\"#2a3f5f\",\"arrowhead\":0,\"arrowwidth\":1},\"autotypenumbers\":\"strict\",\"coloraxis\":{\"colorbar\":{\"outlinewidth\":0,\"ticks\":\"\"}},\"colorscale\":{\"diverging\":[[0,\"#8e0152\"],[0.1,\"#c51b7d\"],[0.2,\"#de77ae\"],[0.3,\"#f1b6da\"],[0.4,\"#fde0ef\"],[0.5,\"#f7f7f7\"],[0.6,\"#e6f5d0\"],[0.7,\"#b8e186\"],[0.8,\"#7fbc41\"],[0.9,\"#4d9221\"],[1,\"#276419\"]],\"sequential\":[[0.0,\"#0d0887\"],[0.1111111111111111,\"#46039f\"],[0.2222222222222222,\"#7201a8\"],[0.3333333333333333,\"#9c179e\"],[0.4444444444444444,\"#bd3786\"],[0.5555555555555556,\"#d8576b\"],[0.6666666666666666,\"#ed7953\"],[0.7777777777777778,\"#fb9f3a\"],[0.8888888888888888,\"#fdca26\"],[1.0,\"#f0f921\"]],\"sequentialminus\":[[0.0,\"#0d0887\"],[0.1111111111111111,\"#46039f\"],[0.2222222222222222,\"#7201a8\"],[0.3333333333333333,\"#9c179e\"],[0.4444444444444444,\"#bd3786\"],[0.5555555555555556,\"#d8576b\"],[0.6666666666666666,\"#ed7953\"],[0.7777777777777778,\"#fb9f3a\"],[0.8888888888888888,\"#fdca26\"],[1.0,\"#f0f921\"]]},\"colorway\":[\"#636efa\",\"#EF553B\",\"#00cc96\",\"#ab63fa\",\"#FFA15A\",\"#19d3f3\",\"#FF6692\",\"#B6E880\",\"#FF97FF\",\"#FECB52\"],\"font\":{\"color\":\"#2a3f5f\"},\"geo\":{\"bgcolor\":\"white\",\"lakecolor\":\"white\",\"landcolor\":\"#E5ECF6\",\"showlakes\":true,\"showland\":true,\"subunitcolor\":\"white\"},\"hoverlabel\":{\"align\":\"left\"},\"hovermode\":\"closest\",\"mapbox\":{\"style\":\"light\"},\"paper_bgcolor\":\"white\",\"plot_bgcolor\":\"#E5ECF6\",\"polar\":{\"angularaxis\":{\"gridcolor\":\"white\",\"linecolor\":\"white\",\"ticks\":\"\"},\"bgcolor\":\"#E5ECF6\",\"radialaxis\":{\"gridcolor\":\"white\",\"linecolor\":\"white\",\"ticks\":\"\"}},\"scene\":{\"xaxis\":{\"backgroundcolor\":\"#E5ECF6\",\"gridcolor\":\"white\",\"gridwidth\":2,\"linecolor\":\"white\",\"showbackground\":true,\"ticks\":\"\",\"zerolinecolor\":\"white\"},\"yaxis\":{\"backgroundcolor\":\"#E5ECF6\",\"gridcolor\":\"white\",\"gridwidth\":2,\"linecolor\":\"white\",\"showbackground\":true,\"ticks\":\"\",\"zerolinecolor\":\"white\"},\"zaxis\":{\"backgroundcolor\":\"#E5ECF6\",\"gridcolor\":\"white\",\"gridwidth\":2,\"linecolor\":\"white\",\"showbackground\":true,\"ticks\":\"\",\"zerolinecolor\":\"white\"}},\"shapedefaults\":{\"line\":{\"color\":\"#2a3f5f\"}},\"ternary\":{\"aaxis\":{\"gridcolor\":\"white\",\"linecolor\":\"white\",\"ticks\":\"\"},\"baxis\":{\"gridcolor\":\"white\",\"linecolor\":\"white\",\"ticks\":\"\"},\"bgcolor\":\"#E5ECF6\",\"caxis\":{\"gridcolor\":\"white\",\"linecolor\":\"white\",\"ticks\":\"\"}},\"title\":{\"x\":0.05},\"xaxis\":{\"automargin\":true,\"gridcolor\":\"white\",\"linecolor\":\"white\",\"ticks\":\"\",\"title\":{\"standoff\":15},\"zerolinecolor\":\"white\",\"zerolinewidth\":2},\"yaxis\":{\"automargin\":true,\"gridcolor\":\"white\",\"linecolor\":\"white\",\"ticks\":\"\",\"title\":{\"standoff\":15},\"zerolinecolor\":\"white\",\"zerolinewidth\":2}}},\"xaxis\":{\"anchor\":\"y\",\"domain\":[0.0,1.0],\"title\":{\"text\":\"0\"}},\"yaxis\":{\"anchor\":\"x\",\"domain\":[0.0,1.0],\"title\":{\"text\":\"1\"}},\"coloraxis\":{\"colorbar\":{\"title\":{\"text\":\"Cluster ID\"}},\"colorscale\":[[0.0,\"#0d0887\"],[0.1111111111111111,\"#46039f\"],[0.2222222222222222,\"#7201a8\"],[0.3333333333333333,\"#9c179e\"],[0.4444444444444444,\"#bd3786\"],[0.5555555555555556,\"#d8576b\"],[0.6666666666666666,\"#ed7953\"],[0.7777777777777778,\"#fb9f3a\"],[0.8888888888888888,\"#fdca26\"],[1.0,\"#f0f921\"]]},\"legend\":{\"tracegroupgap\":0},\"margin\":{\"t\":60}},                        {\"responsive\": true}                    ).then(function(){\n",
              "                            \n",
              "var gd = document.getElementById('cc15d58e-c060-4023-af9d-51635ba4ab32');\n",
              "var x = new MutationObserver(function (mutations, observer) {{\n",
              "        var display = window.getComputedStyle(gd).display;\n",
              "        if (!display || display === 'none') {{\n",
              "            console.log([gd, 'removed!']);\n",
              "            Plotly.purge(gd);\n",
              "            observer.disconnect();\n",
              "        }}\n",
              "}});\n",
              "\n",
              "// Listen for the removal of the full notebook cells\n",
              "var notebookContainer = gd.closest('#notebook-container');\n",
              "if (notebookContainer) {{\n",
              "    x.observe(notebookContainer, {childList: true});\n",
              "}}\n",
              "\n",
              "// Listen for the clearing of the current output cell\n",
              "var outputEl = gd.closest('.output');\n",
              "if (outputEl) {{\n",
              "    x.observe(outputEl, {childList: true});\n",
              "}}\n",
              "\n",
              "                        })                };                            </script>        </div>\n",
              "</body>\n",
              "</html>"
            ]
          },
          "metadata": {}
        },
        {
          "output_type": "display_data",
          "data": {
            "text/html": [
              "<html>\n",
              "<head><meta charset=\"utf-8\" /></head>\n",
              "<body>\n",
              "    <div>            <script src=\"https://cdnjs.cloudflare.com/ajax/libs/mathjax/2.7.5/MathJax.js?config=TeX-AMS-MML_SVG\"></script><script type=\"text/javascript\">if (window.MathJax) {MathJax.Hub.Config({SVG: {font: \"STIX-Web\"}});}</script>                <script type=\"text/javascript\">window.PlotlyConfig = {MathJaxConfig: 'local'};</script>\n",
              "        <script src=\"https://cdn.plot.ly/plotly-2.8.3.min.js\"></script>                <div id=\"43bdf841-0087-4e5e-a864-29fe0aee5596\" class=\"plotly-graph-div\" style=\"height:525px; width:100%;\"></div>            <script type=\"text/javascript\">                                    window.PLOTLYENV=window.PLOTLYENV || {};                                    if (document.getElementById(\"43bdf841-0087-4e5e-a864-29fe0aee5596\")) {                    Plotly.newPlot(                        \"43bdf841-0087-4e5e-a864-29fe0aee5596\",                        [{\"hovertemplate\":\"0=%{x}<br>1=%{y}<br>Cluster ID=%{marker.color}<extra></extra>\",\"legendgroup\":\"\",\"marker\":{\"color\":[1,1,1,1,1,2,2,1,2,2,2,2,2,0,2,1,1,1,2,1,2,2,2,2,2,0,2,2,2,0,2,2,2,1,2,2,2,1,1,1,1,1,0,1,1,1,0,2,1,1,1,1,1,1,1,1,1,1,1,1,0,2,0,0,0,0,2,2,1,2,1,2,1,2,0,0,2,1,1,1,0,2,1,1,1,1,1,1,1,1,1,1,1,1,1,0,1,1,1,2,2,2,1,2,2,0,2,1,2,2,2,0,2,1,0,2,2,2,2,2,2,2,2,2,0,1,1,1,1,2,0,1,1,2,0,1,2,2,1,2,2,1,1,1,1,1,1,1,1,1,1,1,2,1,0,1,1,2,0,2,1,1,1,1,2,1,1,1,1,1,1,2,2,1,1,1,1,1,1,1,2,1,1,1,0,0,2,1,1,1,1,2,1,1,1,1],\"coloraxis\":\"coloraxis\",\"symbol\":\"circle\"},\"mode\":\"markers\",\"name\":\"\",\"orientation\":\"v\",\"showlegend\":false,\"x\":[-14.010978698730469,-12.515832901000977,-12.275636672973633,-14.0247220993042,-0.05660586431622505,7.785799026489258,8.65894603729248,-13.883360862731934,6.330460071563721,5.1363348960876465,9.125096321105957,7.667591094970703,4.02144193649292,11.73284912109375,5.495007514953613,-6.588618278503418,1.4258551597595215,0.48763397336006165,4.757401943206787,0.9017603397369385,8.61030101776123,4.182751178741455,3.2776882648468018,3.6755619049072266,7.523323059082031,12.450135231018066,10.413459777832031,6.1767802238464355,9.884696006774902,10.27029037475586,2.1883890628814697,7.275228500366211,8.22805118560791,-4.976815223693848,1.6613787412643433,2.465054988861084,7.073122024536133,-3.2369418144226074,-6.87083625793457,-4.682879447937012,-11.485442161560059,-2.1431286334991455,13.77086067199707,4.836908340454102,-10.89206600189209,-11.097627639770508,11.540698051452637,6.568370819091797,-7.307698726654053,-6.01694917678833,-6.274954319000244,4.864841938018799,-9.068275451660156,-8.303997039794922,-7.7075581550598145,-5.814850330352783,-12.051400184631348,-7.044747352600098,-5.032057762145996,1.9856668710708618,13.78812313079834,3.153083324432373,13.587113380432129,11.517004013061523,13.095743179321289,14.317023277282715,5.229954719543457,4.92117977142334,0.17513889074325562,7.789636135101318,1.6017875671386719,7.345010280609131,-11.685294151306152,6.369613170623779,11.935188293457031,12.144782066345215,2.3990261554718018,2.1272459030151367,-3.3683013916015625,-8.397220611572266,12.601922035217285,2.0916097164154053,-6.567148208618164,-4.227802753448486,-10.996848106384277,-13.215270042419434,-12.746932029724121,-10.198628425598145,-12.607071876525879,-13.52371597290039,-13.750264167785645,-13.01758861541748,-12.918519973754883,-6.279868125915527,-5.282954216003418,10.732418060302734,-2.4336681365966797,-4.765777587890625,1.1893893480300903,6.60901403427124,3.083696126937866,2.428781509399414,-1.2821564674377441,5.124421119689941,3.9283556938171387,14.010927200317383,2.127617120742798,-0.6151411533355713,4.330058574676514,8.632848739624023,3.9762089252471924,10.490377426147461,5.10472297668457,0.6674067378044128,10.201642990112305,3.9708151817321777,7.912269115447998,5.4351277351379395,6.77620267868042,8.205607414245605,4.436781406402588,4.227747440338135,8.963719367980957,8.136098861694336,12.006921768188477,-3.026888132095337,1.9714417457580566,-3.9395267963409424,-5.505794525146484,6.994745254516602,13.137016296386719,-0.6454105377197266,0.4902547001838684,7.4001030921936035,9.387517929077148,-0.5460483431816101,3.548675775527954,4.205582141876221,-2.703530788421631,9.029582977294922,3.0576939582824707,-7.636250019073486,-7.677859783172607,-3.0892415046691895,-12.206745147705078,-9.240605354309082,-3.8148529529571533,-10.251330375671387,-11.920907020568848,-7.870264530181885,-5.344679355621338,-6.890105247497559,6.160467147827148,1.398328423500061,11.325250625610352,-8.482756614685059,-9.338644027709961,5.537505149841309,11.709348678588867,3.5623257160186768,-2.144505262374878,-0.3762928545475006,-2.106393575668335,-6.71696662902832,7.515575885772705,-10.37488079071045,-4.228031158447266,-6.004608631134033,-7.508798122406006,-4.0403218269348145,-4.970010280609131,8.94958209991455,7.812694072723389,-1.1073434352874756,-5.532106876373291,-0.09165970981121063,-8.13768196105957,-5.729972839355469,-9.999256134033203,-6.756372451782227,7.6949687004089355,-8.305843353271484,-12.779684066772461,-2.443340301513672,12.398134231567383,11.224562644958496,2.144240140914917,-6.210644721984863,-12.366594314575195,-13.272161483764648,-13.276944160461426,6.571345329284668,-8.26191234588623,4.392890453338623,-7.292463302612305,-13.428526878356934],\"xaxis\":\"x\",\"y\":[-13.678510665893555,-14.926478385925293,-12.664448738098145,-14.103216171264648,-2.7045376300811768,3.7388765811920166,2.9787039756774902,-14.538312911987305,-0.04069153591990471,-0.17070341110229492,9.108237266540527,3.3689980506896973,-0.5149036645889282,10.879043579101562,7.716517448425293,-7.795140266418457,-4.279665470123291,-5.276700496673584,2.3247292041778564,-4.141783714294434,2.986602783203125,10.088926315307617,9.072290420532227,9.550048828125,3.107208013534546,6.2223896980285645,6.212632179260254,-0.18007206916809082,7.577554225921631,9.431360244750977,0.5723443627357483,7.950829029083252,4.666554927825928,-4.95464563369751,-0.8072100281715393,1.8029922246932983,8.378740310668945,-5.897435665130615,-3.9837446212768555,-8.774636268615723,-13.08329963684082,-7.591141700744629,6.289308071136475,7.298811912536621,-12.881646156311035,-12.496357917785645,6.513524532318115,7.820786952972412,-5.240993022918701,-3.425225019454956,-3.981487274169922,7.129267692565918,-6.374490737915039,-8.65267276763916,-8.71232795715332,-5.176576137542725,-13.079050064086914,-5.992271900177002,-7.4427809715271,-1.5487443208694458,8.57323932647705,0.2544406056404114,7.523603916168213,8.265546798706055,7.34541130065918,8.653066635131836,2.258789539337158,1.115339994430542,-1.7556580305099487,9.242561340332031,-1.956719160079956,3.064075469970703,-14.123490333557129,9.224174499511719,9.371334075927734,8.01406192779541,1.2611383199691772,-2.577829122543335,-4.898883819580078,-10.80549144744873,8.734498977661133,-0.8824284076690674,-5.035815715789795,-6.307501316070557,-11.122966766357422,-13.540948867797852,-14.412473678588867,-12.537470817565918,-13.056117057800293,-14.903593063354492,-13.231895446777344,-15.020448684692383,-12.25428295135498,-9.241068840026855,-5.24053430557251,9.093822479248047,-6.742518424987793,-8.119658470153809,-3.482680559158325,10.537288665771484,-1.580485463142395,-1.2131307125091553,-5.226967811584473,7.419678211212158,1.7264763116836548,8.354442596435547,-0.5216042995452881,-3.768120050430298,8.236891746520996,4.711859226226807,2.0339341163635254,7.229105472564697,9.2910737991333,-4.789695739746094,7.2369842529296875,9.407408714294434,9.440190315246582,9.609957695007324,3.7763497829437256,7.751552581787109,8.044508934020996,9.66302490234375,7.269323825836182,8.279678344726562,8.569880485534668,-5.649818420410156,-3.2245187759399414,-7.421112537384033,-2.0564444065093994,9.566320419311523,7.344461441040039,-4.275933265686035,-2.8847289085388184,7.462952613830566,5.980792999267578,-3.161151885986328,-1.9956326484680176,9.148406982421875,-7.888240814208984,9.636553764343262,-2.4276516437530518,-10.669692039489746,-11.091001510620117,-7.249883651733398,-14.64958667755127,-10.87609577178955,-9.572306632995605,-11.894397735595703,-13.661639213562012,-10.286446571350098,-9.097654342651367,-10.2250394821167,9.884992599487305,-2.2751665115356445,8.919795036315918,-10.141860008239746,-9.922017097473145,0.1636871099472046,10.401719093322754,8.058622360229492,-6.303009510040283,-4.423891067504883,-6.123499393463135,-9.665973663330078,10.203001976013184,-11.833146095275879,-5.137752532958984,-6.179619789123535,-9.594718933105469,-7.783646583557129,-7.401795864105225,10.463205337524414,10.954280853271484,-3.8004813194274902,-7.052220821380615,-4.603560924530029,-9.661861419677734,-4.203394412994385,-11.572652816772461,-8.94922161102295,10.98442268371582,-9.243114471435547,-13.765069961547852,-5.080360412597656,9.768122673034668,7.116754531860352,0.4650627672672272,-4.727939605712891,-13.889153480529785,-13.962550163269043,-14.378744125366211,9.726011276245117,-6.2789835929870605,6.323051452636719,-9.081849098205566,-13.091300010681152],\"yaxis\":\"y\",\"type\":\"scatter\"}],                        {\"template\":{\"data\":{\"bar\":[{\"error_x\":{\"color\":\"#2a3f5f\"},\"error_y\":{\"color\":\"#2a3f5f\"},\"marker\":{\"line\":{\"color\":\"#E5ECF6\",\"width\":0.5},\"pattern\":{\"fillmode\":\"overlay\",\"size\":10,\"solidity\":0.2}},\"type\":\"bar\"}],\"barpolar\":[{\"marker\":{\"line\":{\"color\":\"#E5ECF6\",\"width\":0.5},\"pattern\":{\"fillmode\":\"overlay\",\"size\":10,\"solidity\":0.2}},\"type\":\"barpolar\"}],\"carpet\":[{\"aaxis\":{\"endlinecolor\":\"#2a3f5f\",\"gridcolor\":\"white\",\"linecolor\":\"white\",\"minorgridcolor\":\"white\",\"startlinecolor\":\"#2a3f5f\"},\"baxis\":{\"endlinecolor\":\"#2a3f5f\",\"gridcolor\":\"white\",\"linecolor\":\"white\",\"minorgridcolor\":\"white\",\"startlinecolor\":\"#2a3f5f\"},\"type\":\"carpet\"}],\"choropleth\":[{\"colorbar\":{\"outlinewidth\":0,\"ticks\":\"\"},\"type\":\"choropleth\"}],\"contour\":[{\"colorbar\":{\"outlinewidth\":0,\"ticks\":\"\"},\"colorscale\":[[0.0,\"#0d0887\"],[0.1111111111111111,\"#46039f\"],[0.2222222222222222,\"#7201a8\"],[0.3333333333333333,\"#9c179e\"],[0.4444444444444444,\"#bd3786\"],[0.5555555555555556,\"#d8576b\"],[0.6666666666666666,\"#ed7953\"],[0.7777777777777778,\"#fb9f3a\"],[0.8888888888888888,\"#fdca26\"],[1.0,\"#f0f921\"]],\"type\":\"contour\"}],\"contourcarpet\":[{\"colorbar\":{\"outlinewidth\":0,\"ticks\":\"\"},\"type\":\"contourcarpet\"}],\"heatmap\":[{\"colorbar\":{\"outlinewidth\":0,\"ticks\":\"\"},\"colorscale\":[[0.0,\"#0d0887\"],[0.1111111111111111,\"#46039f\"],[0.2222222222222222,\"#7201a8\"],[0.3333333333333333,\"#9c179e\"],[0.4444444444444444,\"#bd3786\"],[0.5555555555555556,\"#d8576b\"],[0.6666666666666666,\"#ed7953\"],[0.7777777777777778,\"#fb9f3a\"],[0.8888888888888888,\"#fdca26\"],[1.0,\"#f0f921\"]],\"type\":\"heatmap\"}],\"heatmapgl\":[{\"colorbar\":{\"outlinewidth\":0,\"ticks\":\"\"},\"colorscale\":[[0.0,\"#0d0887\"],[0.1111111111111111,\"#46039f\"],[0.2222222222222222,\"#7201a8\"],[0.3333333333333333,\"#9c179e\"],[0.4444444444444444,\"#bd3786\"],[0.5555555555555556,\"#d8576b\"],[0.6666666666666666,\"#ed7953\"],[0.7777777777777778,\"#fb9f3a\"],[0.8888888888888888,\"#fdca26\"],[1.0,\"#f0f921\"]],\"type\":\"heatmapgl\"}],\"histogram\":[{\"marker\":{\"pattern\":{\"fillmode\":\"overlay\",\"size\":10,\"solidity\":0.2}},\"type\":\"histogram\"}],\"histogram2d\":[{\"colorbar\":{\"outlinewidth\":0,\"ticks\":\"\"},\"colorscale\":[[0.0,\"#0d0887\"],[0.1111111111111111,\"#46039f\"],[0.2222222222222222,\"#7201a8\"],[0.3333333333333333,\"#9c179e\"],[0.4444444444444444,\"#bd3786\"],[0.5555555555555556,\"#d8576b\"],[0.6666666666666666,\"#ed7953\"],[0.7777777777777778,\"#fb9f3a\"],[0.8888888888888888,\"#fdca26\"],[1.0,\"#f0f921\"]],\"type\":\"histogram2d\"}],\"histogram2dcontour\":[{\"colorbar\":{\"outlinewidth\":0,\"ticks\":\"\"},\"colorscale\":[[0.0,\"#0d0887\"],[0.1111111111111111,\"#46039f\"],[0.2222222222222222,\"#7201a8\"],[0.3333333333333333,\"#9c179e\"],[0.4444444444444444,\"#bd3786\"],[0.5555555555555556,\"#d8576b\"],[0.6666666666666666,\"#ed7953\"],[0.7777777777777778,\"#fb9f3a\"],[0.8888888888888888,\"#fdca26\"],[1.0,\"#f0f921\"]],\"type\":\"histogram2dcontour\"}],\"mesh3d\":[{\"colorbar\":{\"outlinewidth\":0,\"ticks\":\"\"},\"type\":\"mesh3d\"}],\"parcoords\":[{\"line\":{\"colorbar\":{\"outlinewidth\":0,\"ticks\":\"\"}},\"type\":\"parcoords\"}],\"pie\":[{\"automargin\":true,\"type\":\"pie\"}],\"scatter\":[{\"marker\":{\"colorbar\":{\"outlinewidth\":0,\"ticks\":\"\"}},\"type\":\"scatter\"}],\"scatter3d\":[{\"line\":{\"colorbar\":{\"outlinewidth\":0,\"ticks\":\"\"}},\"marker\":{\"colorbar\":{\"outlinewidth\":0,\"ticks\":\"\"}},\"type\":\"scatter3d\"}],\"scattercarpet\":[{\"marker\":{\"colorbar\":{\"outlinewidth\":0,\"ticks\":\"\"}},\"type\":\"scattercarpet\"}],\"scattergeo\":[{\"marker\":{\"colorbar\":{\"outlinewidth\":0,\"ticks\":\"\"}},\"type\":\"scattergeo\"}],\"scattergl\":[{\"marker\":{\"colorbar\":{\"outlinewidth\":0,\"ticks\":\"\"}},\"type\":\"scattergl\"}],\"scattermapbox\":[{\"marker\":{\"colorbar\":{\"outlinewidth\":0,\"ticks\":\"\"}},\"type\":\"scattermapbox\"}],\"scatterpolar\":[{\"marker\":{\"colorbar\":{\"outlinewidth\":0,\"ticks\":\"\"}},\"type\":\"scatterpolar\"}],\"scatterpolargl\":[{\"marker\":{\"colorbar\":{\"outlinewidth\":0,\"ticks\":\"\"}},\"type\":\"scatterpolargl\"}],\"scatterternary\":[{\"marker\":{\"colorbar\":{\"outlinewidth\":0,\"ticks\":\"\"}},\"type\":\"scatterternary\"}],\"surface\":[{\"colorbar\":{\"outlinewidth\":0,\"ticks\":\"\"},\"colorscale\":[[0.0,\"#0d0887\"],[0.1111111111111111,\"#46039f\"],[0.2222222222222222,\"#7201a8\"],[0.3333333333333333,\"#9c179e\"],[0.4444444444444444,\"#bd3786\"],[0.5555555555555556,\"#d8576b\"],[0.6666666666666666,\"#ed7953\"],[0.7777777777777778,\"#fb9f3a\"],[0.8888888888888888,\"#fdca26\"],[1.0,\"#f0f921\"]],\"type\":\"surface\"}],\"table\":[{\"cells\":{\"fill\":{\"color\":\"#EBF0F8\"},\"line\":{\"color\":\"white\"}},\"header\":{\"fill\":{\"color\":\"#C8D4E3\"},\"line\":{\"color\":\"white\"}},\"type\":\"table\"}]},\"layout\":{\"annotationdefaults\":{\"arrowcolor\":\"#2a3f5f\",\"arrowhead\":0,\"arrowwidth\":1},\"autotypenumbers\":\"strict\",\"coloraxis\":{\"colorbar\":{\"outlinewidth\":0,\"ticks\":\"\"}},\"colorscale\":{\"diverging\":[[0,\"#8e0152\"],[0.1,\"#c51b7d\"],[0.2,\"#de77ae\"],[0.3,\"#f1b6da\"],[0.4,\"#fde0ef\"],[0.5,\"#f7f7f7\"],[0.6,\"#e6f5d0\"],[0.7,\"#b8e186\"],[0.8,\"#7fbc41\"],[0.9,\"#4d9221\"],[1,\"#276419\"]],\"sequential\":[[0.0,\"#0d0887\"],[0.1111111111111111,\"#46039f\"],[0.2222222222222222,\"#7201a8\"],[0.3333333333333333,\"#9c179e\"],[0.4444444444444444,\"#bd3786\"],[0.5555555555555556,\"#d8576b\"],[0.6666666666666666,\"#ed7953\"],[0.7777777777777778,\"#fb9f3a\"],[0.8888888888888888,\"#fdca26\"],[1.0,\"#f0f921\"]],\"sequentialminus\":[[0.0,\"#0d0887\"],[0.1111111111111111,\"#46039f\"],[0.2222222222222222,\"#7201a8\"],[0.3333333333333333,\"#9c179e\"],[0.4444444444444444,\"#bd3786\"],[0.5555555555555556,\"#d8576b\"],[0.6666666666666666,\"#ed7953\"],[0.7777777777777778,\"#fb9f3a\"],[0.8888888888888888,\"#fdca26\"],[1.0,\"#f0f921\"]]},\"colorway\":[\"#636efa\",\"#EF553B\",\"#00cc96\",\"#ab63fa\",\"#FFA15A\",\"#19d3f3\",\"#FF6692\",\"#B6E880\",\"#FF97FF\",\"#FECB52\"],\"font\":{\"color\":\"#2a3f5f\"},\"geo\":{\"bgcolor\":\"white\",\"lakecolor\":\"white\",\"landcolor\":\"#E5ECF6\",\"showlakes\":true,\"showland\":true,\"subunitcolor\":\"white\"},\"hoverlabel\":{\"align\":\"left\"},\"hovermode\":\"closest\",\"mapbox\":{\"style\":\"light\"},\"paper_bgcolor\":\"white\",\"plot_bgcolor\":\"#E5ECF6\",\"polar\":{\"angularaxis\":{\"gridcolor\":\"white\",\"linecolor\":\"white\",\"ticks\":\"\"},\"bgcolor\":\"#E5ECF6\",\"radialaxis\":{\"gridcolor\":\"white\",\"linecolor\":\"white\",\"ticks\":\"\"}},\"scene\":{\"xaxis\":{\"backgroundcolor\":\"#E5ECF6\",\"gridcolor\":\"white\",\"gridwidth\":2,\"linecolor\":\"white\",\"showbackground\":true,\"ticks\":\"\",\"zerolinecolor\":\"white\"},\"yaxis\":{\"backgroundcolor\":\"#E5ECF6\",\"gridcolor\":\"white\",\"gridwidth\":2,\"linecolor\":\"white\",\"showbackground\":true,\"ticks\":\"\",\"zerolinecolor\":\"white\"},\"zaxis\":{\"backgroundcolor\":\"#E5ECF6\",\"gridcolor\":\"white\",\"gridwidth\":2,\"linecolor\":\"white\",\"showbackground\":true,\"ticks\":\"\",\"zerolinecolor\":\"white\"}},\"shapedefaults\":{\"line\":{\"color\":\"#2a3f5f\"}},\"ternary\":{\"aaxis\":{\"gridcolor\":\"white\",\"linecolor\":\"white\",\"ticks\":\"\"},\"baxis\":{\"gridcolor\":\"white\",\"linecolor\":\"white\",\"ticks\":\"\"},\"bgcolor\":\"#E5ECF6\",\"caxis\":{\"gridcolor\":\"white\",\"linecolor\":\"white\",\"ticks\":\"\"}},\"title\":{\"x\":0.05},\"xaxis\":{\"automargin\":true,\"gridcolor\":\"white\",\"linecolor\":\"white\",\"ticks\":\"\",\"title\":{\"standoff\":15},\"zerolinecolor\":\"white\",\"zerolinewidth\":2},\"yaxis\":{\"automargin\":true,\"gridcolor\":\"white\",\"linecolor\":\"white\",\"ticks\":\"\",\"title\":{\"standoff\":15},\"zerolinecolor\":\"white\",\"zerolinewidth\":2}}},\"xaxis\":{\"anchor\":\"y\",\"domain\":[0.0,1.0],\"title\":{\"text\":\"0\"}},\"yaxis\":{\"anchor\":\"x\",\"domain\":[0.0,1.0],\"title\":{\"text\":\"1\"}},\"coloraxis\":{\"colorbar\":{\"title\":{\"text\":\"Cluster ID\"}},\"colorscale\":[[0.0,\"#0d0887\"],[0.1111111111111111,\"#46039f\"],[0.2222222222222222,\"#7201a8\"],[0.3333333333333333,\"#9c179e\"],[0.4444444444444444,\"#bd3786\"],[0.5555555555555556,\"#d8576b\"],[0.6666666666666666,\"#ed7953\"],[0.7777777777777778,\"#fb9f3a\"],[0.8888888888888888,\"#fdca26\"],[1.0,\"#f0f921\"]]},\"legend\":{\"tracegroupgap\":0},\"margin\":{\"t\":60}},                        {\"responsive\": true}                    ).then(function(){\n",
              "                            \n",
              "var gd = document.getElementById('43bdf841-0087-4e5e-a864-29fe0aee5596');\n",
              "var x = new MutationObserver(function (mutations, observer) {{\n",
              "        var display = window.getComputedStyle(gd).display;\n",
              "        if (!display || display === 'none') {{\n",
              "            console.log([gd, 'removed!']);\n",
              "            Plotly.purge(gd);\n",
              "            observer.disconnect();\n",
              "        }}\n",
              "}});\n",
              "\n",
              "// Listen for the removal of the full notebook cells\n",
              "var notebookContainer = gd.closest('#notebook-container');\n",
              "if (notebookContainer) {{\n",
              "    x.observe(notebookContainer, {childList: true});\n",
              "}}\n",
              "\n",
              "// Listen for the clearing of the current output cell\n",
              "var outputEl = gd.closest('.output');\n",
              "if (outputEl) {{\n",
              "    x.observe(outputEl, {childList: true});\n",
              "}}\n",
              "\n",
              "                        })                };                            </script>        </div>\n",
              "</body>\n",
              "</html>"
            ]
          },
          "metadata": {}
        },
        {
          "output_type": "display_data",
          "data": {
            "text/html": [
              "<html>\n",
              "<head><meta charset=\"utf-8\" /></head>\n",
              "<body>\n",
              "    <div>            <script src=\"https://cdnjs.cloudflare.com/ajax/libs/mathjax/2.7.5/MathJax.js?config=TeX-AMS-MML_SVG\"></script><script type=\"text/javascript\">if (window.MathJax) {MathJax.Hub.Config({SVG: {font: \"STIX-Web\"}});}</script>                <script type=\"text/javascript\">window.PlotlyConfig = {MathJaxConfig: 'local'};</script>\n",
              "        <script src=\"https://cdn.plot.ly/plotly-2.8.3.min.js\"></script>                <div id=\"74e6f4a7-14d2-4aa9-9c10-997c453fc9c2\" class=\"plotly-graph-div\" style=\"height:525px; width:100%;\"></div>            <script type=\"text/javascript\">                                    window.PLOTLYENV=window.PLOTLYENV || {};                                    if (document.getElementById(\"74e6f4a7-14d2-4aa9-9c10-997c453fc9c2\")) {                    Plotly.newPlot(                        \"74e6f4a7-14d2-4aa9-9c10-997c453fc9c2\",                        [{\"hovertemplate\":\"0=%{x}<br>1=%{y}<br>Cluster ID=%{marker.color}<extra></extra>\",\"legendgroup\":\"\",\"marker\":{\"color\":[3,3,3,3,3,0,2,3,0,0,2,0,0,1,2,3,3,3,0,3,2,2,2,2,0,1,2,0,2,2,0,2,2,3,0,0,2,3,3,3,3,3,1,3,3,3,1,2,3,3,3,3,3,3,3,3,3,3,3,0,1,0,1,1,1,1,0,0,3,2,3,0,3,2,1,1,0,3,3,3,1,0,3,3,3,3,3,3,3,3,3,3,3,3,3,2,3,3,3,2,0,0,3,2,0,1,0,3,2,0,0,2,2,3,2,2,2,2,0,2,2,2,2,2,1,3,3,3,3,2,1,3,3,2,2,3,0,2,3,2,0,3,3,3,3,3,3,3,3,3,3,3,2,3,1,3,3,0,1,2,3,3,3,3,2,3,3,3,3,3,3,2,2,3,3,3,3,3,3,3,2,3,3,3,1,1,0,3,3,3,3,2,3,3,3,3],\"coloraxis\":\"coloraxis\",\"symbol\":\"circle\"},\"mode\":\"markers\",\"name\":\"\",\"orientation\":\"v\",\"showlegend\":false,\"x\":[-14.010978698730469,-12.515832901000977,-12.275636672973633,-14.0247220993042,-0.05660586431622505,7.785799026489258,8.65894603729248,-13.883360862731934,6.330460071563721,5.1363348960876465,9.125096321105957,7.667591094970703,4.02144193649292,11.73284912109375,5.495007514953613,-6.588618278503418,1.4258551597595215,0.48763397336006165,4.757401943206787,0.9017603397369385,8.61030101776123,4.182751178741455,3.2776882648468018,3.6755619049072266,7.523323059082031,12.450135231018066,10.413459777832031,6.1767802238464355,9.884696006774902,10.27029037475586,2.1883890628814697,7.275228500366211,8.22805118560791,-4.976815223693848,1.6613787412643433,2.465054988861084,7.073122024536133,-3.2369418144226074,-6.87083625793457,-4.682879447937012,-11.485442161560059,-2.1431286334991455,13.77086067199707,4.836908340454102,-10.89206600189209,-11.097627639770508,11.540698051452637,6.568370819091797,-7.307698726654053,-6.01694917678833,-6.274954319000244,4.864841938018799,-9.068275451660156,-8.303997039794922,-7.7075581550598145,-5.814850330352783,-12.051400184631348,-7.044747352600098,-5.032057762145996,1.9856668710708618,13.78812313079834,3.153083324432373,13.587113380432129,11.517004013061523,13.095743179321289,14.317023277282715,5.229954719543457,4.92117977142334,0.17513889074325562,7.789636135101318,1.6017875671386719,7.345010280609131,-11.685294151306152,6.369613170623779,11.935188293457031,12.144782066345215,2.3990261554718018,2.1272459030151367,-3.3683013916015625,-8.397220611572266,12.601922035217285,2.0916097164154053,-6.567148208618164,-4.227802753448486,-10.996848106384277,-13.215270042419434,-12.746932029724121,-10.198628425598145,-12.607071876525879,-13.52371597290039,-13.750264167785645,-13.01758861541748,-12.918519973754883,-6.279868125915527,-5.282954216003418,10.732418060302734,-2.4336681365966797,-4.765777587890625,1.1893893480300903,6.60901403427124,3.083696126937866,2.428781509399414,-1.2821564674377441,5.124421119689941,3.9283556938171387,14.010927200317383,2.127617120742798,-0.6151411533355713,4.330058574676514,8.632848739624023,3.9762089252471924,10.490377426147461,5.10472297668457,0.6674067378044128,10.201642990112305,3.9708151817321777,7.912269115447998,5.4351277351379395,6.77620267868042,8.205607414245605,4.436781406402588,4.227747440338135,8.963719367980957,8.136098861694336,12.006921768188477,-3.026888132095337,1.9714417457580566,-3.9395267963409424,-5.505794525146484,6.994745254516602,13.137016296386719,-0.6454105377197266,0.4902547001838684,7.4001030921936035,9.387517929077148,-0.5460483431816101,3.548675775527954,4.205582141876221,-2.703530788421631,9.029582977294922,3.0576939582824707,-7.636250019073486,-7.677859783172607,-3.0892415046691895,-12.206745147705078,-9.240605354309082,-3.8148529529571533,-10.251330375671387,-11.920907020568848,-7.870264530181885,-5.344679355621338,-6.890105247497559,6.160467147827148,1.398328423500061,11.325250625610352,-8.482756614685059,-9.338644027709961,5.537505149841309,11.709348678588867,3.5623257160186768,-2.144505262374878,-0.3762928545475006,-2.106393575668335,-6.71696662902832,7.515575885772705,-10.37488079071045,-4.228031158447266,-6.004608631134033,-7.508798122406006,-4.0403218269348145,-4.970010280609131,8.94958209991455,7.812694072723389,-1.1073434352874756,-5.532106876373291,-0.09165970981121063,-8.13768196105957,-5.729972839355469,-9.999256134033203,-6.756372451782227,7.6949687004089355,-8.305843353271484,-12.779684066772461,-2.443340301513672,12.398134231567383,11.224562644958496,2.144240140914917,-6.210644721984863,-12.366594314575195,-13.272161483764648,-13.276944160461426,6.571345329284668,-8.26191234588623,4.392890453338623,-7.292463302612305,-13.428526878356934],\"xaxis\":\"x\",\"y\":[-13.678510665893555,-14.926478385925293,-12.664448738098145,-14.103216171264648,-2.7045376300811768,3.7388765811920166,2.9787039756774902,-14.538312911987305,-0.04069153591990471,-0.17070341110229492,9.108237266540527,3.3689980506896973,-0.5149036645889282,10.879043579101562,7.716517448425293,-7.795140266418457,-4.279665470123291,-5.276700496673584,2.3247292041778564,-4.141783714294434,2.986602783203125,10.088926315307617,9.072290420532227,9.550048828125,3.107208013534546,6.2223896980285645,6.212632179260254,-0.18007206916809082,7.577554225921631,9.431360244750977,0.5723443627357483,7.950829029083252,4.666554927825928,-4.95464563369751,-0.8072100281715393,1.8029922246932983,8.378740310668945,-5.897435665130615,-3.9837446212768555,-8.774636268615723,-13.08329963684082,-7.591141700744629,6.289308071136475,7.298811912536621,-12.881646156311035,-12.496357917785645,6.513524532318115,7.820786952972412,-5.240993022918701,-3.425225019454956,-3.981487274169922,7.129267692565918,-6.374490737915039,-8.65267276763916,-8.71232795715332,-5.176576137542725,-13.079050064086914,-5.992271900177002,-7.4427809715271,-1.5487443208694458,8.57323932647705,0.2544406056404114,7.523603916168213,8.265546798706055,7.34541130065918,8.653066635131836,2.258789539337158,1.115339994430542,-1.7556580305099487,9.242561340332031,-1.956719160079956,3.064075469970703,-14.123490333557129,9.224174499511719,9.371334075927734,8.01406192779541,1.2611383199691772,-2.577829122543335,-4.898883819580078,-10.80549144744873,8.734498977661133,-0.8824284076690674,-5.035815715789795,-6.307501316070557,-11.122966766357422,-13.540948867797852,-14.412473678588867,-12.537470817565918,-13.056117057800293,-14.903593063354492,-13.231895446777344,-15.020448684692383,-12.25428295135498,-9.241068840026855,-5.24053430557251,9.093822479248047,-6.742518424987793,-8.119658470153809,-3.482680559158325,10.537288665771484,-1.580485463142395,-1.2131307125091553,-5.226967811584473,7.419678211212158,1.7264763116836548,8.354442596435547,-0.5216042995452881,-3.768120050430298,8.236891746520996,4.711859226226807,2.0339341163635254,7.229105472564697,9.2910737991333,-4.789695739746094,7.2369842529296875,9.407408714294434,9.440190315246582,9.609957695007324,3.7763497829437256,7.751552581787109,8.044508934020996,9.66302490234375,7.269323825836182,8.279678344726562,8.569880485534668,-5.649818420410156,-3.2245187759399414,-7.421112537384033,-2.0564444065093994,9.566320419311523,7.344461441040039,-4.275933265686035,-2.8847289085388184,7.462952613830566,5.980792999267578,-3.161151885986328,-1.9956326484680176,9.148406982421875,-7.888240814208984,9.636553764343262,-2.4276516437530518,-10.669692039489746,-11.091001510620117,-7.249883651733398,-14.64958667755127,-10.87609577178955,-9.572306632995605,-11.894397735595703,-13.661639213562012,-10.286446571350098,-9.097654342651367,-10.2250394821167,9.884992599487305,-2.2751665115356445,8.919795036315918,-10.141860008239746,-9.922017097473145,0.1636871099472046,10.401719093322754,8.058622360229492,-6.303009510040283,-4.423891067504883,-6.123499393463135,-9.665973663330078,10.203001976013184,-11.833146095275879,-5.137752532958984,-6.179619789123535,-9.594718933105469,-7.783646583557129,-7.401795864105225,10.463205337524414,10.954280853271484,-3.8004813194274902,-7.052220821380615,-4.603560924530029,-9.661861419677734,-4.203394412994385,-11.572652816772461,-8.94922161102295,10.98442268371582,-9.243114471435547,-13.765069961547852,-5.080360412597656,9.768122673034668,7.116754531860352,0.4650627672672272,-4.727939605712891,-13.889153480529785,-13.962550163269043,-14.378744125366211,9.726011276245117,-6.2789835929870605,6.323051452636719,-9.081849098205566,-13.091300010681152],\"yaxis\":\"y\",\"type\":\"scatter\"}],                        {\"template\":{\"data\":{\"bar\":[{\"error_x\":{\"color\":\"#2a3f5f\"},\"error_y\":{\"color\":\"#2a3f5f\"},\"marker\":{\"line\":{\"color\":\"#E5ECF6\",\"width\":0.5},\"pattern\":{\"fillmode\":\"overlay\",\"size\":10,\"solidity\":0.2}},\"type\":\"bar\"}],\"barpolar\":[{\"marker\":{\"line\":{\"color\":\"#E5ECF6\",\"width\":0.5},\"pattern\":{\"fillmode\":\"overlay\",\"size\":10,\"solidity\":0.2}},\"type\":\"barpolar\"}],\"carpet\":[{\"aaxis\":{\"endlinecolor\":\"#2a3f5f\",\"gridcolor\":\"white\",\"linecolor\":\"white\",\"minorgridcolor\":\"white\",\"startlinecolor\":\"#2a3f5f\"},\"baxis\":{\"endlinecolor\":\"#2a3f5f\",\"gridcolor\":\"white\",\"linecolor\":\"white\",\"minorgridcolor\":\"white\",\"startlinecolor\":\"#2a3f5f\"},\"type\":\"carpet\"}],\"choropleth\":[{\"colorbar\":{\"outlinewidth\":0,\"ticks\":\"\"},\"type\":\"choropleth\"}],\"contour\":[{\"colorbar\":{\"outlinewidth\":0,\"ticks\":\"\"},\"colorscale\":[[0.0,\"#0d0887\"],[0.1111111111111111,\"#46039f\"],[0.2222222222222222,\"#7201a8\"],[0.3333333333333333,\"#9c179e\"],[0.4444444444444444,\"#bd3786\"],[0.5555555555555556,\"#d8576b\"],[0.6666666666666666,\"#ed7953\"],[0.7777777777777778,\"#fb9f3a\"],[0.8888888888888888,\"#fdca26\"],[1.0,\"#f0f921\"]],\"type\":\"contour\"}],\"contourcarpet\":[{\"colorbar\":{\"outlinewidth\":0,\"ticks\":\"\"},\"type\":\"contourcarpet\"}],\"heatmap\":[{\"colorbar\":{\"outlinewidth\":0,\"ticks\":\"\"},\"colorscale\":[[0.0,\"#0d0887\"],[0.1111111111111111,\"#46039f\"],[0.2222222222222222,\"#7201a8\"],[0.3333333333333333,\"#9c179e\"],[0.4444444444444444,\"#bd3786\"],[0.5555555555555556,\"#d8576b\"],[0.6666666666666666,\"#ed7953\"],[0.7777777777777778,\"#fb9f3a\"],[0.8888888888888888,\"#fdca26\"],[1.0,\"#f0f921\"]],\"type\":\"heatmap\"}],\"heatmapgl\":[{\"colorbar\":{\"outlinewidth\":0,\"ticks\":\"\"},\"colorscale\":[[0.0,\"#0d0887\"],[0.1111111111111111,\"#46039f\"],[0.2222222222222222,\"#7201a8\"],[0.3333333333333333,\"#9c179e\"],[0.4444444444444444,\"#bd3786\"],[0.5555555555555556,\"#d8576b\"],[0.6666666666666666,\"#ed7953\"],[0.7777777777777778,\"#fb9f3a\"],[0.8888888888888888,\"#fdca26\"],[1.0,\"#f0f921\"]],\"type\":\"heatmapgl\"}],\"histogram\":[{\"marker\":{\"pattern\":{\"fillmode\":\"overlay\",\"size\":10,\"solidity\":0.2}},\"type\":\"histogram\"}],\"histogram2d\":[{\"colorbar\":{\"outlinewidth\":0,\"ticks\":\"\"},\"colorscale\":[[0.0,\"#0d0887\"],[0.1111111111111111,\"#46039f\"],[0.2222222222222222,\"#7201a8\"],[0.3333333333333333,\"#9c179e\"],[0.4444444444444444,\"#bd3786\"],[0.5555555555555556,\"#d8576b\"],[0.6666666666666666,\"#ed7953\"],[0.7777777777777778,\"#fb9f3a\"],[0.8888888888888888,\"#fdca26\"],[1.0,\"#f0f921\"]],\"type\":\"histogram2d\"}],\"histogram2dcontour\":[{\"colorbar\":{\"outlinewidth\":0,\"ticks\":\"\"},\"colorscale\":[[0.0,\"#0d0887\"],[0.1111111111111111,\"#46039f\"],[0.2222222222222222,\"#7201a8\"],[0.3333333333333333,\"#9c179e\"],[0.4444444444444444,\"#bd3786\"],[0.5555555555555556,\"#d8576b\"],[0.6666666666666666,\"#ed7953\"],[0.7777777777777778,\"#fb9f3a\"],[0.8888888888888888,\"#fdca26\"],[1.0,\"#f0f921\"]],\"type\":\"histogram2dcontour\"}],\"mesh3d\":[{\"colorbar\":{\"outlinewidth\":0,\"ticks\":\"\"},\"type\":\"mesh3d\"}],\"parcoords\":[{\"line\":{\"colorbar\":{\"outlinewidth\":0,\"ticks\":\"\"}},\"type\":\"parcoords\"}],\"pie\":[{\"automargin\":true,\"type\":\"pie\"}],\"scatter\":[{\"marker\":{\"colorbar\":{\"outlinewidth\":0,\"ticks\":\"\"}},\"type\":\"scatter\"}],\"scatter3d\":[{\"line\":{\"colorbar\":{\"outlinewidth\":0,\"ticks\":\"\"}},\"marker\":{\"colorbar\":{\"outlinewidth\":0,\"ticks\":\"\"}},\"type\":\"scatter3d\"}],\"scattercarpet\":[{\"marker\":{\"colorbar\":{\"outlinewidth\":0,\"ticks\":\"\"}},\"type\":\"scattercarpet\"}],\"scattergeo\":[{\"marker\":{\"colorbar\":{\"outlinewidth\":0,\"ticks\":\"\"}},\"type\":\"scattergeo\"}],\"scattergl\":[{\"marker\":{\"colorbar\":{\"outlinewidth\":0,\"ticks\":\"\"}},\"type\":\"scattergl\"}],\"scattermapbox\":[{\"marker\":{\"colorbar\":{\"outlinewidth\":0,\"ticks\":\"\"}},\"type\":\"scattermapbox\"}],\"scatterpolar\":[{\"marker\":{\"colorbar\":{\"outlinewidth\":0,\"ticks\":\"\"}},\"type\":\"scatterpolar\"}],\"scatterpolargl\":[{\"marker\":{\"colorbar\":{\"outlinewidth\":0,\"ticks\":\"\"}},\"type\":\"scatterpolargl\"}],\"scatterternary\":[{\"marker\":{\"colorbar\":{\"outlinewidth\":0,\"ticks\":\"\"}},\"type\":\"scatterternary\"}],\"surface\":[{\"colorbar\":{\"outlinewidth\":0,\"ticks\":\"\"},\"colorscale\":[[0.0,\"#0d0887\"],[0.1111111111111111,\"#46039f\"],[0.2222222222222222,\"#7201a8\"],[0.3333333333333333,\"#9c179e\"],[0.4444444444444444,\"#bd3786\"],[0.5555555555555556,\"#d8576b\"],[0.6666666666666666,\"#ed7953\"],[0.7777777777777778,\"#fb9f3a\"],[0.8888888888888888,\"#fdca26\"],[1.0,\"#f0f921\"]],\"type\":\"surface\"}],\"table\":[{\"cells\":{\"fill\":{\"color\":\"#EBF0F8\"},\"line\":{\"color\":\"white\"}},\"header\":{\"fill\":{\"color\":\"#C8D4E3\"},\"line\":{\"color\":\"white\"}},\"type\":\"table\"}]},\"layout\":{\"annotationdefaults\":{\"arrowcolor\":\"#2a3f5f\",\"arrowhead\":0,\"arrowwidth\":1},\"autotypenumbers\":\"strict\",\"coloraxis\":{\"colorbar\":{\"outlinewidth\":0,\"ticks\":\"\"}},\"colorscale\":{\"diverging\":[[0,\"#8e0152\"],[0.1,\"#c51b7d\"],[0.2,\"#de77ae\"],[0.3,\"#f1b6da\"],[0.4,\"#fde0ef\"],[0.5,\"#f7f7f7\"],[0.6,\"#e6f5d0\"],[0.7,\"#b8e186\"],[0.8,\"#7fbc41\"],[0.9,\"#4d9221\"],[1,\"#276419\"]],\"sequential\":[[0.0,\"#0d0887\"],[0.1111111111111111,\"#46039f\"],[0.2222222222222222,\"#7201a8\"],[0.3333333333333333,\"#9c179e\"],[0.4444444444444444,\"#bd3786\"],[0.5555555555555556,\"#d8576b\"],[0.6666666666666666,\"#ed7953\"],[0.7777777777777778,\"#fb9f3a\"],[0.8888888888888888,\"#fdca26\"],[1.0,\"#f0f921\"]],\"sequentialminus\":[[0.0,\"#0d0887\"],[0.1111111111111111,\"#46039f\"],[0.2222222222222222,\"#7201a8\"],[0.3333333333333333,\"#9c179e\"],[0.4444444444444444,\"#bd3786\"],[0.5555555555555556,\"#d8576b\"],[0.6666666666666666,\"#ed7953\"],[0.7777777777777778,\"#fb9f3a\"],[0.8888888888888888,\"#fdca26\"],[1.0,\"#f0f921\"]]},\"colorway\":[\"#636efa\",\"#EF553B\",\"#00cc96\",\"#ab63fa\",\"#FFA15A\",\"#19d3f3\",\"#FF6692\",\"#B6E880\",\"#FF97FF\",\"#FECB52\"],\"font\":{\"color\":\"#2a3f5f\"},\"geo\":{\"bgcolor\":\"white\",\"lakecolor\":\"white\",\"landcolor\":\"#E5ECF6\",\"showlakes\":true,\"showland\":true,\"subunitcolor\":\"white\"},\"hoverlabel\":{\"align\":\"left\"},\"hovermode\":\"closest\",\"mapbox\":{\"style\":\"light\"},\"paper_bgcolor\":\"white\",\"plot_bgcolor\":\"#E5ECF6\",\"polar\":{\"angularaxis\":{\"gridcolor\":\"white\",\"linecolor\":\"white\",\"ticks\":\"\"},\"bgcolor\":\"#E5ECF6\",\"radialaxis\":{\"gridcolor\":\"white\",\"linecolor\":\"white\",\"ticks\":\"\"}},\"scene\":{\"xaxis\":{\"backgroundcolor\":\"#E5ECF6\",\"gridcolor\":\"white\",\"gridwidth\":2,\"linecolor\":\"white\",\"showbackground\":true,\"ticks\":\"\",\"zerolinecolor\":\"white\"},\"yaxis\":{\"backgroundcolor\":\"#E5ECF6\",\"gridcolor\":\"white\",\"gridwidth\":2,\"linecolor\":\"white\",\"showbackground\":true,\"ticks\":\"\",\"zerolinecolor\":\"white\"},\"zaxis\":{\"backgroundcolor\":\"#E5ECF6\",\"gridcolor\":\"white\",\"gridwidth\":2,\"linecolor\":\"white\",\"showbackground\":true,\"ticks\":\"\",\"zerolinecolor\":\"white\"}},\"shapedefaults\":{\"line\":{\"color\":\"#2a3f5f\"}},\"ternary\":{\"aaxis\":{\"gridcolor\":\"white\",\"linecolor\":\"white\",\"ticks\":\"\"},\"baxis\":{\"gridcolor\":\"white\",\"linecolor\":\"white\",\"ticks\":\"\"},\"bgcolor\":\"#E5ECF6\",\"caxis\":{\"gridcolor\":\"white\",\"linecolor\":\"white\",\"ticks\":\"\"}},\"title\":{\"x\":0.05},\"xaxis\":{\"automargin\":true,\"gridcolor\":\"white\",\"linecolor\":\"white\",\"ticks\":\"\",\"title\":{\"standoff\":15},\"zerolinecolor\":\"white\",\"zerolinewidth\":2},\"yaxis\":{\"automargin\":true,\"gridcolor\":\"white\",\"linecolor\":\"white\",\"ticks\":\"\",\"title\":{\"standoff\":15},\"zerolinecolor\":\"white\",\"zerolinewidth\":2}}},\"xaxis\":{\"anchor\":\"y\",\"domain\":[0.0,1.0],\"title\":{\"text\":\"0\"}},\"yaxis\":{\"anchor\":\"x\",\"domain\":[0.0,1.0],\"title\":{\"text\":\"1\"}},\"coloraxis\":{\"colorbar\":{\"title\":{\"text\":\"Cluster ID\"}},\"colorscale\":[[0.0,\"#0d0887\"],[0.1111111111111111,\"#46039f\"],[0.2222222222222222,\"#7201a8\"],[0.3333333333333333,\"#9c179e\"],[0.4444444444444444,\"#bd3786\"],[0.5555555555555556,\"#d8576b\"],[0.6666666666666666,\"#ed7953\"],[0.7777777777777778,\"#fb9f3a\"],[0.8888888888888888,\"#fdca26\"],[1.0,\"#f0f921\"]]},\"legend\":{\"tracegroupgap\":0},\"margin\":{\"t\":60}},                        {\"responsive\": true}                    ).then(function(){\n",
              "                            \n",
              "var gd = document.getElementById('74e6f4a7-14d2-4aa9-9c10-997c453fc9c2');\n",
              "var x = new MutationObserver(function (mutations, observer) {{\n",
              "        var display = window.getComputedStyle(gd).display;\n",
              "        if (!display || display === 'none') {{\n",
              "            console.log([gd, 'removed!']);\n",
              "            Plotly.purge(gd);\n",
              "            observer.disconnect();\n",
              "        }}\n",
              "}});\n",
              "\n",
              "// Listen for the removal of the full notebook cells\n",
              "var notebookContainer = gd.closest('#notebook-container');\n",
              "if (notebookContainer) {{\n",
              "    x.observe(notebookContainer, {childList: true});\n",
              "}}\n",
              "\n",
              "// Listen for the clearing of the current output cell\n",
              "var outputEl = gd.closest('.output');\n",
              "if (outputEl) {{\n",
              "    x.observe(outputEl, {childList: true});\n",
              "}}\n",
              "\n",
              "                        })                };                            </script>        </div>\n",
              "</body>\n",
              "</html>"
            ]
          },
          "metadata": {}
        },
        {
          "output_type": "display_data",
          "data": {
            "text/html": [
              "<html>\n",
              "<head><meta charset=\"utf-8\" /></head>\n",
              "<body>\n",
              "    <div>            <script src=\"https://cdnjs.cloudflare.com/ajax/libs/mathjax/2.7.5/MathJax.js?config=TeX-AMS-MML_SVG\"></script><script type=\"text/javascript\">if (window.MathJax) {MathJax.Hub.Config({SVG: {font: \"STIX-Web\"}});}</script>                <script type=\"text/javascript\">window.PlotlyConfig = {MathJaxConfig: 'local'};</script>\n",
              "        <script src=\"https://cdn.plot.ly/plotly-2.8.3.min.js\"></script>                <div id=\"5f9196ad-11a3-4ad7-ab68-02085f249277\" class=\"plotly-graph-div\" style=\"height:525px; width:100%;\"></div>            <script type=\"text/javascript\">                                    window.PLOTLYENV=window.PLOTLYENV || {};                                    if (document.getElementById(\"5f9196ad-11a3-4ad7-ab68-02085f249277\")) {                    Plotly.newPlot(                        \"5f9196ad-11a3-4ad7-ab68-02085f249277\",                        [{\"hovertemplate\":\"0=%{x}<br>1=%{y}<br>Cluster ID=%{marker.color}<extra></extra>\",\"legendgroup\":\"\",\"marker\":{\"color\":[0,0,0,0,3,1,1,0,1,1,2,1,3,4,2,0,3,3,1,3,1,2,2,2,1,4,2,1,2,2,3,2,1,0,3,3,2,0,0,0,0,0,4,2,0,0,4,2,0,0,0,3,0,0,0,0,0,0,0,3,4,3,4,4,4,4,1,1,3,2,3,1,0,2,4,4,3,3,0,0,4,3,0,0,0,0,0,0,0,0,0,0,0,0,0,2,0,0,3,2,3,3,0,3,1,4,3,3,2,1,1,2,2,3,2,2,2,2,1,2,2,2,2,2,4,0,3,0,3,2,4,3,3,2,2,3,3,2,0,2,3,0,0,0,0,0,0,0,0,0,0,0,2,3,4,0,0,1,4,3,0,3,0,0,2,0,0,0,0,0,0,2,2,3,0,3,0,0,0,0,2,0,0,0,4,4,3,0,0,0,0,2,0,0,0,0],\"coloraxis\":\"coloraxis\",\"symbol\":\"circle\"},\"mode\":\"markers\",\"name\":\"\",\"orientation\":\"v\",\"showlegend\":false,\"x\":[-14.010978698730469,-12.515832901000977,-12.275636672973633,-14.0247220993042,-0.05660586431622505,7.785799026489258,8.65894603729248,-13.883360862731934,6.330460071563721,5.1363348960876465,9.125096321105957,7.667591094970703,4.02144193649292,11.73284912109375,5.495007514953613,-6.588618278503418,1.4258551597595215,0.48763397336006165,4.757401943206787,0.9017603397369385,8.61030101776123,4.182751178741455,3.2776882648468018,3.6755619049072266,7.523323059082031,12.450135231018066,10.413459777832031,6.1767802238464355,9.884696006774902,10.27029037475586,2.1883890628814697,7.275228500366211,8.22805118560791,-4.976815223693848,1.6613787412643433,2.465054988861084,7.073122024536133,-3.2369418144226074,-6.87083625793457,-4.682879447937012,-11.485442161560059,-2.1431286334991455,13.77086067199707,4.836908340454102,-10.89206600189209,-11.097627639770508,11.540698051452637,6.568370819091797,-7.307698726654053,-6.01694917678833,-6.274954319000244,4.864841938018799,-9.068275451660156,-8.303997039794922,-7.7075581550598145,-5.814850330352783,-12.051400184631348,-7.044747352600098,-5.032057762145996,1.9856668710708618,13.78812313079834,3.153083324432373,13.587113380432129,11.517004013061523,13.095743179321289,14.317023277282715,5.229954719543457,4.92117977142334,0.17513889074325562,7.789636135101318,1.6017875671386719,7.345010280609131,-11.685294151306152,6.369613170623779,11.935188293457031,12.144782066345215,2.3990261554718018,2.1272459030151367,-3.3683013916015625,-8.397220611572266,12.601922035217285,2.0916097164154053,-6.567148208618164,-4.227802753448486,-10.996848106384277,-13.215270042419434,-12.746932029724121,-10.198628425598145,-12.607071876525879,-13.52371597290039,-13.750264167785645,-13.01758861541748,-12.918519973754883,-6.279868125915527,-5.282954216003418,10.732418060302734,-2.4336681365966797,-4.765777587890625,1.1893893480300903,6.60901403427124,3.083696126937866,2.428781509399414,-1.2821564674377441,5.124421119689941,3.9283556938171387,14.010927200317383,2.127617120742798,-0.6151411533355713,4.330058574676514,8.632848739624023,3.9762089252471924,10.490377426147461,5.10472297668457,0.6674067378044128,10.201642990112305,3.9708151817321777,7.912269115447998,5.4351277351379395,6.77620267868042,8.205607414245605,4.436781406402588,4.227747440338135,8.963719367980957,8.136098861694336,12.006921768188477,-3.026888132095337,1.9714417457580566,-3.9395267963409424,-5.505794525146484,6.994745254516602,13.137016296386719,-0.6454105377197266,0.4902547001838684,7.4001030921936035,9.387517929077148,-0.5460483431816101,3.548675775527954,4.205582141876221,-2.703530788421631,9.029582977294922,3.0576939582824707,-7.636250019073486,-7.677859783172607,-3.0892415046691895,-12.206745147705078,-9.240605354309082,-3.8148529529571533,-10.251330375671387,-11.920907020568848,-7.870264530181885,-5.344679355621338,-6.890105247497559,6.160467147827148,1.398328423500061,11.325250625610352,-8.482756614685059,-9.338644027709961,5.537505149841309,11.709348678588867,3.5623257160186768,-2.144505262374878,-0.3762928545475006,-2.106393575668335,-6.71696662902832,7.515575885772705,-10.37488079071045,-4.228031158447266,-6.004608631134033,-7.508798122406006,-4.0403218269348145,-4.970010280609131,8.94958209991455,7.812694072723389,-1.1073434352874756,-5.532106876373291,-0.09165970981121063,-8.13768196105957,-5.729972839355469,-9.999256134033203,-6.756372451782227,7.6949687004089355,-8.305843353271484,-12.779684066772461,-2.443340301513672,12.398134231567383,11.224562644958496,2.144240140914917,-6.210644721984863,-12.366594314575195,-13.272161483764648,-13.276944160461426,6.571345329284668,-8.26191234588623,4.392890453338623,-7.292463302612305,-13.428526878356934],\"xaxis\":\"x\",\"y\":[-13.678510665893555,-14.926478385925293,-12.664448738098145,-14.103216171264648,-2.7045376300811768,3.7388765811920166,2.9787039756774902,-14.538312911987305,-0.04069153591990471,-0.17070341110229492,9.108237266540527,3.3689980506896973,-0.5149036645889282,10.879043579101562,7.716517448425293,-7.795140266418457,-4.279665470123291,-5.276700496673584,2.3247292041778564,-4.141783714294434,2.986602783203125,10.088926315307617,9.072290420532227,9.550048828125,3.107208013534546,6.2223896980285645,6.212632179260254,-0.18007206916809082,7.577554225921631,9.431360244750977,0.5723443627357483,7.950829029083252,4.666554927825928,-4.95464563369751,-0.8072100281715393,1.8029922246932983,8.378740310668945,-5.897435665130615,-3.9837446212768555,-8.774636268615723,-13.08329963684082,-7.591141700744629,6.289308071136475,7.298811912536621,-12.881646156311035,-12.496357917785645,6.513524532318115,7.820786952972412,-5.240993022918701,-3.425225019454956,-3.981487274169922,7.129267692565918,-6.374490737915039,-8.65267276763916,-8.71232795715332,-5.176576137542725,-13.079050064086914,-5.992271900177002,-7.4427809715271,-1.5487443208694458,8.57323932647705,0.2544406056404114,7.523603916168213,8.265546798706055,7.34541130065918,8.653066635131836,2.258789539337158,1.115339994430542,-1.7556580305099487,9.242561340332031,-1.956719160079956,3.064075469970703,-14.123490333557129,9.224174499511719,9.371334075927734,8.01406192779541,1.2611383199691772,-2.577829122543335,-4.898883819580078,-10.80549144744873,8.734498977661133,-0.8824284076690674,-5.035815715789795,-6.307501316070557,-11.122966766357422,-13.540948867797852,-14.412473678588867,-12.537470817565918,-13.056117057800293,-14.903593063354492,-13.231895446777344,-15.020448684692383,-12.25428295135498,-9.241068840026855,-5.24053430557251,9.093822479248047,-6.742518424987793,-8.119658470153809,-3.482680559158325,10.537288665771484,-1.580485463142395,-1.2131307125091553,-5.226967811584473,7.419678211212158,1.7264763116836548,8.354442596435547,-0.5216042995452881,-3.768120050430298,8.236891746520996,4.711859226226807,2.0339341163635254,7.229105472564697,9.2910737991333,-4.789695739746094,7.2369842529296875,9.407408714294434,9.440190315246582,9.609957695007324,3.7763497829437256,7.751552581787109,8.044508934020996,9.66302490234375,7.269323825836182,8.279678344726562,8.569880485534668,-5.649818420410156,-3.2245187759399414,-7.421112537384033,-2.0564444065093994,9.566320419311523,7.344461441040039,-4.275933265686035,-2.8847289085388184,7.462952613830566,5.980792999267578,-3.161151885986328,-1.9956326484680176,9.148406982421875,-7.888240814208984,9.636553764343262,-2.4276516437530518,-10.669692039489746,-11.091001510620117,-7.249883651733398,-14.64958667755127,-10.87609577178955,-9.572306632995605,-11.894397735595703,-13.661639213562012,-10.286446571350098,-9.097654342651367,-10.2250394821167,9.884992599487305,-2.2751665115356445,8.919795036315918,-10.141860008239746,-9.922017097473145,0.1636871099472046,10.401719093322754,8.058622360229492,-6.303009510040283,-4.423891067504883,-6.123499393463135,-9.665973663330078,10.203001976013184,-11.833146095275879,-5.137752532958984,-6.179619789123535,-9.594718933105469,-7.783646583557129,-7.401795864105225,10.463205337524414,10.954280853271484,-3.8004813194274902,-7.052220821380615,-4.603560924530029,-9.661861419677734,-4.203394412994385,-11.572652816772461,-8.94922161102295,10.98442268371582,-9.243114471435547,-13.765069961547852,-5.080360412597656,9.768122673034668,7.116754531860352,0.4650627672672272,-4.727939605712891,-13.889153480529785,-13.962550163269043,-14.378744125366211,9.726011276245117,-6.2789835929870605,6.323051452636719,-9.081849098205566,-13.091300010681152],\"yaxis\":\"y\",\"type\":\"scatter\"}],                        {\"template\":{\"data\":{\"bar\":[{\"error_x\":{\"color\":\"#2a3f5f\"},\"error_y\":{\"color\":\"#2a3f5f\"},\"marker\":{\"line\":{\"color\":\"#E5ECF6\",\"width\":0.5},\"pattern\":{\"fillmode\":\"overlay\",\"size\":10,\"solidity\":0.2}},\"type\":\"bar\"}],\"barpolar\":[{\"marker\":{\"line\":{\"color\":\"#E5ECF6\",\"width\":0.5},\"pattern\":{\"fillmode\":\"overlay\",\"size\":10,\"solidity\":0.2}},\"type\":\"barpolar\"}],\"carpet\":[{\"aaxis\":{\"endlinecolor\":\"#2a3f5f\",\"gridcolor\":\"white\",\"linecolor\":\"white\",\"minorgridcolor\":\"white\",\"startlinecolor\":\"#2a3f5f\"},\"baxis\":{\"endlinecolor\":\"#2a3f5f\",\"gridcolor\":\"white\",\"linecolor\":\"white\",\"minorgridcolor\":\"white\",\"startlinecolor\":\"#2a3f5f\"},\"type\":\"carpet\"}],\"choropleth\":[{\"colorbar\":{\"outlinewidth\":0,\"ticks\":\"\"},\"type\":\"choropleth\"}],\"contour\":[{\"colorbar\":{\"outlinewidth\":0,\"ticks\":\"\"},\"colorscale\":[[0.0,\"#0d0887\"],[0.1111111111111111,\"#46039f\"],[0.2222222222222222,\"#7201a8\"],[0.3333333333333333,\"#9c179e\"],[0.4444444444444444,\"#bd3786\"],[0.5555555555555556,\"#d8576b\"],[0.6666666666666666,\"#ed7953\"],[0.7777777777777778,\"#fb9f3a\"],[0.8888888888888888,\"#fdca26\"],[1.0,\"#f0f921\"]],\"type\":\"contour\"}],\"contourcarpet\":[{\"colorbar\":{\"outlinewidth\":0,\"ticks\":\"\"},\"type\":\"contourcarpet\"}],\"heatmap\":[{\"colorbar\":{\"outlinewidth\":0,\"ticks\":\"\"},\"colorscale\":[[0.0,\"#0d0887\"],[0.1111111111111111,\"#46039f\"],[0.2222222222222222,\"#7201a8\"],[0.3333333333333333,\"#9c179e\"],[0.4444444444444444,\"#bd3786\"],[0.5555555555555556,\"#d8576b\"],[0.6666666666666666,\"#ed7953\"],[0.7777777777777778,\"#fb9f3a\"],[0.8888888888888888,\"#fdca26\"],[1.0,\"#f0f921\"]],\"type\":\"heatmap\"}],\"heatmapgl\":[{\"colorbar\":{\"outlinewidth\":0,\"ticks\":\"\"},\"colorscale\":[[0.0,\"#0d0887\"],[0.1111111111111111,\"#46039f\"],[0.2222222222222222,\"#7201a8\"],[0.3333333333333333,\"#9c179e\"],[0.4444444444444444,\"#bd3786\"],[0.5555555555555556,\"#d8576b\"],[0.6666666666666666,\"#ed7953\"],[0.7777777777777778,\"#fb9f3a\"],[0.8888888888888888,\"#fdca26\"],[1.0,\"#f0f921\"]],\"type\":\"heatmapgl\"}],\"histogram\":[{\"marker\":{\"pattern\":{\"fillmode\":\"overlay\",\"size\":10,\"solidity\":0.2}},\"type\":\"histogram\"}],\"histogram2d\":[{\"colorbar\":{\"outlinewidth\":0,\"ticks\":\"\"},\"colorscale\":[[0.0,\"#0d0887\"],[0.1111111111111111,\"#46039f\"],[0.2222222222222222,\"#7201a8\"],[0.3333333333333333,\"#9c179e\"],[0.4444444444444444,\"#bd3786\"],[0.5555555555555556,\"#d8576b\"],[0.6666666666666666,\"#ed7953\"],[0.7777777777777778,\"#fb9f3a\"],[0.8888888888888888,\"#fdca26\"],[1.0,\"#f0f921\"]],\"type\":\"histogram2d\"}],\"histogram2dcontour\":[{\"colorbar\":{\"outlinewidth\":0,\"ticks\":\"\"},\"colorscale\":[[0.0,\"#0d0887\"],[0.1111111111111111,\"#46039f\"],[0.2222222222222222,\"#7201a8\"],[0.3333333333333333,\"#9c179e\"],[0.4444444444444444,\"#bd3786\"],[0.5555555555555556,\"#d8576b\"],[0.6666666666666666,\"#ed7953\"],[0.7777777777777778,\"#fb9f3a\"],[0.8888888888888888,\"#fdca26\"],[1.0,\"#f0f921\"]],\"type\":\"histogram2dcontour\"}],\"mesh3d\":[{\"colorbar\":{\"outlinewidth\":0,\"ticks\":\"\"},\"type\":\"mesh3d\"}],\"parcoords\":[{\"line\":{\"colorbar\":{\"outlinewidth\":0,\"ticks\":\"\"}},\"type\":\"parcoords\"}],\"pie\":[{\"automargin\":true,\"type\":\"pie\"}],\"scatter\":[{\"marker\":{\"colorbar\":{\"outlinewidth\":0,\"ticks\":\"\"}},\"type\":\"scatter\"}],\"scatter3d\":[{\"line\":{\"colorbar\":{\"outlinewidth\":0,\"ticks\":\"\"}},\"marker\":{\"colorbar\":{\"outlinewidth\":0,\"ticks\":\"\"}},\"type\":\"scatter3d\"}],\"scattercarpet\":[{\"marker\":{\"colorbar\":{\"outlinewidth\":0,\"ticks\":\"\"}},\"type\":\"scattercarpet\"}],\"scattergeo\":[{\"marker\":{\"colorbar\":{\"outlinewidth\":0,\"ticks\":\"\"}},\"type\":\"scattergeo\"}],\"scattergl\":[{\"marker\":{\"colorbar\":{\"outlinewidth\":0,\"ticks\":\"\"}},\"type\":\"scattergl\"}],\"scattermapbox\":[{\"marker\":{\"colorbar\":{\"outlinewidth\":0,\"ticks\":\"\"}},\"type\":\"scattermapbox\"}],\"scatterpolar\":[{\"marker\":{\"colorbar\":{\"outlinewidth\":0,\"ticks\":\"\"}},\"type\":\"scatterpolar\"}],\"scatterpolargl\":[{\"marker\":{\"colorbar\":{\"outlinewidth\":0,\"ticks\":\"\"}},\"type\":\"scatterpolargl\"}],\"scatterternary\":[{\"marker\":{\"colorbar\":{\"outlinewidth\":0,\"ticks\":\"\"}},\"type\":\"scatterternary\"}],\"surface\":[{\"colorbar\":{\"outlinewidth\":0,\"ticks\":\"\"},\"colorscale\":[[0.0,\"#0d0887\"],[0.1111111111111111,\"#46039f\"],[0.2222222222222222,\"#7201a8\"],[0.3333333333333333,\"#9c179e\"],[0.4444444444444444,\"#bd3786\"],[0.5555555555555556,\"#d8576b\"],[0.6666666666666666,\"#ed7953\"],[0.7777777777777778,\"#fb9f3a\"],[0.8888888888888888,\"#fdca26\"],[1.0,\"#f0f921\"]],\"type\":\"surface\"}],\"table\":[{\"cells\":{\"fill\":{\"color\":\"#EBF0F8\"},\"line\":{\"color\":\"white\"}},\"header\":{\"fill\":{\"color\":\"#C8D4E3\"},\"line\":{\"color\":\"white\"}},\"type\":\"table\"}]},\"layout\":{\"annotationdefaults\":{\"arrowcolor\":\"#2a3f5f\",\"arrowhead\":0,\"arrowwidth\":1},\"autotypenumbers\":\"strict\",\"coloraxis\":{\"colorbar\":{\"outlinewidth\":0,\"ticks\":\"\"}},\"colorscale\":{\"diverging\":[[0,\"#8e0152\"],[0.1,\"#c51b7d\"],[0.2,\"#de77ae\"],[0.3,\"#f1b6da\"],[0.4,\"#fde0ef\"],[0.5,\"#f7f7f7\"],[0.6,\"#e6f5d0\"],[0.7,\"#b8e186\"],[0.8,\"#7fbc41\"],[0.9,\"#4d9221\"],[1,\"#276419\"]],\"sequential\":[[0.0,\"#0d0887\"],[0.1111111111111111,\"#46039f\"],[0.2222222222222222,\"#7201a8\"],[0.3333333333333333,\"#9c179e\"],[0.4444444444444444,\"#bd3786\"],[0.5555555555555556,\"#d8576b\"],[0.6666666666666666,\"#ed7953\"],[0.7777777777777778,\"#fb9f3a\"],[0.8888888888888888,\"#fdca26\"],[1.0,\"#f0f921\"]],\"sequentialminus\":[[0.0,\"#0d0887\"],[0.1111111111111111,\"#46039f\"],[0.2222222222222222,\"#7201a8\"],[0.3333333333333333,\"#9c179e\"],[0.4444444444444444,\"#bd3786\"],[0.5555555555555556,\"#d8576b\"],[0.6666666666666666,\"#ed7953\"],[0.7777777777777778,\"#fb9f3a\"],[0.8888888888888888,\"#fdca26\"],[1.0,\"#f0f921\"]]},\"colorway\":[\"#636efa\",\"#EF553B\",\"#00cc96\",\"#ab63fa\",\"#FFA15A\",\"#19d3f3\",\"#FF6692\",\"#B6E880\",\"#FF97FF\",\"#FECB52\"],\"font\":{\"color\":\"#2a3f5f\"},\"geo\":{\"bgcolor\":\"white\",\"lakecolor\":\"white\",\"landcolor\":\"#E5ECF6\",\"showlakes\":true,\"showland\":true,\"subunitcolor\":\"white\"},\"hoverlabel\":{\"align\":\"left\"},\"hovermode\":\"closest\",\"mapbox\":{\"style\":\"light\"},\"paper_bgcolor\":\"white\",\"plot_bgcolor\":\"#E5ECF6\",\"polar\":{\"angularaxis\":{\"gridcolor\":\"white\",\"linecolor\":\"white\",\"ticks\":\"\"},\"bgcolor\":\"#E5ECF6\",\"radialaxis\":{\"gridcolor\":\"white\",\"linecolor\":\"white\",\"ticks\":\"\"}},\"scene\":{\"xaxis\":{\"backgroundcolor\":\"#E5ECF6\",\"gridcolor\":\"white\",\"gridwidth\":2,\"linecolor\":\"white\",\"showbackground\":true,\"ticks\":\"\",\"zerolinecolor\":\"white\"},\"yaxis\":{\"backgroundcolor\":\"#E5ECF6\",\"gridcolor\":\"white\",\"gridwidth\":2,\"linecolor\":\"white\",\"showbackground\":true,\"ticks\":\"\",\"zerolinecolor\":\"white\"},\"zaxis\":{\"backgroundcolor\":\"#E5ECF6\",\"gridcolor\":\"white\",\"gridwidth\":2,\"linecolor\":\"white\",\"showbackground\":true,\"ticks\":\"\",\"zerolinecolor\":\"white\"}},\"shapedefaults\":{\"line\":{\"color\":\"#2a3f5f\"}},\"ternary\":{\"aaxis\":{\"gridcolor\":\"white\",\"linecolor\":\"white\",\"ticks\":\"\"},\"baxis\":{\"gridcolor\":\"white\",\"linecolor\":\"white\",\"ticks\":\"\"},\"bgcolor\":\"#E5ECF6\",\"caxis\":{\"gridcolor\":\"white\",\"linecolor\":\"white\",\"ticks\":\"\"}},\"title\":{\"x\":0.05},\"xaxis\":{\"automargin\":true,\"gridcolor\":\"white\",\"linecolor\":\"white\",\"ticks\":\"\",\"title\":{\"standoff\":15},\"zerolinecolor\":\"white\",\"zerolinewidth\":2},\"yaxis\":{\"automargin\":true,\"gridcolor\":\"white\",\"linecolor\":\"white\",\"ticks\":\"\",\"title\":{\"standoff\":15},\"zerolinecolor\":\"white\",\"zerolinewidth\":2}}},\"xaxis\":{\"anchor\":\"y\",\"domain\":[0.0,1.0],\"title\":{\"text\":\"0\"}},\"yaxis\":{\"anchor\":\"x\",\"domain\":[0.0,1.0],\"title\":{\"text\":\"1\"}},\"coloraxis\":{\"colorbar\":{\"title\":{\"text\":\"Cluster ID\"}},\"colorscale\":[[0.0,\"#0d0887\"],[0.1111111111111111,\"#46039f\"],[0.2222222222222222,\"#7201a8\"],[0.3333333333333333,\"#9c179e\"],[0.4444444444444444,\"#bd3786\"],[0.5555555555555556,\"#d8576b\"],[0.6666666666666666,\"#ed7953\"],[0.7777777777777778,\"#fb9f3a\"],[0.8888888888888888,\"#fdca26\"],[1.0,\"#f0f921\"]]},\"legend\":{\"tracegroupgap\":0},\"margin\":{\"t\":60}},                        {\"responsive\": true}                    ).then(function(){\n",
              "                            \n",
              "var gd = document.getElementById('5f9196ad-11a3-4ad7-ab68-02085f249277');\n",
              "var x = new MutationObserver(function (mutations, observer) {{\n",
              "        var display = window.getComputedStyle(gd).display;\n",
              "        if (!display || display === 'none') {{\n",
              "            console.log([gd, 'removed!']);\n",
              "            Plotly.purge(gd);\n",
              "            observer.disconnect();\n",
              "        }}\n",
              "}});\n",
              "\n",
              "// Listen for the removal of the full notebook cells\n",
              "var notebookContainer = gd.closest('#notebook-container');\n",
              "if (notebookContainer) {{\n",
              "    x.observe(notebookContainer, {childList: true});\n",
              "}}\n",
              "\n",
              "// Listen for the clearing of the current output cell\n",
              "var outputEl = gd.closest('.output');\n",
              "if (outputEl) {{\n",
              "    x.observe(outputEl, {childList: true});\n",
              "}}\n",
              "\n",
              "                        })                };                            </script>        </div>\n",
              "</body>\n",
              "</html>"
            ]
          },
          "metadata": {}
        },
        {
          "output_type": "display_data",
          "data": {
            "text/html": [
              "<html>\n",
              "<head><meta charset=\"utf-8\" /></head>\n",
              "<body>\n",
              "    <div>            <script src=\"https://cdnjs.cloudflare.com/ajax/libs/mathjax/2.7.5/MathJax.js?config=TeX-AMS-MML_SVG\"></script><script type=\"text/javascript\">if (window.MathJax) {MathJax.Hub.Config({SVG: {font: \"STIX-Web\"}});}</script>                <script type=\"text/javascript\">window.PlotlyConfig = {MathJaxConfig: 'local'};</script>\n",
              "        <script src=\"https://cdn.plot.ly/plotly-2.8.3.min.js\"></script>                <div id=\"90edb5fa-4161-4f10-9f2d-15ee6a0c8277\" class=\"plotly-graph-div\" style=\"height:525px; width:100%;\"></div>            <script type=\"text/javascript\">                                    window.PLOTLYENV=window.PLOTLYENV || {};                                    if (document.getElementById(\"90edb5fa-4161-4f10-9f2d-15ee6a0c8277\")) {                    Plotly.newPlot(                        \"90edb5fa-4161-4f10-9f2d-15ee6a0c8277\",                        [{\"hovertemplate\":\"0=%{x}<br>1=%{y}<br>Cluster ID=%{marker.color}<extra></extra>\",\"legendgroup\":\"\",\"marker\":{\"color\":[0,0,0,0,3,2,2,0,2,2,1,2,3,1,3,0,3,3,2,3,2,1,3,1,2,5,1,2,1,1,3,1,2,0,3,3,1,0,0,0,0,0,4,3,0,0,5,1,0,0,0,3,0,0,0,0,0,0,0,3,5,3,5,5,5,5,2,2,3,1,3,2,0,1,5,5,3,3,0,0,5,3,0,0,0,0,0,0,0,0,0,0,0,0,0,1,0,0,3,1,3,3,0,3,2,5,3,3,3,2,2,1,1,3,1,1,1,1,2,1,3,1,1,1,5,0,3,0,3,1,5,3,3,1,1,3,3,1,0,1,3,0,0,0,0,0,0,0,0,0,0,0,1,3,1,0,0,2,1,3,0,3,0,0,1,0,0,0,0,0,0,1,1,3,0,3,0,0,0,0,1,0,0,0,5,1,3,0,0,0,0,1,0,0,0,0],\"coloraxis\":\"coloraxis\",\"symbol\":\"circle\"},\"mode\":\"markers\",\"name\":\"\",\"orientation\":\"v\",\"showlegend\":false,\"x\":[-14.010978698730469,-12.515832901000977,-12.275636672973633,-14.0247220993042,-0.05660586431622505,7.785799026489258,8.65894603729248,-13.883360862731934,6.330460071563721,5.1363348960876465,9.125096321105957,7.667591094970703,4.02144193649292,11.73284912109375,5.495007514953613,-6.588618278503418,1.4258551597595215,0.48763397336006165,4.757401943206787,0.9017603397369385,8.61030101776123,4.182751178741455,3.2776882648468018,3.6755619049072266,7.523323059082031,12.450135231018066,10.413459777832031,6.1767802238464355,9.884696006774902,10.27029037475586,2.1883890628814697,7.275228500366211,8.22805118560791,-4.976815223693848,1.6613787412643433,2.465054988861084,7.073122024536133,-3.2369418144226074,-6.87083625793457,-4.682879447937012,-11.485442161560059,-2.1431286334991455,13.77086067199707,4.836908340454102,-10.89206600189209,-11.097627639770508,11.540698051452637,6.568370819091797,-7.307698726654053,-6.01694917678833,-6.274954319000244,4.864841938018799,-9.068275451660156,-8.303997039794922,-7.7075581550598145,-5.814850330352783,-12.051400184631348,-7.044747352600098,-5.032057762145996,1.9856668710708618,13.78812313079834,3.153083324432373,13.587113380432129,11.517004013061523,13.095743179321289,14.317023277282715,5.229954719543457,4.92117977142334,0.17513889074325562,7.789636135101318,1.6017875671386719,7.345010280609131,-11.685294151306152,6.369613170623779,11.935188293457031,12.144782066345215,2.3990261554718018,2.1272459030151367,-3.3683013916015625,-8.397220611572266,12.601922035217285,2.0916097164154053,-6.567148208618164,-4.227802753448486,-10.996848106384277,-13.215270042419434,-12.746932029724121,-10.198628425598145,-12.607071876525879,-13.52371597290039,-13.750264167785645,-13.01758861541748,-12.918519973754883,-6.279868125915527,-5.282954216003418,10.732418060302734,-2.4336681365966797,-4.765777587890625,1.1893893480300903,6.60901403427124,3.083696126937866,2.428781509399414,-1.2821564674377441,5.124421119689941,3.9283556938171387,14.010927200317383,2.127617120742798,-0.6151411533355713,4.330058574676514,8.632848739624023,3.9762089252471924,10.490377426147461,5.10472297668457,0.6674067378044128,10.201642990112305,3.9708151817321777,7.912269115447998,5.4351277351379395,6.77620267868042,8.205607414245605,4.436781406402588,4.227747440338135,8.963719367980957,8.136098861694336,12.006921768188477,-3.026888132095337,1.9714417457580566,-3.9395267963409424,-5.505794525146484,6.994745254516602,13.137016296386719,-0.6454105377197266,0.4902547001838684,7.4001030921936035,9.387517929077148,-0.5460483431816101,3.548675775527954,4.205582141876221,-2.703530788421631,9.029582977294922,3.0576939582824707,-7.636250019073486,-7.677859783172607,-3.0892415046691895,-12.206745147705078,-9.240605354309082,-3.8148529529571533,-10.251330375671387,-11.920907020568848,-7.870264530181885,-5.344679355621338,-6.890105247497559,6.160467147827148,1.398328423500061,11.325250625610352,-8.482756614685059,-9.338644027709961,5.537505149841309,11.709348678588867,3.5623257160186768,-2.144505262374878,-0.3762928545475006,-2.106393575668335,-6.71696662902832,7.515575885772705,-10.37488079071045,-4.228031158447266,-6.004608631134033,-7.508798122406006,-4.0403218269348145,-4.970010280609131,8.94958209991455,7.812694072723389,-1.1073434352874756,-5.532106876373291,-0.09165970981121063,-8.13768196105957,-5.729972839355469,-9.999256134033203,-6.756372451782227,7.6949687004089355,-8.305843353271484,-12.779684066772461,-2.443340301513672,12.398134231567383,11.224562644958496,2.144240140914917,-6.210644721984863,-12.366594314575195,-13.272161483764648,-13.276944160461426,6.571345329284668,-8.26191234588623,4.392890453338623,-7.292463302612305,-13.428526878356934],\"xaxis\":\"x\",\"y\":[-13.678510665893555,-14.926478385925293,-12.664448738098145,-14.103216171264648,-2.7045376300811768,3.7388765811920166,2.9787039756774902,-14.538312911987305,-0.04069153591990471,-0.17070341110229492,9.108237266540527,3.3689980506896973,-0.5149036645889282,10.879043579101562,7.716517448425293,-7.795140266418457,-4.279665470123291,-5.276700496673584,2.3247292041778564,-4.141783714294434,2.986602783203125,10.088926315307617,9.072290420532227,9.550048828125,3.107208013534546,6.2223896980285645,6.212632179260254,-0.18007206916809082,7.577554225921631,9.431360244750977,0.5723443627357483,7.950829029083252,4.666554927825928,-4.95464563369751,-0.8072100281715393,1.8029922246932983,8.378740310668945,-5.897435665130615,-3.9837446212768555,-8.774636268615723,-13.08329963684082,-7.591141700744629,6.289308071136475,7.298811912536621,-12.881646156311035,-12.496357917785645,6.513524532318115,7.820786952972412,-5.240993022918701,-3.425225019454956,-3.981487274169922,7.129267692565918,-6.374490737915039,-8.65267276763916,-8.71232795715332,-5.176576137542725,-13.079050064086914,-5.992271900177002,-7.4427809715271,-1.5487443208694458,8.57323932647705,0.2544406056404114,7.523603916168213,8.265546798706055,7.34541130065918,8.653066635131836,2.258789539337158,1.115339994430542,-1.7556580305099487,9.242561340332031,-1.956719160079956,3.064075469970703,-14.123490333557129,9.224174499511719,9.371334075927734,8.01406192779541,1.2611383199691772,-2.577829122543335,-4.898883819580078,-10.80549144744873,8.734498977661133,-0.8824284076690674,-5.035815715789795,-6.307501316070557,-11.122966766357422,-13.540948867797852,-14.412473678588867,-12.537470817565918,-13.056117057800293,-14.903593063354492,-13.231895446777344,-15.020448684692383,-12.25428295135498,-9.241068840026855,-5.24053430557251,9.093822479248047,-6.742518424987793,-8.119658470153809,-3.482680559158325,10.537288665771484,-1.580485463142395,-1.2131307125091553,-5.226967811584473,7.419678211212158,1.7264763116836548,8.354442596435547,-0.5216042995452881,-3.768120050430298,8.236891746520996,4.711859226226807,2.0339341163635254,7.229105472564697,9.2910737991333,-4.789695739746094,7.2369842529296875,9.407408714294434,9.440190315246582,9.609957695007324,3.7763497829437256,7.751552581787109,8.044508934020996,9.66302490234375,7.269323825836182,8.279678344726562,8.569880485534668,-5.649818420410156,-3.2245187759399414,-7.421112537384033,-2.0564444065093994,9.566320419311523,7.344461441040039,-4.275933265686035,-2.8847289085388184,7.462952613830566,5.980792999267578,-3.161151885986328,-1.9956326484680176,9.148406982421875,-7.888240814208984,9.636553764343262,-2.4276516437530518,-10.669692039489746,-11.091001510620117,-7.249883651733398,-14.64958667755127,-10.87609577178955,-9.572306632995605,-11.894397735595703,-13.661639213562012,-10.286446571350098,-9.097654342651367,-10.2250394821167,9.884992599487305,-2.2751665115356445,8.919795036315918,-10.141860008239746,-9.922017097473145,0.1636871099472046,10.401719093322754,8.058622360229492,-6.303009510040283,-4.423891067504883,-6.123499393463135,-9.665973663330078,10.203001976013184,-11.833146095275879,-5.137752532958984,-6.179619789123535,-9.594718933105469,-7.783646583557129,-7.401795864105225,10.463205337524414,10.954280853271484,-3.8004813194274902,-7.052220821380615,-4.603560924530029,-9.661861419677734,-4.203394412994385,-11.572652816772461,-8.94922161102295,10.98442268371582,-9.243114471435547,-13.765069961547852,-5.080360412597656,9.768122673034668,7.116754531860352,0.4650627672672272,-4.727939605712891,-13.889153480529785,-13.962550163269043,-14.378744125366211,9.726011276245117,-6.2789835929870605,6.323051452636719,-9.081849098205566,-13.091300010681152],\"yaxis\":\"y\",\"type\":\"scatter\"}],                        {\"template\":{\"data\":{\"bar\":[{\"error_x\":{\"color\":\"#2a3f5f\"},\"error_y\":{\"color\":\"#2a3f5f\"},\"marker\":{\"line\":{\"color\":\"#E5ECF6\",\"width\":0.5},\"pattern\":{\"fillmode\":\"overlay\",\"size\":10,\"solidity\":0.2}},\"type\":\"bar\"}],\"barpolar\":[{\"marker\":{\"line\":{\"color\":\"#E5ECF6\",\"width\":0.5},\"pattern\":{\"fillmode\":\"overlay\",\"size\":10,\"solidity\":0.2}},\"type\":\"barpolar\"}],\"carpet\":[{\"aaxis\":{\"endlinecolor\":\"#2a3f5f\",\"gridcolor\":\"white\",\"linecolor\":\"white\",\"minorgridcolor\":\"white\",\"startlinecolor\":\"#2a3f5f\"},\"baxis\":{\"endlinecolor\":\"#2a3f5f\",\"gridcolor\":\"white\",\"linecolor\":\"white\",\"minorgridcolor\":\"white\",\"startlinecolor\":\"#2a3f5f\"},\"type\":\"carpet\"}],\"choropleth\":[{\"colorbar\":{\"outlinewidth\":0,\"ticks\":\"\"},\"type\":\"choropleth\"}],\"contour\":[{\"colorbar\":{\"outlinewidth\":0,\"ticks\":\"\"},\"colorscale\":[[0.0,\"#0d0887\"],[0.1111111111111111,\"#46039f\"],[0.2222222222222222,\"#7201a8\"],[0.3333333333333333,\"#9c179e\"],[0.4444444444444444,\"#bd3786\"],[0.5555555555555556,\"#d8576b\"],[0.6666666666666666,\"#ed7953\"],[0.7777777777777778,\"#fb9f3a\"],[0.8888888888888888,\"#fdca26\"],[1.0,\"#f0f921\"]],\"type\":\"contour\"}],\"contourcarpet\":[{\"colorbar\":{\"outlinewidth\":0,\"ticks\":\"\"},\"type\":\"contourcarpet\"}],\"heatmap\":[{\"colorbar\":{\"outlinewidth\":0,\"ticks\":\"\"},\"colorscale\":[[0.0,\"#0d0887\"],[0.1111111111111111,\"#46039f\"],[0.2222222222222222,\"#7201a8\"],[0.3333333333333333,\"#9c179e\"],[0.4444444444444444,\"#bd3786\"],[0.5555555555555556,\"#d8576b\"],[0.6666666666666666,\"#ed7953\"],[0.7777777777777778,\"#fb9f3a\"],[0.8888888888888888,\"#fdca26\"],[1.0,\"#f0f921\"]],\"type\":\"heatmap\"}],\"heatmapgl\":[{\"colorbar\":{\"outlinewidth\":0,\"ticks\":\"\"},\"colorscale\":[[0.0,\"#0d0887\"],[0.1111111111111111,\"#46039f\"],[0.2222222222222222,\"#7201a8\"],[0.3333333333333333,\"#9c179e\"],[0.4444444444444444,\"#bd3786\"],[0.5555555555555556,\"#d8576b\"],[0.6666666666666666,\"#ed7953\"],[0.7777777777777778,\"#fb9f3a\"],[0.8888888888888888,\"#fdca26\"],[1.0,\"#f0f921\"]],\"type\":\"heatmapgl\"}],\"histogram\":[{\"marker\":{\"pattern\":{\"fillmode\":\"overlay\",\"size\":10,\"solidity\":0.2}},\"type\":\"histogram\"}],\"histogram2d\":[{\"colorbar\":{\"outlinewidth\":0,\"ticks\":\"\"},\"colorscale\":[[0.0,\"#0d0887\"],[0.1111111111111111,\"#46039f\"],[0.2222222222222222,\"#7201a8\"],[0.3333333333333333,\"#9c179e\"],[0.4444444444444444,\"#bd3786\"],[0.5555555555555556,\"#d8576b\"],[0.6666666666666666,\"#ed7953\"],[0.7777777777777778,\"#fb9f3a\"],[0.8888888888888888,\"#fdca26\"],[1.0,\"#f0f921\"]],\"type\":\"histogram2d\"}],\"histogram2dcontour\":[{\"colorbar\":{\"outlinewidth\":0,\"ticks\":\"\"},\"colorscale\":[[0.0,\"#0d0887\"],[0.1111111111111111,\"#46039f\"],[0.2222222222222222,\"#7201a8\"],[0.3333333333333333,\"#9c179e\"],[0.4444444444444444,\"#bd3786\"],[0.5555555555555556,\"#d8576b\"],[0.6666666666666666,\"#ed7953\"],[0.7777777777777778,\"#fb9f3a\"],[0.8888888888888888,\"#fdca26\"],[1.0,\"#f0f921\"]],\"type\":\"histogram2dcontour\"}],\"mesh3d\":[{\"colorbar\":{\"outlinewidth\":0,\"ticks\":\"\"},\"type\":\"mesh3d\"}],\"parcoords\":[{\"line\":{\"colorbar\":{\"outlinewidth\":0,\"ticks\":\"\"}},\"type\":\"parcoords\"}],\"pie\":[{\"automargin\":true,\"type\":\"pie\"}],\"scatter\":[{\"marker\":{\"colorbar\":{\"outlinewidth\":0,\"ticks\":\"\"}},\"type\":\"scatter\"}],\"scatter3d\":[{\"line\":{\"colorbar\":{\"outlinewidth\":0,\"ticks\":\"\"}},\"marker\":{\"colorbar\":{\"outlinewidth\":0,\"ticks\":\"\"}},\"type\":\"scatter3d\"}],\"scattercarpet\":[{\"marker\":{\"colorbar\":{\"outlinewidth\":0,\"ticks\":\"\"}},\"type\":\"scattercarpet\"}],\"scattergeo\":[{\"marker\":{\"colorbar\":{\"outlinewidth\":0,\"ticks\":\"\"}},\"type\":\"scattergeo\"}],\"scattergl\":[{\"marker\":{\"colorbar\":{\"outlinewidth\":0,\"ticks\":\"\"}},\"type\":\"scattergl\"}],\"scattermapbox\":[{\"marker\":{\"colorbar\":{\"outlinewidth\":0,\"ticks\":\"\"}},\"type\":\"scattermapbox\"}],\"scatterpolar\":[{\"marker\":{\"colorbar\":{\"outlinewidth\":0,\"ticks\":\"\"}},\"type\":\"scatterpolar\"}],\"scatterpolargl\":[{\"marker\":{\"colorbar\":{\"outlinewidth\":0,\"ticks\":\"\"}},\"type\":\"scatterpolargl\"}],\"scatterternary\":[{\"marker\":{\"colorbar\":{\"outlinewidth\":0,\"ticks\":\"\"}},\"type\":\"scatterternary\"}],\"surface\":[{\"colorbar\":{\"outlinewidth\":0,\"ticks\":\"\"},\"colorscale\":[[0.0,\"#0d0887\"],[0.1111111111111111,\"#46039f\"],[0.2222222222222222,\"#7201a8\"],[0.3333333333333333,\"#9c179e\"],[0.4444444444444444,\"#bd3786\"],[0.5555555555555556,\"#d8576b\"],[0.6666666666666666,\"#ed7953\"],[0.7777777777777778,\"#fb9f3a\"],[0.8888888888888888,\"#fdca26\"],[1.0,\"#f0f921\"]],\"type\":\"surface\"}],\"table\":[{\"cells\":{\"fill\":{\"color\":\"#EBF0F8\"},\"line\":{\"color\":\"white\"}},\"header\":{\"fill\":{\"color\":\"#C8D4E3\"},\"line\":{\"color\":\"white\"}},\"type\":\"table\"}]},\"layout\":{\"annotationdefaults\":{\"arrowcolor\":\"#2a3f5f\",\"arrowhead\":0,\"arrowwidth\":1},\"autotypenumbers\":\"strict\",\"coloraxis\":{\"colorbar\":{\"outlinewidth\":0,\"ticks\":\"\"}},\"colorscale\":{\"diverging\":[[0,\"#8e0152\"],[0.1,\"#c51b7d\"],[0.2,\"#de77ae\"],[0.3,\"#f1b6da\"],[0.4,\"#fde0ef\"],[0.5,\"#f7f7f7\"],[0.6,\"#e6f5d0\"],[0.7,\"#b8e186\"],[0.8,\"#7fbc41\"],[0.9,\"#4d9221\"],[1,\"#276419\"]],\"sequential\":[[0.0,\"#0d0887\"],[0.1111111111111111,\"#46039f\"],[0.2222222222222222,\"#7201a8\"],[0.3333333333333333,\"#9c179e\"],[0.4444444444444444,\"#bd3786\"],[0.5555555555555556,\"#d8576b\"],[0.6666666666666666,\"#ed7953\"],[0.7777777777777778,\"#fb9f3a\"],[0.8888888888888888,\"#fdca26\"],[1.0,\"#f0f921\"]],\"sequentialminus\":[[0.0,\"#0d0887\"],[0.1111111111111111,\"#46039f\"],[0.2222222222222222,\"#7201a8\"],[0.3333333333333333,\"#9c179e\"],[0.4444444444444444,\"#bd3786\"],[0.5555555555555556,\"#d8576b\"],[0.6666666666666666,\"#ed7953\"],[0.7777777777777778,\"#fb9f3a\"],[0.8888888888888888,\"#fdca26\"],[1.0,\"#f0f921\"]]},\"colorway\":[\"#636efa\",\"#EF553B\",\"#00cc96\",\"#ab63fa\",\"#FFA15A\",\"#19d3f3\",\"#FF6692\",\"#B6E880\",\"#FF97FF\",\"#FECB52\"],\"font\":{\"color\":\"#2a3f5f\"},\"geo\":{\"bgcolor\":\"white\",\"lakecolor\":\"white\",\"landcolor\":\"#E5ECF6\",\"showlakes\":true,\"showland\":true,\"subunitcolor\":\"white\"},\"hoverlabel\":{\"align\":\"left\"},\"hovermode\":\"closest\",\"mapbox\":{\"style\":\"light\"},\"paper_bgcolor\":\"white\",\"plot_bgcolor\":\"#E5ECF6\",\"polar\":{\"angularaxis\":{\"gridcolor\":\"white\",\"linecolor\":\"white\",\"ticks\":\"\"},\"bgcolor\":\"#E5ECF6\",\"radialaxis\":{\"gridcolor\":\"white\",\"linecolor\":\"white\",\"ticks\":\"\"}},\"scene\":{\"xaxis\":{\"backgroundcolor\":\"#E5ECF6\",\"gridcolor\":\"white\",\"gridwidth\":2,\"linecolor\":\"white\",\"showbackground\":true,\"ticks\":\"\",\"zerolinecolor\":\"white\"},\"yaxis\":{\"backgroundcolor\":\"#E5ECF6\",\"gridcolor\":\"white\",\"gridwidth\":2,\"linecolor\":\"white\",\"showbackground\":true,\"ticks\":\"\",\"zerolinecolor\":\"white\"},\"zaxis\":{\"backgroundcolor\":\"#E5ECF6\",\"gridcolor\":\"white\",\"gridwidth\":2,\"linecolor\":\"white\",\"showbackground\":true,\"ticks\":\"\",\"zerolinecolor\":\"white\"}},\"shapedefaults\":{\"line\":{\"color\":\"#2a3f5f\"}},\"ternary\":{\"aaxis\":{\"gridcolor\":\"white\",\"linecolor\":\"white\",\"ticks\":\"\"},\"baxis\":{\"gridcolor\":\"white\",\"linecolor\":\"white\",\"ticks\":\"\"},\"bgcolor\":\"#E5ECF6\",\"caxis\":{\"gridcolor\":\"white\",\"linecolor\":\"white\",\"ticks\":\"\"}},\"title\":{\"x\":0.05},\"xaxis\":{\"automargin\":true,\"gridcolor\":\"white\",\"linecolor\":\"white\",\"ticks\":\"\",\"title\":{\"standoff\":15},\"zerolinecolor\":\"white\",\"zerolinewidth\":2},\"yaxis\":{\"automargin\":true,\"gridcolor\":\"white\",\"linecolor\":\"white\",\"ticks\":\"\",\"title\":{\"standoff\":15},\"zerolinecolor\":\"white\",\"zerolinewidth\":2}}},\"xaxis\":{\"anchor\":\"y\",\"domain\":[0.0,1.0],\"title\":{\"text\":\"0\"}},\"yaxis\":{\"anchor\":\"x\",\"domain\":[0.0,1.0],\"title\":{\"text\":\"1\"}},\"coloraxis\":{\"colorbar\":{\"title\":{\"text\":\"Cluster ID\"}},\"colorscale\":[[0.0,\"#0d0887\"],[0.1111111111111111,\"#46039f\"],[0.2222222222222222,\"#7201a8\"],[0.3333333333333333,\"#9c179e\"],[0.4444444444444444,\"#bd3786\"],[0.5555555555555556,\"#d8576b\"],[0.6666666666666666,\"#ed7953\"],[0.7777777777777778,\"#fb9f3a\"],[0.8888888888888888,\"#fdca26\"],[1.0,\"#f0f921\"]]},\"legend\":{\"tracegroupgap\":0},\"margin\":{\"t\":60}},                        {\"responsive\": true}                    ).then(function(){\n",
              "                            \n",
              "var gd = document.getElementById('90edb5fa-4161-4f10-9f2d-15ee6a0c8277');\n",
              "var x = new MutationObserver(function (mutations, observer) {{\n",
              "        var display = window.getComputedStyle(gd).display;\n",
              "        if (!display || display === 'none') {{\n",
              "            console.log([gd, 'removed!']);\n",
              "            Plotly.purge(gd);\n",
              "            observer.disconnect();\n",
              "        }}\n",
              "}});\n",
              "\n",
              "// Listen for the removal of the full notebook cells\n",
              "var notebookContainer = gd.closest('#notebook-container');\n",
              "if (notebookContainer) {{\n",
              "    x.observe(notebookContainer, {childList: true});\n",
              "}}\n",
              "\n",
              "// Listen for the clearing of the current output cell\n",
              "var outputEl = gd.closest('.output');\n",
              "if (outputEl) {{\n",
              "    x.observe(outputEl, {childList: true});\n",
              "}}\n",
              "\n",
              "                        })                };                            </script>        </div>\n",
              "</body>\n",
              "</html>"
            ]
          },
          "metadata": {}
        },
        {
          "output_type": "display_data",
          "data": {
            "text/html": [
              "<html>\n",
              "<head><meta charset=\"utf-8\" /></head>\n",
              "<body>\n",
              "    <div>            <script src=\"https://cdnjs.cloudflare.com/ajax/libs/mathjax/2.7.5/MathJax.js?config=TeX-AMS-MML_SVG\"></script><script type=\"text/javascript\">if (window.MathJax) {MathJax.Hub.Config({SVG: {font: \"STIX-Web\"}});}</script>                <script type=\"text/javascript\">window.PlotlyConfig = {MathJaxConfig: 'local'};</script>\n",
              "        <script src=\"https://cdn.plot.ly/plotly-2.8.3.min.js\"></script>                <div id=\"be01c2f0-9f19-4200-9305-8ab5f4575978\" class=\"plotly-graph-div\" style=\"height:525px; width:100%;\"></div>            <script type=\"text/javascript\">                                    window.PLOTLYENV=window.PLOTLYENV || {};                                    if (document.getElementById(\"be01c2f0-9f19-4200-9305-8ab5f4575978\")) {                    Plotly.newPlot(                        \"be01c2f0-9f19-4200-9305-8ab5f4575978\",                        [{\"hovertemplate\":\"0=%{x}<br>1=%{y}<br>Cluster ID=%{marker.color}<extra></extra>\",\"legendgroup\":\"\",\"marker\":{\"color\":[0,0,0,0,6,2,2,0,2,2,4,2,6,3,4,0,6,6,2,6,2,4,4,4,2,1,2,2,3,3,6,4,2,0,6,6,4,0,0,0,0,0,1,4,0,0,1,4,0,0,0,4,0,0,0,0,0,0,0,6,5,6,1,3,1,5,2,2,6,4,6,2,0,4,3,3,6,6,0,0,3,6,0,0,0,0,0,0,0,0,0,0,0,0,0,3,0,0,6,4,6,6,0,4,2,5,6,6,4,2,2,3,4,6,3,4,4,4,2,4,4,4,4,4,3,0,6,0,6,4,1,6,6,4,3,6,6,4,0,4,6,0,0,0,0,0,0,0,0,0,0,0,4,6,3,0,0,2,3,6,0,6,0,0,4,0,0,0,0,0,0,4,4,6,0,6,0,0,0,0,4,0,0,0,3,3,6,0,0,0,0,4,0,0,0,0],\"coloraxis\":\"coloraxis\",\"symbol\":\"circle\"},\"mode\":\"markers\",\"name\":\"\",\"orientation\":\"v\",\"showlegend\":false,\"x\":[-14.010978698730469,-12.515832901000977,-12.275636672973633,-14.0247220993042,-0.05660586431622505,7.785799026489258,8.65894603729248,-13.883360862731934,6.330460071563721,5.1363348960876465,9.125096321105957,7.667591094970703,4.02144193649292,11.73284912109375,5.495007514953613,-6.588618278503418,1.4258551597595215,0.48763397336006165,4.757401943206787,0.9017603397369385,8.61030101776123,4.182751178741455,3.2776882648468018,3.6755619049072266,7.523323059082031,12.450135231018066,10.413459777832031,6.1767802238464355,9.884696006774902,10.27029037475586,2.1883890628814697,7.275228500366211,8.22805118560791,-4.976815223693848,1.6613787412643433,2.465054988861084,7.073122024536133,-3.2369418144226074,-6.87083625793457,-4.682879447937012,-11.485442161560059,-2.1431286334991455,13.77086067199707,4.836908340454102,-10.89206600189209,-11.097627639770508,11.540698051452637,6.568370819091797,-7.307698726654053,-6.01694917678833,-6.274954319000244,4.864841938018799,-9.068275451660156,-8.303997039794922,-7.7075581550598145,-5.814850330352783,-12.051400184631348,-7.044747352600098,-5.032057762145996,1.9856668710708618,13.78812313079834,3.153083324432373,13.587113380432129,11.517004013061523,13.095743179321289,14.317023277282715,5.229954719543457,4.92117977142334,0.17513889074325562,7.789636135101318,1.6017875671386719,7.345010280609131,-11.685294151306152,6.369613170623779,11.935188293457031,12.144782066345215,2.3990261554718018,2.1272459030151367,-3.3683013916015625,-8.397220611572266,12.601922035217285,2.0916097164154053,-6.567148208618164,-4.227802753448486,-10.996848106384277,-13.215270042419434,-12.746932029724121,-10.198628425598145,-12.607071876525879,-13.52371597290039,-13.750264167785645,-13.01758861541748,-12.918519973754883,-6.279868125915527,-5.282954216003418,10.732418060302734,-2.4336681365966797,-4.765777587890625,1.1893893480300903,6.60901403427124,3.083696126937866,2.428781509399414,-1.2821564674377441,5.124421119689941,3.9283556938171387,14.010927200317383,2.127617120742798,-0.6151411533355713,4.330058574676514,8.632848739624023,3.9762089252471924,10.490377426147461,5.10472297668457,0.6674067378044128,10.201642990112305,3.9708151817321777,7.912269115447998,5.4351277351379395,6.77620267868042,8.205607414245605,4.436781406402588,4.227747440338135,8.963719367980957,8.136098861694336,12.006921768188477,-3.026888132095337,1.9714417457580566,-3.9395267963409424,-5.505794525146484,6.994745254516602,13.137016296386719,-0.6454105377197266,0.4902547001838684,7.4001030921936035,9.387517929077148,-0.5460483431816101,3.548675775527954,4.205582141876221,-2.703530788421631,9.029582977294922,3.0576939582824707,-7.636250019073486,-7.677859783172607,-3.0892415046691895,-12.206745147705078,-9.240605354309082,-3.8148529529571533,-10.251330375671387,-11.920907020568848,-7.870264530181885,-5.344679355621338,-6.890105247497559,6.160467147827148,1.398328423500061,11.325250625610352,-8.482756614685059,-9.338644027709961,5.537505149841309,11.709348678588867,3.5623257160186768,-2.144505262374878,-0.3762928545475006,-2.106393575668335,-6.71696662902832,7.515575885772705,-10.37488079071045,-4.228031158447266,-6.004608631134033,-7.508798122406006,-4.0403218269348145,-4.970010280609131,8.94958209991455,7.812694072723389,-1.1073434352874756,-5.532106876373291,-0.09165970981121063,-8.13768196105957,-5.729972839355469,-9.999256134033203,-6.756372451782227,7.6949687004089355,-8.305843353271484,-12.779684066772461,-2.443340301513672,12.398134231567383,11.224562644958496,2.144240140914917,-6.210644721984863,-12.366594314575195,-13.272161483764648,-13.276944160461426,6.571345329284668,-8.26191234588623,4.392890453338623,-7.292463302612305,-13.428526878356934],\"xaxis\":\"x\",\"y\":[-13.678510665893555,-14.926478385925293,-12.664448738098145,-14.103216171264648,-2.7045376300811768,3.7388765811920166,2.9787039756774902,-14.538312911987305,-0.04069153591990471,-0.17070341110229492,9.108237266540527,3.3689980506896973,-0.5149036645889282,10.879043579101562,7.716517448425293,-7.795140266418457,-4.279665470123291,-5.276700496673584,2.3247292041778564,-4.141783714294434,2.986602783203125,10.088926315307617,9.072290420532227,9.550048828125,3.107208013534546,6.2223896980285645,6.212632179260254,-0.18007206916809082,7.577554225921631,9.431360244750977,0.5723443627357483,7.950829029083252,4.666554927825928,-4.95464563369751,-0.8072100281715393,1.8029922246932983,8.378740310668945,-5.897435665130615,-3.9837446212768555,-8.774636268615723,-13.08329963684082,-7.591141700744629,6.289308071136475,7.298811912536621,-12.881646156311035,-12.496357917785645,6.513524532318115,7.820786952972412,-5.240993022918701,-3.425225019454956,-3.981487274169922,7.129267692565918,-6.374490737915039,-8.65267276763916,-8.71232795715332,-5.176576137542725,-13.079050064086914,-5.992271900177002,-7.4427809715271,-1.5487443208694458,8.57323932647705,0.2544406056404114,7.523603916168213,8.265546798706055,7.34541130065918,8.653066635131836,2.258789539337158,1.115339994430542,-1.7556580305099487,9.242561340332031,-1.956719160079956,3.064075469970703,-14.123490333557129,9.224174499511719,9.371334075927734,8.01406192779541,1.2611383199691772,-2.577829122543335,-4.898883819580078,-10.80549144744873,8.734498977661133,-0.8824284076690674,-5.035815715789795,-6.307501316070557,-11.122966766357422,-13.540948867797852,-14.412473678588867,-12.537470817565918,-13.056117057800293,-14.903593063354492,-13.231895446777344,-15.020448684692383,-12.25428295135498,-9.241068840026855,-5.24053430557251,9.093822479248047,-6.742518424987793,-8.119658470153809,-3.482680559158325,10.537288665771484,-1.580485463142395,-1.2131307125091553,-5.226967811584473,7.419678211212158,1.7264763116836548,8.354442596435547,-0.5216042995452881,-3.768120050430298,8.236891746520996,4.711859226226807,2.0339341163635254,7.229105472564697,9.2910737991333,-4.789695739746094,7.2369842529296875,9.407408714294434,9.440190315246582,9.609957695007324,3.7763497829437256,7.751552581787109,8.044508934020996,9.66302490234375,7.269323825836182,8.279678344726562,8.569880485534668,-5.649818420410156,-3.2245187759399414,-7.421112537384033,-2.0564444065093994,9.566320419311523,7.344461441040039,-4.275933265686035,-2.8847289085388184,7.462952613830566,5.980792999267578,-3.161151885986328,-1.9956326484680176,9.148406982421875,-7.888240814208984,9.636553764343262,-2.4276516437530518,-10.669692039489746,-11.091001510620117,-7.249883651733398,-14.64958667755127,-10.87609577178955,-9.572306632995605,-11.894397735595703,-13.661639213562012,-10.286446571350098,-9.097654342651367,-10.2250394821167,9.884992599487305,-2.2751665115356445,8.919795036315918,-10.141860008239746,-9.922017097473145,0.1636871099472046,10.401719093322754,8.058622360229492,-6.303009510040283,-4.423891067504883,-6.123499393463135,-9.665973663330078,10.203001976013184,-11.833146095275879,-5.137752532958984,-6.179619789123535,-9.594718933105469,-7.783646583557129,-7.401795864105225,10.463205337524414,10.954280853271484,-3.8004813194274902,-7.052220821380615,-4.603560924530029,-9.661861419677734,-4.203394412994385,-11.572652816772461,-8.94922161102295,10.98442268371582,-9.243114471435547,-13.765069961547852,-5.080360412597656,9.768122673034668,7.116754531860352,0.4650627672672272,-4.727939605712891,-13.889153480529785,-13.962550163269043,-14.378744125366211,9.726011276245117,-6.2789835929870605,6.323051452636719,-9.081849098205566,-13.091300010681152],\"yaxis\":\"y\",\"type\":\"scatter\"}],                        {\"template\":{\"data\":{\"bar\":[{\"error_x\":{\"color\":\"#2a3f5f\"},\"error_y\":{\"color\":\"#2a3f5f\"},\"marker\":{\"line\":{\"color\":\"#E5ECF6\",\"width\":0.5},\"pattern\":{\"fillmode\":\"overlay\",\"size\":10,\"solidity\":0.2}},\"type\":\"bar\"}],\"barpolar\":[{\"marker\":{\"line\":{\"color\":\"#E5ECF6\",\"width\":0.5},\"pattern\":{\"fillmode\":\"overlay\",\"size\":10,\"solidity\":0.2}},\"type\":\"barpolar\"}],\"carpet\":[{\"aaxis\":{\"endlinecolor\":\"#2a3f5f\",\"gridcolor\":\"white\",\"linecolor\":\"white\",\"minorgridcolor\":\"white\",\"startlinecolor\":\"#2a3f5f\"},\"baxis\":{\"endlinecolor\":\"#2a3f5f\",\"gridcolor\":\"white\",\"linecolor\":\"white\",\"minorgridcolor\":\"white\",\"startlinecolor\":\"#2a3f5f\"},\"type\":\"carpet\"}],\"choropleth\":[{\"colorbar\":{\"outlinewidth\":0,\"ticks\":\"\"},\"type\":\"choropleth\"}],\"contour\":[{\"colorbar\":{\"outlinewidth\":0,\"ticks\":\"\"},\"colorscale\":[[0.0,\"#0d0887\"],[0.1111111111111111,\"#46039f\"],[0.2222222222222222,\"#7201a8\"],[0.3333333333333333,\"#9c179e\"],[0.4444444444444444,\"#bd3786\"],[0.5555555555555556,\"#d8576b\"],[0.6666666666666666,\"#ed7953\"],[0.7777777777777778,\"#fb9f3a\"],[0.8888888888888888,\"#fdca26\"],[1.0,\"#f0f921\"]],\"type\":\"contour\"}],\"contourcarpet\":[{\"colorbar\":{\"outlinewidth\":0,\"ticks\":\"\"},\"type\":\"contourcarpet\"}],\"heatmap\":[{\"colorbar\":{\"outlinewidth\":0,\"ticks\":\"\"},\"colorscale\":[[0.0,\"#0d0887\"],[0.1111111111111111,\"#46039f\"],[0.2222222222222222,\"#7201a8\"],[0.3333333333333333,\"#9c179e\"],[0.4444444444444444,\"#bd3786\"],[0.5555555555555556,\"#d8576b\"],[0.6666666666666666,\"#ed7953\"],[0.7777777777777778,\"#fb9f3a\"],[0.8888888888888888,\"#fdca26\"],[1.0,\"#f0f921\"]],\"type\":\"heatmap\"}],\"heatmapgl\":[{\"colorbar\":{\"outlinewidth\":0,\"ticks\":\"\"},\"colorscale\":[[0.0,\"#0d0887\"],[0.1111111111111111,\"#46039f\"],[0.2222222222222222,\"#7201a8\"],[0.3333333333333333,\"#9c179e\"],[0.4444444444444444,\"#bd3786\"],[0.5555555555555556,\"#d8576b\"],[0.6666666666666666,\"#ed7953\"],[0.7777777777777778,\"#fb9f3a\"],[0.8888888888888888,\"#fdca26\"],[1.0,\"#f0f921\"]],\"type\":\"heatmapgl\"}],\"histogram\":[{\"marker\":{\"pattern\":{\"fillmode\":\"overlay\",\"size\":10,\"solidity\":0.2}},\"type\":\"histogram\"}],\"histogram2d\":[{\"colorbar\":{\"outlinewidth\":0,\"ticks\":\"\"},\"colorscale\":[[0.0,\"#0d0887\"],[0.1111111111111111,\"#46039f\"],[0.2222222222222222,\"#7201a8\"],[0.3333333333333333,\"#9c179e\"],[0.4444444444444444,\"#bd3786\"],[0.5555555555555556,\"#d8576b\"],[0.6666666666666666,\"#ed7953\"],[0.7777777777777778,\"#fb9f3a\"],[0.8888888888888888,\"#fdca26\"],[1.0,\"#f0f921\"]],\"type\":\"histogram2d\"}],\"histogram2dcontour\":[{\"colorbar\":{\"outlinewidth\":0,\"ticks\":\"\"},\"colorscale\":[[0.0,\"#0d0887\"],[0.1111111111111111,\"#46039f\"],[0.2222222222222222,\"#7201a8\"],[0.3333333333333333,\"#9c179e\"],[0.4444444444444444,\"#bd3786\"],[0.5555555555555556,\"#d8576b\"],[0.6666666666666666,\"#ed7953\"],[0.7777777777777778,\"#fb9f3a\"],[0.8888888888888888,\"#fdca26\"],[1.0,\"#f0f921\"]],\"type\":\"histogram2dcontour\"}],\"mesh3d\":[{\"colorbar\":{\"outlinewidth\":0,\"ticks\":\"\"},\"type\":\"mesh3d\"}],\"parcoords\":[{\"line\":{\"colorbar\":{\"outlinewidth\":0,\"ticks\":\"\"}},\"type\":\"parcoords\"}],\"pie\":[{\"automargin\":true,\"type\":\"pie\"}],\"scatter\":[{\"marker\":{\"colorbar\":{\"outlinewidth\":0,\"ticks\":\"\"}},\"type\":\"scatter\"}],\"scatter3d\":[{\"line\":{\"colorbar\":{\"outlinewidth\":0,\"ticks\":\"\"}},\"marker\":{\"colorbar\":{\"outlinewidth\":0,\"ticks\":\"\"}},\"type\":\"scatter3d\"}],\"scattercarpet\":[{\"marker\":{\"colorbar\":{\"outlinewidth\":0,\"ticks\":\"\"}},\"type\":\"scattercarpet\"}],\"scattergeo\":[{\"marker\":{\"colorbar\":{\"outlinewidth\":0,\"ticks\":\"\"}},\"type\":\"scattergeo\"}],\"scattergl\":[{\"marker\":{\"colorbar\":{\"outlinewidth\":0,\"ticks\":\"\"}},\"type\":\"scattergl\"}],\"scattermapbox\":[{\"marker\":{\"colorbar\":{\"outlinewidth\":0,\"ticks\":\"\"}},\"type\":\"scattermapbox\"}],\"scatterpolar\":[{\"marker\":{\"colorbar\":{\"outlinewidth\":0,\"ticks\":\"\"}},\"type\":\"scatterpolar\"}],\"scatterpolargl\":[{\"marker\":{\"colorbar\":{\"outlinewidth\":0,\"ticks\":\"\"}},\"type\":\"scatterpolargl\"}],\"scatterternary\":[{\"marker\":{\"colorbar\":{\"outlinewidth\":0,\"ticks\":\"\"}},\"type\":\"scatterternary\"}],\"surface\":[{\"colorbar\":{\"outlinewidth\":0,\"ticks\":\"\"},\"colorscale\":[[0.0,\"#0d0887\"],[0.1111111111111111,\"#46039f\"],[0.2222222222222222,\"#7201a8\"],[0.3333333333333333,\"#9c179e\"],[0.4444444444444444,\"#bd3786\"],[0.5555555555555556,\"#d8576b\"],[0.6666666666666666,\"#ed7953\"],[0.7777777777777778,\"#fb9f3a\"],[0.8888888888888888,\"#fdca26\"],[1.0,\"#f0f921\"]],\"type\":\"surface\"}],\"table\":[{\"cells\":{\"fill\":{\"color\":\"#EBF0F8\"},\"line\":{\"color\":\"white\"}},\"header\":{\"fill\":{\"color\":\"#C8D4E3\"},\"line\":{\"color\":\"white\"}},\"type\":\"table\"}]},\"layout\":{\"annotationdefaults\":{\"arrowcolor\":\"#2a3f5f\",\"arrowhead\":0,\"arrowwidth\":1},\"autotypenumbers\":\"strict\",\"coloraxis\":{\"colorbar\":{\"outlinewidth\":0,\"ticks\":\"\"}},\"colorscale\":{\"diverging\":[[0,\"#8e0152\"],[0.1,\"#c51b7d\"],[0.2,\"#de77ae\"],[0.3,\"#f1b6da\"],[0.4,\"#fde0ef\"],[0.5,\"#f7f7f7\"],[0.6,\"#e6f5d0\"],[0.7,\"#b8e186\"],[0.8,\"#7fbc41\"],[0.9,\"#4d9221\"],[1,\"#276419\"]],\"sequential\":[[0.0,\"#0d0887\"],[0.1111111111111111,\"#46039f\"],[0.2222222222222222,\"#7201a8\"],[0.3333333333333333,\"#9c179e\"],[0.4444444444444444,\"#bd3786\"],[0.5555555555555556,\"#d8576b\"],[0.6666666666666666,\"#ed7953\"],[0.7777777777777778,\"#fb9f3a\"],[0.8888888888888888,\"#fdca26\"],[1.0,\"#f0f921\"]],\"sequentialminus\":[[0.0,\"#0d0887\"],[0.1111111111111111,\"#46039f\"],[0.2222222222222222,\"#7201a8\"],[0.3333333333333333,\"#9c179e\"],[0.4444444444444444,\"#bd3786\"],[0.5555555555555556,\"#d8576b\"],[0.6666666666666666,\"#ed7953\"],[0.7777777777777778,\"#fb9f3a\"],[0.8888888888888888,\"#fdca26\"],[1.0,\"#f0f921\"]]},\"colorway\":[\"#636efa\",\"#EF553B\",\"#00cc96\",\"#ab63fa\",\"#FFA15A\",\"#19d3f3\",\"#FF6692\",\"#B6E880\",\"#FF97FF\",\"#FECB52\"],\"font\":{\"color\":\"#2a3f5f\"},\"geo\":{\"bgcolor\":\"white\",\"lakecolor\":\"white\",\"landcolor\":\"#E5ECF6\",\"showlakes\":true,\"showland\":true,\"subunitcolor\":\"white\"},\"hoverlabel\":{\"align\":\"left\"},\"hovermode\":\"closest\",\"mapbox\":{\"style\":\"light\"},\"paper_bgcolor\":\"white\",\"plot_bgcolor\":\"#E5ECF6\",\"polar\":{\"angularaxis\":{\"gridcolor\":\"white\",\"linecolor\":\"white\",\"ticks\":\"\"},\"bgcolor\":\"#E5ECF6\",\"radialaxis\":{\"gridcolor\":\"white\",\"linecolor\":\"white\",\"ticks\":\"\"}},\"scene\":{\"xaxis\":{\"backgroundcolor\":\"#E5ECF6\",\"gridcolor\":\"white\",\"gridwidth\":2,\"linecolor\":\"white\",\"showbackground\":true,\"ticks\":\"\",\"zerolinecolor\":\"white\"},\"yaxis\":{\"backgroundcolor\":\"#E5ECF6\",\"gridcolor\":\"white\",\"gridwidth\":2,\"linecolor\":\"white\",\"showbackground\":true,\"ticks\":\"\",\"zerolinecolor\":\"white\"},\"zaxis\":{\"backgroundcolor\":\"#E5ECF6\",\"gridcolor\":\"white\",\"gridwidth\":2,\"linecolor\":\"white\",\"showbackground\":true,\"ticks\":\"\",\"zerolinecolor\":\"white\"}},\"shapedefaults\":{\"line\":{\"color\":\"#2a3f5f\"}},\"ternary\":{\"aaxis\":{\"gridcolor\":\"white\",\"linecolor\":\"white\",\"ticks\":\"\"},\"baxis\":{\"gridcolor\":\"white\",\"linecolor\":\"white\",\"ticks\":\"\"},\"bgcolor\":\"#E5ECF6\",\"caxis\":{\"gridcolor\":\"white\",\"linecolor\":\"white\",\"ticks\":\"\"}},\"title\":{\"x\":0.05},\"xaxis\":{\"automargin\":true,\"gridcolor\":\"white\",\"linecolor\":\"white\",\"ticks\":\"\",\"title\":{\"standoff\":15},\"zerolinecolor\":\"white\",\"zerolinewidth\":2},\"yaxis\":{\"automargin\":true,\"gridcolor\":\"white\",\"linecolor\":\"white\",\"ticks\":\"\",\"title\":{\"standoff\":15},\"zerolinecolor\":\"white\",\"zerolinewidth\":2}}},\"xaxis\":{\"anchor\":\"y\",\"domain\":[0.0,1.0],\"title\":{\"text\":\"0\"}},\"yaxis\":{\"anchor\":\"x\",\"domain\":[0.0,1.0],\"title\":{\"text\":\"1\"}},\"coloraxis\":{\"colorbar\":{\"title\":{\"text\":\"Cluster ID\"}},\"colorscale\":[[0.0,\"#0d0887\"],[0.1111111111111111,\"#46039f\"],[0.2222222222222222,\"#7201a8\"],[0.3333333333333333,\"#9c179e\"],[0.4444444444444444,\"#bd3786\"],[0.5555555555555556,\"#d8576b\"],[0.6666666666666666,\"#ed7953\"],[0.7777777777777778,\"#fb9f3a\"],[0.8888888888888888,\"#fdca26\"],[1.0,\"#f0f921\"]]},\"legend\":{\"tracegroupgap\":0},\"margin\":{\"t\":60}},                        {\"responsive\": true}                    ).then(function(){\n",
              "                            \n",
              "var gd = document.getElementById('be01c2f0-9f19-4200-9305-8ab5f4575978');\n",
              "var x = new MutationObserver(function (mutations, observer) {{\n",
              "        var display = window.getComputedStyle(gd).display;\n",
              "        if (!display || display === 'none') {{\n",
              "            console.log([gd, 'removed!']);\n",
              "            Plotly.purge(gd);\n",
              "            observer.disconnect();\n",
              "        }}\n",
              "}});\n",
              "\n",
              "// Listen for the removal of the full notebook cells\n",
              "var notebookContainer = gd.closest('#notebook-container');\n",
              "if (notebookContainer) {{\n",
              "    x.observe(notebookContainer, {childList: true});\n",
              "}}\n",
              "\n",
              "// Listen for the clearing of the current output cell\n",
              "var outputEl = gd.closest('.output');\n",
              "if (outputEl) {{\n",
              "    x.observe(outputEl, {childList: true});\n",
              "}}\n",
              "\n",
              "                        })                };                            </script>        </div>\n",
              "</body>\n",
              "</html>"
            ]
          },
          "metadata": {}
        },
        {
          "output_type": "display_data",
          "data": {
            "text/html": [
              "<html>\n",
              "<head><meta charset=\"utf-8\" /></head>\n",
              "<body>\n",
              "    <div>            <script src=\"https://cdnjs.cloudflare.com/ajax/libs/mathjax/2.7.5/MathJax.js?config=TeX-AMS-MML_SVG\"></script><script type=\"text/javascript\">if (window.MathJax) {MathJax.Hub.Config({SVG: {font: \"STIX-Web\"}});}</script>                <script type=\"text/javascript\">window.PlotlyConfig = {MathJaxConfig: 'local'};</script>\n",
              "        <script src=\"https://cdn.plot.ly/plotly-2.8.3.min.js\"></script>                <div id=\"bc4af3d2-dac1-4693-905d-d0549c148f63\" class=\"plotly-graph-div\" style=\"height:525px; width:100%;\"></div>            <script type=\"text/javascript\">                                    window.PLOTLYENV=window.PLOTLYENV || {};                                    if (document.getElementById(\"bc4af3d2-dac1-4693-905d-d0549c148f63\")) {                    Plotly.newPlot(                        \"bc4af3d2-dac1-4693-905d-d0549c148f63\",                        [{\"hovertemplate\":\"0=%{x}<br>1=%{y}<br>Cluster ID=%{marker.color}<extra></extra>\",\"legendgroup\":\"\",\"marker\":{\"color\":[5,5,5,5,0,2,2,5,3,3,2,2,3,2,6,5,0,0,3,0,2,6,6,2,2,4,1,3,1,1,0,6,2,5,0,3,6,5,5,5,5,5,4,6,5,5,1,6,5,5,5,6,5,5,5,5,5,5,5,0,7,3,4,1,4,7,3,3,0,6,0,2,5,6,1,1,3,0,5,5,1,0,5,5,5,5,5,5,5,5,5,5,5,5,5,1,5,5,0,6,0,0,0,6,3,7,0,0,6,2,3,1,6,0,1,2,6,6,3,6,6,2,6,6,1,5,0,5,0,6,4,0,0,6,2,0,0,2,5,6,0,5,5,5,5,5,5,5,5,5,5,5,6,0,1,5,5,3,1,0,5,0,5,5,6,5,5,5,5,5,5,6,6,0,5,0,5,5,5,5,6,5,5,5,1,1,0,5,5,5,5,6,5,5,5,5],\"coloraxis\":\"coloraxis\",\"symbol\":\"circle\"},\"mode\":\"markers\",\"name\":\"\",\"orientation\":\"v\",\"showlegend\":false,\"x\":[-14.010978698730469,-12.515832901000977,-12.275636672973633,-14.0247220993042,-0.05660586431622505,7.785799026489258,8.65894603729248,-13.883360862731934,6.330460071563721,5.1363348960876465,9.125096321105957,7.667591094970703,4.02144193649292,11.73284912109375,5.495007514953613,-6.588618278503418,1.4258551597595215,0.48763397336006165,4.757401943206787,0.9017603397369385,8.61030101776123,4.182751178741455,3.2776882648468018,3.6755619049072266,7.523323059082031,12.450135231018066,10.413459777832031,6.1767802238464355,9.884696006774902,10.27029037475586,2.1883890628814697,7.275228500366211,8.22805118560791,-4.976815223693848,1.6613787412643433,2.465054988861084,7.073122024536133,-3.2369418144226074,-6.87083625793457,-4.682879447937012,-11.485442161560059,-2.1431286334991455,13.77086067199707,4.836908340454102,-10.89206600189209,-11.097627639770508,11.540698051452637,6.568370819091797,-7.307698726654053,-6.01694917678833,-6.274954319000244,4.864841938018799,-9.068275451660156,-8.303997039794922,-7.7075581550598145,-5.814850330352783,-12.051400184631348,-7.044747352600098,-5.032057762145996,1.9856668710708618,13.78812313079834,3.153083324432373,13.587113380432129,11.517004013061523,13.095743179321289,14.317023277282715,5.229954719543457,4.92117977142334,0.17513889074325562,7.789636135101318,1.6017875671386719,7.345010280609131,-11.685294151306152,6.369613170623779,11.935188293457031,12.144782066345215,2.3990261554718018,2.1272459030151367,-3.3683013916015625,-8.397220611572266,12.601922035217285,2.0916097164154053,-6.567148208618164,-4.227802753448486,-10.996848106384277,-13.215270042419434,-12.746932029724121,-10.198628425598145,-12.607071876525879,-13.52371597290039,-13.750264167785645,-13.01758861541748,-12.918519973754883,-6.279868125915527,-5.282954216003418,10.732418060302734,-2.4336681365966797,-4.765777587890625,1.1893893480300903,6.60901403427124,3.083696126937866,2.428781509399414,-1.2821564674377441,5.124421119689941,3.9283556938171387,14.010927200317383,2.127617120742798,-0.6151411533355713,4.330058574676514,8.632848739624023,3.9762089252471924,10.490377426147461,5.10472297668457,0.6674067378044128,10.201642990112305,3.9708151817321777,7.912269115447998,5.4351277351379395,6.77620267868042,8.205607414245605,4.436781406402588,4.227747440338135,8.963719367980957,8.136098861694336,12.006921768188477,-3.026888132095337,1.9714417457580566,-3.9395267963409424,-5.505794525146484,6.994745254516602,13.137016296386719,-0.6454105377197266,0.4902547001838684,7.4001030921936035,9.387517929077148,-0.5460483431816101,3.548675775527954,4.205582141876221,-2.703530788421631,9.029582977294922,3.0576939582824707,-7.636250019073486,-7.677859783172607,-3.0892415046691895,-12.206745147705078,-9.240605354309082,-3.8148529529571533,-10.251330375671387,-11.920907020568848,-7.870264530181885,-5.344679355621338,-6.890105247497559,6.160467147827148,1.398328423500061,11.325250625610352,-8.482756614685059,-9.338644027709961,5.537505149841309,11.709348678588867,3.5623257160186768,-2.144505262374878,-0.3762928545475006,-2.106393575668335,-6.71696662902832,7.515575885772705,-10.37488079071045,-4.228031158447266,-6.004608631134033,-7.508798122406006,-4.0403218269348145,-4.970010280609131,8.94958209991455,7.812694072723389,-1.1073434352874756,-5.532106876373291,-0.09165970981121063,-8.13768196105957,-5.729972839355469,-9.999256134033203,-6.756372451782227,7.6949687004089355,-8.305843353271484,-12.779684066772461,-2.443340301513672,12.398134231567383,11.224562644958496,2.144240140914917,-6.210644721984863,-12.366594314575195,-13.272161483764648,-13.276944160461426,6.571345329284668,-8.26191234588623,4.392890453338623,-7.292463302612305,-13.428526878356934],\"xaxis\":\"x\",\"y\":[-13.678510665893555,-14.926478385925293,-12.664448738098145,-14.103216171264648,-2.7045376300811768,3.7388765811920166,2.9787039756774902,-14.538312911987305,-0.04069153591990471,-0.17070341110229492,9.108237266540527,3.3689980506896973,-0.5149036645889282,10.879043579101562,7.716517448425293,-7.795140266418457,-4.279665470123291,-5.276700496673584,2.3247292041778564,-4.141783714294434,2.986602783203125,10.088926315307617,9.072290420532227,9.550048828125,3.107208013534546,6.2223896980285645,6.212632179260254,-0.18007206916809082,7.577554225921631,9.431360244750977,0.5723443627357483,7.950829029083252,4.666554927825928,-4.95464563369751,-0.8072100281715393,1.8029922246932983,8.378740310668945,-5.897435665130615,-3.9837446212768555,-8.774636268615723,-13.08329963684082,-7.591141700744629,6.289308071136475,7.298811912536621,-12.881646156311035,-12.496357917785645,6.513524532318115,7.820786952972412,-5.240993022918701,-3.425225019454956,-3.981487274169922,7.129267692565918,-6.374490737915039,-8.65267276763916,-8.71232795715332,-5.176576137542725,-13.079050064086914,-5.992271900177002,-7.4427809715271,-1.5487443208694458,8.57323932647705,0.2544406056404114,7.523603916168213,8.265546798706055,7.34541130065918,8.653066635131836,2.258789539337158,1.115339994430542,-1.7556580305099487,9.242561340332031,-1.956719160079956,3.064075469970703,-14.123490333557129,9.224174499511719,9.371334075927734,8.01406192779541,1.2611383199691772,-2.577829122543335,-4.898883819580078,-10.80549144744873,8.734498977661133,-0.8824284076690674,-5.035815715789795,-6.307501316070557,-11.122966766357422,-13.540948867797852,-14.412473678588867,-12.537470817565918,-13.056117057800293,-14.903593063354492,-13.231895446777344,-15.020448684692383,-12.25428295135498,-9.241068840026855,-5.24053430557251,9.093822479248047,-6.742518424987793,-8.119658470153809,-3.482680559158325,10.537288665771484,-1.580485463142395,-1.2131307125091553,-5.226967811584473,7.419678211212158,1.7264763116836548,8.354442596435547,-0.5216042995452881,-3.768120050430298,8.236891746520996,4.711859226226807,2.0339341163635254,7.229105472564697,9.2910737991333,-4.789695739746094,7.2369842529296875,9.407408714294434,9.440190315246582,9.609957695007324,3.7763497829437256,7.751552581787109,8.044508934020996,9.66302490234375,7.269323825836182,8.279678344726562,8.569880485534668,-5.649818420410156,-3.2245187759399414,-7.421112537384033,-2.0564444065093994,9.566320419311523,7.344461441040039,-4.275933265686035,-2.8847289085388184,7.462952613830566,5.980792999267578,-3.161151885986328,-1.9956326484680176,9.148406982421875,-7.888240814208984,9.636553764343262,-2.4276516437530518,-10.669692039489746,-11.091001510620117,-7.249883651733398,-14.64958667755127,-10.87609577178955,-9.572306632995605,-11.894397735595703,-13.661639213562012,-10.286446571350098,-9.097654342651367,-10.2250394821167,9.884992599487305,-2.2751665115356445,8.919795036315918,-10.141860008239746,-9.922017097473145,0.1636871099472046,10.401719093322754,8.058622360229492,-6.303009510040283,-4.423891067504883,-6.123499393463135,-9.665973663330078,10.203001976013184,-11.833146095275879,-5.137752532958984,-6.179619789123535,-9.594718933105469,-7.783646583557129,-7.401795864105225,10.463205337524414,10.954280853271484,-3.8004813194274902,-7.052220821380615,-4.603560924530029,-9.661861419677734,-4.203394412994385,-11.572652816772461,-8.94922161102295,10.98442268371582,-9.243114471435547,-13.765069961547852,-5.080360412597656,9.768122673034668,7.116754531860352,0.4650627672672272,-4.727939605712891,-13.889153480529785,-13.962550163269043,-14.378744125366211,9.726011276245117,-6.2789835929870605,6.323051452636719,-9.081849098205566,-13.091300010681152],\"yaxis\":\"y\",\"type\":\"scatter\"}],                        {\"template\":{\"data\":{\"bar\":[{\"error_x\":{\"color\":\"#2a3f5f\"},\"error_y\":{\"color\":\"#2a3f5f\"},\"marker\":{\"line\":{\"color\":\"#E5ECF6\",\"width\":0.5},\"pattern\":{\"fillmode\":\"overlay\",\"size\":10,\"solidity\":0.2}},\"type\":\"bar\"}],\"barpolar\":[{\"marker\":{\"line\":{\"color\":\"#E5ECF6\",\"width\":0.5},\"pattern\":{\"fillmode\":\"overlay\",\"size\":10,\"solidity\":0.2}},\"type\":\"barpolar\"}],\"carpet\":[{\"aaxis\":{\"endlinecolor\":\"#2a3f5f\",\"gridcolor\":\"white\",\"linecolor\":\"white\",\"minorgridcolor\":\"white\",\"startlinecolor\":\"#2a3f5f\"},\"baxis\":{\"endlinecolor\":\"#2a3f5f\",\"gridcolor\":\"white\",\"linecolor\":\"white\",\"minorgridcolor\":\"white\",\"startlinecolor\":\"#2a3f5f\"},\"type\":\"carpet\"}],\"choropleth\":[{\"colorbar\":{\"outlinewidth\":0,\"ticks\":\"\"},\"type\":\"choropleth\"}],\"contour\":[{\"colorbar\":{\"outlinewidth\":0,\"ticks\":\"\"},\"colorscale\":[[0.0,\"#0d0887\"],[0.1111111111111111,\"#46039f\"],[0.2222222222222222,\"#7201a8\"],[0.3333333333333333,\"#9c179e\"],[0.4444444444444444,\"#bd3786\"],[0.5555555555555556,\"#d8576b\"],[0.6666666666666666,\"#ed7953\"],[0.7777777777777778,\"#fb9f3a\"],[0.8888888888888888,\"#fdca26\"],[1.0,\"#f0f921\"]],\"type\":\"contour\"}],\"contourcarpet\":[{\"colorbar\":{\"outlinewidth\":0,\"ticks\":\"\"},\"type\":\"contourcarpet\"}],\"heatmap\":[{\"colorbar\":{\"outlinewidth\":0,\"ticks\":\"\"},\"colorscale\":[[0.0,\"#0d0887\"],[0.1111111111111111,\"#46039f\"],[0.2222222222222222,\"#7201a8\"],[0.3333333333333333,\"#9c179e\"],[0.4444444444444444,\"#bd3786\"],[0.5555555555555556,\"#d8576b\"],[0.6666666666666666,\"#ed7953\"],[0.7777777777777778,\"#fb9f3a\"],[0.8888888888888888,\"#fdca26\"],[1.0,\"#f0f921\"]],\"type\":\"heatmap\"}],\"heatmapgl\":[{\"colorbar\":{\"outlinewidth\":0,\"ticks\":\"\"},\"colorscale\":[[0.0,\"#0d0887\"],[0.1111111111111111,\"#46039f\"],[0.2222222222222222,\"#7201a8\"],[0.3333333333333333,\"#9c179e\"],[0.4444444444444444,\"#bd3786\"],[0.5555555555555556,\"#d8576b\"],[0.6666666666666666,\"#ed7953\"],[0.7777777777777778,\"#fb9f3a\"],[0.8888888888888888,\"#fdca26\"],[1.0,\"#f0f921\"]],\"type\":\"heatmapgl\"}],\"histogram\":[{\"marker\":{\"pattern\":{\"fillmode\":\"overlay\",\"size\":10,\"solidity\":0.2}},\"type\":\"histogram\"}],\"histogram2d\":[{\"colorbar\":{\"outlinewidth\":0,\"ticks\":\"\"},\"colorscale\":[[0.0,\"#0d0887\"],[0.1111111111111111,\"#46039f\"],[0.2222222222222222,\"#7201a8\"],[0.3333333333333333,\"#9c179e\"],[0.4444444444444444,\"#bd3786\"],[0.5555555555555556,\"#d8576b\"],[0.6666666666666666,\"#ed7953\"],[0.7777777777777778,\"#fb9f3a\"],[0.8888888888888888,\"#fdca26\"],[1.0,\"#f0f921\"]],\"type\":\"histogram2d\"}],\"histogram2dcontour\":[{\"colorbar\":{\"outlinewidth\":0,\"ticks\":\"\"},\"colorscale\":[[0.0,\"#0d0887\"],[0.1111111111111111,\"#46039f\"],[0.2222222222222222,\"#7201a8\"],[0.3333333333333333,\"#9c179e\"],[0.4444444444444444,\"#bd3786\"],[0.5555555555555556,\"#d8576b\"],[0.6666666666666666,\"#ed7953\"],[0.7777777777777778,\"#fb9f3a\"],[0.8888888888888888,\"#fdca26\"],[1.0,\"#f0f921\"]],\"type\":\"histogram2dcontour\"}],\"mesh3d\":[{\"colorbar\":{\"outlinewidth\":0,\"ticks\":\"\"},\"type\":\"mesh3d\"}],\"parcoords\":[{\"line\":{\"colorbar\":{\"outlinewidth\":0,\"ticks\":\"\"}},\"type\":\"parcoords\"}],\"pie\":[{\"automargin\":true,\"type\":\"pie\"}],\"scatter\":[{\"marker\":{\"colorbar\":{\"outlinewidth\":0,\"ticks\":\"\"}},\"type\":\"scatter\"}],\"scatter3d\":[{\"line\":{\"colorbar\":{\"outlinewidth\":0,\"ticks\":\"\"}},\"marker\":{\"colorbar\":{\"outlinewidth\":0,\"ticks\":\"\"}},\"type\":\"scatter3d\"}],\"scattercarpet\":[{\"marker\":{\"colorbar\":{\"outlinewidth\":0,\"ticks\":\"\"}},\"type\":\"scattercarpet\"}],\"scattergeo\":[{\"marker\":{\"colorbar\":{\"outlinewidth\":0,\"ticks\":\"\"}},\"type\":\"scattergeo\"}],\"scattergl\":[{\"marker\":{\"colorbar\":{\"outlinewidth\":0,\"ticks\":\"\"}},\"type\":\"scattergl\"}],\"scattermapbox\":[{\"marker\":{\"colorbar\":{\"outlinewidth\":0,\"ticks\":\"\"}},\"type\":\"scattermapbox\"}],\"scatterpolar\":[{\"marker\":{\"colorbar\":{\"outlinewidth\":0,\"ticks\":\"\"}},\"type\":\"scatterpolar\"}],\"scatterpolargl\":[{\"marker\":{\"colorbar\":{\"outlinewidth\":0,\"ticks\":\"\"}},\"type\":\"scatterpolargl\"}],\"scatterternary\":[{\"marker\":{\"colorbar\":{\"outlinewidth\":0,\"ticks\":\"\"}},\"type\":\"scatterternary\"}],\"surface\":[{\"colorbar\":{\"outlinewidth\":0,\"ticks\":\"\"},\"colorscale\":[[0.0,\"#0d0887\"],[0.1111111111111111,\"#46039f\"],[0.2222222222222222,\"#7201a8\"],[0.3333333333333333,\"#9c179e\"],[0.4444444444444444,\"#bd3786\"],[0.5555555555555556,\"#d8576b\"],[0.6666666666666666,\"#ed7953\"],[0.7777777777777778,\"#fb9f3a\"],[0.8888888888888888,\"#fdca26\"],[1.0,\"#f0f921\"]],\"type\":\"surface\"}],\"table\":[{\"cells\":{\"fill\":{\"color\":\"#EBF0F8\"},\"line\":{\"color\":\"white\"}},\"header\":{\"fill\":{\"color\":\"#C8D4E3\"},\"line\":{\"color\":\"white\"}},\"type\":\"table\"}]},\"layout\":{\"annotationdefaults\":{\"arrowcolor\":\"#2a3f5f\",\"arrowhead\":0,\"arrowwidth\":1},\"autotypenumbers\":\"strict\",\"coloraxis\":{\"colorbar\":{\"outlinewidth\":0,\"ticks\":\"\"}},\"colorscale\":{\"diverging\":[[0,\"#8e0152\"],[0.1,\"#c51b7d\"],[0.2,\"#de77ae\"],[0.3,\"#f1b6da\"],[0.4,\"#fde0ef\"],[0.5,\"#f7f7f7\"],[0.6,\"#e6f5d0\"],[0.7,\"#b8e186\"],[0.8,\"#7fbc41\"],[0.9,\"#4d9221\"],[1,\"#276419\"]],\"sequential\":[[0.0,\"#0d0887\"],[0.1111111111111111,\"#46039f\"],[0.2222222222222222,\"#7201a8\"],[0.3333333333333333,\"#9c179e\"],[0.4444444444444444,\"#bd3786\"],[0.5555555555555556,\"#d8576b\"],[0.6666666666666666,\"#ed7953\"],[0.7777777777777778,\"#fb9f3a\"],[0.8888888888888888,\"#fdca26\"],[1.0,\"#f0f921\"]],\"sequentialminus\":[[0.0,\"#0d0887\"],[0.1111111111111111,\"#46039f\"],[0.2222222222222222,\"#7201a8\"],[0.3333333333333333,\"#9c179e\"],[0.4444444444444444,\"#bd3786\"],[0.5555555555555556,\"#d8576b\"],[0.6666666666666666,\"#ed7953\"],[0.7777777777777778,\"#fb9f3a\"],[0.8888888888888888,\"#fdca26\"],[1.0,\"#f0f921\"]]},\"colorway\":[\"#636efa\",\"#EF553B\",\"#00cc96\",\"#ab63fa\",\"#FFA15A\",\"#19d3f3\",\"#FF6692\",\"#B6E880\",\"#FF97FF\",\"#FECB52\"],\"font\":{\"color\":\"#2a3f5f\"},\"geo\":{\"bgcolor\":\"white\",\"lakecolor\":\"white\",\"landcolor\":\"#E5ECF6\",\"showlakes\":true,\"showland\":true,\"subunitcolor\":\"white\"},\"hoverlabel\":{\"align\":\"left\"},\"hovermode\":\"closest\",\"mapbox\":{\"style\":\"light\"},\"paper_bgcolor\":\"white\",\"plot_bgcolor\":\"#E5ECF6\",\"polar\":{\"angularaxis\":{\"gridcolor\":\"white\",\"linecolor\":\"white\",\"ticks\":\"\"},\"bgcolor\":\"#E5ECF6\",\"radialaxis\":{\"gridcolor\":\"white\",\"linecolor\":\"white\",\"ticks\":\"\"}},\"scene\":{\"xaxis\":{\"backgroundcolor\":\"#E5ECF6\",\"gridcolor\":\"white\",\"gridwidth\":2,\"linecolor\":\"white\",\"showbackground\":true,\"ticks\":\"\",\"zerolinecolor\":\"white\"},\"yaxis\":{\"backgroundcolor\":\"#E5ECF6\",\"gridcolor\":\"white\",\"gridwidth\":2,\"linecolor\":\"white\",\"showbackground\":true,\"ticks\":\"\",\"zerolinecolor\":\"white\"},\"zaxis\":{\"backgroundcolor\":\"#E5ECF6\",\"gridcolor\":\"white\",\"gridwidth\":2,\"linecolor\":\"white\",\"showbackground\":true,\"ticks\":\"\",\"zerolinecolor\":\"white\"}},\"shapedefaults\":{\"line\":{\"color\":\"#2a3f5f\"}},\"ternary\":{\"aaxis\":{\"gridcolor\":\"white\",\"linecolor\":\"white\",\"ticks\":\"\"},\"baxis\":{\"gridcolor\":\"white\",\"linecolor\":\"white\",\"ticks\":\"\"},\"bgcolor\":\"#E5ECF6\",\"caxis\":{\"gridcolor\":\"white\",\"linecolor\":\"white\",\"ticks\":\"\"}},\"title\":{\"x\":0.05},\"xaxis\":{\"automargin\":true,\"gridcolor\":\"white\",\"linecolor\":\"white\",\"ticks\":\"\",\"title\":{\"standoff\":15},\"zerolinecolor\":\"white\",\"zerolinewidth\":2},\"yaxis\":{\"automargin\":true,\"gridcolor\":\"white\",\"linecolor\":\"white\",\"ticks\":\"\",\"title\":{\"standoff\":15},\"zerolinecolor\":\"white\",\"zerolinewidth\":2}}},\"xaxis\":{\"anchor\":\"y\",\"domain\":[0.0,1.0],\"title\":{\"text\":\"0\"}},\"yaxis\":{\"anchor\":\"x\",\"domain\":[0.0,1.0],\"title\":{\"text\":\"1\"}},\"coloraxis\":{\"colorbar\":{\"title\":{\"text\":\"Cluster ID\"}},\"colorscale\":[[0.0,\"#0d0887\"],[0.1111111111111111,\"#46039f\"],[0.2222222222222222,\"#7201a8\"],[0.3333333333333333,\"#9c179e\"],[0.4444444444444444,\"#bd3786\"],[0.5555555555555556,\"#d8576b\"],[0.6666666666666666,\"#ed7953\"],[0.7777777777777778,\"#fb9f3a\"],[0.8888888888888888,\"#fdca26\"],[1.0,\"#f0f921\"]]},\"legend\":{\"tracegroupgap\":0},\"margin\":{\"t\":60}},                        {\"responsive\": true}                    ).then(function(){\n",
              "                            \n",
              "var gd = document.getElementById('bc4af3d2-dac1-4693-905d-d0549c148f63');\n",
              "var x = new MutationObserver(function (mutations, observer) {{\n",
              "        var display = window.getComputedStyle(gd).display;\n",
              "        if (!display || display === 'none') {{\n",
              "            console.log([gd, 'removed!']);\n",
              "            Plotly.purge(gd);\n",
              "            observer.disconnect();\n",
              "        }}\n",
              "}});\n",
              "\n",
              "// Listen for the removal of the full notebook cells\n",
              "var notebookContainer = gd.closest('#notebook-container');\n",
              "if (notebookContainer) {{\n",
              "    x.observe(notebookContainer, {childList: true});\n",
              "}}\n",
              "\n",
              "// Listen for the clearing of the current output cell\n",
              "var outputEl = gd.closest('.output');\n",
              "if (outputEl) {{\n",
              "    x.observe(outputEl, {childList: true});\n",
              "}}\n",
              "\n",
              "                        })                };                            </script>        </div>\n",
              "</body>\n",
              "</html>"
            ]
          },
          "metadata": {}
        },
        {
          "output_type": "display_data",
          "data": {
            "text/html": [
              "<html>\n",
              "<head><meta charset=\"utf-8\" /></head>\n",
              "<body>\n",
              "    <div>            <script src=\"https://cdnjs.cloudflare.com/ajax/libs/mathjax/2.7.5/MathJax.js?config=TeX-AMS-MML_SVG\"></script><script type=\"text/javascript\">if (window.MathJax) {MathJax.Hub.Config({SVG: {font: \"STIX-Web\"}});}</script>                <script type=\"text/javascript\">window.PlotlyConfig = {MathJaxConfig: 'local'};</script>\n",
              "        <script src=\"https://cdn.plot.ly/plotly-2.8.3.min.js\"></script>                <div id=\"4cf60946-afd8-4762-89ef-3184d2d8a051\" class=\"plotly-graph-div\" style=\"height:525px; width:100%;\"></div>            <script type=\"text/javascript\">                                    window.PLOTLYENV=window.PLOTLYENV || {};                                    if (document.getElementById(\"4cf60946-afd8-4762-89ef-3184d2d8a051\")) {                    Plotly.newPlot(                        \"4cf60946-afd8-4762-89ef-3184d2d8a051\",                        [{\"hovertemplate\":\"0=%{x}<br>1=%{y}<br>Cluster ID=%{marker.color}<extra></extra>\",\"legendgroup\":\"\",\"marker\":{\"color\":[0,0,0,0,8,2,2,0,5,5,2,2,5,7,6,0,8,8,5,8,2,2,2,2,2,4,1,5,1,7,8,6,1,0,8,5,6,0,0,0,0,0,4,6,0,0,1,6,0,0,0,6,0,0,0,0,0,0,0,8,3,5,4,7,4,3,5,5,8,6,8,2,0,6,7,7,8,8,0,0,7,8,0,0,0,0,0,0,0,0,0,0,0,0,0,7,0,0,8,6,8,8,8,6,5,3,8,8,6,1,5,1,6,8,1,2,6,6,5,6,6,2,1,6,7,0,8,0,8,6,4,8,8,6,1,8,8,2,0,6,8,0,0,0,0,0,0,0,0,0,0,0,6,8,7,0,0,5,7,8,0,8,0,0,6,0,0,0,0,0,0,6,6,8,0,8,0,0,0,0,6,0,0,0,7,1,8,0,0,0,0,6,0,0,0,0],\"coloraxis\":\"coloraxis\",\"symbol\":\"circle\"},\"mode\":\"markers\",\"name\":\"\",\"orientation\":\"v\",\"showlegend\":false,\"x\":[-14.010978698730469,-12.515832901000977,-12.275636672973633,-14.0247220993042,-0.05660586431622505,7.785799026489258,8.65894603729248,-13.883360862731934,6.330460071563721,5.1363348960876465,9.125096321105957,7.667591094970703,4.02144193649292,11.73284912109375,5.495007514953613,-6.588618278503418,1.4258551597595215,0.48763397336006165,4.757401943206787,0.9017603397369385,8.61030101776123,4.182751178741455,3.2776882648468018,3.6755619049072266,7.523323059082031,12.450135231018066,10.413459777832031,6.1767802238464355,9.884696006774902,10.27029037475586,2.1883890628814697,7.275228500366211,8.22805118560791,-4.976815223693848,1.6613787412643433,2.465054988861084,7.073122024536133,-3.2369418144226074,-6.87083625793457,-4.682879447937012,-11.485442161560059,-2.1431286334991455,13.77086067199707,4.836908340454102,-10.89206600189209,-11.097627639770508,11.540698051452637,6.568370819091797,-7.307698726654053,-6.01694917678833,-6.274954319000244,4.864841938018799,-9.068275451660156,-8.303997039794922,-7.7075581550598145,-5.814850330352783,-12.051400184631348,-7.044747352600098,-5.032057762145996,1.9856668710708618,13.78812313079834,3.153083324432373,13.587113380432129,11.517004013061523,13.095743179321289,14.317023277282715,5.229954719543457,4.92117977142334,0.17513889074325562,7.789636135101318,1.6017875671386719,7.345010280609131,-11.685294151306152,6.369613170623779,11.935188293457031,12.144782066345215,2.3990261554718018,2.1272459030151367,-3.3683013916015625,-8.397220611572266,12.601922035217285,2.0916097164154053,-6.567148208618164,-4.227802753448486,-10.996848106384277,-13.215270042419434,-12.746932029724121,-10.198628425598145,-12.607071876525879,-13.52371597290039,-13.750264167785645,-13.01758861541748,-12.918519973754883,-6.279868125915527,-5.282954216003418,10.732418060302734,-2.4336681365966797,-4.765777587890625,1.1893893480300903,6.60901403427124,3.083696126937866,2.428781509399414,-1.2821564674377441,5.124421119689941,3.9283556938171387,14.010927200317383,2.127617120742798,-0.6151411533355713,4.330058574676514,8.632848739624023,3.9762089252471924,10.490377426147461,5.10472297668457,0.6674067378044128,10.201642990112305,3.9708151817321777,7.912269115447998,5.4351277351379395,6.77620267868042,8.205607414245605,4.436781406402588,4.227747440338135,8.963719367980957,8.136098861694336,12.006921768188477,-3.026888132095337,1.9714417457580566,-3.9395267963409424,-5.505794525146484,6.994745254516602,13.137016296386719,-0.6454105377197266,0.4902547001838684,7.4001030921936035,9.387517929077148,-0.5460483431816101,3.548675775527954,4.205582141876221,-2.703530788421631,9.029582977294922,3.0576939582824707,-7.636250019073486,-7.677859783172607,-3.0892415046691895,-12.206745147705078,-9.240605354309082,-3.8148529529571533,-10.251330375671387,-11.920907020568848,-7.870264530181885,-5.344679355621338,-6.890105247497559,6.160467147827148,1.398328423500061,11.325250625610352,-8.482756614685059,-9.338644027709961,5.537505149841309,11.709348678588867,3.5623257160186768,-2.144505262374878,-0.3762928545475006,-2.106393575668335,-6.71696662902832,7.515575885772705,-10.37488079071045,-4.228031158447266,-6.004608631134033,-7.508798122406006,-4.0403218269348145,-4.970010280609131,8.94958209991455,7.812694072723389,-1.1073434352874756,-5.532106876373291,-0.09165970981121063,-8.13768196105957,-5.729972839355469,-9.999256134033203,-6.756372451782227,7.6949687004089355,-8.305843353271484,-12.779684066772461,-2.443340301513672,12.398134231567383,11.224562644958496,2.144240140914917,-6.210644721984863,-12.366594314575195,-13.272161483764648,-13.276944160461426,6.571345329284668,-8.26191234588623,4.392890453338623,-7.292463302612305,-13.428526878356934],\"xaxis\":\"x\",\"y\":[-13.678510665893555,-14.926478385925293,-12.664448738098145,-14.103216171264648,-2.7045376300811768,3.7388765811920166,2.9787039756774902,-14.538312911987305,-0.04069153591990471,-0.17070341110229492,9.108237266540527,3.3689980506896973,-0.5149036645889282,10.879043579101562,7.716517448425293,-7.795140266418457,-4.279665470123291,-5.276700496673584,2.3247292041778564,-4.141783714294434,2.986602783203125,10.088926315307617,9.072290420532227,9.550048828125,3.107208013534546,6.2223896980285645,6.212632179260254,-0.18007206916809082,7.577554225921631,9.431360244750977,0.5723443627357483,7.950829029083252,4.666554927825928,-4.95464563369751,-0.8072100281715393,1.8029922246932983,8.378740310668945,-5.897435665130615,-3.9837446212768555,-8.774636268615723,-13.08329963684082,-7.591141700744629,6.289308071136475,7.298811912536621,-12.881646156311035,-12.496357917785645,6.513524532318115,7.820786952972412,-5.240993022918701,-3.425225019454956,-3.981487274169922,7.129267692565918,-6.374490737915039,-8.65267276763916,-8.71232795715332,-5.176576137542725,-13.079050064086914,-5.992271900177002,-7.4427809715271,-1.5487443208694458,8.57323932647705,0.2544406056404114,7.523603916168213,8.265546798706055,7.34541130065918,8.653066635131836,2.258789539337158,1.115339994430542,-1.7556580305099487,9.242561340332031,-1.956719160079956,3.064075469970703,-14.123490333557129,9.224174499511719,9.371334075927734,8.01406192779541,1.2611383199691772,-2.577829122543335,-4.898883819580078,-10.80549144744873,8.734498977661133,-0.8824284076690674,-5.035815715789795,-6.307501316070557,-11.122966766357422,-13.540948867797852,-14.412473678588867,-12.537470817565918,-13.056117057800293,-14.903593063354492,-13.231895446777344,-15.020448684692383,-12.25428295135498,-9.241068840026855,-5.24053430557251,9.093822479248047,-6.742518424987793,-8.119658470153809,-3.482680559158325,10.537288665771484,-1.580485463142395,-1.2131307125091553,-5.226967811584473,7.419678211212158,1.7264763116836548,8.354442596435547,-0.5216042995452881,-3.768120050430298,8.236891746520996,4.711859226226807,2.0339341163635254,7.229105472564697,9.2910737991333,-4.789695739746094,7.2369842529296875,9.407408714294434,9.440190315246582,9.609957695007324,3.7763497829437256,7.751552581787109,8.044508934020996,9.66302490234375,7.269323825836182,8.279678344726562,8.569880485534668,-5.649818420410156,-3.2245187759399414,-7.421112537384033,-2.0564444065093994,9.566320419311523,7.344461441040039,-4.275933265686035,-2.8847289085388184,7.462952613830566,5.980792999267578,-3.161151885986328,-1.9956326484680176,9.148406982421875,-7.888240814208984,9.636553764343262,-2.4276516437530518,-10.669692039489746,-11.091001510620117,-7.249883651733398,-14.64958667755127,-10.87609577178955,-9.572306632995605,-11.894397735595703,-13.661639213562012,-10.286446571350098,-9.097654342651367,-10.2250394821167,9.884992599487305,-2.2751665115356445,8.919795036315918,-10.141860008239746,-9.922017097473145,0.1636871099472046,10.401719093322754,8.058622360229492,-6.303009510040283,-4.423891067504883,-6.123499393463135,-9.665973663330078,10.203001976013184,-11.833146095275879,-5.137752532958984,-6.179619789123535,-9.594718933105469,-7.783646583557129,-7.401795864105225,10.463205337524414,10.954280853271484,-3.8004813194274902,-7.052220821380615,-4.603560924530029,-9.661861419677734,-4.203394412994385,-11.572652816772461,-8.94922161102295,10.98442268371582,-9.243114471435547,-13.765069961547852,-5.080360412597656,9.768122673034668,7.116754531860352,0.4650627672672272,-4.727939605712891,-13.889153480529785,-13.962550163269043,-14.378744125366211,9.726011276245117,-6.2789835929870605,6.323051452636719,-9.081849098205566,-13.091300010681152],\"yaxis\":\"y\",\"type\":\"scatter\"}],                        {\"template\":{\"data\":{\"bar\":[{\"error_x\":{\"color\":\"#2a3f5f\"},\"error_y\":{\"color\":\"#2a3f5f\"},\"marker\":{\"line\":{\"color\":\"#E5ECF6\",\"width\":0.5},\"pattern\":{\"fillmode\":\"overlay\",\"size\":10,\"solidity\":0.2}},\"type\":\"bar\"}],\"barpolar\":[{\"marker\":{\"line\":{\"color\":\"#E5ECF6\",\"width\":0.5},\"pattern\":{\"fillmode\":\"overlay\",\"size\":10,\"solidity\":0.2}},\"type\":\"barpolar\"}],\"carpet\":[{\"aaxis\":{\"endlinecolor\":\"#2a3f5f\",\"gridcolor\":\"white\",\"linecolor\":\"white\",\"minorgridcolor\":\"white\",\"startlinecolor\":\"#2a3f5f\"},\"baxis\":{\"endlinecolor\":\"#2a3f5f\",\"gridcolor\":\"white\",\"linecolor\":\"white\",\"minorgridcolor\":\"white\",\"startlinecolor\":\"#2a3f5f\"},\"type\":\"carpet\"}],\"choropleth\":[{\"colorbar\":{\"outlinewidth\":0,\"ticks\":\"\"},\"type\":\"choropleth\"}],\"contour\":[{\"colorbar\":{\"outlinewidth\":0,\"ticks\":\"\"},\"colorscale\":[[0.0,\"#0d0887\"],[0.1111111111111111,\"#46039f\"],[0.2222222222222222,\"#7201a8\"],[0.3333333333333333,\"#9c179e\"],[0.4444444444444444,\"#bd3786\"],[0.5555555555555556,\"#d8576b\"],[0.6666666666666666,\"#ed7953\"],[0.7777777777777778,\"#fb9f3a\"],[0.8888888888888888,\"#fdca26\"],[1.0,\"#f0f921\"]],\"type\":\"contour\"}],\"contourcarpet\":[{\"colorbar\":{\"outlinewidth\":0,\"ticks\":\"\"},\"type\":\"contourcarpet\"}],\"heatmap\":[{\"colorbar\":{\"outlinewidth\":0,\"ticks\":\"\"},\"colorscale\":[[0.0,\"#0d0887\"],[0.1111111111111111,\"#46039f\"],[0.2222222222222222,\"#7201a8\"],[0.3333333333333333,\"#9c179e\"],[0.4444444444444444,\"#bd3786\"],[0.5555555555555556,\"#d8576b\"],[0.6666666666666666,\"#ed7953\"],[0.7777777777777778,\"#fb9f3a\"],[0.8888888888888888,\"#fdca26\"],[1.0,\"#f0f921\"]],\"type\":\"heatmap\"}],\"heatmapgl\":[{\"colorbar\":{\"outlinewidth\":0,\"ticks\":\"\"},\"colorscale\":[[0.0,\"#0d0887\"],[0.1111111111111111,\"#46039f\"],[0.2222222222222222,\"#7201a8\"],[0.3333333333333333,\"#9c179e\"],[0.4444444444444444,\"#bd3786\"],[0.5555555555555556,\"#d8576b\"],[0.6666666666666666,\"#ed7953\"],[0.7777777777777778,\"#fb9f3a\"],[0.8888888888888888,\"#fdca26\"],[1.0,\"#f0f921\"]],\"type\":\"heatmapgl\"}],\"histogram\":[{\"marker\":{\"pattern\":{\"fillmode\":\"overlay\",\"size\":10,\"solidity\":0.2}},\"type\":\"histogram\"}],\"histogram2d\":[{\"colorbar\":{\"outlinewidth\":0,\"ticks\":\"\"},\"colorscale\":[[0.0,\"#0d0887\"],[0.1111111111111111,\"#46039f\"],[0.2222222222222222,\"#7201a8\"],[0.3333333333333333,\"#9c179e\"],[0.4444444444444444,\"#bd3786\"],[0.5555555555555556,\"#d8576b\"],[0.6666666666666666,\"#ed7953\"],[0.7777777777777778,\"#fb9f3a\"],[0.8888888888888888,\"#fdca26\"],[1.0,\"#f0f921\"]],\"type\":\"histogram2d\"}],\"histogram2dcontour\":[{\"colorbar\":{\"outlinewidth\":0,\"ticks\":\"\"},\"colorscale\":[[0.0,\"#0d0887\"],[0.1111111111111111,\"#46039f\"],[0.2222222222222222,\"#7201a8\"],[0.3333333333333333,\"#9c179e\"],[0.4444444444444444,\"#bd3786\"],[0.5555555555555556,\"#d8576b\"],[0.6666666666666666,\"#ed7953\"],[0.7777777777777778,\"#fb9f3a\"],[0.8888888888888888,\"#fdca26\"],[1.0,\"#f0f921\"]],\"type\":\"histogram2dcontour\"}],\"mesh3d\":[{\"colorbar\":{\"outlinewidth\":0,\"ticks\":\"\"},\"type\":\"mesh3d\"}],\"parcoords\":[{\"line\":{\"colorbar\":{\"outlinewidth\":0,\"ticks\":\"\"}},\"type\":\"parcoords\"}],\"pie\":[{\"automargin\":true,\"type\":\"pie\"}],\"scatter\":[{\"marker\":{\"colorbar\":{\"outlinewidth\":0,\"ticks\":\"\"}},\"type\":\"scatter\"}],\"scatter3d\":[{\"line\":{\"colorbar\":{\"outlinewidth\":0,\"ticks\":\"\"}},\"marker\":{\"colorbar\":{\"outlinewidth\":0,\"ticks\":\"\"}},\"type\":\"scatter3d\"}],\"scattercarpet\":[{\"marker\":{\"colorbar\":{\"outlinewidth\":0,\"ticks\":\"\"}},\"type\":\"scattercarpet\"}],\"scattergeo\":[{\"marker\":{\"colorbar\":{\"outlinewidth\":0,\"ticks\":\"\"}},\"type\":\"scattergeo\"}],\"scattergl\":[{\"marker\":{\"colorbar\":{\"outlinewidth\":0,\"ticks\":\"\"}},\"type\":\"scattergl\"}],\"scattermapbox\":[{\"marker\":{\"colorbar\":{\"outlinewidth\":0,\"ticks\":\"\"}},\"type\":\"scattermapbox\"}],\"scatterpolar\":[{\"marker\":{\"colorbar\":{\"outlinewidth\":0,\"ticks\":\"\"}},\"type\":\"scatterpolar\"}],\"scatterpolargl\":[{\"marker\":{\"colorbar\":{\"outlinewidth\":0,\"ticks\":\"\"}},\"type\":\"scatterpolargl\"}],\"scatterternary\":[{\"marker\":{\"colorbar\":{\"outlinewidth\":0,\"ticks\":\"\"}},\"type\":\"scatterternary\"}],\"surface\":[{\"colorbar\":{\"outlinewidth\":0,\"ticks\":\"\"},\"colorscale\":[[0.0,\"#0d0887\"],[0.1111111111111111,\"#46039f\"],[0.2222222222222222,\"#7201a8\"],[0.3333333333333333,\"#9c179e\"],[0.4444444444444444,\"#bd3786\"],[0.5555555555555556,\"#d8576b\"],[0.6666666666666666,\"#ed7953\"],[0.7777777777777778,\"#fb9f3a\"],[0.8888888888888888,\"#fdca26\"],[1.0,\"#f0f921\"]],\"type\":\"surface\"}],\"table\":[{\"cells\":{\"fill\":{\"color\":\"#EBF0F8\"},\"line\":{\"color\":\"white\"}},\"header\":{\"fill\":{\"color\":\"#C8D4E3\"},\"line\":{\"color\":\"white\"}},\"type\":\"table\"}]},\"layout\":{\"annotationdefaults\":{\"arrowcolor\":\"#2a3f5f\",\"arrowhead\":0,\"arrowwidth\":1},\"autotypenumbers\":\"strict\",\"coloraxis\":{\"colorbar\":{\"outlinewidth\":0,\"ticks\":\"\"}},\"colorscale\":{\"diverging\":[[0,\"#8e0152\"],[0.1,\"#c51b7d\"],[0.2,\"#de77ae\"],[0.3,\"#f1b6da\"],[0.4,\"#fde0ef\"],[0.5,\"#f7f7f7\"],[0.6,\"#e6f5d0\"],[0.7,\"#b8e186\"],[0.8,\"#7fbc41\"],[0.9,\"#4d9221\"],[1,\"#276419\"]],\"sequential\":[[0.0,\"#0d0887\"],[0.1111111111111111,\"#46039f\"],[0.2222222222222222,\"#7201a8\"],[0.3333333333333333,\"#9c179e\"],[0.4444444444444444,\"#bd3786\"],[0.5555555555555556,\"#d8576b\"],[0.6666666666666666,\"#ed7953\"],[0.7777777777777778,\"#fb9f3a\"],[0.8888888888888888,\"#fdca26\"],[1.0,\"#f0f921\"]],\"sequentialminus\":[[0.0,\"#0d0887\"],[0.1111111111111111,\"#46039f\"],[0.2222222222222222,\"#7201a8\"],[0.3333333333333333,\"#9c179e\"],[0.4444444444444444,\"#bd3786\"],[0.5555555555555556,\"#d8576b\"],[0.6666666666666666,\"#ed7953\"],[0.7777777777777778,\"#fb9f3a\"],[0.8888888888888888,\"#fdca26\"],[1.0,\"#f0f921\"]]},\"colorway\":[\"#636efa\",\"#EF553B\",\"#00cc96\",\"#ab63fa\",\"#FFA15A\",\"#19d3f3\",\"#FF6692\",\"#B6E880\",\"#FF97FF\",\"#FECB52\"],\"font\":{\"color\":\"#2a3f5f\"},\"geo\":{\"bgcolor\":\"white\",\"lakecolor\":\"white\",\"landcolor\":\"#E5ECF6\",\"showlakes\":true,\"showland\":true,\"subunitcolor\":\"white\"},\"hoverlabel\":{\"align\":\"left\"},\"hovermode\":\"closest\",\"mapbox\":{\"style\":\"light\"},\"paper_bgcolor\":\"white\",\"plot_bgcolor\":\"#E5ECF6\",\"polar\":{\"angularaxis\":{\"gridcolor\":\"white\",\"linecolor\":\"white\",\"ticks\":\"\"},\"bgcolor\":\"#E5ECF6\",\"radialaxis\":{\"gridcolor\":\"white\",\"linecolor\":\"white\",\"ticks\":\"\"}},\"scene\":{\"xaxis\":{\"backgroundcolor\":\"#E5ECF6\",\"gridcolor\":\"white\",\"gridwidth\":2,\"linecolor\":\"white\",\"showbackground\":true,\"ticks\":\"\",\"zerolinecolor\":\"white\"},\"yaxis\":{\"backgroundcolor\":\"#E5ECF6\",\"gridcolor\":\"white\",\"gridwidth\":2,\"linecolor\":\"white\",\"showbackground\":true,\"ticks\":\"\",\"zerolinecolor\":\"white\"},\"zaxis\":{\"backgroundcolor\":\"#E5ECF6\",\"gridcolor\":\"white\",\"gridwidth\":2,\"linecolor\":\"white\",\"showbackground\":true,\"ticks\":\"\",\"zerolinecolor\":\"white\"}},\"shapedefaults\":{\"line\":{\"color\":\"#2a3f5f\"}},\"ternary\":{\"aaxis\":{\"gridcolor\":\"white\",\"linecolor\":\"white\",\"ticks\":\"\"},\"baxis\":{\"gridcolor\":\"white\",\"linecolor\":\"white\",\"ticks\":\"\"},\"bgcolor\":\"#E5ECF6\",\"caxis\":{\"gridcolor\":\"white\",\"linecolor\":\"white\",\"ticks\":\"\"}},\"title\":{\"x\":0.05},\"xaxis\":{\"automargin\":true,\"gridcolor\":\"white\",\"linecolor\":\"white\",\"ticks\":\"\",\"title\":{\"standoff\":15},\"zerolinecolor\":\"white\",\"zerolinewidth\":2},\"yaxis\":{\"automargin\":true,\"gridcolor\":\"white\",\"linecolor\":\"white\",\"ticks\":\"\",\"title\":{\"standoff\":15},\"zerolinecolor\":\"white\",\"zerolinewidth\":2}}},\"xaxis\":{\"anchor\":\"y\",\"domain\":[0.0,1.0],\"title\":{\"text\":\"0\"}},\"yaxis\":{\"anchor\":\"x\",\"domain\":[0.0,1.0],\"title\":{\"text\":\"1\"}},\"coloraxis\":{\"colorbar\":{\"title\":{\"text\":\"Cluster ID\"}},\"colorscale\":[[0.0,\"#0d0887\"],[0.1111111111111111,\"#46039f\"],[0.2222222222222222,\"#7201a8\"],[0.3333333333333333,\"#9c179e\"],[0.4444444444444444,\"#bd3786\"],[0.5555555555555556,\"#d8576b\"],[0.6666666666666666,\"#ed7953\"],[0.7777777777777778,\"#fb9f3a\"],[0.8888888888888888,\"#fdca26\"],[1.0,\"#f0f921\"]]},\"legend\":{\"tracegroupgap\":0},\"margin\":{\"t\":60}},                        {\"responsive\": true}                    ).then(function(){\n",
              "                            \n",
              "var gd = document.getElementById('4cf60946-afd8-4762-89ef-3184d2d8a051');\n",
              "var x = new MutationObserver(function (mutations, observer) {{\n",
              "        var display = window.getComputedStyle(gd).display;\n",
              "        if (!display || display === 'none') {{\n",
              "            console.log([gd, 'removed!']);\n",
              "            Plotly.purge(gd);\n",
              "            observer.disconnect();\n",
              "        }}\n",
              "}});\n",
              "\n",
              "// Listen for the removal of the full notebook cells\n",
              "var notebookContainer = gd.closest('#notebook-container');\n",
              "if (notebookContainer) {{\n",
              "    x.observe(notebookContainer, {childList: true});\n",
              "}}\n",
              "\n",
              "// Listen for the clearing of the current output cell\n",
              "var outputEl = gd.closest('.output');\n",
              "if (outputEl) {{\n",
              "    x.observe(outputEl, {childList: true});\n",
              "}}\n",
              "\n",
              "                        })                };                            </script>        </div>\n",
              "</body>\n",
              "</html>"
            ]
          },
          "metadata": {}
        },
        {
          "output_type": "display_data",
          "data": {
            "text/html": [
              "<html>\n",
              "<head><meta charset=\"utf-8\" /></head>\n",
              "<body>\n",
              "    <div>            <script src=\"https://cdnjs.cloudflare.com/ajax/libs/mathjax/2.7.5/MathJax.js?config=TeX-AMS-MML_SVG\"></script><script type=\"text/javascript\">if (window.MathJax) {MathJax.Hub.Config({SVG: {font: \"STIX-Web\"}});}</script>                <script type=\"text/javascript\">window.PlotlyConfig = {MathJaxConfig: 'local'};</script>\n",
              "        <script src=\"https://cdn.plot.ly/plotly-2.8.3.min.js\"></script>                <div id=\"9090063a-c012-4cc3-b2cd-935a38f7beb4\" class=\"plotly-graph-div\" style=\"height:525px; width:100%;\"></div>            <script type=\"text/javascript\">                                    window.PLOTLYENV=window.PLOTLYENV || {};                                    if (document.getElementById(\"9090063a-c012-4cc3-b2cd-935a38f7beb4\")) {                    Plotly.newPlot(                        \"9090063a-c012-4cc3-b2cd-935a38f7beb4\",                        [{\"hovertemplate\":\"0=%{x}<br>1=%{y}<br>Cluster ID=%{marker.color}<extra></extra>\",\"legendgroup\":\"\",\"marker\":{\"color\":[0,0,0,0,2,4,4,0,4,2,4,4,2,1,3,7,2,7,6,2,4,3,2,4,4,9,6,4,1,1,2,3,4,7,2,6,3,7,7,7,0,7,8,3,0,0,9,3,7,7,7,3,0,0,0,7,0,7,7,2,5,2,9,1,9,5,6,6,2,3,2,4,0,3,1,1,6,2,7,0,1,2,7,7,0,0,0,0,0,0,0,0,0,0,7,1,7,7,2,3,2,2,7,3,6,5,2,7,3,4,6,1,3,7,1,4,3,3,6,3,3,4,3,3,1,7,2,7,7,3,9,7,2,3,1,7,2,4,7,3,2,0,0,7,0,0,7,0,0,0,7,0,3,2,1,0,0,4,1,2,7,7,7,0,3,0,7,7,0,7,7,3,3,7,7,7,0,7,0,0,3,0,0,7,1,1,2,7,0,0,0,3,0,7,0,0],\"coloraxis\":\"coloraxis\",\"symbol\":\"circle\"},\"mode\":\"markers\",\"name\":\"\",\"orientation\":\"v\",\"showlegend\":false,\"x\":[-14.010978698730469,-12.515832901000977,-12.275636672973633,-14.0247220993042,-0.05660586431622505,7.785799026489258,8.65894603729248,-13.883360862731934,6.330460071563721,5.1363348960876465,9.125096321105957,7.667591094970703,4.02144193649292,11.73284912109375,5.495007514953613,-6.588618278503418,1.4258551597595215,0.48763397336006165,4.757401943206787,0.9017603397369385,8.61030101776123,4.182751178741455,3.2776882648468018,3.6755619049072266,7.523323059082031,12.450135231018066,10.413459777832031,6.1767802238464355,9.884696006774902,10.27029037475586,2.1883890628814697,7.275228500366211,8.22805118560791,-4.976815223693848,1.6613787412643433,2.465054988861084,7.073122024536133,-3.2369418144226074,-6.87083625793457,-4.682879447937012,-11.485442161560059,-2.1431286334991455,13.77086067199707,4.836908340454102,-10.89206600189209,-11.097627639770508,11.540698051452637,6.568370819091797,-7.307698726654053,-6.01694917678833,-6.274954319000244,4.864841938018799,-9.068275451660156,-8.303997039794922,-7.7075581550598145,-5.814850330352783,-12.051400184631348,-7.044747352600098,-5.032057762145996,1.9856668710708618,13.78812313079834,3.153083324432373,13.587113380432129,11.517004013061523,13.095743179321289,14.317023277282715,5.229954719543457,4.92117977142334,0.17513889074325562,7.789636135101318,1.6017875671386719,7.345010280609131,-11.685294151306152,6.369613170623779,11.935188293457031,12.144782066345215,2.3990261554718018,2.1272459030151367,-3.3683013916015625,-8.397220611572266,12.601922035217285,2.0916097164154053,-6.567148208618164,-4.227802753448486,-10.996848106384277,-13.215270042419434,-12.746932029724121,-10.198628425598145,-12.607071876525879,-13.52371597290039,-13.750264167785645,-13.01758861541748,-12.918519973754883,-6.279868125915527,-5.282954216003418,10.732418060302734,-2.4336681365966797,-4.765777587890625,1.1893893480300903,6.60901403427124,3.083696126937866,2.428781509399414,-1.2821564674377441,5.124421119689941,3.9283556938171387,14.010927200317383,2.127617120742798,-0.6151411533355713,4.330058574676514,8.632848739624023,3.9762089252471924,10.490377426147461,5.10472297668457,0.6674067378044128,10.201642990112305,3.9708151817321777,7.912269115447998,5.4351277351379395,6.77620267868042,8.205607414245605,4.436781406402588,4.227747440338135,8.963719367980957,8.136098861694336,12.006921768188477,-3.026888132095337,1.9714417457580566,-3.9395267963409424,-5.505794525146484,6.994745254516602,13.137016296386719,-0.6454105377197266,0.4902547001838684,7.4001030921936035,9.387517929077148,-0.5460483431816101,3.548675775527954,4.205582141876221,-2.703530788421631,9.029582977294922,3.0576939582824707,-7.636250019073486,-7.677859783172607,-3.0892415046691895,-12.206745147705078,-9.240605354309082,-3.8148529529571533,-10.251330375671387,-11.920907020568848,-7.870264530181885,-5.344679355621338,-6.890105247497559,6.160467147827148,1.398328423500061,11.325250625610352,-8.482756614685059,-9.338644027709961,5.537505149841309,11.709348678588867,3.5623257160186768,-2.144505262374878,-0.3762928545475006,-2.106393575668335,-6.71696662902832,7.515575885772705,-10.37488079071045,-4.228031158447266,-6.004608631134033,-7.508798122406006,-4.0403218269348145,-4.970010280609131,8.94958209991455,7.812694072723389,-1.1073434352874756,-5.532106876373291,-0.09165970981121063,-8.13768196105957,-5.729972839355469,-9.999256134033203,-6.756372451782227,7.6949687004089355,-8.305843353271484,-12.779684066772461,-2.443340301513672,12.398134231567383,11.224562644958496,2.144240140914917,-6.210644721984863,-12.366594314575195,-13.272161483764648,-13.276944160461426,6.571345329284668,-8.26191234588623,4.392890453338623,-7.292463302612305,-13.428526878356934],\"xaxis\":\"x\",\"y\":[-13.678510665893555,-14.926478385925293,-12.664448738098145,-14.103216171264648,-2.7045376300811768,3.7388765811920166,2.9787039756774902,-14.538312911987305,-0.04069153591990471,-0.17070341110229492,9.108237266540527,3.3689980506896973,-0.5149036645889282,10.879043579101562,7.716517448425293,-7.795140266418457,-4.279665470123291,-5.276700496673584,2.3247292041778564,-4.141783714294434,2.986602783203125,10.088926315307617,9.072290420532227,9.550048828125,3.107208013534546,6.2223896980285645,6.212632179260254,-0.18007206916809082,7.577554225921631,9.431360244750977,0.5723443627357483,7.950829029083252,4.666554927825928,-4.95464563369751,-0.8072100281715393,1.8029922246932983,8.378740310668945,-5.897435665130615,-3.9837446212768555,-8.774636268615723,-13.08329963684082,-7.591141700744629,6.289308071136475,7.298811912536621,-12.881646156311035,-12.496357917785645,6.513524532318115,7.820786952972412,-5.240993022918701,-3.425225019454956,-3.981487274169922,7.129267692565918,-6.374490737915039,-8.65267276763916,-8.71232795715332,-5.176576137542725,-13.079050064086914,-5.992271900177002,-7.4427809715271,-1.5487443208694458,8.57323932647705,0.2544406056404114,7.523603916168213,8.265546798706055,7.34541130065918,8.653066635131836,2.258789539337158,1.115339994430542,-1.7556580305099487,9.242561340332031,-1.956719160079956,3.064075469970703,-14.123490333557129,9.224174499511719,9.371334075927734,8.01406192779541,1.2611383199691772,-2.577829122543335,-4.898883819580078,-10.80549144744873,8.734498977661133,-0.8824284076690674,-5.035815715789795,-6.307501316070557,-11.122966766357422,-13.540948867797852,-14.412473678588867,-12.537470817565918,-13.056117057800293,-14.903593063354492,-13.231895446777344,-15.020448684692383,-12.25428295135498,-9.241068840026855,-5.24053430557251,9.093822479248047,-6.742518424987793,-8.119658470153809,-3.482680559158325,10.537288665771484,-1.580485463142395,-1.2131307125091553,-5.226967811584473,7.419678211212158,1.7264763116836548,8.354442596435547,-0.5216042995452881,-3.768120050430298,8.236891746520996,4.711859226226807,2.0339341163635254,7.229105472564697,9.2910737991333,-4.789695739746094,7.2369842529296875,9.407408714294434,9.440190315246582,9.609957695007324,3.7763497829437256,7.751552581787109,8.044508934020996,9.66302490234375,7.269323825836182,8.279678344726562,8.569880485534668,-5.649818420410156,-3.2245187759399414,-7.421112537384033,-2.0564444065093994,9.566320419311523,7.344461441040039,-4.275933265686035,-2.8847289085388184,7.462952613830566,5.980792999267578,-3.161151885986328,-1.9956326484680176,9.148406982421875,-7.888240814208984,9.636553764343262,-2.4276516437530518,-10.669692039489746,-11.091001510620117,-7.249883651733398,-14.64958667755127,-10.87609577178955,-9.572306632995605,-11.894397735595703,-13.661639213562012,-10.286446571350098,-9.097654342651367,-10.2250394821167,9.884992599487305,-2.2751665115356445,8.919795036315918,-10.141860008239746,-9.922017097473145,0.1636871099472046,10.401719093322754,8.058622360229492,-6.303009510040283,-4.423891067504883,-6.123499393463135,-9.665973663330078,10.203001976013184,-11.833146095275879,-5.137752532958984,-6.179619789123535,-9.594718933105469,-7.783646583557129,-7.401795864105225,10.463205337524414,10.954280853271484,-3.8004813194274902,-7.052220821380615,-4.603560924530029,-9.661861419677734,-4.203394412994385,-11.572652816772461,-8.94922161102295,10.98442268371582,-9.243114471435547,-13.765069961547852,-5.080360412597656,9.768122673034668,7.116754531860352,0.4650627672672272,-4.727939605712891,-13.889153480529785,-13.962550163269043,-14.378744125366211,9.726011276245117,-6.2789835929870605,6.323051452636719,-9.081849098205566,-13.091300010681152],\"yaxis\":\"y\",\"type\":\"scatter\"}],                        {\"template\":{\"data\":{\"bar\":[{\"error_x\":{\"color\":\"#2a3f5f\"},\"error_y\":{\"color\":\"#2a3f5f\"},\"marker\":{\"line\":{\"color\":\"#E5ECF6\",\"width\":0.5},\"pattern\":{\"fillmode\":\"overlay\",\"size\":10,\"solidity\":0.2}},\"type\":\"bar\"}],\"barpolar\":[{\"marker\":{\"line\":{\"color\":\"#E5ECF6\",\"width\":0.5},\"pattern\":{\"fillmode\":\"overlay\",\"size\":10,\"solidity\":0.2}},\"type\":\"barpolar\"}],\"carpet\":[{\"aaxis\":{\"endlinecolor\":\"#2a3f5f\",\"gridcolor\":\"white\",\"linecolor\":\"white\",\"minorgridcolor\":\"white\",\"startlinecolor\":\"#2a3f5f\"},\"baxis\":{\"endlinecolor\":\"#2a3f5f\",\"gridcolor\":\"white\",\"linecolor\":\"white\",\"minorgridcolor\":\"white\",\"startlinecolor\":\"#2a3f5f\"},\"type\":\"carpet\"}],\"choropleth\":[{\"colorbar\":{\"outlinewidth\":0,\"ticks\":\"\"},\"type\":\"choropleth\"}],\"contour\":[{\"colorbar\":{\"outlinewidth\":0,\"ticks\":\"\"},\"colorscale\":[[0.0,\"#0d0887\"],[0.1111111111111111,\"#46039f\"],[0.2222222222222222,\"#7201a8\"],[0.3333333333333333,\"#9c179e\"],[0.4444444444444444,\"#bd3786\"],[0.5555555555555556,\"#d8576b\"],[0.6666666666666666,\"#ed7953\"],[0.7777777777777778,\"#fb9f3a\"],[0.8888888888888888,\"#fdca26\"],[1.0,\"#f0f921\"]],\"type\":\"contour\"}],\"contourcarpet\":[{\"colorbar\":{\"outlinewidth\":0,\"ticks\":\"\"},\"type\":\"contourcarpet\"}],\"heatmap\":[{\"colorbar\":{\"outlinewidth\":0,\"ticks\":\"\"},\"colorscale\":[[0.0,\"#0d0887\"],[0.1111111111111111,\"#46039f\"],[0.2222222222222222,\"#7201a8\"],[0.3333333333333333,\"#9c179e\"],[0.4444444444444444,\"#bd3786\"],[0.5555555555555556,\"#d8576b\"],[0.6666666666666666,\"#ed7953\"],[0.7777777777777778,\"#fb9f3a\"],[0.8888888888888888,\"#fdca26\"],[1.0,\"#f0f921\"]],\"type\":\"heatmap\"}],\"heatmapgl\":[{\"colorbar\":{\"outlinewidth\":0,\"ticks\":\"\"},\"colorscale\":[[0.0,\"#0d0887\"],[0.1111111111111111,\"#46039f\"],[0.2222222222222222,\"#7201a8\"],[0.3333333333333333,\"#9c179e\"],[0.4444444444444444,\"#bd3786\"],[0.5555555555555556,\"#d8576b\"],[0.6666666666666666,\"#ed7953\"],[0.7777777777777778,\"#fb9f3a\"],[0.8888888888888888,\"#fdca26\"],[1.0,\"#f0f921\"]],\"type\":\"heatmapgl\"}],\"histogram\":[{\"marker\":{\"pattern\":{\"fillmode\":\"overlay\",\"size\":10,\"solidity\":0.2}},\"type\":\"histogram\"}],\"histogram2d\":[{\"colorbar\":{\"outlinewidth\":0,\"ticks\":\"\"},\"colorscale\":[[0.0,\"#0d0887\"],[0.1111111111111111,\"#46039f\"],[0.2222222222222222,\"#7201a8\"],[0.3333333333333333,\"#9c179e\"],[0.4444444444444444,\"#bd3786\"],[0.5555555555555556,\"#d8576b\"],[0.6666666666666666,\"#ed7953\"],[0.7777777777777778,\"#fb9f3a\"],[0.8888888888888888,\"#fdca26\"],[1.0,\"#f0f921\"]],\"type\":\"histogram2d\"}],\"histogram2dcontour\":[{\"colorbar\":{\"outlinewidth\":0,\"ticks\":\"\"},\"colorscale\":[[0.0,\"#0d0887\"],[0.1111111111111111,\"#46039f\"],[0.2222222222222222,\"#7201a8\"],[0.3333333333333333,\"#9c179e\"],[0.4444444444444444,\"#bd3786\"],[0.5555555555555556,\"#d8576b\"],[0.6666666666666666,\"#ed7953\"],[0.7777777777777778,\"#fb9f3a\"],[0.8888888888888888,\"#fdca26\"],[1.0,\"#f0f921\"]],\"type\":\"histogram2dcontour\"}],\"mesh3d\":[{\"colorbar\":{\"outlinewidth\":0,\"ticks\":\"\"},\"type\":\"mesh3d\"}],\"parcoords\":[{\"line\":{\"colorbar\":{\"outlinewidth\":0,\"ticks\":\"\"}},\"type\":\"parcoords\"}],\"pie\":[{\"automargin\":true,\"type\":\"pie\"}],\"scatter\":[{\"marker\":{\"colorbar\":{\"outlinewidth\":0,\"ticks\":\"\"}},\"type\":\"scatter\"}],\"scatter3d\":[{\"line\":{\"colorbar\":{\"outlinewidth\":0,\"ticks\":\"\"}},\"marker\":{\"colorbar\":{\"outlinewidth\":0,\"ticks\":\"\"}},\"type\":\"scatter3d\"}],\"scattercarpet\":[{\"marker\":{\"colorbar\":{\"outlinewidth\":0,\"ticks\":\"\"}},\"type\":\"scattercarpet\"}],\"scattergeo\":[{\"marker\":{\"colorbar\":{\"outlinewidth\":0,\"ticks\":\"\"}},\"type\":\"scattergeo\"}],\"scattergl\":[{\"marker\":{\"colorbar\":{\"outlinewidth\":0,\"ticks\":\"\"}},\"type\":\"scattergl\"}],\"scattermapbox\":[{\"marker\":{\"colorbar\":{\"outlinewidth\":0,\"ticks\":\"\"}},\"type\":\"scattermapbox\"}],\"scatterpolar\":[{\"marker\":{\"colorbar\":{\"outlinewidth\":0,\"ticks\":\"\"}},\"type\":\"scatterpolar\"}],\"scatterpolargl\":[{\"marker\":{\"colorbar\":{\"outlinewidth\":0,\"ticks\":\"\"}},\"type\":\"scatterpolargl\"}],\"scatterternary\":[{\"marker\":{\"colorbar\":{\"outlinewidth\":0,\"ticks\":\"\"}},\"type\":\"scatterternary\"}],\"surface\":[{\"colorbar\":{\"outlinewidth\":0,\"ticks\":\"\"},\"colorscale\":[[0.0,\"#0d0887\"],[0.1111111111111111,\"#46039f\"],[0.2222222222222222,\"#7201a8\"],[0.3333333333333333,\"#9c179e\"],[0.4444444444444444,\"#bd3786\"],[0.5555555555555556,\"#d8576b\"],[0.6666666666666666,\"#ed7953\"],[0.7777777777777778,\"#fb9f3a\"],[0.8888888888888888,\"#fdca26\"],[1.0,\"#f0f921\"]],\"type\":\"surface\"}],\"table\":[{\"cells\":{\"fill\":{\"color\":\"#EBF0F8\"},\"line\":{\"color\":\"white\"}},\"header\":{\"fill\":{\"color\":\"#C8D4E3\"},\"line\":{\"color\":\"white\"}},\"type\":\"table\"}]},\"layout\":{\"annotationdefaults\":{\"arrowcolor\":\"#2a3f5f\",\"arrowhead\":0,\"arrowwidth\":1},\"autotypenumbers\":\"strict\",\"coloraxis\":{\"colorbar\":{\"outlinewidth\":0,\"ticks\":\"\"}},\"colorscale\":{\"diverging\":[[0,\"#8e0152\"],[0.1,\"#c51b7d\"],[0.2,\"#de77ae\"],[0.3,\"#f1b6da\"],[0.4,\"#fde0ef\"],[0.5,\"#f7f7f7\"],[0.6,\"#e6f5d0\"],[0.7,\"#b8e186\"],[0.8,\"#7fbc41\"],[0.9,\"#4d9221\"],[1,\"#276419\"]],\"sequential\":[[0.0,\"#0d0887\"],[0.1111111111111111,\"#46039f\"],[0.2222222222222222,\"#7201a8\"],[0.3333333333333333,\"#9c179e\"],[0.4444444444444444,\"#bd3786\"],[0.5555555555555556,\"#d8576b\"],[0.6666666666666666,\"#ed7953\"],[0.7777777777777778,\"#fb9f3a\"],[0.8888888888888888,\"#fdca26\"],[1.0,\"#f0f921\"]],\"sequentialminus\":[[0.0,\"#0d0887\"],[0.1111111111111111,\"#46039f\"],[0.2222222222222222,\"#7201a8\"],[0.3333333333333333,\"#9c179e\"],[0.4444444444444444,\"#bd3786\"],[0.5555555555555556,\"#d8576b\"],[0.6666666666666666,\"#ed7953\"],[0.7777777777777778,\"#fb9f3a\"],[0.8888888888888888,\"#fdca26\"],[1.0,\"#f0f921\"]]},\"colorway\":[\"#636efa\",\"#EF553B\",\"#00cc96\",\"#ab63fa\",\"#FFA15A\",\"#19d3f3\",\"#FF6692\",\"#B6E880\",\"#FF97FF\",\"#FECB52\"],\"font\":{\"color\":\"#2a3f5f\"},\"geo\":{\"bgcolor\":\"white\",\"lakecolor\":\"white\",\"landcolor\":\"#E5ECF6\",\"showlakes\":true,\"showland\":true,\"subunitcolor\":\"white\"},\"hoverlabel\":{\"align\":\"left\"},\"hovermode\":\"closest\",\"mapbox\":{\"style\":\"light\"},\"paper_bgcolor\":\"white\",\"plot_bgcolor\":\"#E5ECF6\",\"polar\":{\"angularaxis\":{\"gridcolor\":\"white\",\"linecolor\":\"white\",\"ticks\":\"\"},\"bgcolor\":\"#E5ECF6\",\"radialaxis\":{\"gridcolor\":\"white\",\"linecolor\":\"white\",\"ticks\":\"\"}},\"scene\":{\"xaxis\":{\"backgroundcolor\":\"#E5ECF6\",\"gridcolor\":\"white\",\"gridwidth\":2,\"linecolor\":\"white\",\"showbackground\":true,\"ticks\":\"\",\"zerolinecolor\":\"white\"},\"yaxis\":{\"backgroundcolor\":\"#E5ECF6\",\"gridcolor\":\"white\",\"gridwidth\":2,\"linecolor\":\"white\",\"showbackground\":true,\"ticks\":\"\",\"zerolinecolor\":\"white\"},\"zaxis\":{\"backgroundcolor\":\"#E5ECF6\",\"gridcolor\":\"white\",\"gridwidth\":2,\"linecolor\":\"white\",\"showbackground\":true,\"ticks\":\"\",\"zerolinecolor\":\"white\"}},\"shapedefaults\":{\"line\":{\"color\":\"#2a3f5f\"}},\"ternary\":{\"aaxis\":{\"gridcolor\":\"white\",\"linecolor\":\"white\",\"ticks\":\"\"},\"baxis\":{\"gridcolor\":\"white\",\"linecolor\":\"white\",\"ticks\":\"\"},\"bgcolor\":\"#E5ECF6\",\"caxis\":{\"gridcolor\":\"white\",\"linecolor\":\"white\",\"ticks\":\"\"}},\"title\":{\"x\":0.05},\"xaxis\":{\"automargin\":true,\"gridcolor\":\"white\",\"linecolor\":\"white\",\"ticks\":\"\",\"title\":{\"standoff\":15},\"zerolinecolor\":\"white\",\"zerolinewidth\":2},\"yaxis\":{\"automargin\":true,\"gridcolor\":\"white\",\"linecolor\":\"white\",\"ticks\":\"\",\"title\":{\"standoff\":15},\"zerolinecolor\":\"white\",\"zerolinewidth\":2}}},\"xaxis\":{\"anchor\":\"y\",\"domain\":[0.0,1.0],\"title\":{\"text\":\"0\"}},\"yaxis\":{\"anchor\":\"x\",\"domain\":[0.0,1.0],\"title\":{\"text\":\"1\"}},\"coloraxis\":{\"colorbar\":{\"title\":{\"text\":\"Cluster ID\"}},\"colorscale\":[[0.0,\"#0d0887\"],[0.1111111111111111,\"#46039f\"],[0.2222222222222222,\"#7201a8\"],[0.3333333333333333,\"#9c179e\"],[0.4444444444444444,\"#bd3786\"],[0.5555555555555556,\"#d8576b\"],[0.6666666666666666,\"#ed7953\"],[0.7777777777777778,\"#fb9f3a\"],[0.8888888888888888,\"#fdca26\"],[1.0,\"#f0f921\"]]},\"legend\":{\"tracegroupgap\":0},\"margin\":{\"t\":60}},                        {\"responsive\": true}                    ).then(function(){\n",
              "                            \n",
              "var gd = document.getElementById('9090063a-c012-4cc3-b2cd-935a38f7beb4');\n",
              "var x = new MutationObserver(function (mutations, observer) {{\n",
              "        var display = window.getComputedStyle(gd).display;\n",
              "        if (!display || display === 'none') {{\n",
              "            console.log([gd, 'removed!']);\n",
              "            Plotly.purge(gd);\n",
              "            observer.disconnect();\n",
              "        }}\n",
              "}});\n",
              "\n",
              "// Listen for the removal of the full notebook cells\n",
              "var notebookContainer = gd.closest('#notebook-container');\n",
              "if (notebookContainer) {{\n",
              "    x.observe(notebookContainer, {childList: true});\n",
              "}}\n",
              "\n",
              "// Listen for the clearing of the current output cell\n",
              "var outputEl = gd.closest('.output');\n",
              "if (outputEl) {{\n",
              "    x.observe(outputEl, {childList: true});\n",
              "}}\n",
              "\n",
              "                        })                };                            </script>        </div>\n",
              "</body>\n",
              "</html>"
            ]
          },
          "metadata": {}
        },
        {
          "output_type": "display_data",
          "data": {
            "text/html": [
              "<html>\n",
              "<head><meta charset=\"utf-8\" /></head>\n",
              "<body>\n",
              "    <div>            <script src=\"https://cdnjs.cloudflare.com/ajax/libs/mathjax/2.7.5/MathJax.js?config=TeX-AMS-MML_SVG\"></script><script type=\"text/javascript\">if (window.MathJax) {MathJax.Hub.Config({SVG: {font: \"STIX-Web\"}});}</script>                <script type=\"text/javascript\">window.PlotlyConfig = {MathJaxConfig: 'local'};</script>\n",
              "        <script src=\"https://cdn.plot.ly/plotly-2.8.3.min.js\"></script>                <div id=\"37513be6-f931-4a27-b6b4-d957c5227936\" class=\"plotly-graph-div\" style=\"height:525px; width:100%;\"></div>            <script type=\"text/javascript\">                                    window.PLOTLYENV=window.PLOTLYENV || {};                                    if (document.getElementById(\"37513be6-f931-4a27-b6b4-d957c5227936\")) {                    Plotly.newPlot(                        \"37513be6-f931-4a27-b6b4-d957c5227936\",                        [{\"hovertemplate\":\"0=%{x}<br>1=%{y}<br>Cluster ID=%{marker.color}<extra></extra>\",\"legendgroup\":\"\",\"marker\":{\"color\":[1,1,1,1,6,3,3,1,3,3,4,3,6,10,8,1,6,6,0,6,3,4,4,4,3,2,7,3,7,10,6,4,7,1,6,0,8,1,1,1,1,1,9,8,1,1,2,8,1,1,1,8,1,1,1,1,1,1,1,6,5,6,5,10,2,5,0,0,6,8,6,3,1,8,10,10,0,6,1,1,10,6,1,1,1,1,1,1,1,1,1,1,1,1,1,10,1,1,6,8,6,6,1,8,0,5,6,6,4,7,0,7,4,6,7,4,8,4,0,4,4,4,7,4,10,1,6,1,6,8,2,6,6,4,7,6,6,4,1,4,6,1,1,1,1,1,1,1,1,1,1,1,8,6,10,1,1,3,10,4,1,6,1,1,8,1,1,1,1,1,1,8,8,6,1,6,1,1,1,1,8,1,1,1,10,2,6,1,1,1,1,8,1,1,1,1],\"coloraxis\":\"coloraxis\",\"symbol\":\"circle\"},\"mode\":\"markers\",\"name\":\"\",\"orientation\":\"v\",\"showlegend\":false,\"x\":[-14.010978698730469,-12.515832901000977,-12.275636672973633,-14.0247220993042,-0.05660586431622505,7.785799026489258,8.65894603729248,-13.883360862731934,6.330460071563721,5.1363348960876465,9.125096321105957,7.667591094970703,4.02144193649292,11.73284912109375,5.495007514953613,-6.588618278503418,1.4258551597595215,0.48763397336006165,4.757401943206787,0.9017603397369385,8.61030101776123,4.182751178741455,3.2776882648468018,3.6755619049072266,7.523323059082031,12.450135231018066,10.413459777832031,6.1767802238464355,9.884696006774902,10.27029037475586,2.1883890628814697,7.275228500366211,8.22805118560791,-4.976815223693848,1.6613787412643433,2.465054988861084,7.073122024536133,-3.2369418144226074,-6.87083625793457,-4.682879447937012,-11.485442161560059,-2.1431286334991455,13.77086067199707,4.836908340454102,-10.89206600189209,-11.097627639770508,11.540698051452637,6.568370819091797,-7.307698726654053,-6.01694917678833,-6.274954319000244,4.864841938018799,-9.068275451660156,-8.303997039794922,-7.7075581550598145,-5.814850330352783,-12.051400184631348,-7.044747352600098,-5.032057762145996,1.9856668710708618,13.78812313079834,3.153083324432373,13.587113380432129,11.517004013061523,13.095743179321289,14.317023277282715,5.229954719543457,4.92117977142334,0.17513889074325562,7.789636135101318,1.6017875671386719,7.345010280609131,-11.685294151306152,6.369613170623779,11.935188293457031,12.144782066345215,2.3990261554718018,2.1272459030151367,-3.3683013916015625,-8.397220611572266,12.601922035217285,2.0916097164154053,-6.567148208618164,-4.227802753448486,-10.996848106384277,-13.215270042419434,-12.746932029724121,-10.198628425598145,-12.607071876525879,-13.52371597290039,-13.750264167785645,-13.01758861541748,-12.918519973754883,-6.279868125915527,-5.282954216003418,10.732418060302734,-2.4336681365966797,-4.765777587890625,1.1893893480300903,6.60901403427124,3.083696126937866,2.428781509399414,-1.2821564674377441,5.124421119689941,3.9283556938171387,14.010927200317383,2.127617120742798,-0.6151411533355713,4.330058574676514,8.632848739624023,3.9762089252471924,10.490377426147461,5.10472297668457,0.6674067378044128,10.201642990112305,3.9708151817321777,7.912269115447998,5.4351277351379395,6.77620267868042,8.205607414245605,4.436781406402588,4.227747440338135,8.963719367980957,8.136098861694336,12.006921768188477,-3.026888132095337,1.9714417457580566,-3.9395267963409424,-5.505794525146484,6.994745254516602,13.137016296386719,-0.6454105377197266,0.4902547001838684,7.4001030921936035,9.387517929077148,-0.5460483431816101,3.548675775527954,4.205582141876221,-2.703530788421631,9.029582977294922,3.0576939582824707,-7.636250019073486,-7.677859783172607,-3.0892415046691895,-12.206745147705078,-9.240605354309082,-3.8148529529571533,-10.251330375671387,-11.920907020568848,-7.870264530181885,-5.344679355621338,-6.890105247497559,6.160467147827148,1.398328423500061,11.325250625610352,-8.482756614685059,-9.338644027709961,5.537505149841309,11.709348678588867,3.5623257160186768,-2.144505262374878,-0.3762928545475006,-2.106393575668335,-6.71696662902832,7.515575885772705,-10.37488079071045,-4.228031158447266,-6.004608631134033,-7.508798122406006,-4.0403218269348145,-4.970010280609131,8.94958209991455,7.812694072723389,-1.1073434352874756,-5.532106876373291,-0.09165970981121063,-8.13768196105957,-5.729972839355469,-9.999256134033203,-6.756372451782227,7.6949687004089355,-8.305843353271484,-12.779684066772461,-2.443340301513672,12.398134231567383,11.224562644958496,2.144240140914917,-6.210644721984863,-12.366594314575195,-13.272161483764648,-13.276944160461426,6.571345329284668,-8.26191234588623,4.392890453338623,-7.292463302612305,-13.428526878356934],\"xaxis\":\"x\",\"y\":[-13.678510665893555,-14.926478385925293,-12.664448738098145,-14.103216171264648,-2.7045376300811768,3.7388765811920166,2.9787039756774902,-14.538312911987305,-0.04069153591990471,-0.17070341110229492,9.108237266540527,3.3689980506896973,-0.5149036645889282,10.879043579101562,7.716517448425293,-7.795140266418457,-4.279665470123291,-5.276700496673584,2.3247292041778564,-4.141783714294434,2.986602783203125,10.088926315307617,9.072290420532227,9.550048828125,3.107208013534546,6.2223896980285645,6.212632179260254,-0.18007206916809082,7.577554225921631,9.431360244750977,0.5723443627357483,7.950829029083252,4.666554927825928,-4.95464563369751,-0.8072100281715393,1.8029922246932983,8.378740310668945,-5.897435665130615,-3.9837446212768555,-8.774636268615723,-13.08329963684082,-7.591141700744629,6.289308071136475,7.298811912536621,-12.881646156311035,-12.496357917785645,6.513524532318115,7.820786952972412,-5.240993022918701,-3.425225019454956,-3.981487274169922,7.129267692565918,-6.374490737915039,-8.65267276763916,-8.71232795715332,-5.176576137542725,-13.079050064086914,-5.992271900177002,-7.4427809715271,-1.5487443208694458,8.57323932647705,0.2544406056404114,7.523603916168213,8.265546798706055,7.34541130065918,8.653066635131836,2.258789539337158,1.115339994430542,-1.7556580305099487,9.242561340332031,-1.956719160079956,3.064075469970703,-14.123490333557129,9.224174499511719,9.371334075927734,8.01406192779541,1.2611383199691772,-2.577829122543335,-4.898883819580078,-10.80549144744873,8.734498977661133,-0.8824284076690674,-5.035815715789795,-6.307501316070557,-11.122966766357422,-13.540948867797852,-14.412473678588867,-12.537470817565918,-13.056117057800293,-14.903593063354492,-13.231895446777344,-15.020448684692383,-12.25428295135498,-9.241068840026855,-5.24053430557251,9.093822479248047,-6.742518424987793,-8.119658470153809,-3.482680559158325,10.537288665771484,-1.580485463142395,-1.2131307125091553,-5.226967811584473,7.419678211212158,1.7264763116836548,8.354442596435547,-0.5216042995452881,-3.768120050430298,8.236891746520996,4.711859226226807,2.0339341163635254,7.229105472564697,9.2910737991333,-4.789695739746094,7.2369842529296875,9.407408714294434,9.440190315246582,9.609957695007324,3.7763497829437256,7.751552581787109,8.044508934020996,9.66302490234375,7.269323825836182,8.279678344726562,8.569880485534668,-5.649818420410156,-3.2245187759399414,-7.421112537384033,-2.0564444065093994,9.566320419311523,7.344461441040039,-4.275933265686035,-2.8847289085388184,7.462952613830566,5.980792999267578,-3.161151885986328,-1.9956326484680176,9.148406982421875,-7.888240814208984,9.636553764343262,-2.4276516437530518,-10.669692039489746,-11.091001510620117,-7.249883651733398,-14.64958667755127,-10.87609577178955,-9.572306632995605,-11.894397735595703,-13.661639213562012,-10.286446571350098,-9.097654342651367,-10.2250394821167,9.884992599487305,-2.2751665115356445,8.919795036315918,-10.141860008239746,-9.922017097473145,0.1636871099472046,10.401719093322754,8.058622360229492,-6.303009510040283,-4.423891067504883,-6.123499393463135,-9.665973663330078,10.203001976013184,-11.833146095275879,-5.137752532958984,-6.179619789123535,-9.594718933105469,-7.783646583557129,-7.401795864105225,10.463205337524414,10.954280853271484,-3.8004813194274902,-7.052220821380615,-4.603560924530029,-9.661861419677734,-4.203394412994385,-11.572652816772461,-8.94922161102295,10.98442268371582,-9.243114471435547,-13.765069961547852,-5.080360412597656,9.768122673034668,7.116754531860352,0.4650627672672272,-4.727939605712891,-13.889153480529785,-13.962550163269043,-14.378744125366211,9.726011276245117,-6.2789835929870605,6.323051452636719,-9.081849098205566,-13.091300010681152],\"yaxis\":\"y\",\"type\":\"scatter\"}],                        {\"template\":{\"data\":{\"bar\":[{\"error_x\":{\"color\":\"#2a3f5f\"},\"error_y\":{\"color\":\"#2a3f5f\"},\"marker\":{\"line\":{\"color\":\"#E5ECF6\",\"width\":0.5},\"pattern\":{\"fillmode\":\"overlay\",\"size\":10,\"solidity\":0.2}},\"type\":\"bar\"}],\"barpolar\":[{\"marker\":{\"line\":{\"color\":\"#E5ECF6\",\"width\":0.5},\"pattern\":{\"fillmode\":\"overlay\",\"size\":10,\"solidity\":0.2}},\"type\":\"barpolar\"}],\"carpet\":[{\"aaxis\":{\"endlinecolor\":\"#2a3f5f\",\"gridcolor\":\"white\",\"linecolor\":\"white\",\"minorgridcolor\":\"white\",\"startlinecolor\":\"#2a3f5f\"},\"baxis\":{\"endlinecolor\":\"#2a3f5f\",\"gridcolor\":\"white\",\"linecolor\":\"white\",\"minorgridcolor\":\"white\",\"startlinecolor\":\"#2a3f5f\"},\"type\":\"carpet\"}],\"choropleth\":[{\"colorbar\":{\"outlinewidth\":0,\"ticks\":\"\"},\"type\":\"choropleth\"}],\"contour\":[{\"colorbar\":{\"outlinewidth\":0,\"ticks\":\"\"},\"colorscale\":[[0.0,\"#0d0887\"],[0.1111111111111111,\"#46039f\"],[0.2222222222222222,\"#7201a8\"],[0.3333333333333333,\"#9c179e\"],[0.4444444444444444,\"#bd3786\"],[0.5555555555555556,\"#d8576b\"],[0.6666666666666666,\"#ed7953\"],[0.7777777777777778,\"#fb9f3a\"],[0.8888888888888888,\"#fdca26\"],[1.0,\"#f0f921\"]],\"type\":\"contour\"}],\"contourcarpet\":[{\"colorbar\":{\"outlinewidth\":0,\"ticks\":\"\"},\"type\":\"contourcarpet\"}],\"heatmap\":[{\"colorbar\":{\"outlinewidth\":0,\"ticks\":\"\"},\"colorscale\":[[0.0,\"#0d0887\"],[0.1111111111111111,\"#46039f\"],[0.2222222222222222,\"#7201a8\"],[0.3333333333333333,\"#9c179e\"],[0.4444444444444444,\"#bd3786\"],[0.5555555555555556,\"#d8576b\"],[0.6666666666666666,\"#ed7953\"],[0.7777777777777778,\"#fb9f3a\"],[0.8888888888888888,\"#fdca26\"],[1.0,\"#f0f921\"]],\"type\":\"heatmap\"}],\"heatmapgl\":[{\"colorbar\":{\"outlinewidth\":0,\"ticks\":\"\"},\"colorscale\":[[0.0,\"#0d0887\"],[0.1111111111111111,\"#46039f\"],[0.2222222222222222,\"#7201a8\"],[0.3333333333333333,\"#9c179e\"],[0.4444444444444444,\"#bd3786\"],[0.5555555555555556,\"#d8576b\"],[0.6666666666666666,\"#ed7953\"],[0.7777777777777778,\"#fb9f3a\"],[0.8888888888888888,\"#fdca26\"],[1.0,\"#f0f921\"]],\"type\":\"heatmapgl\"}],\"histogram\":[{\"marker\":{\"pattern\":{\"fillmode\":\"overlay\",\"size\":10,\"solidity\":0.2}},\"type\":\"histogram\"}],\"histogram2d\":[{\"colorbar\":{\"outlinewidth\":0,\"ticks\":\"\"},\"colorscale\":[[0.0,\"#0d0887\"],[0.1111111111111111,\"#46039f\"],[0.2222222222222222,\"#7201a8\"],[0.3333333333333333,\"#9c179e\"],[0.4444444444444444,\"#bd3786\"],[0.5555555555555556,\"#d8576b\"],[0.6666666666666666,\"#ed7953\"],[0.7777777777777778,\"#fb9f3a\"],[0.8888888888888888,\"#fdca26\"],[1.0,\"#f0f921\"]],\"type\":\"histogram2d\"}],\"histogram2dcontour\":[{\"colorbar\":{\"outlinewidth\":0,\"ticks\":\"\"},\"colorscale\":[[0.0,\"#0d0887\"],[0.1111111111111111,\"#46039f\"],[0.2222222222222222,\"#7201a8\"],[0.3333333333333333,\"#9c179e\"],[0.4444444444444444,\"#bd3786\"],[0.5555555555555556,\"#d8576b\"],[0.6666666666666666,\"#ed7953\"],[0.7777777777777778,\"#fb9f3a\"],[0.8888888888888888,\"#fdca26\"],[1.0,\"#f0f921\"]],\"type\":\"histogram2dcontour\"}],\"mesh3d\":[{\"colorbar\":{\"outlinewidth\":0,\"ticks\":\"\"},\"type\":\"mesh3d\"}],\"parcoords\":[{\"line\":{\"colorbar\":{\"outlinewidth\":0,\"ticks\":\"\"}},\"type\":\"parcoords\"}],\"pie\":[{\"automargin\":true,\"type\":\"pie\"}],\"scatter\":[{\"marker\":{\"colorbar\":{\"outlinewidth\":0,\"ticks\":\"\"}},\"type\":\"scatter\"}],\"scatter3d\":[{\"line\":{\"colorbar\":{\"outlinewidth\":0,\"ticks\":\"\"}},\"marker\":{\"colorbar\":{\"outlinewidth\":0,\"ticks\":\"\"}},\"type\":\"scatter3d\"}],\"scattercarpet\":[{\"marker\":{\"colorbar\":{\"outlinewidth\":0,\"ticks\":\"\"}},\"type\":\"scattercarpet\"}],\"scattergeo\":[{\"marker\":{\"colorbar\":{\"outlinewidth\":0,\"ticks\":\"\"}},\"type\":\"scattergeo\"}],\"scattergl\":[{\"marker\":{\"colorbar\":{\"outlinewidth\":0,\"ticks\":\"\"}},\"type\":\"scattergl\"}],\"scattermapbox\":[{\"marker\":{\"colorbar\":{\"outlinewidth\":0,\"ticks\":\"\"}},\"type\":\"scattermapbox\"}],\"scatterpolar\":[{\"marker\":{\"colorbar\":{\"outlinewidth\":0,\"ticks\":\"\"}},\"type\":\"scatterpolar\"}],\"scatterpolargl\":[{\"marker\":{\"colorbar\":{\"outlinewidth\":0,\"ticks\":\"\"}},\"type\":\"scatterpolargl\"}],\"scatterternary\":[{\"marker\":{\"colorbar\":{\"outlinewidth\":0,\"ticks\":\"\"}},\"type\":\"scatterternary\"}],\"surface\":[{\"colorbar\":{\"outlinewidth\":0,\"ticks\":\"\"},\"colorscale\":[[0.0,\"#0d0887\"],[0.1111111111111111,\"#46039f\"],[0.2222222222222222,\"#7201a8\"],[0.3333333333333333,\"#9c179e\"],[0.4444444444444444,\"#bd3786\"],[0.5555555555555556,\"#d8576b\"],[0.6666666666666666,\"#ed7953\"],[0.7777777777777778,\"#fb9f3a\"],[0.8888888888888888,\"#fdca26\"],[1.0,\"#f0f921\"]],\"type\":\"surface\"}],\"table\":[{\"cells\":{\"fill\":{\"color\":\"#EBF0F8\"},\"line\":{\"color\":\"white\"}},\"header\":{\"fill\":{\"color\":\"#C8D4E3\"},\"line\":{\"color\":\"white\"}},\"type\":\"table\"}]},\"layout\":{\"annotationdefaults\":{\"arrowcolor\":\"#2a3f5f\",\"arrowhead\":0,\"arrowwidth\":1},\"autotypenumbers\":\"strict\",\"coloraxis\":{\"colorbar\":{\"outlinewidth\":0,\"ticks\":\"\"}},\"colorscale\":{\"diverging\":[[0,\"#8e0152\"],[0.1,\"#c51b7d\"],[0.2,\"#de77ae\"],[0.3,\"#f1b6da\"],[0.4,\"#fde0ef\"],[0.5,\"#f7f7f7\"],[0.6,\"#e6f5d0\"],[0.7,\"#b8e186\"],[0.8,\"#7fbc41\"],[0.9,\"#4d9221\"],[1,\"#276419\"]],\"sequential\":[[0.0,\"#0d0887\"],[0.1111111111111111,\"#46039f\"],[0.2222222222222222,\"#7201a8\"],[0.3333333333333333,\"#9c179e\"],[0.4444444444444444,\"#bd3786\"],[0.5555555555555556,\"#d8576b\"],[0.6666666666666666,\"#ed7953\"],[0.7777777777777778,\"#fb9f3a\"],[0.8888888888888888,\"#fdca26\"],[1.0,\"#f0f921\"]],\"sequentialminus\":[[0.0,\"#0d0887\"],[0.1111111111111111,\"#46039f\"],[0.2222222222222222,\"#7201a8\"],[0.3333333333333333,\"#9c179e\"],[0.4444444444444444,\"#bd3786\"],[0.5555555555555556,\"#d8576b\"],[0.6666666666666666,\"#ed7953\"],[0.7777777777777778,\"#fb9f3a\"],[0.8888888888888888,\"#fdca26\"],[1.0,\"#f0f921\"]]},\"colorway\":[\"#636efa\",\"#EF553B\",\"#00cc96\",\"#ab63fa\",\"#FFA15A\",\"#19d3f3\",\"#FF6692\",\"#B6E880\",\"#FF97FF\",\"#FECB52\"],\"font\":{\"color\":\"#2a3f5f\"},\"geo\":{\"bgcolor\":\"white\",\"lakecolor\":\"white\",\"landcolor\":\"#E5ECF6\",\"showlakes\":true,\"showland\":true,\"subunitcolor\":\"white\"},\"hoverlabel\":{\"align\":\"left\"},\"hovermode\":\"closest\",\"mapbox\":{\"style\":\"light\"},\"paper_bgcolor\":\"white\",\"plot_bgcolor\":\"#E5ECF6\",\"polar\":{\"angularaxis\":{\"gridcolor\":\"white\",\"linecolor\":\"white\",\"ticks\":\"\"},\"bgcolor\":\"#E5ECF6\",\"radialaxis\":{\"gridcolor\":\"white\",\"linecolor\":\"white\",\"ticks\":\"\"}},\"scene\":{\"xaxis\":{\"backgroundcolor\":\"#E5ECF6\",\"gridcolor\":\"white\",\"gridwidth\":2,\"linecolor\":\"white\",\"showbackground\":true,\"ticks\":\"\",\"zerolinecolor\":\"white\"},\"yaxis\":{\"backgroundcolor\":\"#E5ECF6\",\"gridcolor\":\"white\",\"gridwidth\":2,\"linecolor\":\"white\",\"showbackground\":true,\"ticks\":\"\",\"zerolinecolor\":\"white\"},\"zaxis\":{\"backgroundcolor\":\"#E5ECF6\",\"gridcolor\":\"white\",\"gridwidth\":2,\"linecolor\":\"white\",\"showbackground\":true,\"ticks\":\"\",\"zerolinecolor\":\"white\"}},\"shapedefaults\":{\"line\":{\"color\":\"#2a3f5f\"}},\"ternary\":{\"aaxis\":{\"gridcolor\":\"white\",\"linecolor\":\"white\",\"ticks\":\"\"},\"baxis\":{\"gridcolor\":\"white\",\"linecolor\":\"white\",\"ticks\":\"\"},\"bgcolor\":\"#E5ECF6\",\"caxis\":{\"gridcolor\":\"white\",\"linecolor\":\"white\",\"ticks\":\"\"}},\"title\":{\"x\":0.05},\"xaxis\":{\"automargin\":true,\"gridcolor\":\"white\",\"linecolor\":\"white\",\"ticks\":\"\",\"title\":{\"standoff\":15},\"zerolinecolor\":\"white\",\"zerolinewidth\":2},\"yaxis\":{\"automargin\":true,\"gridcolor\":\"white\",\"linecolor\":\"white\",\"ticks\":\"\",\"title\":{\"standoff\":15},\"zerolinecolor\":\"white\",\"zerolinewidth\":2}}},\"xaxis\":{\"anchor\":\"y\",\"domain\":[0.0,1.0],\"title\":{\"text\":\"0\"}},\"yaxis\":{\"anchor\":\"x\",\"domain\":[0.0,1.0],\"title\":{\"text\":\"1\"}},\"coloraxis\":{\"colorbar\":{\"title\":{\"text\":\"Cluster ID\"}},\"colorscale\":[[0.0,\"#0d0887\"],[0.1111111111111111,\"#46039f\"],[0.2222222222222222,\"#7201a8\"],[0.3333333333333333,\"#9c179e\"],[0.4444444444444444,\"#bd3786\"],[0.5555555555555556,\"#d8576b\"],[0.6666666666666666,\"#ed7953\"],[0.7777777777777778,\"#fb9f3a\"],[0.8888888888888888,\"#fdca26\"],[1.0,\"#f0f921\"]]},\"legend\":{\"tracegroupgap\":0},\"margin\":{\"t\":60}},                        {\"responsive\": true}                    ).then(function(){\n",
              "                            \n",
              "var gd = document.getElementById('37513be6-f931-4a27-b6b4-d957c5227936');\n",
              "var x = new MutationObserver(function (mutations, observer) {{\n",
              "        var display = window.getComputedStyle(gd).display;\n",
              "        if (!display || display === 'none') {{\n",
              "            console.log([gd, 'removed!']);\n",
              "            Plotly.purge(gd);\n",
              "            observer.disconnect();\n",
              "        }}\n",
              "}});\n",
              "\n",
              "// Listen for the removal of the full notebook cells\n",
              "var notebookContainer = gd.closest('#notebook-container');\n",
              "if (notebookContainer) {{\n",
              "    x.observe(notebookContainer, {childList: true});\n",
              "}}\n",
              "\n",
              "// Listen for the clearing of the current output cell\n",
              "var outputEl = gd.closest('.output');\n",
              "if (outputEl) {{\n",
              "    x.observe(outputEl, {childList: true});\n",
              "}}\n",
              "\n",
              "                        })                };                            </script>        </div>\n",
              "</body>\n",
              "</html>"
            ]
          },
          "metadata": {}
        },
        {
          "output_type": "display_data",
          "data": {
            "text/html": [
              "<html>\n",
              "<head><meta charset=\"utf-8\" /></head>\n",
              "<body>\n",
              "    <div>            <script src=\"https://cdnjs.cloudflare.com/ajax/libs/mathjax/2.7.5/MathJax.js?config=TeX-AMS-MML_SVG\"></script><script type=\"text/javascript\">if (window.MathJax) {MathJax.Hub.Config({SVG: {font: \"STIX-Web\"}});}</script>                <script type=\"text/javascript\">window.PlotlyConfig = {MathJaxConfig: 'local'};</script>\n",
              "        <script src=\"https://cdn.plot.ly/plotly-2.8.3.min.js\"></script>                <div id=\"f48c3976-1472-4276-9431-32d8aadbfc17\" class=\"plotly-graph-div\" style=\"height:525px; width:100%;\"></div>            <script type=\"text/javascript\">                                    window.PLOTLYENV=window.PLOTLYENV || {};                                    if (document.getElementById(\"f48c3976-1472-4276-9431-32d8aadbfc17\")) {                    Plotly.newPlot(                        \"f48c3976-1472-4276-9431-32d8aadbfc17\",                        [{\"hovertemplate\":\"0=%{x}<br>1=%{y}<br>Cluster ID=%{marker.color}<extra></extra>\",\"legendgroup\":\"\",\"marker\":{\"color\":[5,5,5,5,0,2,2,5,3,3,2,2,11,2,6,5,0,0,3,0,2,10,10,10,2,4,1,3,1,8,11,6,2,0,11,11,6,0,0,0,5,0,9,10,5,5,1,6,5,0,0,10,5,5,5,0,5,5,0,11,7,11,4,8,4,7,3,3,11,6,11,2,5,6,8,8,11,11,0,5,8,11,0,0,5,5,5,5,5,5,5,5,5,5,0,8,0,0,0,6,11,11,0,10,3,7,11,0,10,2,3,1,10,0,1,10,6,10,3,6,10,10,1,6,8,0,11,0,0,6,4,0,0,6,2,0,11,10,0,6,11,5,5,0,5,5,0,5,5,5,5,5,6,11,8,5,5,3,8,10,0,0,0,5,6,5,0,0,5,0,0,6,6,0,0,0,5,0,5,5,6,5,5,0,8,1,11,0,5,5,5,6,5,0,5,5],\"coloraxis\":\"coloraxis\",\"symbol\":\"circle\"},\"mode\":\"markers\",\"name\":\"\",\"orientation\":\"v\",\"showlegend\":false,\"x\":[-14.010978698730469,-12.515832901000977,-12.275636672973633,-14.0247220993042,-0.05660586431622505,7.785799026489258,8.65894603729248,-13.883360862731934,6.330460071563721,5.1363348960876465,9.125096321105957,7.667591094970703,4.02144193649292,11.73284912109375,5.495007514953613,-6.588618278503418,1.4258551597595215,0.48763397336006165,4.757401943206787,0.9017603397369385,8.61030101776123,4.182751178741455,3.2776882648468018,3.6755619049072266,7.523323059082031,12.450135231018066,10.413459777832031,6.1767802238464355,9.884696006774902,10.27029037475586,2.1883890628814697,7.275228500366211,8.22805118560791,-4.976815223693848,1.6613787412643433,2.465054988861084,7.073122024536133,-3.2369418144226074,-6.87083625793457,-4.682879447937012,-11.485442161560059,-2.1431286334991455,13.77086067199707,4.836908340454102,-10.89206600189209,-11.097627639770508,11.540698051452637,6.568370819091797,-7.307698726654053,-6.01694917678833,-6.274954319000244,4.864841938018799,-9.068275451660156,-8.303997039794922,-7.7075581550598145,-5.814850330352783,-12.051400184631348,-7.044747352600098,-5.032057762145996,1.9856668710708618,13.78812313079834,3.153083324432373,13.587113380432129,11.517004013061523,13.095743179321289,14.317023277282715,5.229954719543457,4.92117977142334,0.17513889074325562,7.789636135101318,1.6017875671386719,7.345010280609131,-11.685294151306152,6.369613170623779,11.935188293457031,12.144782066345215,2.3990261554718018,2.1272459030151367,-3.3683013916015625,-8.397220611572266,12.601922035217285,2.0916097164154053,-6.567148208618164,-4.227802753448486,-10.996848106384277,-13.215270042419434,-12.746932029724121,-10.198628425598145,-12.607071876525879,-13.52371597290039,-13.750264167785645,-13.01758861541748,-12.918519973754883,-6.279868125915527,-5.282954216003418,10.732418060302734,-2.4336681365966797,-4.765777587890625,1.1893893480300903,6.60901403427124,3.083696126937866,2.428781509399414,-1.2821564674377441,5.124421119689941,3.9283556938171387,14.010927200317383,2.127617120742798,-0.6151411533355713,4.330058574676514,8.632848739624023,3.9762089252471924,10.490377426147461,5.10472297668457,0.6674067378044128,10.201642990112305,3.9708151817321777,7.912269115447998,5.4351277351379395,6.77620267868042,8.205607414245605,4.436781406402588,4.227747440338135,8.963719367980957,8.136098861694336,12.006921768188477,-3.026888132095337,1.9714417457580566,-3.9395267963409424,-5.505794525146484,6.994745254516602,13.137016296386719,-0.6454105377197266,0.4902547001838684,7.4001030921936035,9.387517929077148,-0.5460483431816101,3.548675775527954,4.205582141876221,-2.703530788421631,9.029582977294922,3.0576939582824707,-7.636250019073486,-7.677859783172607,-3.0892415046691895,-12.206745147705078,-9.240605354309082,-3.8148529529571533,-10.251330375671387,-11.920907020568848,-7.870264530181885,-5.344679355621338,-6.890105247497559,6.160467147827148,1.398328423500061,11.325250625610352,-8.482756614685059,-9.338644027709961,5.537505149841309,11.709348678588867,3.5623257160186768,-2.144505262374878,-0.3762928545475006,-2.106393575668335,-6.71696662902832,7.515575885772705,-10.37488079071045,-4.228031158447266,-6.004608631134033,-7.508798122406006,-4.0403218269348145,-4.970010280609131,8.94958209991455,7.812694072723389,-1.1073434352874756,-5.532106876373291,-0.09165970981121063,-8.13768196105957,-5.729972839355469,-9.999256134033203,-6.756372451782227,7.6949687004089355,-8.305843353271484,-12.779684066772461,-2.443340301513672,12.398134231567383,11.224562644958496,2.144240140914917,-6.210644721984863,-12.366594314575195,-13.272161483764648,-13.276944160461426,6.571345329284668,-8.26191234588623,4.392890453338623,-7.292463302612305,-13.428526878356934],\"xaxis\":\"x\",\"y\":[-13.678510665893555,-14.926478385925293,-12.664448738098145,-14.103216171264648,-2.7045376300811768,3.7388765811920166,2.9787039756774902,-14.538312911987305,-0.04069153591990471,-0.17070341110229492,9.108237266540527,3.3689980506896973,-0.5149036645889282,10.879043579101562,7.716517448425293,-7.795140266418457,-4.279665470123291,-5.276700496673584,2.3247292041778564,-4.141783714294434,2.986602783203125,10.088926315307617,9.072290420532227,9.550048828125,3.107208013534546,6.2223896980285645,6.212632179260254,-0.18007206916809082,7.577554225921631,9.431360244750977,0.5723443627357483,7.950829029083252,4.666554927825928,-4.95464563369751,-0.8072100281715393,1.8029922246932983,8.378740310668945,-5.897435665130615,-3.9837446212768555,-8.774636268615723,-13.08329963684082,-7.591141700744629,6.289308071136475,7.298811912536621,-12.881646156311035,-12.496357917785645,6.513524532318115,7.820786952972412,-5.240993022918701,-3.425225019454956,-3.981487274169922,7.129267692565918,-6.374490737915039,-8.65267276763916,-8.71232795715332,-5.176576137542725,-13.079050064086914,-5.992271900177002,-7.4427809715271,-1.5487443208694458,8.57323932647705,0.2544406056404114,7.523603916168213,8.265546798706055,7.34541130065918,8.653066635131836,2.258789539337158,1.115339994430542,-1.7556580305099487,9.242561340332031,-1.956719160079956,3.064075469970703,-14.123490333557129,9.224174499511719,9.371334075927734,8.01406192779541,1.2611383199691772,-2.577829122543335,-4.898883819580078,-10.80549144744873,8.734498977661133,-0.8824284076690674,-5.035815715789795,-6.307501316070557,-11.122966766357422,-13.540948867797852,-14.412473678588867,-12.537470817565918,-13.056117057800293,-14.903593063354492,-13.231895446777344,-15.020448684692383,-12.25428295135498,-9.241068840026855,-5.24053430557251,9.093822479248047,-6.742518424987793,-8.119658470153809,-3.482680559158325,10.537288665771484,-1.580485463142395,-1.2131307125091553,-5.226967811584473,7.419678211212158,1.7264763116836548,8.354442596435547,-0.5216042995452881,-3.768120050430298,8.236891746520996,4.711859226226807,2.0339341163635254,7.229105472564697,9.2910737991333,-4.789695739746094,7.2369842529296875,9.407408714294434,9.440190315246582,9.609957695007324,3.7763497829437256,7.751552581787109,8.044508934020996,9.66302490234375,7.269323825836182,8.279678344726562,8.569880485534668,-5.649818420410156,-3.2245187759399414,-7.421112537384033,-2.0564444065093994,9.566320419311523,7.344461441040039,-4.275933265686035,-2.8847289085388184,7.462952613830566,5.980792999267578,-3.161151885986328,-1.9956326484680176,9.148406982421875,-7.888240814208984,9.636553764343262,-2.4276516437530518,-10.669692039489746,-11.091001510620117,-7.249883651733398,-14.64958667755127,-10.87609577178955,-9.572306632995605,-11.894397735595703,-13.661639213562012,-10.286446571350098,-9.097654342651367,-10.2250394821167,9.884992599487305,-2.2751665115356445,8.919795036315918,-10.141860008239746,-9.922017097473145,0.1636871099472046,10.401719093322754,8.058622360229492,-6.303009510040283,-4.423891067504883,-6.123499393463135,-9.665973663330078,10.203001976013184,-11.833146095275879,-5.137752532958984,-6.179619789123535,-9.594718933105469,-7.783646583557129,-7.401795864105225,10.463205337524414,10.954280853271484,-3.8004813194274902,-7.052220821380615,-4.603560924530029,-9.661861419677734,-4.203394412994385,-11.572652816772461,-8.94922161102295,10.98442268371582,-9.243114471435547,-13.765069961547852,-5.080360412597656,9.768122673034668,7.116754531860352,0.4650627672672272,-4.727939605712891,-13.889153480529785,-13.962550163269043,-14.378744125366211,9.726011276245117,-6.2789835929870605,6.323051452636719,-9.081849098205566,-13.091300010681152],\"yaxis\":\"y\",\"type\":\"scatter\"}],                        {\"template\":{\"data\":{\"bar\":[{\"error_x\":{\"color\":\"#2a3f5f\"},\"error_y\":{\"color\":\"#2a3f5f\"},\"marker\":{\"line\":{\"color\":\"#E5ECF6\",\"width\":0.5},\"pattern\":{\"fillmode\":\"overlay\",\"size\":10,\"solidity\":0.2}},\"type\":\"bar\"}],\"barpolar\":[{\"marker\":{\"line\":{\"color\":\"#E5ECF6\",\"width\":0.5},\"pattern\":{\"fillmode\":\"overlay\",\"size\":10,\"solidity\":0.2}},\"type\":\"barpolar\"}],\"carpet\":[{\"aaxis\":{\"endlinecolor\":\"#2a3f5f\",\"gridcolor\":\"white\",\"linecolor\":\"white\",\"minorgridcolor\":\"white\",\"startlinecolor\":\"#2a3f5f\"},\"baxis\":{\"endlinecolor\":\"#2a3f5f\",\"gridcolor\":\"white\",\"linecolor\":\"white\",\"minorgridcolor\":\"white\",\"startlinecolor\":\"#2a3f5f\"},\"type\":\"carpet\"}],\"choropleth\":[{\"colorbar\":{\"outlinewidth\":0,\"ticks\":\"\"},\"type\":\"choropleth\"}],\"contour\":[{\"colorbar\":{\"outlinewidth\":0,\"ticks\":\"\"},\"colorscale\":[[0.0,\"#0d0887\"],[0.1111111111111111,\"#46039f\"],[0.2222222222222222,\"#7201a8\"],[0.3333333333333333,\"#9c179e\"],[0.4444444444444444,\"#bd3786\"],[0.5555555555555556,\"#d8576b\"],[0.6666666666666666,\"#ed7953\"],[0.7777777777777778,\"#fb9f3a\"],[0.8888888888888888,\"#fdca26\"],[1.0,\"#f0f921\"]],\"type\":\"contour\"}],\"contourcarpet\":[{\"colorbar\":{\"outlinewidth\":0,\"ticks\":\"\"},\"type\":\"contourcarpet\"}],\"heatmap\":[{\"colorbar\":{\"outlinewidth\":0,\"ticks\":\"\"},\"colorscale\":[[0.0,\"#0d0887\"],[0.1111111111111111,\"#46039f\"],[0.2222222222222222,\"#7201a8\"],[0.3333333333333333,\"#9c179e\"],[0.4444444444444444,\"#bd3786\"],[0.5555555555555556,\"#d8576b\"],[0.6666666666666666,\"#ed7953\"],[0.7777777777777778,\"#fb9f3a\"],[0.8888888888888888,\"#fdca26\"],[1.0,\"#f0f921\"]],\"type\":\"heatmap\"}],\"heatmapgl\":[{\"colorbar\":{\"outlinewidth\":0,\"ticks\":\"\"},\"colorscale\":[[0.0,\"#0d0887\"],[0.1111111111111111,\"#46039f\"],[0.2222222222222222,\"#7201a8\"],[0.3333333333333333,\"#9c179e\"],[0.4444444444444444,\"#bd3786\"],[0.5555555555555556,\"#d8576b\"],[0.6666666666666666,\"#ed7953\"],[0.7777777777777778,\"#fb9f3a\"],[0.8888888888888888,\"#fdca26\"],[1.0,\"#f0f921\"]],\"type\":\"heatmapgl\"}],\"histogram\":[{\"marker\":{\"pattern\":{\"fillmode\":\"overlay\",\"size\":10,\"solidity\":0.2}},\"type\":\"histogram\"}],\"histogram2d\":[{\"colorbar\":{\"outlinewidth\":0,\"ticks\":\"\"},\"colorscale\":[[0.0,\"#0d0887\"],[0.1111111111111111,\"#46039f\"],[0.2222222222222222,\"#7201a8\"],[0.3333333333333333,\"#9c179e\"],[0.4444444444444444,\"#bd3786\"],[0.5555555555555556,\"#d8576b\"],[0.6666666666666666,\"#ed7953\"],[0.7777777777777778,\"#fb9f3a\"],[0.8888888888888888,\"#fdca26\"],[1.0,\"#f0f921\"]],\"type\":\"histogram2d\"}],\"histogram2dcontour\":[{\"colorbar\":{\"outlinewidth\":0,\"ticks\":\"\"},\"colorscale\":[[0.0,\"#0d0887\"],[0.1111111111111111,\"#46039f\"],[0.2222222222222222,\"#7201a8\"],[0.3333333333333333,\"#9c179e\"],[0.4444444444444444,\"#bd3786\"],[0.5555555555555556,\"#d8576b\"],[0.6666666666666666,\"#ed7953\"],[0.7777777777777778,\"#fb9f3a\"],[0.8888888888888888,\"#fdca26\"],[1.0,\"#f0f921\"]],\"type\":\"histogram2dcontour\"}],\"mesh3d\":[{\"colorbar\":{\"outlinewidth\":0,\"ticks\":\"\"},\"type\":\"mesh3d\"}],\"parcoords\":[{\"line\":{\"colorbar\":{\"outlinewidth\":0,\"ticks\":\"\"}},\"type\":\"parcoords\"}],\"pie\":[{\"automargin\":true,\"type\":\"pie\"}],\"scatter\":[{\"marker\":{\"colorbar\":{\"outlinewidth\":0,\"ticks\":\"\"}},\"type\":\"scatter\"}],\"scatter3d\":[{\"line\":{\"colorbar\":{\"outlinewidth\":0,\"ticks\":\"\"}},\"marker\":{\"colorbar\":{\"outlinewidth\":0,\"ticks\":\"\"}},\"type\":\"scatter3d\"}],\"scattercarpet\":[{\"marker\":{\"colorbar\":{\"outlinewidth\":0,\"ticks\":\"\"}},\"type\":\"scattercarpet\"}],\"scattergeo\":[{\"marker\":{\"colorbar\":{\"outlinewidth\":0,\"ticks\":\"\"}},\"type\":\"scattergeo\"}],\"scattergl\":[{\"marker\":{\"colorbar\":{\"outlinewidth\":0,\"ticks\":\"\"}},\"type\":\"scattergl\"}],\"scattermapbox\":[{\"marker\":{\"colorbar\":{\"outlinewidth\":0,\"ticks\":\"\"}},\"type\":\"scattermapbox\"}],\"scatterpolar\":[{\"marker\":{\"colorbar\":{\"outlinewidth\":0,\"ticks\":\"\"}},\"type\":\"scatterpolar\"}],\"scatterpolargl\":[{\"marker\":{\"colorbar\":{\"outlinewidth\":0,\"ticks\":\"\"}},\"type\":\"scatterpolargl\"}],\"scatterternary\":[{\"marker\":{\"colorbar\":{\"outlinewidth\":0,\"ticks\":\"\"}},\"type\":\"scatterternary\"}],\"surface\":[{\"colorbar\":{\"outlinewidth\":0,\"ticks\":\"\"},\"colorscale\":[[0.0,\"#0d0887\"],[0.1111111111111111,\"#46039f\"],[0.2222222222222222,\"#7201a8\"],[0.3333333333333333,\"#9c179e\"],[0.4444444444444444,\"#bd3786\"],[0.5555555555555556,\"#d8576b\"],[0.6666666666666666,\"#ed7953\"],[0.7777777777777778,\"#fb9f3a\"],[0.8888888888888888,\"#fdca26\"],[1.0,\"#f0f921\"]],\"type\":\"surface\"}],\"table\":[{\"cells\":{\"fill\":{\"color\":\"#EBF0F8\"},\"line\":{\"color\":\"white\"}},\"header\":{\"fill\":{\"color\":\"#C8D4E3\"},\"line\":{\"color\":\"white\"}},\"type\":\"table\"}]},\"layout\":{\"annotationdefaults\":{\"arrowcolor\":\"#2a3f5f\",\"arrowhead\":0,\"arrowwidth\":1},\"autotypenumbers\":\"strict\",\"coloraxis\":{\"colorbar\":{\"outlinewidth\":0,\"ticks\":\"\"}},\"colorscale\":{\"diverging\":[[0,\"#8e0152\"],[0.1,\"#c51b7d\"],[0.2,\"#de77ae\"],[0.3,\"#f1b6da\"],[0.4,\"#fde0ef\"],[0.5,\"#f7f7f7\"],[0.6,\"#e6f5d0\"],[0.7,\"#b8e186\"],[0.8,\"#7fbc41\"],[0.9,\"#4d9221\"],[1,\"#276419\"]],\"sequential\":[[0.0,\"#0d0887\"],[0.1111111111111111,\"#46039f\"],[0.2222222222222222,\"#7201a8\"],[0.3333333333333333,\"#9c179e\"],[0.4444444444444444,\"#bd3786\"],[0.5555555555555556,\"#d8576b\"],[0.6666666666666666,\"#ed7953\"],[0.7777777777777778,\"#fb9f3a\"],[0.8888888888888888,\"#fdca26\"],[1.0,\"#f0f921\"]],\"sequentialminus\":[[0.0,\"#0d0887\"],[0.1111111111111111,\"#46039f\"],[0.2222222222222222,\"#7201a8\"],[0.3333333333333333,\"#9c179e\"],[0.4444444444444444,\"#bd3786\"],[0.5555555555555556,\"#d8576b\"],[0.6666666666666666,\"#ed7953\"],[0.7777777777777778,\"#fb9f3a\"],[0.8888888888888888,\"#fdca26\"],[1.0,\"#f0f921\"]]},\"colorway\":[\"#636efa\",\"#EF553B\",\"#00cc96\",\"#ab63fa\",\"#FFA15A\",\"#19d3f3\",\"#FF6692\",\"#B6E880\",\"#FF97FF\",\"#FECB52\"],\"font\":{\"color\":\"#2a3f5f\"},\"geo\":{\"bgcolor\":\"white\",\"lakecolor\":\"white\",\"landcolor\":\"#E5ECF6\",\"showlakes\":true,\"showland\":true,\"subunitcolor\":\"white\"},\"hoverlabel\":{\"align\":\"left\"},\"hovermode\":\"closest\",\"mapbox\":{\"style\":\"light\"},\"paper_bgcolor\":\"white\",\"plot_bgcolor\":\"#E5ECF6\",\"polar\":{\"angularaxis\":{\"gridcolor\":\"white\",\"linecolor\":\"white\",\"ticks\":\"\"},\"bgcolor\":\"#E5ECF6\",\"radialaxis\":{\"gridcolor\":\"white\",\"linecolor\":\"white\",\"ticks\":\"\"}},\"scene\":{\"xaxis\":{\"backgroundcolor\":\"#E5ECF6\",\"gridcolor\":\"white\",\"gridwidth\":2,\"linecolor\":\"white\",\"showbackground\":true,\"ticks\":\"\",\"zerolinecolor\":\"white\"},\"yaxis\":{\"backgroundcolor\":\"#E5ECF6\",\"gridcolor\":\"white\",\"gridwidth\":2,\"linecolor\":\"white\",\"showbackground\":true,\"ticks\":\"\",\"zerolinecolor\":\"white\"},\"zaxis\":{\"backgroundcolor\":\"#E5ECF6\",\"gridcolor\":\"white\",\"gridwidth\":2,\"linecolor\":\"white\",\"showbackground\":true,\"ticks\":\"\",\"zerolinecolor\":\"white\"}},\"shapedefaults\":{\"line\":{\"color\":\"#2a3f5f\"}},\"ternary\":{\"aaxis\":{\"gridcolor\":\"white\",\"linecolor\":\"white\",\"ticks\":\"\"},\"baxis\":{\"gridcolor\":\"white\",\"linecolor\":\"white\",\"ticks\":\"\"},\"bgcolor\":\"#E5ECF6\",\"caxis\":{\"gridcolor\":\"white\",\"linecolor\":\"white\",\"ticks\":\"\"}},\"title\":{\"x\":0.05},\"xaxis\":{\"automargin\":true,\"gridcolor\":\"white\",\"linecolor\":\"white\",\"ticks\":\"\",\"title\":{\"standoff\":15},\"zerolinecolor\":\"white\",\"zerolinewidth\":2},\"yaxis\":{\"automargin\":true,\"gridcolor\":\"white\",\"linecolor\":\"white\",\"ticks\":\"\",\"title\":{\"standoff\":15},\"zerolinecolor\":\"white\",\"zerolinewidth\":2}}},\"xaxis\":{\"anchor\":\"y\",\"domain\":[0.0,1.0],\"title\":{\"text\":\"0\"}},\"yaxis\":{\"anchor\":\"x\",\"domain\":[0.0,1.0],\"title\":{\"text\":\"1\"}},\"coloraxis\":{\"colorbar\":{\"title\":{\"text\":\"Cluster ID\"}},\"colorscale\":[[0.0,\"#0d0887\"],[0.1111111111111111,\"#46039f\"],[0.2222222222222222,\"#7201a8\"],[0.3333333333333333,\"#9c179e\"],[0.4444444444444444,\"#bd3786\"],[0.5555555555555556,\"#d8576b\"],[0.6666666666666666,\"#ed7953\"],[0.7777777777777778,\"#fb9f3a\"],[0.8888888888888888,\"#fdca26\"],[1.0,\"#f0f921\"]]},\"legend\":{\"tracegroupgap\":0},\"margin\":{\"t\":60}},                        {\"responsive\": true}                    ).then(function(){\n",
              "                            \n",
              "var gd = document.getElementById('f48c3976-1472-4276-9431-32d8aadbfc17');\n",
              "var x = new MutationObserver(function (mutations, observer) {{\n",
              "        var display = window.getComputedStyle(gd).display;\n",
              "        if (!display || display === 'none') {{\n",
              "            console.log([gd, 'removed!']);\n",
              "            Plotly.purge(gd);\n",
              "            observer.disconnect();\n",
              "        }}\n",
              "}});\n",
              "\n",
              "// Listen for the removal of the full notebook cells\n",
              "var notebookContainer = gd.closest('#notebook-container');\n",
              "if (notebookContainer) {{\n",
              "    x.observe(notebookContainer, {childList: true});\n",
              "}}\n",
              "\n",
              "// Listen for the clearing of the current output cell\n",
              "var outputEl = gd.closest('.output');\n",
              "if (outputEl) {{\n",
              "    x.observe(outputEl, {childList: true});\n",
              "}}\n",
              "\n",
              "                        })                };                            </script>        </div>\n",
              "</body>\n",
              "</html>"
            ]
          },
          "metadata": {}
        },
        {
          "output_type": "display_data",
          "data": {
            "text/html": [
              "<html>\n",
              "<head><meta charset=\"utf-8\" /></head>\n",
              "<body>\n",
              "    <div>            <script src=\"https://cdnjs.cloudflare.com/ajax/libs/mathjax/2.7.5/MathJax.js?config=TeX-AMS-MML_SVG\"></script><script type=\"text/javascript\">if (window.MathJax) {MathJax.Hub.Config({SVG: {font: \"STIX-Web\"}});}</script>                <script type=\"text/javascript\">window.PlotlyConfig = {MathJaxConfig: 'local'};</script>\n",
              "        <script src=\"https://cdn.plot.ly/plotly-2.8.3.min.js\"></script>                <div id=\"f878784f-b6e9-4704-89fe-76aba35812af\" class=\"plotly-graph-div\" style=\"height:525px; width:100%;\"></div>            <script type=\"text/javascript\">                                    window.PLOTLYENV=window.PLOTLYENV || {};                                    if (document.getElementById(\"f878784f-b6e9-4704-89fe-76aba35812af\")) {                    Plotly.newPlot(                        \"f878784f-b6e9-4704-89fe-76aba35812af\",                        [{\"hovertemplate\":\"0=%{x}<br>1=%{y}<br>Cluster ID=%{marker.color}<extra></extra>\",\"legendgroup\":\"\",\"marker\":{\"color\":[0,0,0,0,9,12,12,0,6,6,1,12,2,7,8,9,9,9,6,9,12,11,11,11,12,10,5,6,5,1,2,8,12,9,2,2,8,9,9,9,0,9,3,8,0,0,5,8,9,9,9,8,0,0,0,9,0,9,9,2,4,2,10,7,10,4,6,6,2,8,2,12,0,8,7,7,2,2,9,0,7,2,9,9,0,0,0,0,0,0,0,0,0,0,9,7,9,9,9,8,2,2,9,8,6,4,2,9,11,12,6,5,11,9,5,11,8,11,6,8,11,11,5,8,7,9,2,9,9,8,10,9,9,8,5,9,2,11,9,1,2,0,0,9,0,0,9,0,0,0,9,0,8,2,7,0,0,6,7,11,9,9,9,0,8,0,9,9,0,9,9,1,8,9,9,9,0,9,0,0,8,0,0,9,7,5,2,9,0,0,0,8,0,9,0,0],\"coloraxis\":\"coloraxis\",\"symbol\":\"circle\"},\"mode\":\"markers\",\"name\":\"\",\"orientation\":\"v\",\"showlegend\":false,\"x\":[-14.010978698730469,-12.515832901000977,-12.275636672973633,-14.0247220993042,-0.05660586431622505,7.785799026489258,8.65894603729248,-13.883360862731934,6.330460071563721,5.1363348960876465,9.125096321105957,7.667591094970703,4.02144193649292,11.73284912109375,5.495007514953613,-6.588618278503418,1.4258551597595215,0.48763397336006165,4.757401943206787,0.9017603397369385,8.61030101776123,4.182751178741455,3.2776882648468018,3.6755619049072266,7.523323059082031,12.450135231018066,10.413459777832031,6.1767802238464355,9.884696006774902,10.27029037475586,2.1883890628814697,7.275228500366211,8.22805118560791,-4.976815223693848,1.6613787412643433,2.465054988861084,7.073122024536133,-3.2369418144226074,-6.87083625793457,-4.682879447937012,-11.485442161560059,-2.1431286334991455,13.77086067199707,4.836908340454102,-10.89206600189209,-11.097627639770508,11.540698051452637,6.568370819091797,-7.307698726654053,-6.01694917678833,-6.274954319000244,4.864841938018799,-9.068275451660156,-8.303997039794922,-7.7075581550598145,-5.814850330352783,-12.051400184631348,-7.044747352600098,-5.032057762145996,1.9856668710708618,13.78812313079834,3.153083324432373,13.587113380432129,11.517004013061523,13.095743179321289,14.317023277282715,5.229954719543457,4.92117977142334,0.17513889074325562,7.789636135101318,1.6017875671386719,7.345010280609131,-11.685294151306152,6.369613170623779,11.935188293457031,12.144782066345215,2.3990261554718018,2.1272459030151367,-3.3683013916015625,-8.397220611572266,12.601922035217285,2.0916097164154053,-6.567148208618164,-4.227802753448486,-10.996848106384277,-13.215270042419434,-12.746932029724121,-10.198628425598145,-12.607071876525879,-13.52371597290039,-13.750264167785645,-13.01758861541748,-12.918519973754883,-6.279868125915527,-5.282954216003418,10.732418060302734,-2.4336681365966797,-4.765777587890625,1.1893893480300903,6.60901403427124,3.083696126937866,2.428781509399414,-1.2821564674377441,5.124421119689941,3.9283556938171387,14.010927200317383,2.127617120742798,-0.6151411533355713,4.330058574676514,8.632848739624023,3.9762089252471924,10.490377426147461,5.10472297668457,0.6674067378044128,10.201642990112305,3.9708151817321777,7.912269115447998,5.4351277351379395,6.77620267868042,8.205607414245605,4.436781406402588,4.227747440338135,8.963719367980957,8.136098861694336,12.006921768188477,-3.026888132095337,1.9714417457580566,-3.9395267963409424,-5.505794525146484,6.994745254516602,13.137016296386719,-0.6454105377197266,0.4902547001838684,7.4001030921936035,9.387517929077148,-0.5460483431816101,3.548675775527954,4.205582141876221,-2.703530788421631,9.029582977294922,3.0576939582824707,-7.636250019073486,-7.677859783172607,-3.0892415046691895,-12.206745147705078,-9.240605354309082,-3.8148529529571533,-10.251330375671387,-11.920907020568848,-7.870264530181885,-5.344679355621338,-6.890105247497559,6.160467147827148,1.398328423500061,11.325250625610352,-8.482756614685059,-9.338644027709961,5.537505149841309,11.709348678588867,3.5623257160186768,-2.144505262374878,-0.3762928545475006,-2.106393575668335,-6.71696662902832,7.515575885772705,-10.37488079071045,-4.228031158447266,-6.004608631134033,-7.508798122406006,-4.0403218269348145,-4.970010280609131,8.94958209991455,7.812694072723389,-1.1073434352874756,-5.532106876373291,-0.09165970981121063,-8.13768196105957,-5.729972839355469,-9.999256134033203,-6.756372451782227,7.6949687004089355,-8.305843353271484,-12.779684066772461,-2.443340301513672,12.398134231567383,11.224562644958496,2.144240140914917,-6.210644721984863,-12.366594314575195,-13.272161483764648,-13.276944160461426,6.571345329284668,-8.26191234588623,4.392890453338623,-7.292463302612305,-13.428526878356934],\"xaxis\":\"x\",\"y\":[-13.678510665893555,-14.926478385925293,-12.664448738098145,-14.103216171264648,-2.7045376300811768,3.7388765811920166,2.9787039756774902,-14.538312911987305,-0.04069153591990471,-0.17070341110229492,9.108237266540527,3.3689980506896973,-0.5149036645889282,10.879043579101562,7.716517448425293,-7.795140266418457,-4.279665470123291,-5.276700496673584,2.3247292041778564,-4.141783714294434,2.986602783203125,10.088926315307617,9.072290420532227,9.550048828125,3.107208013534546,6.2223896980285645,6.212632179260254,-0.18007206916809082,7.577554225921631,9.431360244750977,0.5723443627357483,7.950829029083252,4.666554927825928,-4.95464563369751,-0.8072100281715393,1.8029922246932983,8.378740310668945,-5.897435665130615,-3.9837446212768555,-8.774636268615723,-13.08329963684082,-7.591141700744629,6.289308071136475,7.298811912536621,-12.881646156311035,-12.496357917785645,6.513524532318115,7.820786952972412,-5.240993022918701,-3.425225019454956,-3.981487274169922,7.129267692565918,-6.374490737915039,-8.65267276763916,-8.71232795715332,-5.176576137542725,-13.079050064086914,-5.992271900177002,-7.4427809715271,-1.5487443208694458,8.57323932647705,0.2544406056404114,7.523603916168213,8.265546798706055,7.34541130065918,8.653066635131836,2.258789539337158,1.115339994430542,-1.7556580305099487,9.242561340332031,-1.956719160079956,3.064075469970703,-14.123490333557129,9.224174499511719,9.371334075927734,8.01406192779541,1.2611383199691772,-2.577829122543335,-4.898883819580078,-10.80549144744873,8.734498977661133,-0.8824284076690674,-5.035815715789795,-6.307501316070557,-11.122966766357422,-13.540948867797852,-14.412473678588867,-12.537470817565918,-13.056117057800293,-14.903593063354492,-13.231895446777344,-15.020448684692383,-12.25428295135498,-9.241068840026855,-5.24053430557251,9.093822479248047,-6.742518424987793,-8.119658470153809,-3.482680559158325,10.537288665771484,-1.580485463142395,-1.2131307125091553,-5.226967811584473,7.419678211212158,1.7264763116836548,8.354442596435547,-0.5216042995452881,-3.768120050430298,8.236891746520996,4.711859226226807,2.0339341163635254,7.229105472564697,9.2910737991333,-4.789695739746094,7.2369842529296875,9.407408714294434,9.440190315246582,9.609957695007324,3.7763497829437256,7.751552581787109,8.044508934020996,9.66302490234375,7.269323825836182,8.279678344726562,8.569880485534668,-5.649818420410156,-3.2245187759399414,-7.421112537384033,-2.0564444065093994,9.566320419311523,7.344461441040039,-4.275933265686035,-2.8847289085388184,7.462952613830566,5.980792999267578,-3.161151885986328,-1.9956326484680176,9.148406982421875,-7.888240814208984,9.636553764343262,-2.4276516437530518,-10.669692039489746,-11.091001510620117,-7.249883651733398,-14.64958667755127,-10.87609577178955,-9.572306632995605,-11.894397735595703,-13.661639213562012,-10.286446571350098,-9.097654342651367,-10.2250394821167,9.884992599487305,-2.2751665115356445,8.919795036315918,-10.141860008239746,-9.922017097473145,0.1636871099472046,10.401719093322754,8.058622360229492,-6.303009510040283,-4.423891067504883,-6.123499393463135,-9.665973663330078,10.203001976013184,-11.833146095275879,-5.137752532958984,-6.179619789123535,-9.594718933105469,-7.783646583557129,-7.401795864105225,10.463205337524414,10.954280853271484,-3.8004813194274902,-7.052220821380615,-4.603560924530029,-9.661861419677734,-4.203394412994385,-11.572652816772461,-8.94922161102295,10.98442268371582,-9.243114471435547,-13.765069961547852,-5.080360412597656,9.768122673034668,7.116754531860352,0.4650627672672272,-4.727939605712891,-13.889153480529785,-13.962550163269043,-14.378744125366211,9.726011276245117,-6.2789835929870605,6.323051452636719,-9.081849098205566,-13.091300010681152],\"yaxis\":\"y\",\"type\":\"scatter\"}],                        {\"template\":{\"data\":{\"bar\":[{\"error_x\":{\"color\":\"#2a3f5f\"},\"error_y\":{\"color\":\"#2a3f5f\"},\"marker\":{\"line\":{\"color\":\"#E5ECF6\",\"width\":0.5},\"pattern\":{\"fillmode\":\"overlay\",\"size\":10,\"solidity\":0.2}},\"type\":\"bar\"}],\"barpolar\":[{\"marker\":{\"line\":{\"color\":\"#E5ECF6\",\"width\":0.5},\"pattern\":{\"fillmode\":\"overlay\",\"size\":10,\"solidity\":0.2}},\"type\":\"barpolar\"}],\"carpet\":[{\"aaxis\":{\"endlinecolor\":\"#2a3f5f\",\"gridcolor\":\"white\",\"linecolor\":\"white\",\"minorgridcolor\":\"white\",\"startlinecolor\":\"#2a3f5f\"},\"baxis\":{\"endlinecolor\":\"#2a3f5f\",\"gridcolor\":\"white\",\"linecolor\":\"white\",\"minorgridcolor\":\"white\",\"startlinecolor\":\"#2a3f5f\"},\"type\":\"carpet\"}],\"choropleth\":[{\"colorbar\":{\"outlinewidth\":0,\"ticks\":\"\"},\"type\":\"choropleth\"}],\"contour\":[{\"colorbar\":{\"outlinewidth\":0,\"ticks\":\"\"},\"colorscale\":[[0.0,\"#0d0887\"],[0.1111111111111111,\"#46039f\"],[0.2222222222222222,\"#7201a8\"],[0.3333333333333333,\"#9c179e\"],[0.4444444444444444,\"#bd3786\"],[0.5555555555555556,\"#d8576b\"],[0.6666666666666666,\"#ed7953\"],[0.7777777777777778,\"#fb9f3a\"],[0.8888888888888888,\"#fdca26\"],[1.0,\"#f0f921\"]],\"type\":\"contour\"}],\"contourcarpet\":[{\"colorbar\":{\"outlinewidth\":0,\"ticks\":\"\"},\"type\":\"contourcarpet\"}],\"heatmap\":[{\"colorbar\":{\"outlinewidth\":0,\"ticks\":\"\"},\"colorscale\":[[0.0,\"#0d0887\"],[0.1111111111111111,\"#46039f\"],[0.2222222222222222,\"#7201a8\"],[0.3333333333333333,\"#9c179e\"],[0.4444444444444444,\"#bd3786\"],[0.5555555555555556,\"#d8576b\"],[0.6666666666666666,\"#ed7953\"],[0.7777777777777778,\"#fb9f3a\"],[0.8888888888888888,\"#fdca26\"],[1.0,\"#f0f921\"]],\"type\":\"heatmap\"}],\"heatmapgl\":[{\"colorbar\":{\"outlinewidth\":0,\"ticks\":\"\"},\"colorscale\":[[0.0,\"#0d0887\"],[0.1111111111111111,\"#46039f\"],[0.2222222222222222,\"#7201a8\"],[0.3333333333333333,\"#9c179e\"],[0.4444444444444444,\"#bd3786\"],[0.5555555555555556,\"#d8576b\"],[0.6666666666666666,\"#ed7953\"],[0.7777777777777778,\"#fb9f3a\"],[0.8888888888888888,\"#fdca26\"],[1.0,\"#f0f921\"]],\"type\":\"heatmapgl\"}],\"histogram\":[{\"marker\":{\"pattern\":{\"fillmode\":\"overlay\",\"size\":10,\"solidity\":0.2}},\"type\":\"histogram\"}],\"histogram2d\":[{\"colorbar\":{\"outlinewidth\":0,\"ticks\":\"\"},\"colorscale\":[[0.0,\"#0d0887\"],[0.1111111111111111,\"#46039f\"],[0.2222222222222222,\"#7201a8\"],[0.3333333333333333,\"#9c179e\"],[0.4444444444444444,\"#bd3786\"],[0.5555555555555556,\"#d8576b\"],[0.6666666666666666,\"#ed7953\"],[0.7777777777777778,\"#fb9f3a\"],[0.8888888888888888,\"#fdca26\"],[1.0,\"#f0f921\"]],\"type\":\"histogram2d\"}],\"histogram2dcontour\":[{\"colorbar\":{\"outlinewidth\":0,\"ticks\":\"\"},\"colorscale\":[[0.0,\"#0d0887\"],[0.1111111111111111,\"#46039f\"],[0.2222222222222222,\"#7201a8\"],[0.3333333333333333,\"#9c179e\"],[0.4444444444444444,\"#bd3786\"],[0.5555555555555556,\"#d8576b\"],[0.6666666666666666,\"#ed7953\"],[0.7777777777777778,\"#fb9f3a\"],[0.8888888888888888,\"#fdca26\"],[1.0,\"#f0f921\"]],\"type\":\"histogram2dcontour\"}],\"mesh3d\":[{\"colorbar\":{\"outlinewidth\":0,\"ticks\":\"\"},\"type\":\"mesh3d\"}],\"parcoords\":[{\"line\":{\"colorbar\":{\"outlinewidth\":0,\"ticks\":\"\"}},\"type\":\"parcoords\"}],\"pie\":[{\"automargin\":true,\"type\":\"pie\"}],\"scatter\":[{\"marker\":{\"colorbar\":{\"outlinewidth\":0,\"ticks\":\"\"}},\"type\":\"scatter\"}],\"scatter3d\":[{\"line\":{\"colorbar\":{\"outlinewidth\":0,\"ticks\":\"\"}},\"marker\":{\"colorbar\":{\"outlinewidth\":0,\"ticks\":\"\"}},\"type\":\"scatter3d\"}],\"scattercarpet\":[{\"marker\":{\"colorbar\":{\"outlinewidth\":0,\"ticks\":\"\"}},\"type\":\"scattercarpet\"}],\"scattergeo\":[{\"marker\":{\"colorbar\":{\"outlinewidth\":0,\"ticks\":\"\"}},\"type\":\"scattergeo\"}],\"scattergl\":[{\"marker\":{\"colorbar\":{\"outlinewidth\":0,\"ticks\":\"\"}},\"type\":\"scattergl\"}],\"scattermapbox\":[{\"marker\":{\"colorbar\":{\"outlinewidth\":0,\"ticks\":\"\"}},\"type\":\"scattermapbox\"}],\"scatterpolar\":[{\"marker\":{\"colorbar\":{\"outlinewidth\":0,\"ticks\":\"\"}},\"type\":\"scatterpolar\"}],\"scatterpolargl\":[{\"marker\":{\"colorbar\":{\"outlinewidth\":0,\"ticks\":\"\"}},\"type\":\"scatterpolargl\"}],\"scatterternary\":[{\"marker\":{\"colorbar\":{\"outlinewidth\":0,\"ticks\":\"\"}},\"type\":\"scatterternary\"}],\"surface\":[{\"colorbar\":{\"outlinewidth\":0,\"ticks\":\"\"},\"colorscale\":[[0.0,\"#0d0887\"],[0.1111111111111111,\"#46039f\"],[0.2222222222222222,\"#7201a8\"],[0.3333333333333333,\"#9c179e\"],[0.4444444444444444,\"#bd3786\"],[0.5555555555555556,\"#d8576b\"],[0.6666666666666666,\"#ed7953\"],[0.7777777777777778,\"#fb9f3a\"],[0.8888888888888888,\"#fdca26\"],[1.0,\"#f0f921\"]],\"type\":\"surface\"}],\"table\":[{\"cells\":{\"fill\":{\"color\":\"#EBF0F8\"},\"line\":{\"color\":\"white\"}},\"header\":{\"fill\":{\"color\":\"#C8D4E3\"},\"line\":{\"color\":\"white\"}},\"type\":\"table\"}]},\"layout\":{\"annotationdefaults\":{\"arrowcolor\":\"#2a3f5f\",\"arrowhead\":0,\"arrowwidth\":1},\"autotypenumbers\":\"strict\",\"coloraxis\":{\"colorbar\":{\"outlinewidth\":0,\"ticks\":\"\"}},\"colorscale\":{\"diverging\":[[0,\"#8e0152\"],[0.1,\"#c51b7d\"],[0.2,\"#de77ae\"],[0.3,\"#f1b6da\"],[0.4,\"#fde0ef\"],[0.5,\"#f7f7f7\"],[0.6,\"#e6f5d0\"],[0.7,\"#b8e186\"],[0.8,\"#7fbc41\"],[0.9,\"#4d9221\"],[1,\"#276419\"]],\"sequential\":[[0.0,\"#0d0887\"],[0.1111111111111111,\"#46039f\"],[0.2222222222222222,\"#7201a8\"],[0.3333333333333333,\"#9c179e\"],[0.4444444444444444,\"#bd3786\"],[0.5555555555555556,\"#d8576b\"],[0.6666666666666666,\"#ed7953\"],[0.7777777777777778,\"#fb9f3a\"],[0.8888888888888888,\"#fdca26\"],[1.0,\"#f0f921\"]],\"sequentialminus\":[[0.0,\"#0d0887\"],[0.1111111111111111,\"#46039f\"],[0.2222222222222222,\"#7201a8\"],[0.3333333333333333,\"#9c179e\"],[0.4444444444444444,\"#bd3786\"],[0.5555555555555556,\"#d8576b\"],[0.6666666666666666,\"#ed7953\"],[0.7777777777777778,\"#fb9f3a\"],[0.8888888888888888,\"#fdca26\"],[1.0,\"#f0f921\"]]},\"colorway\":[\"#636efa\",\"#EF553B\",\"#00cc96\",\"#ab63fa\",\"#FFA15A\",\"#19d3f3\",\"#FF6692\",\"#B6E880\",\"#FF97FF\",\"#FECB52\"],\"font\":{\"color\":\"#2a3f5f\"},\"geo\":{\"bgcolor\":\"white\",\"lakecolor\":\"white\",\"landcolor\":\"#E5ECF6\",\"showlakes\":true,\"showland\":true,\"subunitcolor\":\"white\"},\"hoverlabel\":{\"align\":\"left\"},\"hovermode\":\"closest\",\"mapbox\":{\"style\":\"light\"},\"paper_bgcolor\":\"white\",\"plot_bgcolor\":\"#E5ECF6\",\"polar\":{\"angularaxis\":{\"gridcolor\":\"white\",\"linecolor\":\"white\",\"ticks\":\"\"},\"bgcolor\":\"#E5ECF6\",\"radialaxis\":{\"gridcolor\":\"white\",\"linecolor\":\"white\",\"ticks\":\"\"}},\"scene\":{\"xaxis\":{\"backgroundcolor\":\"#E5ECF6\",\"gridcolor\":\"white\",\"gridwidth\":2,\"linecolor\":\"white\",\"showbackground\":true,\"ticks\":\"\",\"zerolinecolor\":\"white\"},\"yaxis\":{\"backgroundcolor\":\"#E5ECF6\",\"gridcolor\":\"white\",\"gridwidth\":2,\"linecolor\":\"white\",\"showbackground\":true,\"ticks\":\"\",\"zerolinecolor\":\"white\"},\"zaxis\":{\"backgroundcolor\":\"#E5ECF6\",\"gridcolor\":\"white\",\"gridwidth\":2,\"linecolor\":\"white\",\"showbackground\":true,\"ticks\":\"\",\"zerolinecolor\":\"white\"}},\"shapedefaults\":{\"line\":{\"color\":\"#2a3f5f\"}},\"ternary\":{\"aaxis\":{\"gridcolor\":\"white\",\"linecolor\":\"white\",\"ticks\":\"\"},\"baxis\":{\"gridcolor\":\"white\",\"linecolor\":\"white\",\"ticks\":\"\"},\"bgcolor\":\"#E5ECF6\",\"caxis\":{\"gridcolor\":\"white\",\"linecolor\":\"white\",\"ticks\":\"\"}},\"title\":{\"x\":0.05},\"xaxis\":{\"automargin\":true,\"gridcolor\":\"white\",\"linecolor\":\"white\",\"ticks\":\"\",\"title\":{\"standoff\":15},\"zerolinecolor\":\"white\",\"zerolinewidth\":2},\"yaxis\":{\"automargin\":true,\"gridcolor\":\"white\",\"linecolor\":\"white\",\"ticks\":\"\",\"title\":{\"standoff\":15},\"zerolinecolor\":\"white\",\"zerolinewidth\":2}}},\"xaxis\":{\"anchor\":\"y\",\"domain\":[0.0,1.0],\"title\":{\"text\":\"0\"}},\"yaxis\":{\"anchor\":\"x\",\"domain\":[0.0,1.0],\"title\":{\"text\":\"1\"}},\"coloraxis\":{\"colorbar\":{\"title\":{\"text\":\"Cluster ID\"}},\"colorscale\":[[0.0,\"#0d0887\"],[0.1111111111111111,\"#46039f\"],[0.2222222222222222,\"#7201a8\"],[0.3333333333333333,\"#9c179e\"],[0.4444444444444444,\"#bd3786\"],[0.5555555555555556,\"#d8576b\"],[0.6666666666666666,\"#ed7953\"],[0.7777777777777778,\"#fb9f3a\"],[0.8888888888888888,\"#fdca26\"],[1.0,\"#f0f921\"]]},\"legend\":{\"tracegroupgap\":0},\"margin\":{\"t\":60}},                        {\"responsive\": true}                    ).then(function(){\n",
              "                            \n",
              "var gd = document.getElementById('f878784f-b6e9-4704-89fe-76aba35812af');\n",
              "var x = new MutationObserver(function (mutations, observer) {{\n",
              "        var display = window.getComputedStyle(gd).display;\n",
              "        if (!display || display === 'none') {{\n",
              "            console.log([gd, 'removed!']);\n",
              "            Plotly.purge(gd);\n",
              "            observer.disconnect();\n",
              "        }}\n",
              "}});\n",
              "\n",
              "// Listen for the removal of the full notebook cells\n",
              "var notebookContainer = gd.closest('#notebook-container');\n",
              "if (notebookContainer) {{\n",
              "    x.observe(notebookContainer, {childList: true});\n",
              "}}\n",
              "\n",
              "// Listen for the clearing of the current output cell\n",
              "var outputEl = gd.closest('.output');\n",
              "if (outputEl) {{\n",
              "    x.observe(outputEl, {childList: true});\n",
              "}}\n",
              "\n",
              "                        })                };                            </script>        </div>\n",
              "</body>\n",
              "</html>"
            ]
          },
          "metadata": {}
        },
        {
          "output_type": "display_data",
          "data": {
            "text/html": [
              "<html>\n",
              "<head><meta charset=\"utf-8\" /></head>\n",
              "<body>\n",
              "    <div>            <script src=\"https://cdnjs.cloudflare.com/ajax/libs/mathjax/2.7.5/MathJax.js?config=TeX-AMS-MML_SVG\"></script><script type=\"text/javascript\">if (window.MathJax) {MathJax.Hub.Config({SVG: {font: \"STIX-Web\"}});}</script>                <script type=\"text/javascript\">window.PlotlyConfig = {MathJaxConfig: 'local'};</script>\n",
              "        <script src=\"https://cdn.plot.ly/plotly-2.8.3.min.js\"></script>                <div id=\"0167986f-5e95-498c-8394-4a975657bc3c\" class=\"plotly-graph-div\" style=\"height:525px; width:100%;\"></div>            <script type=\"text/javascript\">                                    window.PLOTLYENV=window.PLOTLYENV || {};                                    if (document.getElementById(\"0167986f-5e95-498c-8394-4a975657bc3c\")) {                    Plotly.newPlot(                        \"0167986f-5e95-498c-8394-4a975657bc3c\",                        [{\"hovertemplate\":\"0=%{x}<br>1=%{y}<br>Cluster ID=%{marker.color}<extra></extra>\",\"legendgroup\":\"\",\"marker\":{\"color\":[3,3,3,3,1,6,6,3,10,10,6,6,10,4,12,9,1,1,5,1,6,12,12,12,6,8,0,10,0,13,1,0,6,9,1,5,0,9,9,9,3,9,7,12,3,3,8,0,9,9,9,12,9,9,9,9,3,9,9,1,2,1,8,13,8,2,5,10,1,11,1,6,3,11,13,13,5,1,9,3,13,1,9,9,3,3,3,3,3,3,3,3,3,9,9,13,9,9,1,11,1,1,9,12,5,2,1,1,12,6,5,0,12,1,0,12,11,12,5,0,12,12,0,0,13,9,1,9,9,11,8,1,1,0,6,1,1,12,9,11,1,3,3,9,3,3,9,3,3,3,9,9,11,1,13,3,3,10,4,12,9,1,9,9,11,3,9,9,9,9,9,11,11,1,9,1,3,9,3,9,11,9,3,9,4,13,1,9,3,3,3,11,9,9,9,3],\"coloraxis\":\"coloraxis\",\"symbol\":\"circle\"},\"mode\":\"markers\",\"name\":\"\",\"orientation\":\"v\",\"showlegend\":false,\"x\":[-14.010978698730469,-12.515832901000977,-12.275636672973633,-14.0247220993042,-0.05660586431622505,7.785799026489258,8.65894603729248,-13.883360862731934,6.330460071563721,5.1363348960876465,9.125096321105957,7.667591094970703,4.02144193649292,11.73284912109375,5.495007514953613,-6.588618278503418,1.4258551597595215,0.48763397336006165,4.757401943206787,0.9017603397369385,8.61030101776123,4.182751178741455,3.2776882648468018,3.6755619049072266,7.523323059082031,12.450135231018066,10.413459777832031,6.1767802238464355,9.884696006774902,10.27029037475586,2.1883890628814697,7.275228500366211,8.22805118560791,-4.976815223693848,1.6613787412643433,2.465054988861084,7.073122024536133,-3.2369418144226074,-6.87083625793457,-4.682879447937012,-11.485442161560059,-2.1431286334991455,13.77086067199707,4.836908340454102,-10.89206600189209,-11.097627639770508,11.540698051452637,6.568370819091797,-7.307698726654053,-6.01694917678833,-6.274954319000244,4.864841938018799,-9.068275451660156,-8.303997039794922,-7.7075581550598145,-5.814850330352783,-12.051400184631348,-7.044747352600098,-5.032057762145996,1.9856668710708618,13.78812313079834,3.153083324432373,13.587113380432129,11.517004013061523,13.095743179321289,14.317023277282715,5.229954719543457,4.92117977142334,0.17513889074325562,7.789636135101318,1.6017875671386719,7.345010280609131,-11.685294151306152,6.369613170623779,11.935188293457031,12.144782066345215,2.3990261554718018,2.1272459030151367,-3.3683013916015625,-8.397220611572266,12.601922035217285,2.0916097164154053,-6.567148208618164,-4.227802753448486,-10.996848106384277,-13.215270042419434,-12.746932029724121,-10.198628425598145,-12.607071876525879,-13.52371597290039,-13.750264167785645,-13.01758861541748,-12.918519973754883,-6.279868125915527,-5.282954216003418,10.732418060302734,-2.4336681365966797,-4.765777587890625,1.1893893480300903,6.60901403427124,3.083696126937866,2.428781509399414,-1.2821564674377441,5.124421119689941,3.9283556938171387,14.010927200317383,2.127617120742798,-0.6151411533355713,4.330058574676514,8.632848739624023,3.9762089252471924,10.490377426147461,5.10472297668457,0.6674067378044128,10.201642990112305,3.9708151817321777,7.912269115447998,5.4351277351379395,6.77620267868042,8.205607414245605,4.436781406402588,4.227747440338135,8.963719367980957,8.136098861694336,12.006921768188477,-3.026888132095337,1.9714417457580566,-3.9395267963409424,-5.505794525146484,6.994745254516602,13.137016296386719,-0.6454105377197266,0.4902547001838684,7.4001030921936035,9.387517929077148,-0.5460483431816101,3.548675775527954,4.205582141876221,-2.703530788421631,9.029582977294922,3.0576939582824707,-7.636250019073486,-7.677859783172607,-3.0892415046691895,-12.206745147705078,-9.240605354309082,-3.8148529529571533,-10.251330375671387,-11.920907020568848,-7.870264530181885,-5.344679355621338,-6.890105247497559,6.160467147827148,1.398328423500061,11.325250625610352,-8.482756614685059,-9.338644027709961,5.537505149841309,11.709348678588867,3.5623257160186768,-2.144505262374878,-0.3762928545475006,-2.106393575668335,-6.71696662902832,7.515575885772705,-10.37488079071045,-4.228031158447266,-6.004608631134033,-7.508798122406006,-4.0403218269348145,-4.970010280609131,8.94958209991455,7.812694072723389,-1.1073434352874756,-5.532106876373291,-0.09165970981121063,-8.13768196105957,-5.729972839355469,-9.999256134033203,-6.756372451782227,7.6949687004089355,-8.305843353271484,-12.779684066772461,-2.443340301513672,12.398134231567383,11.224562644958496,2.144240140914917,-6.210644721984863,-12.366594314575195,-13.272161483764648,-13.276944160461426,6.571345329284668,-8.26191234588623,4.392890453338623,-7.292463302612305,-13.428526878356934],\"xaxis\":\"x\",\"y\":[-13.678510665893555,-14.926478385925293,-12.664448738098145,-14.103216171264648,-2.7045376300811768,3.7388765811920166,2.9787039756774902,-14.538312911987305,-0.04069153591990471,-0.17070341110229492,9.108237266540527,3.3689980506896973,-0.5149036645889282,10.879043579101562,7.716517448425293,-7.795140266418457,-4.279665470123291,-5.276700496673584,2.3247292041778564,-4.141783714294434,2.986602783203125,10.088926315307617,9.072290420532227,9.550048828125,3.107208013534546,6.2223896980285645,6.212632179260254,-0.18007206916809082,7.577554225921631,9.431360244750977,0.5723443627357483,7.950829029083252,4.666554927825928,-4.95464563369751,-0.8072100281715393,1.8029922246932983,8.378740310668945,-5.897435665130615,-3.9837446212768555,-8.774636268615723,-13.08329963684082,-7.591141700744629,6.289308071136475,7.298811912536621,-12.881646156311035,-12.496357917785645,6.513524532318115,7.820786952972412,-5.240993022918701,-3.425225019454956,-3.981487274169922,7.129267692565918,-6.374490737915039,-8.65267276763916,-8.71232795715332,-5.176576137542725,-13.079050064086914,-5.992271900177002,-7.4427809715271,-1.5487443208694458,8.57323932647705,0.2544406056404114,7.523603916168213,8.265546798706055,7.34541130065918,8.653066635131836,2.258789539337158,1.115339994430542,-1.7556580305099487,9.242561340332031,-1.956719160079956,3.064075469970703,-14.123490333557129,9.224174499511719,9.371334075927734,8.01406192779541,1.2611383199691772,-2.577829122543335,-4.898883819580078,-10.80549144744873,8.734498977661133,-0.8824284076690674,-5.035815715789795,-6.307501316070557,-11.122966766357422,-13.540948867797852,-14.412473678588867,-12.537470817565918,-13.056117057800293,-14.903593063354492,-13.231895446777344,-15.020448684692383,-12.25428295135498,-9.241068840026855,-5.24053430557251,9.093822479248047,-6.742518424987793,-8.119658470153809,-3.482680559158325,10.537288665771484,-1.580485463142395,-1.2131307125091553,-5.226967811584473,7.419678211212158,1.7264763116836548,8.354442596435547,-0.5216042995452881,-3.768120050430298,8.236891746520996,4.711859226226807,2.0339341163635254,7.229105472564697,9.2910737991333,-4.789695739746094,7.2369842529296875,9.407408714294434,9.440190315246582,9.609957695007324,3.7763497829437256,7.751552581787109,8.044508934020996,9.66302490234375,7.269323825836182,8.279678344726562,8.569880485534668,-5.649818420410156,-3.2245187759399414,-7.421112537384033,-2.0564444065093994,9.566320419311523,7.344461441040039,-4.275933265686035,-2.8847289085388184,7.462952613830566,5.980792999267578,-3.161151885986328,-1.9956326484680176,9.148406982421875,-7.888240814208984,9.636553764343262,-2.4276516437530518,-10.669692039489746,-11.091001510620117,-7.249883651733398,-14.64958667755127,-10.87609577178955,-9.572306632995605,-11.894397735595703,-13.661639213562012,-10.286446571350098,-9.097654342651367,-10.2250394821167,9.884992599487305,-2.2751665115356445,8.919795036315918,-10.141860008239746,-9.922017097473145,0.1636871099472046,10.401719093322754,8.058622360229492,-6.303009510040283,-4.423891067504883,-6.123499393463135,-9.665973663330078,10.203001976013184,-11.833146095275879,-5.137752532958984,-6.179619789123535,-9.594718933105469,-7.783646583557129,-7.401795864105225,10.463205337524414,10.954280853271484,-3.8004813194274902,-7.052220821380615,-4.603560924530029,-9.661861419677734,-4.203394412994385,-11.572652816772461,-8.94922161102295,10.98442268371582,-9.243114471435547,-13.765069961547852,-5.080360412597656,9.768122673034668,7.116754531860352,0.4650627672672272,-4.727939605712891,-13.889153480529785,-13.962550163269043,-14.378744125366211,9.726011276245117,-6.2789835929870605,6.323051452636719,-9.081849098205566,-13.091300010681152],\"yaxis\":\"y\",\"type\":\"scatter\"}],                        {\"template\":{\"data\":{\"bar\":[{\"error_x\":{\"color\":\"#2a3f5f\"},\"error_y\":{\"color\":\"#2a3f5f\"},\"marker\":{\"line\":{\"color\":\"#E5ECF6\",\"width\":0.5},\"pattern\":{\"fillmode\":\"overlay\",\"size\":10,\"solidity\":0.2}},\"type\":\"bar\"}],\"barpolar\":[{\"marker\":{\"line\":{\"color\":\"#E5ECF6\",\"width\":0.5},\"pattern\":{\"fillmode\":\"overlay\",\"size\":10,\"solidity\":0.2}},\"type\":\"barpolar\"}],\"carpet\":[{\"aaxis\":{\"endlinecolor\":\"#2a3f5f\",\"gridcolor\":\"white\",\"linecolor\":\"white\",\"minorgridcolor\":\"white\",\"startlinecolor\":\"#2a3f5f\"},\"baxis\":{\"endlinecolor\":\"#2a3f5f\",\"gridcolor\":\"white\",\"linecolor\":\"white\",\"minorgridcolor\":\"white\",\"startlinecolor\":\"#2a3f5f\"},\"type\":\"carpet\"}],\"choropleth\":[{\"colorbar\":{\"outlinewidth\":0,\"ticks\":\"\"},\"type\":\"choropleth\"}],\"contour\":[{\"colorbar\":{\"outlinewidth\":0,\"ticks\":\"\"},\"colorscale\":[[0.0,\"#0d0887\"],[0.1111111111111111,\"#46039f\"],[0.2222222222222222,\"#7201a8\"],[0.3333333333333333,\"#9c179e\"],[0.4444444444444444,\"#bd3786\"],[0.5555555555555556,\"#d8576b\"],[0.6666666666666666,\"#ed7953\"],[0.7777777777777778,\"#fb9f3a\"],[0.8888888888888888,\"#fdca26\"],[1.0,\"#f0f921\"]],\"type\":\"contour\"}],\"contourcarpet\":[{\"colorbar\":{\"outlinewidth\":0,\"ticks\":\"\"},\"type\":\"contourcarpet\"}],\"heatmap\":[{\"colorbar\":{\"outlinewidth\":0,\"ticks\":\"\"},\"colorscale\":[[0.0,\"#0d0887\"],[0.1111111111111111,\"#46039f\"],[0.2222222222222222,\"#7201a8\"],[0.3333333333333333,\"#9c179e\"],[0.4444444444444444,\"#bd3786\"],[0.5555555555555556,\"#d8576b\"],[0.6666666666666666,\"#ed7953\"],[0.7777777777777778,\"#fb9f3a\"],[0.8888888888888888,\"#fdca26\"],[1.0,\"#f0f921\"]],\"type\":\"heatmap\"}],\"heatmapgl\":[{\"colorbar\":{\"outlinewidth\":0,\"ticks\":\"\"},\"colorscale\":[[0.0,\"#0d0887\"],[0.1111111111111111,\"#46039f\"],[0.2222222222222222,\"#7201a8\"],[0.3333333333333333,\"#9c179e\"],[0.4444444444444444,\"#bd3786\"],[0.5555555555555556,\"#d8576b\"],[0.6666666666666666,\"#ed7953\"],[0.7777777777777778,\"#fb9f3a\"],[0.8888888888888888,\"#fdca26\"],[1.0,\"#f0f921\"]],\"type\":\"heatmapgl\"}],\"histogram\":[{\"marker\":{\"pattern\":{\"fillmode\":\"overlay\",\"size\":10,\"solidity\":0.2}},\"type\":\"histogram\"}],\"histogram2d\":[{\"colorbar\":{\"outlinewidth\":0,\"ticks\":\"\"},\"colorscale\":[[0.0,\"#0d0887\"],[0.1111111111111111,\"#46039f\"],[0.2222222222222222,\"#7201a8\"],[0.3333333333333333,\"#9c179e\"],[0.4444444444444444,\"#bd3786\"],[0.5555555555555556,\"#d8576b\"],[0.6666666666666666,\"#ed7953\"],[0.7777777777777778,\"#fb9f3a\"],[0.8888888888888888,\"#fdca26\"],[1.0,\"#f0f921\"]],\"type\":\"histogram2d\"}],\"histogram2dcontour\":[{\"colorbar\":{\"outlinewidth\":0,\"ticks\":\"\"},\"colorscale\":[[0.0,\"#0d0887\"],[0.1111111111111111,\"#46039f\"],[0.2222222222222222,\"#7201a8\"],[0.3333333333333333,\"#9c179e\"],[0.4444444444444444,\"#bd3786\"],[0.5555555555555556,\"#d8576b\"],[0.6666666666666666,\"#ed7953\"],[0.7777777777777778,\"#fb9f3a\"],[0.8888888888888888,\"#fdca26\"],[1.0,\"#f0f921\"]],\"type\":\"histogram2dcontour\"}],\"mesh3d\":[{\"colorbar\":{\"outlinewidth\":0,\"ticks\":\"\"},\"type\":\"mesh3d\"}],\"parcoords\":[{\"line\":{\"colorbar\":{\"outlinewidth\":0,\"ticks\":\"\"}},\"type\":\"parcoords\"}],\"pie\":[{\"automargin\":true,\"type\":\"pie\"}],\"scatter\":[{\"marker\":{\"colorbar\":{\"outlinewidth\":0,\"ticks\":\"\"}},\"type\":\"scatter\"}],\"scatter3d\":[{\"line\":{\"colorbar\":{\"outlinewidth\":0,\"ticks\":\"\"}},\"marker\":{\"colorbar\":{\"outlinewidth\":0,\"ticks\":\"\"}},\"type\":\"scatter3d\"}],\"scattercarpet\":[{\"marker\":{\"colorbar\":{\"outlinewidth\":0,\"ticks\":\"\"}},\"type\":\"scattercarpet\"}],\"scattergeo\":[{\"marker\":{\"colorbar\":{\"outlinewidth\":0,\"ticks\":\"\"}},\"type\":\"scattergeo\"}],\"scattergl\":[{\"marker\":{\"colorbar\":{\"outlinewidth\":0,\"ticks\":\"\"}},\"type\":\"scattergl\"}],\"scattermapbox\":[{\"marker\":{\"colorbar\":{\"outlinewidth\":0,\"ticks\":\"\"}},\"type\":\"scattermapbox\"}],\"scatterpolar\":[{\"marker\":{\"colorbar\":{\"outlinewidth\":0,\"ticks\":\"\"}},\"type\":\"scatterpolar\"}],\"scatterpolargl\":[{\"marker\":{\"colorbar\":{\"outlinewidth\":0,\"ticks\":\"\"}},\"type\":\"scatterpolargl\"}],\"scatterternary\":[{\"marker\":{\"colorbar\":{\"outlinewidth\":0,\"ticks\":\"\"}},\"type\":\"scatterternary\"}],\"surface\":[{\"colorbar\":{\"outlinewidth\":0,\"ticks\":\"\"},\"colorscale\":[[0.0,\"#0d0887\"],[0.1111111111111111,\"#46039f\"],[0.2222222222222222,\"#7201a8\"],[0.3333333333333333,\"#9c179e\"],[0.4444444444444444,\"#bd3786\"],[0.5555555555555556,\"#d8576b\"],[0.6666666666666666,\"#ed7953\"],[0.7777777777777778,\"#fb9f3a\"],[0.8888888888888888,\"#fdca26\"],[1.0,\"#f0f921\"]],\"type\":\"surface\"}],\"table\":[{\"cells\":{\"fill\":{\"color\":\"#EBF0F8\"},\"line\":{\"color\":\"white\"}},\"header\":{\"fill\":{\"color\":\"#C8D4E3\"},\"line\":{\"color\":\"white\"}},\"type\":\"table\"}]},\"layout\":{\"annotationdefaults\":{\"arrowcolor\":\"#2a3f5f\",\"arrowhead\":0,\"arrowwidth\":1},\"autotypenumbers\":\"strict\",\"coloraxis\":{\"colorbar\":{\"outlinewidth\":0,\"ticks\":\"\"}},\"colorscale\":{\"diverging\":[[0,\"#8e0152\"],[0.1,\"#c51b7d\"],[0.2,\"#de77ae\"],[0.3,\"#f1b6da\"],[0.4,\"#fde0ef\"],[0.5,\"#f7f7f7\"],[0.6,\"#e6f5d0\"],[0.7,\"#b8e186\"],[0.8,\"#7fbc41\"],[0.9,\"#4d9221\"],[1,\"#276419\"]],\"sequential\":[[0.0,\"#0d0887\"],[0.1111111111111111,\"#46039f\"],[0.2222222222222222,\"#7201a8\"],[0.3333333333333333,\"#9c179e\"],[0.4444444444444444,\"#bd3786\"],[0.5555555555555556,\"#d8576b\"],[0.6666666666666666,\"#ed7953\"],[0.7777777777777778,\"#fb9f3a\"],[0.8888888888888888,\"#fdca26\"],[1.0,\"#f0f921\"]],\"sequentialminus\":[[0.0,\"#0d0887\"],[0.1111111111111111,\"#46039f\"],[0.2222222222222222,\"#7201a8\"],[0.3333333333333333,\"#9c179e\"],[0.4444444444444444,\"#bd3786\"],[0.5555555555555556,\"#d8576b\"],[0.6666666666666666,\"#ed7953\"],[0.7777777777777778,\"#fb9f3a\"],[0.8888888888888888,\"#fdca26\"],[1.0,\"#f0f921\"]]},\"colorway\":[\"#636efa\",\"#EF553B\",\"#00cc96\",\"#ab63fa\",\"#FFA15A\",\"#19d3f3\",\"#FF6692\",\"#B6E880\",\"#FF97FF\",\"#FECB52\"],\"font\":{\"color\":\"#2a3f5f\"},\"geo\":{\"bgcolor\":\"white\",\"lakecolor\":\"white\",\"landcolor\":\"#E5ECF6\",\"showlakes\":true,\"showland\":true,\"subunitcolor\":\"white\"},\"hoverlabel\":{\"align\":\"left\"},\"hovermode\":\"closest\",\"mapbox\":{\"style\":\"light\"},\"paper_bgcolor\":\"white\",\"plot_bgcolor\":\"#E5ECF6\",\"polar\":{\"angularaxis\":{\"gridcolor\":\"white\",\"linecolor\":\"white\",\"ticks\":\"\"},\"bgcolor\":\"#E5ECF6\",\"radialaxis\":{\"gridcolor\":\"white\",\"linecolor\":\"white\",\"ticks\":\"\"}},\"scene\":{\"xaxis\":{\"backgroundcolor\":\"#E5ECF6\",\"gridcolor\":\"white\",\"gridwidth\":2,\"linecolor\":\"white\",\"showbackground\":true,\"ticks\":\"\",\"zerolinecolor\":\"white\"},\"yaxis\":{\"backgroundcolor\":\"#E5ECF6\",\"gridcolor\":\"white\",\"gridwidth\":2,\"linecolor\":\"white\",\"showbackground\":true,\"ticks\":\"\",\"zerolinecolor\":\"white\"},\"zaxis\":{\"backgroundcolor\":\"#E5ECF6\",\"gridcolor\":\"white\",\"gridwidth\":2,\"linecolor\":\"white\",\"showbackground\":true,\"ticks\":\"\",\"zerolinecolor\":\"white\"}},\"shapedefaults\":{\"line\":{\"color\":\"#2a3f5f\"}},\"ternary\":{\"aaxis\":{\"gridcolor\":\"white\",\"linecolor\":\"white\",\"ticks\":\"\"},\"baxis\":{\"gridcolor\":\"white\",\"linecolor\":\"white\",\"ticks\":\"\"},\"bgcolor\":\"#E5ECF6\",\"caxis\":{\"gridcolor\":\"white\",\"linecolor\":\"white\",\"ticks\":\"\"}},\"title\":{\"x\":0.05},\"xaxis\":{\"automargin\":true,\"gridcolor\":\"white\",\"linecolor\":\"white\",\"ticks\":\"\",\"title\":{\"standoff\":15},\"zerolinecolor\":\"white\",\"zerolinewidth\":2},\"yaxis\":{\"automargin\":true,\"gridcolor\":\"white\",\"linecolor\":\"white\",\"ticks\":\"\",\"title\":{\"standoff\":15},\"zerolinecolor\":\"white\",\"zerolinewidth\":2}}},\"xaxis\":{\"anchor\":\"y\",\"domain\":[0.0,1.0],\"title\":{\"text\":\"0\"}},\"yaxis\":{\"anchor\":\"x\",\"domain\":[0.0,1.0],\"title\":{\"text\":\"1\"}},\"coloraxis\":{\"colorbar\":{\"title\":{\"text\":\"Cluster ID\"}},\"colorscale\":[[0.0,\"#0d0887\"],[0.1111111111111111,\"#46039f\"],[0.2222222222222222,\"#7201a8\"],[0.3333333333333333,\"#9c179e\"],[0.4444444444444444,\"#bd3786\"],[0.5555555555555556,\"#d8576b\"],[0.6666666666666666,\"#ed7953\"],[0.7777777777777778,\"#fb9f3a\"],[0.8888888888888888,\"#fdca26\"],[1.0,\"#f0f921\"]]},\"legend\":{\"tracegroupgap\":0},\"margin\":{\"t\":60}},                        {\"responsive\": true}                    ).then(function(){\n",
              "                            \n",
              "var gd = document.getElementById('0167986f-5e95-498c-8394-4a975657bc3c');\n",
              "var x = new MutationObserver(function (mutations, observer) {{\n",
              "        var display = window.getComputedStyle(gd).display;\n",
              "        if (!display || display === 'none') {{\n",
              "            console.log([gd, 'removed!']);\n",
              "            Plotly.purge(gd);\n",
              "            observer.disconnect();\n",
              "        }}\n",
              "}});\n",
              "\n",
              "// Listen for the removal of the full notebook cells\n",
              "var notebookContainer = gd.closest('#notebook-container');\n",
              "if (notebookContainer) {{\n",
              "    x.observe(notebookContainer, {childList: true});\n",
              "}}\n",
              "\n",
              "// Listen for the clearing of the current output cell\n",
              "var outputEl = gd.closest('.output');\n",
              "if (outputEl) {{\n",
              "    x.observe(outputEl, {childList: true});\n",
              "}}\n",
              "\n",
              "                        })                };                            </script>        </div>\n",
              "</body>\n",
              "</html>"
            ]
          },
          "metadata": {}
        },
        {
          "output_type": "display_data",
          "data": {
            "text/plain": [
              "<Figure size 864x432 with 1 Axes>"
            ],
            "image/png": "[encoded data removed]"
          },
          "metadata": {}
        },
        {
          "output_type": "display_data",
          "data": {
            "text/plain": [
              "<Figure size 864x432 with 1 Axes>"
            ],
            "image/png": "[encoded data removed]"
          },
          "metadata": {}
        }
      ]
    },
    {
      "cell_type": "markdown",
      "source": [
        "Unsupervised Clustering with k = 7 (best parameter after hyper parameter tuning)"
      ],
      "metadata": {
        "id": "qoMtOseh9OHQ"
      }
    },
    {
      "cell_type": "code",
      "source": [
        "X_train = input_data.loc[:, ['Cat1Count', 'Cat2Count', 'Cat3Count', 'Cat4Count']].values\n",
        "scaler = preprocessing.StandardScaler().fit(X_train)\n",
        "\n",
        "X_scaled = scaler.transform(X_train)\n",
        "\n",
        "\n",
        "\n",
        "#unsupervised classification of zipcodes\n",
        "from sklearn.cluster import KMeans\n",
        "from sklearn import metrics\n",
        "from scipy.spatial.distance import cdist\n",
        "\n",
        "best_k = 7\n",
        "\n",
        "kmeans = KMeans(init=\"k-means++\", n_clusters=best_k, n_init=4, random_state=7)\n",
        "kmeans = kmeans.fit(X_scaled)\n",
        "labels = kmeans.labels_\n",
        "\n",
        "#visualising clusters in 2d\n",
        "features = X_scaled\n",
        "\n",
        "tsne = TSNE(n_components=2, random_state=0)\n",
        "projections = tsne.fit_transform(features)\n",
        "\n",
        "fig = px.scatter(\n",
        "    projections, x=0, y=1,\n",
        "    color=labels, labels={'color': 'Cluster ID'}\n",
        ")\n",
        "fig.show()\n",
        "\n",
        "print(kmeans.cluster_centers_)"
      ],
      "metadata": {
        "colab": {
          "base_uri": "https://localhost:8080/",
          "height": 663
        },
        "id": "jMAXzTAork_t",
        "outputId": "2aebeabd-8d02-4350-b531-d53974858e85"
      },
      "execution_count": 194,
      "outputs": [
        {
          "output_type": "display_data",
          "data": {
            "text/html": [
              "<html>\n",
              "<head><meta charset=\"utf-8\" /></head>\n",
              "<body>\n",
              "    <div>            <script src=\"https://cdnjs.cloudflare.com/ajax/libs/mathjax/2.7.5/MathJax.js?config=TeX-AMS-MML_SVG\"></script><script type=\"text/javascript\">if (window.MathJax) {MathJax.Hub.Config({SVG: {font: \"STIX-Web\"}});}</script>                <script type=\"text/javascript\">window.PlotlyConfig = {MathJaxConfig: 'local'};</script>\n",
              "        <script src=\"https://cdn.plot.ly/plotly-2.8.3.min.js\"></script>                <div id=\"85541ef6-d2d2-48bb-900f-7df01906b8b8\" class=\"plotly-graph-div\" style=\"height:525px; width:100%;\"></div>            <script type=\"text/javascript\">                                    window.PLOTLYENV=window.PLOTLYENV || {};                                    if (document.getElementById(\"85541ef6-d2d2-48bb-900f-7df01906b8b8\")) {                    Plotly.newPlot(                        \"85541ef6-d2d2-48bb-900f-7df01906b8b8\",                        [{\"hovertemplate\":\"0=%{x}<br>1=%{y}<br>Cluster ID=%{marker.color}<extra></extra>\",\"legendgroup\":\"\",\"marker\":{\"color\":[0,0,0,0,6,2,2,0,2,2,4,2,6,3,4,0,6,6,2,6,2,4,4,4,2,1,2,2,3,3,6,4,2,0,6,6,4,0,0,0,0,0,1,4,0,0,1,4,0,0,0,4,0,0,0,0,0,0,0,6,5,6,1,3,1,5,2,2,6,4,6,2,0,4,3,3,6,6,0,0,3,6,0,0,0,0,0,0,0,0,0,0,0,0,0,3,0,0,6,4,6,6,0,4,2,5,6,6,4,2,2,3,4,6,3,4,4,4,2,4,4,4,4,4,3,0,6,0,6,4,1,6,6,4,3,6,6,4,0,4,6,0,0,0,0,0,0,0,0,0,0,0,4,6,3,0,0,2,3,6,0,6,0,0,4,0,0,0,0,0,0,4,4,6,0,6,0,0,0,0,4,0,0,0,3,3,6,0,0,0,0,4,0,0,0,0],\"coloraxis\":\"coloraxis\",\"symbol\":\"circle\"},\"mode\":\"markers\",\"name\":\"\",\"orientation\":\"v\",\"showlegend\":false,\"x\":[-14.010978698730469,-12.515832901000977,-12.275636672973633,-14.0247220993042,-0.05660586431622505,7.785799026489258,8.65894603729248,-13.883360862731934,6.330460071563721,5.1363348960876465,9.125096321105957,7.667591094970703,4.02144193649292,11.73284912109375,5.495007514953613,-6.588618278503418,1.4258551597595215,0.48763397336006165,4.757401943206787,0.9017603397369385,8.61030101776123,4.182751178741455,3.2776882648468018,3.6755619049072266,7.523323059082031,12.450135231018066,10.413459777832031,6.1767802238464355,9.884696006774902,10.27029037475586,2.1883890628814697,7.275228500366211,8.22805118560791,-4.976815223693848,1.6613787412643433,2.465054988861084,7.073122024536133,-3.2369418144226074,-6.87083625793457,-4.682879447937012,-11.485442161560059,-2.1431286334991455,13.77086067199707,4.836908340454102,-10.89206600189209,-11.097627639770508,11.540698051452637,6.568370819091797,-7.307698726654053,-6.01694917678833,-6.274954319000244,4.864841938018799,-9.068275451660156,-8.303997039794922,-7.7075581550598145,-5.814850330352783,-12.051400184631348,-7.044747352600098,-5.032057762145996,1.9856668710708618,13.78812313079834,3.153083324432373,13.587113380432129,11.517004013061523,13.095743179321289,14.317023277282715,5.229954719543457,4.92117977142334,0.17513889074325562,7.789636135101318,1.6017875671386719,7.345010280609131,-11.685294151306152,6.369613170623779,11.935188293457031,12.144782066345215,2.3990261554718018,2.1272459030151367,-3.3683013916015625,-8.397220611572266,12.601922035217285,2.0916097164154053,-6.567148208618164,-4.227802753448486,-10.996848106384277,-13.215270042419434,-12.746932029724121,-10.198628425598145,-12.607071876525879,-13.52371597290039,-13.750264167785645,-13.01758861541748,-12.918519973754883,-6.279868125915527,-5.282954216003418,10.732418060302734,-2.4336681365966797,-4.765777587890625,1.1893893480300903,6.60901403427124,3.083696126937866,2.428781509399414,-1.2821564674377441,5.124421119689941,3.9283556938171387,14.010927200317383,2.127617120742798,-0.6151411533355713,4.330058574676514,8.632848739624023,3.9762089252471924,10.490377426147461,5.10472297668457,0.6674067378044128,10.201642990112305,3.9708151817321777,7.912269115447998,5.4351277351379395,6.77620267868042,8.205607414245605,4.436781406402588,4.227747440338135,8.963719367980957,8.136098861694336,12.006921768188477,-3.026888132095337,1.9714417457580566,-3.9395267963409424,-5.505794525146484,6.994745254516602,13.137016296386719,-0.6454105377197266,0.4902547001838684,7.4001030921936035,9.387517929077148,-0.5460483431816101,3.548675775527954,4.205582141876221,-2.703530788421631,9.029582977294922,3.0576939582824707,-7.636250019073486,-7.677859783172607,-3.0892415046691895,-12.206745147705078,-9.240605354309082,-3.8148529529571533,-10.251330375671387,-11.920907020568848,-7.870264530181885,-5.344679355621338,-6.890105247497559,6.160467147827148,1.398328423500061,11.325250625610352,-8.482756614685059,-9.338644027709961,5.537505149841309,11.709348678588867,3.5623257160186768,-2.144505262374878,-0.3762928545475006,-2.106393575668335,-6.71696662902832,7.515575885772705,-10.37488079071045,-4.228031158447266,-6.004608631134033,-7.508798122406006,-4.0403218269348145,-4.970010280609131,8.94958209991455,7.812694072723389,-1.1073434352874756,-5.532106876373291,-0.09165970981121063,-8.13768196105957,-5.729972839355469,-9.999256134033203,-6.756372451782227,7.6949687004089355,-8.305843353271484,-12.779684066772461,-2.443340301513672,12.398134231567383,11.224562644958496,2.144240140914917,-6.210644721984863,-12.366594314575195,-13.272161483764648,-13.276944160461426,6.571345329284668,-8.26191234588623,4.392890453338623,-7.292463302612305,-13.428526878356934],\"xaxis\":\"x\",\"y\":[-13.678510665893555,-14.926478385925293,-12.664448738098145,-14.103216171264648,-2.7045376300811768,3.7388765811920166,2.9787039756774902,-14.538312911987305,-0.04069153591990471,-0.17070341110229492,9.108237266540527,3.3689980506896973,-0.5149036645889282,10.879043579101562,7.716517448425293,-7.795140266418457,-4.279665470123291,-5.276700496673584,2.3247292041778564,-4.141783714294434,2.986602783203125,10.088926315307617,9.072290420532227,9.550048828125,3.107208013534546,6.2223896980285645,6.212632179260254,-0.18007206916809082,7.577554225921631,9.431360244750977,0.5723443627357483,7.950829029083252,4.666554927825928,-4.95464563369751,-0.8072100281715393,1.8029922246932983,8.378740310668945,-5.897435665130615,-3.9837446212768555,-8.774636268615723,-13.08329963684082,-7.591141700744629,6.289308071136475,7.298811912536621,-12.881646156311035,-12.496357917785645,6.513524532318115,7.820786952972412,-5.240993022918701,-3.425225019454956,-3.981487274169922,7.129267692565918,-6.374490737915039,-8.65267276763916,-8.71232795715332,-5.176576137542725,-13.079050064086914,-5.992271900177002,-7.4427809715271,-1.5487443208694458,8.57323932647705,0.2544406056404114,7.523603916168213,8.265546798706055,7.34541130065918,8.653066635131836,2.258789539337158,1.115339994430542,-1.7556580305099487,9.242561340332031,-1.956719160079956,3.064075469970703,-14.123490333557129,9.224174499511719,9.371334075927734,8.01406192779541,1.2611383199691772,-2.577829122543335,-4.898883819580078,-10.80549144744873,8.734498977661133,-0.8824284076690674,-5.035815715789795,-6.307501316070557,-11.122966766357422,-13.540948867797852,-14.412473678588867,-12.537470817565918,-13.056117057800293,-14.903593063354492,-13.231895446777344,-15.020448684692383,-12.25428295135498,-9.241068840026855,-5.24053430557251,9.093822479248047,-6.742518424987793,-8.119658470153809,-3.482680559158325,10.537288665771484,-1.580485463142395,-1.2131307125091553,-5.226967811584473,7.419678211212158,1.7264763116836548,8.354442596435547,-0.5216042995452881,-3.768120050430298,8.236891746520996,4.711859226226807,2.0339341163635254,7.229105472564697,9.2910737991333,-4.789695739746094,7.2369842529296875,9.407408714294434,9.440190315246582,9.609957695007324,3.7763497829437256,7.751552581787109,8.044508934020996,9.66302490234375,7.269323825836182,8.279678344726562,8.569880485534668,-5.649818420410156,-3.2245187759399414,-7.421112537384033,-2.0564444065093994,9.566320419311523,7.344461441040039,-4.275933265686035,-2.8847289085388184,7.462952613830566,5.980792999267578,-3.161151885986328,-1.9956326484680176,9.148406982421875,-7.888240814208984,9.636553764343262,-2.4276516437530518,-10.669692039489746,-11.091001510620117,-7.249883651733398,-14.64958667755127,-10.87609577178955,-9.572306632995605,-11.894397735595703,-13.661639213562012,-10.286446571350098,-9.097654342651367,-10.2250394821167,9.884992599487305,-2.2751665115356445,8.919795036315918,-10.141860008239746,-9.922017097473145,0.1636871099472046,10.401719093322754,8.058622360229492,-6.303009510040283,-4.423891067504883,-6.123499393463135,-9.665973663330078,10.203001976013184,-11.833146095275879,-5.137752532958984,-6.179619789123535,-9.594718933105469,-7.783646583557129,-7.401795864105225,10.463205337524414,10.954280853271484,-3.8004813194274902,-7.052220821380615,-4.603560924530029,-9.661861419677734,-4.203394412994385,-11.572652816772461,-8.94922161102295,10.98442268371582,-9.243114471435547,-13.765069961547852,-5.080360412597656,9.768122673034668,7.116754531860352,0.4650627672672272,-4.727939605712891,-13.889153480529785,-13.962550163269043,-14.378744125366211,9.726011276245117,-6.2789835929870605,6.323051452636719,-9.081849098205566,-13.091300010681152],\"yaxis\":\"y\",\"type\":\"scatter\"}],                        {\"template\":{\"data\":{\"bar\":[{\"error_x\":{\"color\":\"#2a3f5f\"},\"error_y\":{\"color\":\"#2a3f5f\"},\"marker\":{\"line\":{\"color\":\"#E5ECF6\",\"width\":0.5},\"pattern\":{\"fillmode\":\"overlay\",\"size\":10,\"solidity\":0.2}},\"type\":\"bar\"}],\"barpolar\":[{\"marker\":{\"line\":{\"color\":\"#E5ECF6\",\"width\":0.5},\"pattern\":{\"fillmode\":\"overlay\",\"size\":10,\"solidity\":0.2}},\"type\":\"barpolar\"}],\"carpet\":[{\"aaxis\":{\"endlinecolor\":\"#2a3f5f\",\"gridcolor\":\"white\",\"linecolor\":\"white\",\"minorgridcolor\":\"white\",\"startlinecolor\":\"#2a3f5f\"},\"baxis\":{\"endlinecolor\":\"#2a3f5f\",\"gridcolor\":\"white\",\"linecolor\":\"white\",\"minorgridcolor\":\"white\",\"startlinecolor\":\"#2a3f5f\"},\"type\":\"carpet\"}],\"choropleth\":[{\"colorbar\":{\"outlinewidth\":0,\"ticks\":\"\"},\"type\":\"choropleth\"}],\"contour\":[{\"colorbar\":{\"outlinewidth\":0,\"ticks\":\"\"},\"colorscale\":[[0.0,\"#0d0887\"],[0.1111111111111111,\"#46039f\"],[0.2222222222222222,\"#7201a8\"],[0.3333333333333333,\"#9c179e\"],[0.4444444444444444,\"#bd3786\"],[0.5555555555555556,\"#d8576b\"],[0.6666666666666666,\"#ed7953\"],[0.7777777777777778,\"#fb9f3a\"],[0.8888888888888888,\"#fdca26\"],[1.0,\"#f0f921\"]],\"type\":\"contour\"}],\"contourcarpet\":[{\"colorbar\":{\"outlinewidth\":0,\"ticks\":\"\"},\"type\":\"contourcarpet\"}],\"heatmap\":[{\"colorbar\":{\"outlinewidth\":0,\"ticks\":\"\"},\"colorscale\":[[0.0,\"#0d0887\"],[0.1111111111111111,\"#46039f\"],[0.2222222222222222,\"#7201a8\"],[0.3333333333333333,\"#9c179e\"],[0.4444444444444444,\"#bd3786\"],[0.5555555555555556,\"#d8576b\"],[0.6666666666666666,\"#ed7953\"],[0.7777777777777778,\"#fb9f3a\"],[0.8888888888888888,\"#fdca26\"],[1.0,\"#f0f921\"]],\"type\":\"heatmap\"}],\"heatmapgl\":[{\"colorbar\":{\"outlinewidth\":0,\"ticks\":\"\"},\"colorscale\":[[0.0,\"#0d0887\"],[0.1111111111111111,\"#46039f\"],[0.2222222222222222,\"#7201a8\"],[0.3333333333333333,\"#9c179e\"],[0.4444444444444444,\"#bd3786\"],[0.5555555555555556,\"#d8576b\"],[0.6666666666666666,\"#ed7953\"],[0.7777777777777778,\"#fb9f3a\"],[0.8888888888888888,\"#fdca26\"],[1.0,\"#f0f921\"]],\"type\":\"heatmapgl\"}],\"histogram\":[{\"marker\":{\"pattern\":{\"fillmode\":\"overlay\",\"size\":10,\"solidity\":0.2}},\"type\":\"histogram\"}],\"histogram2d\":[{\"colorbar\":{\"outlinewidth\":0,\"ticks\":\"\"},\"colorscale\":[[0.0,\"#0d0887\"],[0.1111111111111111,\"#46039f\"],[0.2222222222222222,\"#7201a8\"],[0.3333333333333333,\"#9c179e\"],[0.4444444444444444,\"#bd3786\"],[0.5555555555555556,\"#d8576b\"],[0.6666666666666666,\"#ed7953\"],[0.7777777777777778,\"#fb9f3a\"],[0.8888888888888888,\"#fdca26\"],[1.0,\"#f0f921\"]],\"type\":\"histogram2d\"}],\"histogram2dcontour\":[{\"colorbar\":{\"outlinewidth\":0,\"ticks\":\"\"},\"colorscale\":[[0.0,\"#0d0887\"],[0.1111111111111111,\"#46039f\"],[0.2222222222222222,\"#7201a8\"],[0.3333333333333333,\"#9c179e\"],[0.4444444444444444,\"#bd3786\"],[0.5555555555555556,\"#d8576b\"],[0.6666666666666666,\"#ed7953\"],[0.7777777777777778,\"#fb9f3a\"],[0.8888888888888888,\"#fdca26\"],[1.0,\"#f0f921\"]],\"type\":\"histogram2dcontour\"}],\"mesh3d\":[{\"colorbar\":{\"outlinewidth\":0,\"ticks\":\"\"},\"type\":\"mesh3d\"}],\"parcoords\":[{\"line\":{\"colorbar\":{\"outlinewidth\":0,\"ticks\":\"\"}},\"type\":\"parcoords\"}],\"pie\":[{\"automargin\":true,\"type\":\"pie\"}],\"scatter\":[{\"marker\":{\"colorbar\":{\"outlinewidth\":0,\"ticks\":\"\"}},\"type\":\"scatter\"}],\"scatter3d\":[{\"line\":{\"colorbar\":{\"outlinewidth\":0,\"ticks\":\"\"}},\"marker\":{\"colorbar\":{\"outlinewidth\":0,\"ticks\":\"\"}},\"type\":\"scatter3d\"}],\"scattercarpet\":[{\"marker\":{\"colorbar\":{\"outlinewidth\":0,\"ticks\":\"\"}},\"type\":\"scattercarpet\"}],\"scattergeo\":[{\"marker\":{\"colorbar\":{\"outlinewidth\":0,\"ticks\":\"\"}},\"type\":\"scattergeo\"}],\"scattergl\":[{\"marker\":{\"colorbar\":{\"outlinewidth\":0,\"ticks\":\"\"}},\"type\":\"scattergl\"}],\"scattermapbox\":[{\"marker\":{\"colorbar\":{\"outlinewidth\":0,\"ticks\":\"\"}},\"type\":\"scattermapbox\"}],\"scatterpolar\":[{\"marker\":{\"colorbar\":{\"outlinewidth\":0,\"ticks\":\"\"}},\"type\":\"scatterpolar\"}],\"scatterpolargl\":[{\"marker\":{\"colorbar\":{\"outlinewidth\":0,\"ticks\":\"\"}},\"type\":\"scatterpolargl\"}],\"scatterternary\":[{\"marker\":{\"colorbar\":{\"outlinewidth\":0,\"ticks\":\"\"}},\"type\":\"scatterternary\"}],\"surface\":[{\"colorbar\":{\"outlinewidth\":0,\"ticks\":\"\"},\"colorscale\":[[0.0,\"#0d0887\"],[0.1111111111111111,\"#46039f\"],[0.2222222222222222,\"#7201a8\"],[0.3333333333333333,\"#9c179e\"],[0.4444444444444444,\"#bd3786\"],[0.5555555555555556,\"#d8576b\"],[0.6666666666666666,\"#ed7953\"],[0.7777777777777778,\"#fb9f3a\"],[0.8888888888888888,\"#fdca26\"],[1.0,\"#f0f921\"]],\"type\":\"surface\"}],\"table\":[{\"cells\":{\"fill\":{\"color\":\"#EBF0F8\"},\"line\":{\"color\":\"white\"}},\"header\":{\"fill\":{\"color\":\"#C8D4E3\"},\"line\":{\"color\":\"white\"}},\"type\":\"table\"}]},\"layout\":{\"annotationdefaults\":{\"arrowcolor\":\"#2a3f5f\",\"arrowhead\":0,\"arrowwidth\":1},\"autotypenumbers\":\"strict\",\"coloraxis\":{\"colorbar\":{\"outlinewidth\":0,\"ticks\":\"\"}},\"colorscale\":{\"diverging\":[[0,\"#8e0152\"],[0.1,\"#c51b7d\"],[0.2,\"#de77ae\"],[0.3,\"#f1b6da\"],[0.4,\"#fde0ef\"],[0.5,\"#f7f7f7\"],[0.6,\"#e6f5d0\"],[0.7,\"#b8e186\"],[0.8,\"#7fbc41\"],[0.9,\"#4d9221\"],[1,\"#276419\"]],\"sequential\":[[0.0,\"#0d0887\"],[0.1111111111111111,\"#46039f\"],[0.2222222222222222,\"#7201a8\"],[0.3333333333333333,\"#9c179e\"],[0.4444444444444444,\"#bd3786\"],[0.5555555555555556,\"#d8576b\"],[0.6666666666666666,\"#ed7953\"],[0.7777777777777778,\"#fb9f3a\"],[0.8888888888888888,\"#fdca26\"],[1.0,\"#f0f921\"]],\"sequentialminus\":[[0.0,\"#0d0887\"],[0.1111111111111111,\"#46039f\"],[0.2222222222222222,\"#7201a8\"],[0.3333333333333333,\"#9c179e\"],[0.4444444444444444,\"#bd3786\"],[0.5555555555555556,\"#d8576b\"],[0.6666666666666666,\"#ed7953\"],[0.7777777777777778,\"#fb9f3a\"],[0.8888888888888888,\"#fdca26\"],[1.0,\"#f0f921\"]]},\"colorway\":[\"#636efa\",\"#EF553B\",\"#00cc96\",\"#ab63fa\",\"#FFA15A\",\"#19d3f3\",\"#FF6692\",\"#B6E880\",\"#FF97FF\",\"#FECB52\"],\"font\":{\"color\":\"#2a3f5f\"},\"geo\":{\"bgcolor\":\"white\",\"lakecolor\":\"white\",\"landcolor\":\"#E5ECF6\",\"showlakes\":true,\"showland\":true,\"subunitcolor\":\"white\"},\"hoverlabel\":{\"align\":\"left\"},\"hovermode\":\"closest\",\"mapbox\":{\"style\":\"light\"},\"paper_bgcolor\":\"white\",\"plot_bgcolor\":\"#E5ECF6\",\"polar\":{\"angularaxis\":{\"gridcolor\":\"white\",\"linecolor\":\"white\",\"ticks\":\"\"},\"bgcolor\":\"#E5ECF6\",\"radialaxis\":{\"gridcolor\":\"white\",\"linecolor\":\"white\",\"ticks\":\"\"}},\"scene\":{\"xaxis\":{\"backgroundcolor\":\"#E5ECF6\",\"gridcolor\":\"white\",\"gridwidth\":2,\"linecolor\":\"white\",\"showbackground\":true,\"ticks\":\"\",\"zerolinecolor\":\"white\"},\"yaxis\":{\"backgroundcolor\":\"#E5ECF6\",\"gridcolor\":\"white\",\"gridwidth\":2,\"linecolor\":\"white\",\"showbackground\":true,\"ticks\":\"\",\"zerolinecolor\":\"white\"},\"zaxis\":{\"backgroundcolor\":\"#E5ECF6\",\"gridcolor\":\"white\",\"gridwidth\":2,\"linecolor\":\"white\",\"showbackground\":true,\"ticks\":\"\",\"zerolinecolor\":\"white\"}},\"shapedefaults\":{\"line\":{\"color\":\"#2a3f5f\"}},\"ternary\":{\"aaxis\":{\"gridcolor\":\"white\",\"linecolor\":\"white\",\"ticks\":\"\"},\"baxis\":{\"gridcolor\":\"white\",\"linecolor\":\"white\",\"ticks\":\"\"},\"bgcolor\":\"#E5ECF6\",\"caxis\":{\"gridcolor\":\"white\",\"linecolor\":\"white\",\"ticks\":\"\"}},\"title\":{\"x\":0.05},\"xaxis\":{\"automargin\":true,\"gridcolor\":\"white\",\"linecolor\":\"white\",\"ticks\":\"\",\"title\":{\"standoff\":15},\"zerolinecolor\":\"white\",\"zerolinewidth\":2},\"yaxis\":{\"automargin\":true,\"gridcolor\":\"white\",\"linecolor\":\"white\",\"ticks\":\"\",\"title\":{\"standoff\":15},\"zerolinecolor\":\"white\",\"zerolinewidth\":2}}},\"xaxis\":{\"anchor\":\"y\",\"domain\":[0.0,1.0],\"title\":{\"text\":\"0\"}},\"yaxis\":{\"anchor\":\"x\",\"domain\":[0.0,1.0],\"title\":{\"text\":\"1\"}},\"coloraxis\":{\"colorbar\":{\"title\":{\"text\":\"Cluster ID\"}},\"colorscale\":[[0.0,\"#0d0887\"],[0.1111111111111111,\"#46039f\"],[0.2222222222222222,\"#7201a8\"],[0.3333333333333333,\"#9c179e\"],[0.4444444444444444,\"#bd3786\"],[0.5555555555555556,\"#d8576b\"],[0.6666666666666666,\"#ed7953\"],[0.7777777777777778,\"#fb9f3a\"],[0.8888888888888888,\"#fdca26\"],[1.0,\"#f0f921\"]]},\"legend\":{\"tracegroupgap\":0},\"margin\":{\"t\":60}},                        {\"responsive\": true}                    ).then(function(){\n",
              "                            \n",
              "var gd = document.getElementById('85541ef6-d2d2-48bb-900f-7df01906b8b8');\n",
              "var x = new MutationObserver(function (mutations, observer) {{\n",
              "        var display = window.getComputedStyle(gd).display;\n",
              "        if (!display || display === 'none') {{\n",
              "            console.log([gd, 'removed!']);\n",
              "            Plotly.purge(gd);\n",
              "            observer.disconnect();\n",
              "        }}\n",
              "}});\n",
              "\n",
              "// Listen for the removal of the full notebook cells\n",
              "var notebookContainer = gd.closest('#notebook-container');\n",
              "if (notebookContainer) {{\n",
              "    x.observe(notebookContainer, {childList: true});\n",
              "}}\n",
              "\n",
              "// Listen for the clearing of the current output cell\n",
              "var outputEl = gd.closest('.output');\n",
              "if (outputEl) {{\n",
              "    x.observe(outputEl, {childList: true});\n",
              "}}\n",
              "\n",
              "                        })                };                            </script>        </div>\n",
              "</body>\n",
              "</html>"
            ]
          },
          "metadata": {}
        },
        {
          "output_type": "stream",
          "name": "stdout",
          "text": [
            "[[-5.68662509e-01 -6.40184766e-01 -6.69850888e-01 -8.45399972e-01]\n",
            " [ 2.00478994e+00  1.69143280e+00  3.37165641e+00  1.44058361e+00]\n",
            " [-1.01036932e-01 -8.64298822e-04  7.89806271e-01  1.86531669e+00]\n",
            " [ 1.64233528e+00  1.95691658e+00  1.04051305e+00  7.51473369e-01]\n",
            " [ 4.88989735e-01  7.26739733e-01 -3.71560081e-02  1.18166389e-01]\n",
            " [ 4.57142659e+00  2.82635318e+00  2.24081426e+00  1.23219109e+00]\n",
            " [-5.57608308e-01 -6.13397958e-01 -3.16508942e-02  2.11508072e-01]]\n"
          ]
        }
      ]
    },
    {
      "cell_type": "code",
      "source": [
        "#Un-normalized centroids\n",
        "scaler.scale_ * kmeans.cluster_centers_ + scaler.mean_"
      ],
      "metadata": {
        "id": "OIQD2EVbtqmW",
        "colab": {
          "base_uri": "https://localhost:8080/"
        },
        "outputId": "8be750f9-7651-471b-cd8b-c1b0c5bea8b3"
      },
      "execution_count": 204,
      "outputs": [
        {
          "output_type": "execute_result",
          "data": {
            "text/plain": [
              "array([[2.16666667e+00, 1.01190476e+00, 1.68571429e+01, 2.64380952e+02],\n",
              "       [4.42666667e+02, 1.07500000e+02, 3.62333333e+02, 1.72516667e+03],\n",
              "       [8.22105263e+01, 3.02105263e+01, 1.41631579e+02, 1.99657895e+03],\n",
              "       [3.80625000e+02, 1.19625000e+02, 1.63062500e+02, 1.28481250e+03],\n",
              "       [1.83205882e+02, 6.34411765e+01, 7.09411765e+01, 8.80117647e+02],\n",
              "       [8.82000000e+02, 1.59333333e+02, 2.65666667e+02, 1.59200000e+03],\n",
              "       [4.05882353e+00, 2.23529412e+00, 7.14117647e+01, 9.39764706e+02]])"
            ]
          },
          "metadata": {},
          "execution_count": 204
        }
      ]
    },
    {
      "cell_type": "code",
      "source": [
        "ground_truth_data = input_data\n",
        "ground_truth_data.info()"
      ],
      "metadata": {
        "colab": {
          "base_uri": "https://localhost:8080/"
        },
        "id": "vx-un2kQNLTr",
        "outputId": "813e18d6-4ba7-483f-f01d-79e896a3c106"
      },
      "execution_count": 196,
      "outputs": [
        {
          "output_type": "stream",
          "name": "stdout",
          "text": [
            "<class 'pandas.core.frame.DataFrame'>\n",
            "Int64Index: 196 entries, 0 to 195\n",
            "Data columns (total 5 columns):\n",
            " #   Column     Non-Null Count  Dtype \n",
            "---  ------     --------------  ----- \n",
            " 0   zipcode    196 non-null    object\n",
            " 1   Cat1Count  196 non-null    object\n",
            " 2   Cat2Count  196 non-null    object\n",
            " 3   Cat3Count  196 non-null    object\n",
            " 4   Cat4Count  196 non-null    object\n",
            "dtypes: object(5)\n",
            "memory usage: 13.3+ KB\n"
          ]
        }
      ]
    },
    {
      "cell_type": "markdown",
      "source": [
        "KNN classification with 80-20 split on 196 zipcodes"
      ],
      "metadata": {
        "id": "Bzmquw3W9tKU"
      }
    },
    {
      "cell_type": "code",
      "source": [
        "from sklearn.neighbors import KNeighborsClassifier\n",
        "from sklearn.metrics import log_loss\n",
        "import matplotlib.pyplot as plt\n",
        "\n",
        "#Scale data as required\n",
        "\n",
        "X = ground_truth_data.loc[:, ['Cat1Count', 'Cat2Count', 'Cat3Count', 'Cat4Count']].values #predicted count for day\n",
        "# X_scaled = scaler.transform(X * 272)  #'Cat1Count', 'Cat2Count', 'Cat3Count', 'Cat4Count' for year, scaled\n",
        "X_scaled = scaler.transform(X)\n",
        "\n",
        "X_train = X_scaled[:int(196*0.8), :]\n",
        "\n",
        "X_test = X_scaled[int(196*0.8):, :]\n",
        "# y = kmeans.labels_ #based on 'Cat1Count', 'Cat2Count', 'Cat3Count', 'Cat4Count' for year, scaled\n",
        "y = kmeans.predict(X_scaled)\n",
        "y_train = y[:int(196*0.8)]\n",
        "y_test = y[int(196*0.8):]\n",
        "\n",
        "# k_vals = [3,5,7,9]\n",
        "k_vals = list(range(1,20))\n",
        "cce_losses = []\n",
        "for k in k_vals:\n",
        "  neigh = KNeighborsClassifier(n_neighbors=k)\n",
        "  neigh.fit(X_train, y_train)\n",
        "  predicted_probs = neigh.predict_proba(X_test) #num_zips x num_clusters\n",
        "  cce_loss = log_loss(y_test, predicted_probs, labels = list(range(0,7)))\n",
        "  cce_losses.append(cce_loss)\n",
        "\n",
        "plt.figure(figsize = (12,8))\n",
        "plt.plot(k_vals, cce_losses)\n",
        "plt.title('Mean categorical cross entropy loss for k-NN classification')\n",
        "plt.xlabel('k')\n",
        "plt.ylabel('Mean Test CCE loss')\n",
        "\n",
        "plt.show()"
      ],
      "metadata": {
        "id": "DfTxQJ-pyu7R",
        "colab": {
          "base_uri": "https://localhost:8080/",
          "height": 517
        },
        "outputId": "33b6a279-e25c-4f8e-818d-46e710947ae2"
      },
      "execution_count": 205,
      "outputs": [
        {
          "output_type": "display_data",
          "data": {
            "text/plain": [
              "<Figure size 864x576 with 1 Axes>"
            ],
            "image/png": "[encoded data removed]"
          },
          "metadata": {}
        }
      ]
    },
    {
      "cell_type": "markdown",
      "source": [
        "KNN classification with best k(9)"
      ],
      "metadata": {
        "id": "EBODMa7e92rB"
      }
    },
    {
      "cell_type": "code",
      "source": [
        "from sklearn.neighbors import KNeighborsClassifier\n",
        "from sklearn.metrics import log_loss\n",
        "import matplotlib.pyplot as plt\n",
        "\n",
        "#Scale data as required\n",
        "# predicted_data = pd.read_csv(os.path.join(cur_dir, data_dir, 'ARIMA_pred.csv'))\n",
        "predicted_data = pd.read_csv(os.path.join(cur_dir, data_dir, 'Auto_ARIMA_pred.csv'))\n",
        "X_new = predicted_data.loc[:, ['Category1', 'Category2', 'Category3', 'Category4']].values\n",
        "\n",
        "X = ground_truth_data.loc[:, ['Cat1Count', 'Cat2Count', 'Cat3Count', 'Cat4Count']].values #predicted count for day\n",
        "\n",
        "X_scaled = scaler.transform(X)\n",
        "X_new_scaled = scaler.transform(X_new * 272.)\n",
        "\n",
        "y = kmeans.predict(X_scaled)\n",
        "\n",
        "k_best = 9\n",
        "#choose best k for knn\n",
        "#output clusters for each day for last 30 days\n",
        "neigh = KNeighborsClassifier(n_neighbors=k)\n",
        "neigh.fit(X_scaled, y)\n",
        "outputs = neigh.predict(X_new_scaled)\n",
        "predicted_data.loc[:, ['predicted_cluster']] = outputs\n"
      ],
      "metadata": {
        "id": "bN2GH17XNjwZ"
      },
      "execution_count": 207,
      "outputs": []
    },
    {
      "cell_type": "code",
      "source": [
        "zip_features = input_data.loc[:, ['Cat1Count', 'Cat2Count', 'Cat3Count', 'Cat4Count']].values\n",
        "# scaler = preprocessing.StandardScaler().fit(X_train)\n",
        "\n",
        "scaled_zip_features = scaler.transform(zip_features)"
      ],
      "metadata": {
        "id": "-txrkb27fGCM"
      },
      "execution_count": 209,
      "outputs": []
    },
    {
      "cell_type": "code",
      "source": [
        "gt_clusters = kmeans.predict(scaled_zip_features)\n"
      ],
      "metadata": {
        "id": "gN6-TjL7nt7e"
      },
      "execution_count": 210,
      "outputs": []
    },
    {
      "cell_type": "markdown",
      "source": [
        "Ground truth cluster Ids for each zip"
      ],
      "metadata": {
        "id": "5WKLQnET-ehw"
      }
    },
    {
      "cell_type": "code",
      "source": [
        "gt_clusters_dict = {}\n",
        "i = 0\n",
        "for zip in input_data.loc[:, ['zipcode']].values:\n",
        "  gt_clusters_dict[zip[0]] = gt_clusters[i]\n",
        "  i += 1\n"
      ],
      "metadata": {
        "id": "u-Q8EprWnvFr"
      },
      "execution_count": 201,
      "outputs": []
    },
    {
      "cell_type": "markdown",
      "source": [
        "Confusion matrix for overall cluster id vs september's predicted cluster id to measure temporal variance"
      ],
      "metadata": {
        "id": "EX_dSLvg-j0a"
      }
    },
    {
      "cell_type": "code",
      "source": [
        "import seaborn as sn\n",
        "import pandas as pd\n",
        "import matplotlib.pyplot as plt\n",
        "\n",
        "from sklearn.metrics import confusion_matrix\n",
        "\n",
        "predicted_data.loc[:, ['zipcode']] = predicted_data['zipcode'].astype(str).apply(lambda x: x.zfill(5))\n",
        "y_true = [gt_clusters_dict[str(zip[0])] for zip in predicted_data.loc[:, ['zipcode']].values]\n",
        "y_pred = predicted_data['predicted_cluster'].values\n",
        "print(y_true[0].shape, y_pred.shape)\n",
        "print(set(y_true), set(y_pred))\n",
        "cm = confusion_matrix(y_true, y_pred, labels = [i for i in range(0,7)])\n",
        "\n",
        "df_cm = pd.DataFrame(cm, index = [f'C{i}' for i in \"0123456\"],\n",
        "                  columns = [f'C{i}' for i in \"0123456\"])\n",
        "plt.figure(figsize = (10,7))\n",
        "sn.heatmap(df_cm, annot=True)"
      ],
      "metadata": {
        "colab": {
          "base_uri": "https://localhost:8080/",
          "height": 480
        },
        "id": "gEz8cZZfY7Wx",
        "outputId": "2e9fc379-6d92-4800-97a2-7482928b229c"
      },
      "execution_count": 203,
      "outputs": [
        {
          "output_type": "stream",
          "name": "stdout",
          "text": [
            "() (5880,)\n",
            "{0, 1, 2, 3, 4, 5, 6} {0, 1, 2, 3, 4, 6}\n"
          ]
        },
        {
          "output_type": "execute_result",
          "data": {
            "text/plain": [
              "<matplotlib.axes._subplots.AxesSubplot at 0x7f863e110130>"
            ]
          },
          "metadata": {},
          "execution_count": 203
        },
        {
          "output_type": "display_data",
          "data": {
            "text/plain": [
              "<Figure size 720x504 with 2 Axes>"
            ],
            "image/png": "[encoded data removed]"
          },
          "metadata": {}
        }
      ]
    }
  ]
}